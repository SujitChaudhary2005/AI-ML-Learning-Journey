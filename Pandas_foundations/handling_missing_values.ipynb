{
 "cells": [
  {
   "cell_type": "markdown",
   "id": "16710ec9",
   "metadata": {},
   "source": [
    "# Handling Missing Values in Pandas\n",
    "\n",
    "### What Are Missing Values?\n",
    "\n",
    "In real-world datasets like Titanic, it's very common to come across **missing values** — places where data is either not recorded, corrupted, or simply unknown. For example, a passenger might not have listed their age, cabin, or port of embarkation. These missing entries appear in Pandas as **NaN** (Not a Number) or sometimes as **None**. If we don’t handle them properly, they can break our calculations, corrupt our models, or give misleading results.\n",
    "\n",
    "Handling missing values is one of the most **important data cleaning tasks** in any AI/ML pipeline. Depending on the situation, we might **remove**, **fill**, or **replace** them. The strategy we use depends on the data type, the percentage of missing data, and the importance of the column. Pandas provides powerful functions like `.isnull()`, `.notnull()`, `.dropna()`, and `.fillna()` to help us detect and fix these problems efficiently.\n",
    "\n",
    "By mastering missing value handling, we improve the **quality**, **reliability**, and **accuracy** of our analysis and models. We also avoid potential runtime errors that can happen when working with null values during aggregation, plotting, or training. In short, **the cleaner our data, the smarter our machine learning becomes**.\n",
    "\n",
    "### Detecting Missing Values\n",
    "\n",
    "To find out which columns contain missing data, we use `.isnull().sum()`. This shows us the **total number of null values** in each column. It’s our go-to starting point for diagnosing incomplete data."
   ]
  },
  {
   "cell_type": "code",
   "execution_count": 1,
   "id": "5b474062",
   "metadata": {},
   "outputs": [
    {
     "name": "stdout",
     "output_type": "stream",
     "text": [
      "PassengerId      0\n",
      "Survived         0\n",
      "Pclass           0\n",
      "Name             0\n",
      "Sex              0\n",
      "Age            177\n",
      "SibSp            0\n",
      "Parch            0\n",
      "Ticket           0\n",
      "Fare             0\n",
      "Cabin          687\n",
      "Embarked         2\n",
      "dtype: int64\n"
     ]
    }
   ],
   "source": [
    "import pandas as pd\n",
    "\n",
    "df = pd.read_csv(\"data/train.csv\")\n",
    "print(df.isnull().sum())"
   ]
  },
  {
   "cell_type": "markdown",
   "id": "79f19923",
   "metadata": {},
   "source": [
    "We can also use `.info()` (from the previous topic) to cross-check how many non-null entries each column has.\n",
    "\n",
    "### Removing Missing Values with `.dropna()`\n",
    "\n",
    "If a column or row has too many missing values, or if the missing data is not useful, we can remove it using `.dropna()`. We can drop **rows** with missing data:"
   ]
  },
  {
   "cell_type": "code",
   "execution_count": null,
   "id": "04c3cefd",
   "metadata": {},
   "outputs": [],
   "source": [
    "# Drop rows with any missing values\n",
    "cleaned_df = df.dropna()"
   ]
  },
  {
   "cell_type": "markdown",
   "id": "afa05b0f",
   "metadata": {},
   "source": [
    "Or drop **columns** if entire fields are mostly empty:"
   ]
  },
  {
   "cell_type": "code",
   "execution_count": null,
   "id": "2015e495",
   "metadata": {},
   "outputs": [],
   "source": [
    "# Drop columns with any missing values\n",
    "df_dropped_cols = df.dropna(axis=1)"
   ]
  },
  {
   "cell_type": "markdown",
   "id": "f1592f0b",
   "metadata": {},
   "source": [
    "**Warning:** This is irreversible unless we re-load the original data, so we should always check `.shape` before and after to verify the impact.\n",
    "\n",
    "### Filling Missing Values with `.fillna()`\n",
    "\n",
    "Instead of removing rows, we can **fill** missing values using `.fillna()`. We can use static values or statistical ones like mean/median."
   ]
  },
  {
   "cell_type": "code",
   "execution_count": null,
   "id": "b2cda5ff",
   "metadata": {},
   "outputs": [],
   "source": [
    "# Fill missing ages with the mean age\n",
    "df['Age'] = df['Age'].fillna(df['Age'].mean())\n",
    "\n",
    "# Fill missing embarked values with the most common value\n",
    "df['Embarked'] = df['Embarked'].fillna(df['Embarked'].mode()[0])"
   ]
  },
  {
   "cell_type": "markdown",
   "id": "25d4d168",
   "metadata": {},
   "source": [
    "We can also fill forward (`method='ffill'`) or backward (`method='bfill'`) if the data is time-ordered."
   ]
  },
  {
   "cell_type": "code",
   "execution_count": null,
   "id": "2e60d67b",
   "metadata": {},
   "outputs": [],
   "source": [
    "df.fillna(method='ffill', inplace=True)  # forward fill"
   ]
  },
  {
   "cell_type": "markdown",
   "id": "d64a0287",
   "metadata": {},
   "source": [
    "### Exercises\n",
    "\n",
    "Q1. Count missing values in each column."
   ]
  },
  {
   "cell_type": "code",
   "execution_count": 2,
   "id": "a7c8188f",
   "metadata": {},
   "outputs": [
    {
     "name": "stdout",
     "output_type": "stream",
     "text": [
      "PassengerId      0\n",
      "Survived         0\n",
      "Pclass           0\n",
      "Name             0\n",
      "Sex              0\n",
      "Age            177\n",
      "SibSp            0\n",
      "Parch            0\n",
      "Ticket           0\n",
      "Fare             0\n",
      "Cabin          687\n",
      "Embarked         2\n",
      "dtype: int64\n"
     ]
    }
   ],
   "source": [
    "print(df.isnull().sum())"
   ]
  },
  {
   "cell_type": "markdown",
   "id": "ca9d2ca3",
   "metadata": {},
   "source": [
    "Q2. Drop all rows with missing values and print the new shape."
   ]
  },
  {
   "cell_type": "code",
   "execution_count": 3,
   "id": "314b8190",
   "metadata": {},
   "outputs": [
    {
     "name": "stdout",
     "output_type": "stream",
     "text": [
      "(183, 12)\n"
     ]
    }
   ],
   "source": [
    "df_dropped = df.dropna()\n",
    "print(df_dropped.shape)"
   ]
  },
  {
   "cell_type": "markdown",
   "id": "47dbed38",
   "metadata": {},
   "source": [
    "Q3. Drop all columns that contain missing values."
   ]
  },
  {
   "cell_type": "code",
   "execution_count": 4,
   "id": "fddceaea",
   "metadata": {},
   "outputs": [
    {
     "name": "stdout",
     "output_type": "stream",
     "text": [
      "Index(['PassengerId', 'Survived', 'Pclass', 'Name', 'Sex', 'SibSp', 'Parch',\n",
      "       'Ticket', 'Fare'],\n",
      "      dtype='object')\n"
     ]
    }
   ],
   "source": [
    "df_no_missing_cols = df.dropna(axis=1)\n",
    "print(df_no_missing_cols.columns)"
   ]
  },
  {
   "cell_type": "markdown",
   "id": "9cb2a202",
   "metadata": {},
   "source": [
    "Q4. Fill missing \"Age\" values with the median age."
   ]
  },
  {
   "cell_type": "code",
   "execution_count": null,
   "id": "1c95632f",
   "metadata": {},
   "outputs": [],
   "source": [
    "df['Age'] = df['Age'].fillna(df['Age'].median())"
   ]
  },
  {
   "cell_type": "markdown",
   "id": "7f884c53",
   "metadata": {},
   "source": [
    "Q5. Fill missing \"Embarked\" values with the most frequent value."
   ]
  },
  {
   "cell_type": "code",
   "execution_count": null,
   "id": "903b5962",
   "metadata": {},
   "outputs": [],
   "source": [
    "df['Embarked'] = df['Embarked'].fillna(df['Embarked'].mode()[0])"
   ]
  },
  {
   "cell_type": "markdown",
   "id": "640ef1b5",
   "metadata": {},
   "source": [
    "Q6. Forward-fill all missing values in the dataset."
   ]
  },
  {
   "cell_type": "code",
   "execution_count": null,
   "id": "9ea50a46",
   "metadata": {},
   "outputs": [],
   "source": [
    "df.fillna(method='ffill', inplace=True)"
   ]
  },
  {
   "cell_type": "markdown",
   "id": "8162aec3",
   "metadata": {},
   "source": [
    "### Summary\n",
    "\n",
    "In this topic, we tackled a major challenge in data science — **missing values**. These are common in real-world datasets and must be handled carefully to maintain the integrity of our models. We learned how to **detect missing values** using `.isnull().sum()` and `.info()`. Then we explored how to **remove missing data** with `.dropna()` and how to **fill or replace** missing entries using `.fillna()` with statistics like mean, median, mode, or propagation techniques (`ffill`, `bfill`).\n",
    "\n",
    "Each method has pros and cons. Removing data is simple but risky if we lose too much information. Filling helps preserve rows but can introduce bias if done carelessly. As we work with more complex datasets, we’ll often combine these strategies — dropping where safe, filling where necessary.\n",
    "\n",
    "This topic is **essential preparation** for the next stage: **feature encoding, scaling, and model training**. Without clean data, even the most powerful algorithms will fail. By learning how to handle missing values early and confidently, we set ourselves up for success in every AI/ML project we build."
   ]
  }
 ],
 "metadata": {
  "kernelspec": {
   "display_name": "Venv",
   "language": "python",
   "name": "python3"
  },
  "language_info": {
   "codemirror_mode": {
    "name": "ipython",
    "version": 3
   },
   "file_extension": ".py",
   "mimetype": "text/x-python",
   "name": "python",
   "nbconvert_exporter": "python",
   "pygments_lexer": "ipython3",
   "version": "3.12.8"
  }
 },
 "nbformat": 4,
 "nbformat_minor": 5
}
