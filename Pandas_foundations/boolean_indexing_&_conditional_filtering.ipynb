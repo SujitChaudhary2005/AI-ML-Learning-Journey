{
 "cells": [
  {
   "cell_type": "markdown",
   "id": "de564029",
   "metadata": {},
   "source": [
    "# Boolean Indexing and Conditional Filtering\n",
    "\n",
    "### What Is Boolean Indexing?\n",
    "\n",
    "Boolean indexing is a fundamental technique in Pandas that allows you to filter rows in a DataFrame based on one or more logical conditions. When you apply a condition to a column, Pandas returns a Boolean Series consisting of `True` and `False` values for each row. Using this Boolean Series as an index, you can select only the rows where the condition evaluates to `True`.\n",
    "\n",
    "This method is essential for efficiently extracting subsets of data without the need for explicit loops, which can be slower and less readable. Boolean indexing provides a clear, concise, and performant way to manipulate and analyze data based on conditions.\n",
    "\n",
    "### Why It Is Important?\n",
    "\n",
    "Boolean indexing is crucial in data analysis, especially in machine learning workflows, for several reasons:\n",
    "\n",
    "- **Data Cleaning**: Quickly filter out or isolate rows with missing or invalid values.\n",
    "- **Data Segmentation**: Separate data into meaningful groups based on conditions such as age, class, or survival status.\n",
    "- **Feature Engineering**: Create new features based on conditional logic, such as categorizing passengers as children or adults.\n",
    "- **Exploratory Data Analysis (EDA)**: Inspect specific subsets of data to understand patterns or anomalies.\n",
    "- **Label and Sample Selection**: Filter samples that meet criteria for training or validation in machine learning models.\n",
    "\n",
    "Mastering Boolean indexing allows you to handle complex filtering logic with readable and maintainable code, which is essential for working with real-world datasets.\n",
    "\n",
    "### Syntax and Usage\n",
    "\n",
    "The basic syntax uses the DataFrame with a condition inside square brackets:\n",
    "\n",
    "```python\n",
    "df[condition]\n",
    "```\n",
    "\n",
    "For example:"
   ]
  },
  {
   "cell_type": "code",
   "execution_count": 1,
   "id": "6a5ae934",
   "metadata": {},
   "outputs": [
    {
     "name": "stdout",
     "output_type": "stream",
     "text": [
      "    PassengerId  Survived  Pclass  \\\n",
      "1             2         1       1   \n",
      "3             4         1       1   \n",
      "4             5         0       3   \n",
      "6             7         0       1   \n",
      "11           12         1       1   \n",
      "\n",
      "                                                 Name     Sex   Age  SibSp  \\\n",
      "1   Cumings, Mrs. John Bradley (Florence Briggs Th...  female  38.0      1   \n",
      "3        Futrelle, Mrs. Jacques Heath (Lily May Peel)  female  35.0      1   \n",
      "4                            Allen, Mr. William Henry    male  35.0      0   \n",
      "6                             McCarthy, Mr. Timothy J    male  54.0      0   \n",
      "11                           Bonnell, Miss. Elizabeth  female  58.0      0   \n",
      "\n",
      "    Parch    Ticket     Fare Cabin Embarked  \n",
      "1       0  PC 17599  71.2833   C85        C  \n",
      "3       0    113803  53.1000  C123        S  \n",
      "4       0    373450   8.0500   NaN        S  \n",
      "6       0     17463  51.8625   E46        S  \n",
      "11      0    113783  26.5500  C103        S  \n"
     ]
    }
   ],
   "source": [
    "import pandas as pd\n",
    "df = pd.read_csv(\"data/train.csv\")\n",
    "\n",
    "print(df[df['Age'] > 30].head())"
   ]
  },
  {
   "cell_type": "markdown",
   "id": "d1703aa0",
   "metadata": {},
   "source": [
    "returns all rows where the 'Age' column has values greater than 30.\n",
    "\n",
    "### Common Conditional Operators\n",
    "\n",
    "| Operator | Description |\n",
    "| --- | --- |\n",
    "| `==` | Equal to |\n",
    "| `!=` | Not equal to |\n",
    "| `>` | Greater than |\n",
    "| `<` | Less than |\n",
    "| `>=` | Greater than or equal |\n",
    "| `<=` | Less than or equal |\n",
    "| `&` | Logical AND (combine multiple conditions, requires parentheses) |\n",
    "| `\\|` | Logical OR (combine multiple conditions, requires parentheses) |\n",
    "| `~` | Logical NOT (negation) |\n",
    "\n",
    "**Note:** When combining multiple conditions, each condition must be enclosed in parentheses due to operator precedence.\n",
    "\n",
    "### Examples Using the Titanic Dataset"
   ]
  },
  {
   "cell_type": "code",
   "execution_count": 2,
   "id": "cb001f02",
   "metadata": {},
   "outputs": [
    {
     "name": "stdout",
     "output_type": "stream",
     "text": [
      "     PassengerId  Survived  Pclass                            Name   Sex  \\\n",
      "33            34         0       2           Wheadon, Mr. Edward H  male   \n",
      "54            55         0       1  Ostby, Mr. Engelhart Cornelius  male   \n",
      "96            97         0       1       Goldschmidt, Mr. George B  male   \n",
      "116          117         0       3            Connors, Mr. Patrick  male   \n",
      "170          171         0       1       Van der hoef, Mr. Wyckoff  male   \n",
      "\n",
      "      Age  SibSp  Parch      Ticket     Fare Cabin Embarked  \n",
      "33   66.0      0      0  C.A. 24579  10.5000   NaN        S  \n",
      "54   65.0      0      1      113509  61.9792   B30        C  \n",
      "96   71.0      0      0    PC 17754  34.6542    A5        C  \n",
      "116  70.5      0      0      370369   7.7500   NaN        Q  \n",
      "170  61.0      0      0      111240  33.5000   B19        S  \n",
      "   PassengerId  Survived  Pclass  \\\n",
      "1            2         1       1   \n",
      "2            3         1       3   \n",
      "3            4         1       1   \n",
      "8            9         1       3   \n",
      "9           10         1       2   \n",
      "\n",
      "                                                Name     Sex   Age  SibSp  \\\n",
      "1  Cumings, Mrs. John Bradley (Florence Briggs Th...  female  38.0      1   \n",
      "2                             Heikkinen, Miss. Laina  female  26.0      0   \n",
      "3       Futrelle, Mrs. Jacques Heath (Lily May Peel)  female  35.0      1   \n",
      "8  Johnson, Mrs. Oscar W (Elisabeth Vilhelmina Berg)  female  27.0      0   \n",
      "9                Nasser, Mrs. Nicholas (Adele Achem)  female  14.0      1   \n",
      "\n",
      "   Parch            Ticket     Fare Cabin Embarked  \n",
      "1      0          PC 17599  71.2833   C85        C  \n",
      "2      0  STON/O2. 3101282   7.9250   NaN        S  \n",
      "3      0            113803  53.1000  C123        S  \n",
      "8      2            347742  11.1333   NaN        S  \n",
      "9      0            237736  30.0708   NaN        C  \n",
      "    PassengerId  Survived  Pclass  \\\n",
      "1             2         1       1   \n",
      "3             4         1       1   \n",
      "6             7         0       1   \n",
      "11           12         1       1   \n",
      "23           24         1       1   \n",
      "\n",
      "                                                 Name     Sex   Age  SibSp  \\\n",
      "1   Cumings, Mrs. John Bradley (Florence Briggs Th...  female  38.0      1   \n",
      "3        Futrelle, Mrs. Jacques Heath (Lily May Peel)  female  35.0      1   \n",
      "6                             McCarthy, Mr. Timothy J    male  54.0      0   \n",
      "11                           Bonnell, Miss. Elizabeth  female  58.0      0   \n",
      "23                       Sloper, Mr. William Thompson    male  28.0      0   \n",
      "\n",
      "    Parch    Ticket     Fare Cabin Embarked  \n",
      "1       0  PC 17599  71.2833   C85        C  \n",
      "3       0    113803  53.1000  C123        S  \n",
      "6       0     17463  51.8625   E46        S  \n",
      "11      0    113783  26.5500  C103        S  \n",
      "23      0    113788  35.5000    A6        S  \n",
      "    PassengerId  Survived  Pclass                           Name     Sex  Age  \\\n",
      "5             6         0       3               Moran, Mr. James    male  NaN   \n",
      "17           18         1       2   Williams, Mr. Charles Eugene    male  NaN   \n",
      "19           20         1       3        Masselmani, Mrs. Fatima  female  NaN   \n",
      "26           27         0       3        Emir, Mr. Farred Chehab    male  NaN   \n",
      "28           29         1       3  O'Dwyer, Miss. Ellen \"Nellie\"  female  NaN   \n",
      "\n",
      "    SibSp  Parch  Ticket     Fare Cabin Embarked  \n",
      "5       0      0  330877   8.4583   NaN        Q  \n",
      "17      0      0  244373  13.0000   NaN        S  \n",
      "19      0      0    2649   7.2250   NaN        C  \n",
      "26      0      0    2631   7.2250   NaN        C  \n",
      "28      0      0  330959   7.8792   NaN        Q  \n",
      "    PassengerId  Survived  Pclass  \\\n",
      "1             2         1       1   \n",
      "3             4         1       1   \n",
      "6             7         0       1   \n",
      "9            10         1       2   \n",
      "11           12         1       1   \n",
      "\n",
      "                                                 Name     Sex   Age  SibSp  \\\n",
      "1   Cumings, Mrs. John Bradley (Florence Briggs Th...  female  38.0      1   \n",
      "3        Futrelle, Mrs. Jacques Heath (Lily May Peel)  female  35.0      1   \n",
      "6                             McCarthy, Mr. Timothy J    male  54.0      0   \n",
      "9                 Nasser, Mrs. Nicholas (Adele Achem)  female  14.0      1   \n",
      "11                           Bonnell, Miss. Elizabeth  female  58.0      0   \n",
      "\n",
      "    Parch    Ticket     Fare Cabin Embarked  \n",
      "1       0  PC 17599  71.2833   C85        C  \n",
      "3       0    113803  53.1000  C123        S  \n",
      "6       0     17463  51.8625   E46        S  \n",
      "9       0    237736  30.0708   NaN        C  \n",
      "11      0    113783  26.5500  C103        S  \n"
     ]
    }
   ],
   "source": [
    "# Passengers older than 60\n",
    "print(df[df['Age'] > 60].head())\n",
    "\n",
    "# Female passengers who survived\n",
    "print(df[(df['Sex'] == 'female') & (df['Survived'] == 1)].head())\n",
    "\n",
    "# Passengers who paid more than 100 or were in first class\n",
    "print(df[(df['Fare'] > 100) | (df['Pclass'] == 1)].head())\n",
    "\n",
    "# Passengers with missing Age values\n",
    "print(df[df['Age'].isnull()].head())\n",
    "\n",
    "# Passengers not in third class\n",
    "print(df[df['Pclass'] != 3].head())"
   ]
  },
  {
   "cell_type": "markdown",
   "id": "45f540f2",
   "metadata": {},
   "source": [
    "### Additional Filtering Methods\n",
    "\n",
    "- `.isin()` method to filter rows where column values match a list of values:"
   ]
  },
  {
   "cell_type": "code",
   "execution_count": 3,
   "id": "4041b4b4",
   "metadata": {},
   "outputs": [
    {
     "name": "stdout",
     "output_type": "stream",
     "text": [
      "    PassengerId  Survived  Pclass  \\\n",
      "1             2         1       1   \n",
      "3             4         1       1   \n",
      "6             7         0       1   \n",
      "9            10         1       2   \n",
      "11           12         1       1   \n",
      "\n",
      "                                                 Name     Sex   Age  SibSp  \\\n",
      "1   Cumings, Mrs. John Bradley (Florence Briggs Th...  female  38.0      1   \n",
      "3        Futrelle, Mrs. Jacques Heath (Lily May Peel)  female  35.0      1   \n",
      "6                             McCarthy, Mr. Timothy J    male  54.0      0   \n",
      "9                 Nasser, Mrs. Nicholas (Adele Achem)  female  14.0      1   \n",
      "11                           Bonnell, Miss. Elizabeth  female  58.0      0   \n",
      "\n",
      "    Parch    Ticket     Fare Cabin Embarked  \n",
      "1       0  PC 17599  71.2833   C85        C  \n",
      "3       0    113803  53.1000  C123        S  \n",
      "6       0     17463  51.8625   E46        S  \n",
      "9       0    237736  30.0708   NaN        C  \n",
      "11      0    113783  26.5500  C103        S  \n"
     ]
    }
   ],
   "source": [
    "print(df[df['Pclass'].isin([1, 2])].head())"
   ]
  },
  {
   "cell_type": "markdown",
   "id": "e8f6ebe3",
   "metadata": {},
   "source": [
    "- `.between()` method to filter values within a range:"
   ]
  },
  {
   "cell_type": "code",
   "execution_count": 4,
   "id": "7810853a",
   "metadata": {},
   "outputs": [
    {
     "name": "stdout",
     "output_type": "stream",
     "text": [
      "    PassengerId  Survived  Pclass  \\\n",
      "1             2         1       1   \n",
      "3             4         1       1   \n",
      "6             7         0       1   \n",
      "34           35         0       1   \n",
      "35           36         0       1   \n",
      "\n",
      "                                                 Name     Sex   Age  SibSp  \\\n",
      "1   Cumings, Mrs. John Bradley (Florence Briggs Th...  female  38.0      1   \n",
      "3        Futrelle, Mrs. Jacques Heath (Lily May Peel)  female  35.0      1   \n",
      "6                             McCarthy, Mr. Timothy J    male  54.0      0   \n",
      "34                            Meyer, Mr. Edgar Joseph    male  28.0      1   \n",
      "35                     Holverson, Mr. Alexander Oskar    male  42.0      1   \n",
      "\n",
      "    Parch    Ticket     Fare Cabin Embarked  \n",
      "1       0  PC 17599  71.2833   C85        C  \n",
      "3       0    113803  53.1000  C123        S  \n",
      "6       0     17463  51.8625   E46        S  \n",
      "34      0  PC 17604  82.1708   NaN        C  \n",
      "35      0    113789  52.0000   NaN        S  \n"
     ]
    }
   ],
   "source": [
    "print(df[df['Fare'].between(50, 100)].head())"
   ]
  },
  {
   "cell_type": "markdown",
   "id": "60c3bc60",
   "metadata": {},
   "source": [
    "### Practical Use Cases in Machine Learning\n",
    "\n",
    "Boolean indexing is extensively used to prepare data for machine learning tasks:\n",
    "\n",
    "- Selecting only labeled data points for supervised learning.\n",
    "- Extracting specific demographic groups for targeted analysis.\n",
    "- Removing or imputing missing or invalid data by filtering.\n",
    "- Creating binary features or flags based on conditions (e.g., ‘is_child’ where age < 12).\n",
    "- Segmenting data to analyze model performance across subpopulations.\n",
    "\n",
    "### Best Practices\n",
    "\n",
    "- Always use parentheses `()` to group conditions when using logical operators `&` (AND), `|` (OR), and `~` (NOT).\n",
    "- Avoid using Python’s built-in `and`/`or` operators, as they do not operate element-wise on Pandas Series.\n",
    "- Use `.copy()` on filtered DataFrames if you intend to modify them to avoid `SettingWithCopyWarning`.\n",
    "- For complex filtering logic, consider using the `.query()` method (covered in advanced topics).\n",
    "\n",
    "### Exercises\n",
    "\n",
    "Q1. Filter all passengers who survived"
   ]
  },
  {
   "cell_type": "code",
   "execution_count": 5,
   "id": "02a677c6",
   "metadata": {},
   "outputs": [
    {
     "name": "stdout",
     "output_type": "stream",
     "text": [
      "                                                Name  Survived\n",
      "1  Cumings, Mrs. John Bradley (Florence Briggs Th...         1\n",
      "2                             Heikkinen, Miss. Laina         1\n",
      "3       Futrelle, Mrs. Jacques Heath (Lily May Peel)         1\n",
      "8  Johnson, Mrs. Oscar W (Elisabeth Vilhelmina Berg)         1\n",
      "9                Nasser, Mrs. Nicholas (Adele Achem)         1\n"
     ]
    }
   ],
   "source": [
    "survivors = df[df['Survived'] == 1]\n",
    "print(survivors[['Name', 'Survived']].head())"
   ]
  },
  {
   "cell_type": "markdown",
   "id": "3c17c83b",
   "metadata": {},
   "source": [
    "Q2. Show all male passengers older than 40"
   ]
  },
  {
   "cell_type": "code",
   "execution_count": 6,
   "id": "4f588d4e",
   "metadata": {},
   "outputs": [
    {
     "name": "stdout",
     "output_type": "stream",
     "text": [
      "                              Name   Sex   Age\n",
      "6          McCarthy, Mr. Timothy J  male  54.0\n",
      "33           Wheadon, Mr. Edward H  male  66.0\n",
      "35  Holverson, Mr. Alexander Oskar  male  42.0\n",
      "54  Ostby, Mr. Engelhart Cornelius  male  65.0\n",
      "62     Harris, Mr. Henry Birkhardt  male  45.0\n"
     ]
    }
   ],
   "source": [
    "older_males = df[(df['Sex'] == 'male') & (df['Age'] > 40)]\n",
    "print(older_males[['Name', 'Sex', 'Age']].head())"
   ]
  },
  {
   "cell_type": "markdown",
   "id": "b113f62c",
   "metadata": {},
   "source": [
    "Q3. Find all passengers who paid more than 100 and were in 1st class"
   ]
  },
  {
   "cell_type": "code",
   "execution_count": 7,
   "id": "f3344aad",
   "metadata": {},
   "outputs": [
    {
     "name": "stdout",
     "output_type": "stream",
     "text": [
      "                                               Name      Fare  Pclass\n",
      "27                   Fortune, Mr. Charles Alexander  263.0000       1\n",
      "31   Spencer, Mrs. William Augustus (Marie Eugenie)  146.5208       1\n",
      "88                       Fortune, Miss. Mabel Helen  263.0000       1\n",
      "118                        Baxter, Mr. Quigg Edmond  247.5208       1\n",
      "195                            Lurette, Miss. Elise  146.5208       1\n"
     ]
    }
   ],
   "source": [
    "high_fare_first_class = df[(df['Fare'] > 100) & (df['Pclass'] == 1)]\n",
    "print(high_fare_first_class[['Name', 'Fare', 'Pclass']].head())"
   ]
  },
  {
   "cell_type": "markdown",
   "id": "4be2cacd",
   "metadata": {},
   "source": [
    "Q4. Get all passengers with missing Age values"
   ]
  },
  {
   "cell_type": "code",
   "execution_count": 8,
   "id": "891ceb6c",
   "metadata": {},
   "outputs": [
    {
     "name": "stdout",
     "output_type": "stream",
     "text": [
      "                             Name  Age\n",
      "5                Moran, Mr. James  NaN\n",
      "17   Williams, Mr. Charles Eugene  NaN\n",
      "19        Masselmani, Mrs. Fatima  NaN\n",
      "26        Emir, Mr. Farred Chehab  NaN\n",
      "28  O'Dwyer, Miss. Ellen \"Nellie\"  NaN\n"
     ]
    }
   ],
   "source": [
    "missing_ages = df[df['Age'].isnull()]\n",
    "print(missing_ages[['Name', 'Age']].head())"
   ]
  },
  {
   "cell_type": "markdown",
   "id": "d4a8109a",
   "metadata": {},
   "source": [
    "Q5. Select female passengers who embarked from Cherbourg and survived"
   ]
  },
  {
   "cell_type": "code",
   "execution_count": 9,
   "id": "3008a818",
   "metadata": {},
   "outputs": [
    {
     "name": "stdout",
     "output_type": "stream",
     "text": [
      "                                                 Name     Sex Embarked  \\\n",
      "1   Cumings, Mrs. John Bradley (Florence Briggs Th...  female        C   \n",
      "9                 Nasser, Mrs. Nicholas (Adele Achem)  female        C   \n",
      "19                            Masselmani, Mrs. Fatima  female        C   \n",
      "31     Spencer, Mrs. William Augustus (Marie Eugenie)  female        C   \n",
      "39                        Nicola-Yarred, Miss. Jamila  female        C   \n",
      "\n",
      "    Survived  \n",
      "1          1  \n",
      "9          1  \n",
      "19         1  \n",
      "31         1  \n",
      "39         1  \n"
     ]
    }
   ],
   "source": [
    "female_survivors_cherbourg = df[\n",
    "    (df['Sex'] == 'female') & \n",
    "    (df['Embarked'] == 'C') & \n",
    "    (df['Survived'] == 1)\n",
    "]\n",
    "print(female_survivors_cherbourg[['Name', 'Sex', 'Embarked', 'Survived']].head())"
   ]
  },
  {
   "cell_type": "markdown",
   "id": "a55fee5c",
   "metadata": {},
   "source": [
    "### Summary\n",
    "\n",
    "Boolean indexing and conditional filtering are core operations in Pandas for extracting relevant subsets of data based on logical conditions. By applying Boolean expressions to DataFrame columns, you generate a Boolean mask that efficiently filters rows without the need for iterative loops. This technique is essential for data cleaning, segmentation, feature engineering, and exploratory analysis, all of which are foundational steps in building robust machine learning models.\n",
    "\n",
    "Using operators like `==`, `!=`, `>`, `<` alongside logical connectors such as `&` and `|` enables complex multi-condition filters to be expressed concisely and clearly. Additional methods like `.isin()` and `.between()` further simplify common filtering patterns.\n",
    "\n",
    "Mastering Boolean indexing ensures your data manipulation code is both performant and maintainable, helping you to focus on extracting meaningful insights from your data and preparing it effectively for modeling and analysis."
   ]
  }
 ],
 "metadata": {
  "kernelspec": {
   "display_name": "Venv",
   "language": "python",
   "name": "python3"
  },
  "language_info": {
   "codemirror_mode": {
    "name": "ipython",
    "version": 3
   },
   "file_extension": ".py",
   "mimetype": "text/x-python",
   "name": "python",
   "nbconvert_exporter": "python",
   "pygments_lexer": "ipython3",
   "version": "3.12.8"
  }
 },
 "nbformat": 4,
 "nbformat_minor": 5
}
