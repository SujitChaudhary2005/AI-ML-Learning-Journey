{
 "cells": [
  {
   "cell_type": "markdown",
   "id": "9d7e0801",
   "metadata": {},
   "source": [
    "# Indexing Fundamentals: Index vs Columns, Setting Custom Indexes\n",
    "\n",
    "### What Is an Index in Pandas?\n",
    "\n",
    "In Pandas, an **index** is a fundamental part of our DataFrame or Series. It acts like a label or \"name tag\" for each row, allowing us to identify, select, and align data efficiently. Think of the index as the *row labels*—just like the row numbers in a spreadsheet, but much more flexible and powerful.\n",
    "\n",
    "Unlike traditional row numbers, an index can be anything meaningful: strings, dates, or even hierarchical labels (MultiIndex). This flexibility helps us organize and access data easily without relying solely on positional integer locations.\n",
    "\n",
    "### Index vs Columns: What's the Difference?\n",
    "\n",
    "- **Index**: Labels rows. They uniquely identify each row in the dataset. Indexes are not part of the data itself but act as metadata. By default, Pandas assigns an integer index starting from 0, but we can customize it.\n",
    "- **Columns**: These are the actual data fields or features in our dataset. Each column contains values of a specific type (numeric, categorical, string, etc.) and represents an attribute or variable.\n",
    "\n",
    "**For example, in the Titanic dataset:**\n",
    "\n",
    "| Index | PassengerId | Name | Sex | Age |\n",
    "| --- | --- | --- | --- | --- |\n",
    "| 0 | 1 | Braund, Mr. Owen | male | 22 |\n",
    "| 1 | 2 | Cumings, Mrs. John | female | 38 |\n",
    "- The leftmost number (0, 1, ...) is the **index**\n",
    "- Columns like `PassengerId`, `Name`, `Sex`, `Age` hold the actual data\n",
    "\n",
    "### Why Does the Index Matter?\n",
    "\n",
    "Indexes let us:\n",
    "\n",
    "- **Uniquely identify rows:** Essential when merging, joining, or aligning data from different sources.\n",
    "- **Quickly select and slice data:** We can use labels instead of integer positions to retrieve rows.\n",
    "- **Enable fast lookups:** Pandas internally optimizes index-based access for speed.\n",
    "- **Align data automatically:** When combining DataFrames, indexes help match rows correctly.\n",
    "\n",
    "In short, indexes act as the backbone of our DataFrames, helping us work smarter with tabular data.\n",
    "\n",
    "### Viewing the Index and Columns\n",
    "\n",
    "We can easily check the index and columns of our DataFrame:"
   ]
  },
  {
   "cell_type": "code",
   "execution_count": 1,
   "id": "6a67b803",
   "metadata": {},
   "outputs": [
    {
     "name": "stdout",
     "output_type": "stream",
     "text": [
      "Index: RangeIndex(start=0, stop=891, step=1)\n",
      "Columns: Index(['PassengerId', 'Survived', 'Pclass', 'Name', 'Sex', 'Age', 'SibSp',\n",
      "       'Parch', 'Ticket', 'Fare', 'Cabin', 'Embarked'],\n",
      "      dtype='object')\n"
     ]
    }
   ],
   "source": [
    "import pandas as pd\n",
    "\n",
    "df = pd.read_csv(\"data/train.csv\")\n",
    "\n",
    "print(\"Index:\", df.index)\n",
    "print(\"Columns:\", df.columns)"
   ]
  },
  {
   "cell_type": "markdown",
   "id": "bff6a537",
   "metadata": {},
   "source": [
    "By default, the index is a simple integer range from 0 to number of rows minus 1.\n",
    "\n",
    "### Setting Custom Indexes: Why and How?\n",
    "\n",
    "Sometimes, the default integer index isn't meaningful for our data analysis. We often want to use one or more columns as the index to reflect unique identifiers or hierarchical relationships.\n",
    "\n",
    "For example, using `PassengerId` as the index makes sense because it uniquely identifies each passenger.\n",
    "\n",
    "We can set a custom index using `.set_index()`:\n"
   ]
  },
  {
   "cell_type": "code",
   "execution_count": 2,
   "id": "7a3bc166",
   "metadata": {},
   "outputs": [
    {
     "name": "stdout",
     "output_type": "stream",
     "text": [
      "             Survived  Pclass  \\\n",
      "PassengerId                     \n",
      "1                   0       3   \n",
      "2                   1       1   \n",
      "3                   1       3   \n",
      "4                   1       1   \n",
      "5                   0       3   \n",
      "\n",
      "                                                          Name     Sex   Age  \\\n",
      "PassengerId                                                                    \n",
      "1                                      Braund, Mr. Owen Harris    male  22.0   \n",
      "2            Cumings, Mrs. John Bradley (Florence Briggs Th...  female  38.0   \n",
      "3                                       Heikkinen, Miss. Laina  female  26.0   \n",
      "4                 Futrelle, Mrs. Jacques Heath (Lily May Peel)  female  35.0   \n",
      "5                                     Allen, Mr. William Henry    male  35.0   \n",
      "\n",
      "             SibSp  Parch            Ticket     Fare Cabin Embarked  \n",
      "PassengerId                                                          \n",
      "1                1      0         A/5 21171   7.2500   NaN        S  \n",
      "2                1      0          PC 17599  71.2833   C85        C  \n",
      "3                0      0  STON/O2. 3101282   7.9250   NaN        S  \n",
      "4                1      0            113803  53.1000  C123        S  \n",
      "5                0      0            373450   8.0500   NaN        S  \n",
      "Index([  1,   2,   3,   4,   5,   6,   7,   8,   9,  10,\n",
      "       ...\n",
      "       882, 883, 884, 885, 886, 887, 888, 889, 890, 891],\n",
      "      dtype='int64', name='PassengerId', length=891)\n"
     ]
    }
   ],
   "source": [
    "df_custom = df.set_index('PassengerId')\n",
    "\n",
    "print(df_custom.head())\n",
    "print(df_custom.index)"
   ]
  },
  {
   "cell_type": "markdown",
   "id": "8e62153a",
   "metadata": {},
   "source": [
    "This changes the index from 0,1,2,... to actual passenger IDs like 1, 2, 3, …\n",
    "\n",
    "### Setting Multi-Level Indexes (MultiIndex)\n",
    "\n",
    "We can also create indexes with multiple levels by passing a list of columns:"
   ]
  },
  {
   "cell_type": "code",
   "execution_count": 3,
   "id": "083d3201",
   "metadata": {},
   "outputs": [
    {
     "name": "stdout",
     "output_type": "stream",
     "text": [
      "               PassengerId  Survived  \\\n",
      "Pclass Sex                             \n",
      "3      male              1         0   \n",
      "1      female            2         1   \n",
      "3      female            3         1   \n",
      "1      female            4         1   \n",
      "3      male              5         0   \n",
      "\n",
      "                                                            Name   Age  SibSp  \\\n",
      "Pclass Sex                                                                      \n",
      "3      male                              Braund, Mr. Owen Harris  22.0      1   \n",
      "1      female  Cumings, Mrs. John Bradley (Florence Briggs Th...  38.0      1   \n",
      "3      female                             Heikkinen, Miss. Laina  26.0      0   \n",
      "1      female       Futrelle, Mrs. Jacques Heath (Lily May Peel)  35.0      1   \n",
      "3      male                             Allen, Mr. William Henry  35.0      0   \n",
      "\n",
      "               Parch            Ticket     Fare Cabin Embarked  \n",
      "Pclass Sex                                                      \n",
      "3      male        0         A/5 21171   7.2500   NaN        S  \n",
      "1      female      0          PC 17599  71.2833   C85        C  \n",
      "3      female      0  STON/O2. 3101282   7.9250   NaN        S  \n",
      "1      female      0            113803  53.1000  C123        S  \n",
      "3      male        0            373450   8.0500   NaN        S  \n",
      "MultiIndex([(3,   'male'),\n",
      "            (1, 'female'),\n",
      "            (3, 'female'),\n",
      "            (1, 'female'),\n",
      "            (3,   'male'),\n",
      "            (3,   'male'),\n",
      "            (1,   'male'),\n",
      "            (3,   'male'),\n",
      "            (3, 'female'),\n",
      "            (2, 'female'),\n",
      "            ...\n",
      "            (3,   'male'),\n",
      "            (3, 'female'),\n",
      "            (2,   'male'),\n",
      "            (3,   'male'),\n",
      "            (3, 'female'),\n",
      "            (2,   'male'),\n",
      "            (1, 'female'),\n",
      "            (3, 'female'),\n",
      "            (1,   'male'),\n",
      "            (3,   'male')],\n",
      "           names=['Pclass', 'Sex'], length=891)\n"
     ]
    }
   ],
   "source": [
    "df_multi = df.set_index(['Pclass', 'Sex'])\n",
    "\n",
    "print(df_multi.head())\n",
    "print(df_multi.index)"
   ]
  },
  {
   "cell_type": "markdown",
   "id": "582a8529",
   "metadata": {},
   "source": [
    "This creates a hierarchical index with levels `Pclass` and `Sex`, allowing us to group and slice data more flexibly.\n",
    "\n",
    "### Resetting the Index\n",
    "\n",
    "If we want to revert back to the default integer index and turn the index back into columns, we use `.reset_index()`:"
   ]
  },
  {
   "cell_type": "code",
   "execution_count": 4,
   "id": "d6ab147e",
   "metadata": {},
   "outputs": [
    {
     "name": "stdout",
     "output_type": "stream",
     "text": [
      "   Pclass     Sex  PassengerId  Survived  \\\n",
      "0       3    male            1         0   \n",
      "1       1  female            2         1   \n",
      "2       3  female            3         1   \n",
      "3       1  female            4         1   \n",
      "4       3    male            5         0   \n",
      "\n",
      "                                                Name   Age  SibSp  Parch  \\\n",
      "0                            Braund, Mr. Owen Harris  22.0      1      0   \n",
      "1  Cumings, Mrs. John Bradley (Florence Briggs Th...  38.0      1      0   \n",
      "2                             Heikkinen, Miss. Laina  26.0      0      0   \n",
      "3       Futrelle, Mrs. Jacques Heath (Lily May Peel)  35.0      1      0   \n",
      "4                           Allen, Mr. William Henry  35.0      0      0   \n",
      "\n",
      "             Ticket     Fare Cabin Embarked  \n",
      "0         A/5 21171   7.2500   NaN        S  \n",
      "1          PC 17599  71.2833   C85        C  \n",
      "2  STON/O2. 3101282   7.9250   NaN        S  \n",
      "3            113803  53.1000  C123        S  \n",
      "4            373450   8.0500   NaN        S  \n",
      "RangeIndex(start=0, stop=891, step=1)\n"
     ]
    }
   ],
   "source": [
    "df_reset = df_multi.reset_index()\n",
    "\n",
    "print(df_reset.head())\n",
    "print(df_reset.index)"
   ]
  },
  {
   "cell_type": "markdown",
   "id": "29b34280",
   "metadata": {},
   "source": [
    "### Common Index Types in Pandas\n",
    "\n",
    "- **RangeIndex** (default integer index)\n",
    "- **Int64Index** (integer labels)\n",
    "- **Float64Index** (floating-point labels)\n",
    "- **DatetimeIndex** (dates and times)\n",
    "- **CategoricalIndex** (categorical labels)\n",
    "- **MultiIndex** (hierarchical/multi-level indexes)\n",
    "\n",
    "Each type has different performance and use cases, and Pandas optimizes operations depending on the index type.\n",
    "\n",
    "### Exercises\n",
    "\n",
    "Q1. Load the Titanic dataset and print its index and columns."
   ]
  },
  {
   "cell_type": "code",
   "execution_count": 5,
   "id": "63226c16",
   "metadata": {},
   "outputs": [
    {
     "name": "stdout",
     "output_type": "stream",
     "text": [
      "Index: RangeIndex(start=0, stop=891, step=1)\n",
      "Columns: Index(['PassengerId', 'Survived', 'Pclass', 'Name', 'Sex', 'Age', 'SibSp',\n",
      "       'Parch', 'Ticket', 'Fare', 'Cabin', 'Embarked'],\n",
      "      dtype='object')\n"
     ]
    }
   ],
   "source": [
    "import pandas as pd\n",
    "\n",
    "df = pd.read_csv(\"data/train.csv\")\n",
    "\n",
    "print(\"Index:\", df.index)\n",
    "print(\"Columns:\", df.columns)"
   ]
  },
  {
   "cell_type": "markdown",
   "id": "982a94d6",
   "metadata": {},
   "source": [
    "Q2. Set `PassengerId` as the index and display the first 5 rows."
   ]
  },
  {
   "cell_type": "code",
   "execution_count": 6,
   "id": "9edcf0e4",
   "metadata": {},
   "outputs": [
    {
     "name": "stdout",
     "output_type": "stream",
     "text": [
      "             Survived  Pclass  \\\n",
      "PassengerId                     \n",
      "1                   0       3   \n",
      "2                   1       1   \n",
      "3                   1       3   \n",
      "4                   1       1   \n",
      "5                   0       3   \n",
      "\n",
      "                                                          Name     Sex   Age  \\\n",
      "PassengerId                                                                    \n",
      "1                                      Braund, Mr. Owen Harris    male  22.0   \n",
      "2            Cumings, Mrs. John Bradley (Florence Briggs Th...  female  38.0   \n",
      "3                                       Heikkinen, Miss. Laina  female  26.0   \n",
      "4                 Futrelle, Mrs. Jacques Heath (Lily May Peel)  female  35.0   \n",
      "5                                     Allen, Mr. William Henry    male  35.0   \n",
      "\n",
      "             SibSp  Parch            Ticket     Fare Cabin Embarked  \n",
      "PassengerId                                                          \n",
      "1                1      0         A/5 21171   7.2500   NaN        S  \n",
      "2                1      0          PC 17599  71.2833   C85        C  \n",
      "3                0      0  STON/O2. 3101282   7.9250   NaN        S  \n",
      "4                1      0            113803  53.1000  C123        S  \n",
      "5                0      0            373450   8.0500   NaN        S  \n"
     ]
    }
   ],
   "source": [
    "df_PID = df.set_index('PassengerId')\n",
    "print(df_PID.head())"
   ]
  },
  {
   "cell_type": "code",
   "execution_count": 7,
   "id": "651adcb9",
   "metadata": {},
   "outputs": [
    {
     "name": "stdout",
     "output_type": "stream",
     "text": [
      "             Survived  Pclass  \\\n",
      "PassengerId                     \n",
      "1                   0       3   \n",
      "2                   1       1   \n",
      "3                   1       3   \n",
      "4                   1       1   \n",
      "5                   0       3   \n",
      "\n",
      "                                                          Name     Sex   Age  \\\n",
      "PassengerId                                                                    \n",
      "1                                      Braund, Mr. Owen Harris    male  22.0   \n",
      "2            Cumings, Mrs. John Bradley (Florence Briggs Th...  female  38.0   \n",
      "3                                       Heikkinen, Miss. Laina  female  26.0   \n",
      "4                 Futrelle, Mrs. Jacques Heath (Lily May Peel)  female  35.0   \n",
      "5                                     Allen, Mr. William Henry    male  35.0   \n",
      "\n",
      "             SibSp  Parch            Ticket     Fare Cabin Embarked  \n",
      "PassengerId                                                          \n",
      "1                1      0         A/5 21171   7.2500   NaN        S  \n",
      "2                1      0          PC 17599  71.2833   C85        C  \n",
      "3                0      0  STON/O2. 3101282   7.9250   NaN        S  \n",
      "4                1      0            113803  53.1000  C123        S  \n",
      "5                0      0            373450   8.0500   NaN        S  \n"
     ]
    }
   ],
   "source": [
    "df_PID = df.set_index('PassengerId')\n",
    "print(df_PID.head())"
   ]
  },
  {
   "cell_type": "markdown",
   "id": "f98665fc",
   "metadata": {},
   "source": [
    "Q3. Create a MultiIndex with columns `Pclass` and `Embarked`."
   ]
  },
  {
   "cell_type": "code",
   "execution_count": 8,
   "id": "a5e959e5",
   "metadata": {},
   "outputs": [
    {
     "name": "stdout",
     "output_type": "stream",
     "text": [
      "                 PassengerId  Survived  \\\n",
      "Pclass Embarked                          \n",
      "3      S                   1         0   \n",
      "1      C                   2         1   \n",
      "3      S                   3         1   \n",
      "1      S                   4         1   \n",
      "3      S                   5         0   \n",
      "\n",
      "                                                              Name     Sex  \\\n",
      "Pclass Embarked                                                              \n",
      "3      S                                   Braund, Mr. Owen Harris    male   \n",
      "1      C         Cumings, Mrs. John Bradley (Florence Briggs Th...  female   \n",
      "3      S                                    Heikkinen, Miss. Laina  female   \n",
      "1      S              Futrelle, Mrs. Jacques Heath (Lily May Peel)  female   \n",
      "3      S                                  Allen, Mr. William Henry    male   \n",
      "\n",
      "                  Age  SibSp  Parch            Ticket     Fare Cabin  \n",
      "Pclass Embarked                                                       \n",
      "3      S         22.0      1      0         A/5 21171   7.2500   NaN  \n",
      "1      C         38.0      1      0          PC 17599  71.2833   C85  \n",
      "3      S         26.0      0      0  STON/O2. 3101282   7.9250   NaN  \n",
      "1      S         35.0      1      0            113803  53.1000  C123  \n",
      "3      S         35.0      0      0            373450   8.0500   NaN  \n",
      "MultiIndex([(3, 'S'),\n",
      "            (1, 'C'),\n",
      "            (3, 'S'),\n",
      "            (1, 'S'),\n",
      "            (3, 'S'),\n",
      "            (3, 'Q'),\n",
      "            (1, 'S'),\n",
      "            (3, 'S'),\n",
      "            (3, 'S'),\n",
      "            (2, 'C'),\n",
      "            ...\n",
      "            (3, 'S'),\n",
      "            (3, 'S'),\n",
      "            (2, 'S'),\n",
      "            (3, 'S'),\n",
      "            (3, 'Q'),\n",
      "            (2, 'S'),\n",
      "            (1, 'S'),\n",
      "            (3, 'S'),\n",
      "            (1, 'C'),\n",
      "            (3, 'Q')],\n",
      "           names=['Pclass', 'Embarked'], length=891)\n"
     ]
    }
   ],
   "source": [
    "df_multi = df.set_index(['Pclass', 'Embarked'])\n",
    "print(df_multi.head())\n",
    "print(df_multi.index)"
   ]
  },
  {
   "cell_type": "markdown",
   "id": "86769843",
   "metadata": {},
   "source": [
    "Q4. Reset the MultiIndex to return to default indexing."
   ]
  },
  {
   "cell_type": "code",
   "execution_count": 9,
   "id": "9ba69e6b",
   "metadata": {},
   "outputs": [
    {
     "name": "stdout",
     "output_type": "stream",
     "text": [
      "   Pclass Embarked  PassengerId  Survived  \\\n",
      "0       3        S            1         0   \n",
      "1       1        C            2         1   \n",
      "2       3        S            3         1   \n",
      "3       1        S            4         1   \n",
      "4       3        S            5         0   \n",
      "\n",
      "                                                Name     Sex   Age  SibSp  \\\n",
      "0                            Braund, Mr. Owen Harris    male  22.0      1   \n",
      "1  Cumings, Mrs. John Bradley (Florence Briggs Th...  female  38.0      1   \n",
      "2                             Heikkinen, Miss. Laina  female  26.0      0   \n",
      "3       Futrelle, Mrs. Jacques Heath (Lily May Peel)  female  35.0      1   \n",
      "4                           Allen, Mr. William Henry    male  35.0      0   \n",
      "\n",
      "   Parch            Ticket     Fare Cabin  \n",
      "0      0         A/5 21171   7.2500   NaN  \n",
      "1      0          PC 17599  71.2833   C85  \n",
      "2      0  STON/O2. 3101282   7.9250   NaN  \n",
      "3      0            113803  53.1000  C123  \n",
      "4      0            373450   8.0500   NaN  \n",
      "RangeIndex(start=0, stop=891, step=1)\n"
     ]
    }
   ],
   "source": [
    "df_multi_reset = df_multi.reset_index()\n",
    "print(df_multi_reset.head())\n",
    "print(df_multi_reset.index)"
   ]
  },
  {
   "cell_type": "markdown",
   "id": "e95eab81",
   "metadata": {},
   "source": [
    "Q5. Check the index type of the DataFrame after each operation."
   ]
  },
  {
   "cell_type": "code",
   "execution_count": 10,
   "id": "c6f47ec5",
   "metadata": {},
   "outputs": [
    {
     "name": "stdout",
     "output_type": "stream",
     "text": [
      "Original df index type: <class 'pandas.core.indexes.range.RangeIndex'>\n",
      "df_PID index type: <class 'pandas.core.indexes.base.Index'>\n",
      "df_multi index type: <class 'pandas.core.indexes.multi.MultiIndex'>\n",
      "df_reset index type: <class 'pandas.core.indexes.range.RangeIndex'>\n"
     ]
    }
   ],
   "source": [
    "print(\"Original df index type:\", type(df.index))\n",
    "print(\"df_PID index type:\", type(df_PID.index))\n",
    "print(\"df_multi index type:\", type(df_multi.index))\n",
    "print(\"df_reset index type:\", type(df_reset.index))"
   ]
  },
  {
   "cell_type": "markdown",
   "id": "733ae26c",
   "metadata": {},
   "source": [
    "### Summary\n",
    "\n",
    "In Pandas, the concept of an index is central to how we organize and access our data efficiently. Unlike columns, which hold the actual data values, the index serves as a unique identifier or label for each row in our DataFrame. By default, Pandas assigns a simple integer index starting from zero, but this default can often be replaced with more meaningful labels from one or more columns in our dataset. Setting a custom index allows us to work with data in a more intuitive and powerful way. For example, using a column like `PassengerId` as the index in the Titanic dataset helps us uniquely identify each passenger and quickly retrieve or align data based on that identifier. Beyond single-level indexes, Pandas also supports MultiIndexes — hierarchical indexes with multiple levels that let us organize complex datasets with multiple grouping variables, such as `Pclass` and `Sex`. This makes slicing and grouping operations more flexible and expressive. Equally important is knowing how to reset indexes when we want to revert back to the default integer indexing or convert index labels back to regular columns. Different types of indexes (e.g., integer, datetime, categorical) come with their own performance implications and use cases, so understanding when and how to use them helps us optimize our workflows. Overall, mastering indexing fundamentals is essential for effectively managing, selecting, and manipulating data in Pandas, laying a strong foundation for more advanced data analysis tasks."
   ]
  }
 ],
 "metadata": {
  "kernelspec": {
   "display_name": "Venv",
   "language": "python",
   "name": "python3"
  },
  "language_info": {
   "codemirror_mode": {
    "name": "ipython",
    "version": 3
   },
   "file_extension": ".py",
   "mimetype": "text/x-python",
   "name": "python",
   "nbconvert_exporter": "python",
   "pygments_lexer": "ipython3",
   "version": "3.12.8"
  }
 },
 "nbformat": 4,
 "nbformat_minor": 5
}
