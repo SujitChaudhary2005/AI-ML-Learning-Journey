{
 "cells": [
  {
   "cell_type": "markdown",
   "id": "38acd227",
   "metadata": {},
   "source": [
    "# Data Selection Techniques in Pandas: .loc[], .iloc[], and [] Bracket Notation\n",
    "\n",
    "### What Is Data Selection in Pandas?\n",
    "\n",
    "Once we’ve loaded and organized our data in a DataFrame, the next most important task is **selecting specific rows, columns, or values** to explore, clean, analyze, or manipulate. Pandas gives us multiple tools for this — the most powerful and commonly used being:\n",
    "\n",
    "- `.loc[]` — Label-based selection\n",
    "- `.iloc[]` — Integer-based selection\n",
    "- `[]` — Bracket notation (quick access, often shorthand)\n",
    "\n",
    "Understanding when and how to use each one is essential for mastering data analysis. Each method has its strengths and can be used depending on whether we want to select by **row label**, **row position**, or just **column name**.\n",
    "\n",
    "Let’s explore all of them step-by-step with real examples using the Titanic dataset.\n",
    "\n",
    "### `[]` Bracket Notation (Quick Column Access)\n",
    "\n",
    "This is the most basic and often-used method to access **columns**. We simply pass the column name in quotes."
   ]
  },
  {
   "cell_type": "code",
   "execution_count": 1,
   "id": "81b72422",
   "metadata": {},
   "outputs": [
    {
     "data": {
      "text/html": [
       "<div>\n",
       "<style scoped>\n",
       "    .dataframe tbody tr th:only-of-type {\n",
       "        vertical-align: middle;\n",
       "    }\n",
       "\n",
       "    .dataframe tbody tr th {\n",
       "        vertical-align: top;\n",
       "    }\n",
       "\n",
       "    .dataframe thead th {\n",
       "        text-align: right;\n",
       "    }\n",
       "</style>\n",
       "<table border=\"1\" class=\"dataframe\">\n",
       "  <thead>\n",
       "    <tr style=\"text-align: right;\">\n",
       "      <th></th>\n",
       "      <th>Name</th>\n",
       "      <th>Age</th>\n",
       "    </tr>\n",
       "  </thead>\n",
       "  <tbody>\n",
       "    <tr>\n",
       "      <th>0</th>\n",
       "      <td>Braund, Mr. Owen Harris</td>\n",
       "      <td>22.0</td>\n",
       "    </tr>\n",
       "    <tr>\n",
       "      <th>1</th>\n",
       "      <td>Cumings, Mrs. John Bradley (Florence Briggs Th...</td>\n",
       "      <td>38.0</td>\n",
       "    </tr>\n",
       "    <tr>\n",
       "      <th>2</th>\n",
       "      <td>Heikkinen, Miss. Laina</td>\n",
       "      <td>26.0</td>\n",
       "    </tr>\n",
       "    <tr>\n",
       "      <th>3</th>\n",
       "      <td>Futrelle, Mrs. Jacques Heath (Lily May Peel)</td>\n",
       "      <td>35.0</td>\n",
       "    </tr>\n",
       "    <tr>\n",
       "      <th>4</th>\n",
       "      <td>Allen, Mr. William Henry</td>\n",
       "      <td>35.0</td>\n",
       "    </tr>\n",
       "    <tr>\n",
       "      <th>...</th>\n",
       "      <td>...</td>\n",
       "      <td>...</td>\n",
       "    </tr>\n",
       "    <tr>\n",
       "      <th>886</th>\n",
       "      <td>Montvila, Rev. Juozas</td>\n",
       "      <td>27.0</td>\n",
       "    </tr>\n",
       "    <tr>\n",
       "      <th>887</th>\n",
       "      <td>Graham, Miss. Margaret Edith</td>\n",
       "      <td>19.0</td>\n",
       "    </tr>\n",
       "    <tr>\n",
       "      <th>888</th>\n",
       "      <td>Johnston, Miss. Catherine Helen \"Carrie\"</td>\n",
       "      <td>NaN</td>\n",
       "    </tr>\n",
       "    <tr>\n",
       "      <th>889</th>\n",
       "      <td>Behr, Mr. Karl Howell</td>\n",
       "      <td>26.0</td>\n",
       "    </tr>\n",
       "    <tr>\n",
       "      <th>890</th>\n",
       "      <td>Dooley, Mr. Patrick</td>\n",
       "      <td>32.0</td>\n",
       "    </tr>\n",
       "  </tbody>\n",
       "</table>\n",
       "<p>891 rows × 2 columns</p>\n",
       "</div>"
      ],
      "text/plain": [
       "                                                  Name   Age\n",
       "0                              Braund, Mr. Owen Harris  22.0\n",
       "1    Cumings, Mrs. John Bradley (Florence Briggs Th...  38.0\n",
       "2                               Heikkinen, Miss. Laina  26.0\n",
       "3         Futrelle, Mrs. Jacques Heath (Lily May Peel)  35.0\n",
       "4                             Allen, Mr. William Henry  35.0\n",
       "..                                                 ...   ...\n",
       "886                              Montvila, Rev. Juozas  27.0\n",
       "887                       Graham, Miss. Margaret Edith  19.0\n",
       "888           Johnston, Miss. Catherine Helen \"Carrie\"   NaN\n",
       "889                              Behr, Mr. Karl Howell  26.0\n",
       "890                                Dooley, Mr. Patrick  32.0\n",
       "\n",
       "[891 rows x 2 columns]"
      ]
     },
     "execution_count": 1,
     "metadata": {},
     "output_type": "execute_result"
    }
   ],
   "source": [
    "import pandas as pd\n",
    "df = pd.read_csv(\"data/train.csv\")\n",
    "\n",
    "# Accessing a single column\n",
    "df['Name']\n",
    "\n",
    "# Accessing multiple columns\n",
    "df[['Name', 'Age']]"
   ]
  },
  {
   "cell_type": "markdown",
   "id": "5593277c",
   "metadata": {},
   "source": [
    "### Limitations:\n",
    "\n",
    "- Can only access **columns** (not rows).\n",
    "- If you try `df[0]` or a numeric index, it will raise an error.\n",
    "\n",
    "### `.loc[]`: Label-Based Selection\n",
    "\n",
    "The `.loc[]` method is used to select rows and columns **by labels** (i.e., index values or column names).\n",
    "\n",
    "**Syntax:**\n",
    "\n",
    "```python\n",
    "df.loc[row_label, column_label]\n",
    "```\n",
    "\n",
    "**Example:**"
   ]
  },
  {
   "cell_type": "code",
   "execution_count": 2,
   "id": "ff171b35",
   "metadata": {},
   "outputs": [
    {
     "name": "stdout",
     "output_type": "stream",
     "text": [
      "PassengerId                          1\n",
      "Survived                             0\n",
      "Pclass                               3\n",
      "Name           Braund, Mr. Owen Harris\n",
      "Sex                               male\n",
      "Age                               22.0\n",
      "SibSp                                1\n",
      "Parch                                0\n",
      "Ticket                       A/5 21171\n",
      "Fare                              7.25\n",
      "Cabin                              NaN\n",
      "Embarked                             S\n",
      "Name: 0, dtype: object\n",
      "   PassengerId  Survived  Pclass  \\\n",
      "0            1         0       3   \n",
      "1            2         1       1   \n",
      "2            3         1       3   \n",
      "\n",
      "                                                Name     Sex   Age  SibSp  \\\n",
      "0                            Braund, Mr. Owen Harris    male  22.0      1   \n",
      "1  Cumings, Mrs. John Bradley (Florence Briggs Th...  female  38.0      1   \n",
      "2                             Heikkinen, Miss. Laina  female  26.0      0   \n",
      "\n",
      "   Parch            Ticket     Fare Cabin Embarked  \n",
      "0      0         A/5 21171   7.2500   NaN        S  \n",
      "1      0          PC 17599  71.2833   C85        C  \n",
      "2      0  STON/O2. 3101282   7.9250   NaN        S  \n",
      "                                                Name     Sex   Age\n",
      "0                            Braund, Mr. Owen Harris    male  22.0\n",
      "1  Cumings, Mrs. John Bradley (Florence Briggs Th...  female  38.0\n",
      "2                             Heikkinen, Miss. Laina  female  26.0\n",
      "3       Futrelle, Mrs. Jacques Heath (Lily May Peel)  female  35.0\n",
      "4                           Allen, Mr. William Henry    male  35.0\n",
      "     Survived     Fare\n",
      "0           0   7.2500\n",
      "1           1  71.2833\n",
      "2           1   7.9250\n",
      "3           1  53.1000\n",
      "4           0   8.0500\n",
      "..        ...      ...\n",
      "886         0  13.0000\n",
      "887         1  30.0000\n",
      "888         0  23.4500\n",
      "889         1  30.0000\n",
      "890         0   7.7500\n",
      "\n",
      "[891 rows x 2 columns]\n"
     ]
    }
   ],
   "source": [
    "# Select a single row by index label\n",
    "print(df.loc[0])\n",
    "\n",
    "# Select multiple rows by index labels\n",
    "print(df.loc[[0, 1, 2]])\n",
    "\n",
    "# Select specific rows and columns\n",
    "print(df.loc[0:4, ['Name', 'Sex', 'Age']])\n",
    "\n",
    "# Select all rows but only certain columns\n",
    "print(df.loc[:, ['Survived', 'Fare']])"
   ]
  },
  {
   "cell_type": "markdown",
   "id": "396d9083",
   "metadata": {},
   "source": [
    "### Advantages:\n",
    "\n",
    "- Works well with **custom indexes**\n",
    "- Very intuitive and readable when selecting **named rows and columns**\n",
    "\n",
    "### `.iloc[]`: Integer-Based Selection\n",
    "\n",
    "The `.iloc[]` method is used to select **rows and columns by integer position**.\n",
    "\n",
    "**Syntax:**\n",
    "\n",
    "```python\n",
    "df.iloc[row_index, column_index]\n",
    "```\n",
    "\n",
    " **Example:**"
   ]
  },
  {
   "cell_type": "code",
   "execution_count": 3,
   "id": "da29141a",
   "metadata": {},
   "outputs": [
    {
     "name": "stdout",
     "output_type": "stream",
     "text": [
      "PassengerId                          1\n",
      "Survived                             0\n",
      "Pclass                               3\n",
      "Name           Braund, Mr. Owen Harris\n",
      "Sex                               male\n",
      "Age                               22.0\n",
      "SibSp                                1\n",
      "Parch                                0\n",
      "Ticket                       A/5 21171\n",
      "Fare                              7.25\n",
      "Cabin                              NaN\n",
      "Embarked                             S\n",
      "Name: 0, dtype: object\n",
      "   PassengerId  Survived  Pclass  \\\n",
      "0            1         0       3   \n",
      "1            2         1       1   \n",
      "2            3         1       3   \n",
      "3            4         1       1   \n",
      "4            5         0       3   \n",
      "\n",
      "                                                Name     Sex   Age  SibSp  \\\n",
      "0                            Braund, Mr. Owen Harris    male  22.0      1   \n",
      "1  Cumings, Mrs. John Bradley (Florence Briggs Th...  female  38.0      1   \n",
      "2                             Heikkinen, Miss. Laina  female  26.0      0   \n",
      "3       Futrelle, Mrs. Jacques Heath (Lily May Peel)  female  35.0      1   \n",
      "4                           Allen, Mr. William Henry    male  35.0      0   \n",
      "\n",
      "   Parch            Ticket     Fare Cabin Embarked  \n",
      "0      0         A/5 21171   7.2500   NaN        S  \n",
      "1      0          PC 17599  71.2833   C85        C  \n",
      "2      0  STON/O2. 3101282   7.9250   NaN        S  \n",
      "3      0            113803  53.1000  C123        S  \n",
      "4      0            373450   8.0500   NaN        S  \n",
      "   PassengerId  Survived  Pclass\n",
      "0            1         0       3\n",
      "1            2         1       1\n",
      "2            3         1       3\n",
      "3            4         1       1\n",
      "4            5         0       3\n",
      "4.0\n"
     ]
    }
   ],
   "source": [
    "# First row\n",
    "print(df.iloc[0])\n",
    "\n",
    "# First 5 rows\n",
    "print(df.iloc[0:5])\n",
    "\n",
    "# First 5 rows, first 3 columns\n",
    "print(df.iloc[0:5, 0:3])\n",
    "\n",
    "# Row 10, column 5\n",
    "print(df.iloc[10, 5])"
   ]
  },
  {
   "cell_type": "markdown",
   "id": "56ef8795",
   "metadata": {},
   "source": [
    "### Use `.iloc[]` when:\n",
    "\n",
    "- You want positional slicing (just like arrays)\n",
    "- You're not sure what the index or column labels are\n",
    "\n",
    "### Difference Between `.loc[]` and `.iloc[]`\n",
    "\n",
    "| Feature | `.loc[]` | `.iloc[]` |\n",
    "| --- | --- | --- |\n",
    "| Selection type | Label-based | Position-based |\n",
    "| Index used | Custom or default index labels | Integer positions (0-based) |\n",
    "| Inclusiveness | Includes both start and end index | End index is **exclusive** |\n",
    "| Best use case | Readable, works well with custom IDs | Purely numerical slicing or iteration |\n",
    "\n",
    "### Real-World Examples (Using Titanic)\n",
    "\n",
    "1. Selecting all **female passengers**:"
   ]
  },
  {
   "cell_type": "code",
   "execution_count": 4,
   "id": "c3120aee",
   "metadata": {},
   "outputs": [
    {
     "name": "stdout",
     "output_type": "stream",
     "text": [
      "   PassengerId  Survived  Pclass  \\\n",
      "1            2         1       1   \n",
      "2            3         1       3   \n",
      "3            4         1       1   \n",
      "8            9         1       3   \n",
      "9           10         1       2   \n",
      "\n",
      "                                                Name     Sex   Age  SibSp  \\\n",
      "1  Cumings, Mrs. John Bradley (Florence Briggs Th...  female  38.0      1   \n",
      "2                             Heikkinen, Miss. Laina  female  26.0      0   \n",
      "3       Futrelle, Mrs. Jacques Heath (Lily May Peel)  female  35.0      1   \n",
      "8  Johnson, Mrs. Oscar W (Elisabeth Vilhelmina Berg)  female  27.0      0   \n",
      "9                Nasser, Mrs. Nicholas (Adele Achem)  female  14.0      1   \n",
      "\n",
      "   Parch            Ticket     Fare Cabin Embarked  \n",
      "1      0          PC 17599  71.2833   C85        C  \n",
      "2      0  STON/O2. 3101282   7.9250   NaN        S  \n",
      "3      0            113803  53.1000  C123        S  \n",
      "8      2            347742  11.1333   NaN        S  \n",
      "9      0            237736  30.0708   NaN        C  \n"
     ]
    }
   ],
   "source": [
    "df_female = df.loc[df['Sex'] == 'female']\n",
    "print(df_female.head())"
   ]
  },
  {
   "cell_type": "markdown",
   "id": "8a8210fc",
   "metadata": {},
   "source": [
    "2. Selecting rows **with age above 60**, but only show Name, Age, Fare:"
   ]
  },
  {
   "cell_type": "code",
   "execution_count": 5,
   "id": "7f313dc6",
   "metadata": {},
   "outputs": [
    {
     "name": "stdout",
     "output_type": "stream",
     "text": [
      "                                          Name   Age      Fare\n",
      "33                       Wheadon, Mr. Edward H  66.0   10.5000\n",
      "54              Ostby, Mr. Engelhart Cornelius  65.0   61.9792\n",
      "96                   Goldschmidt, Mr. George B  71.0   34.6542\n",
      "116                       Connors, Mr. Patrick  70.5    7.7500\n",
      "170                  Van der hoef, Mr. Wyckoff  61.0   33.5000\n",
      "252                  Stead, Mr. William Thomas  62.0   26.5500\n",
      "275          Andrews, Miss. Kornelia Theodosia  63.0   77.9583\n",
      "280                           Duane, Mr. Frank  65.0    7.7500\n",
      "326                  Nysveen, Mr. Johan Hansen  61.0    6.2375\n",
      "438                          Fortune, Mr. Mark  64.0  263.0000\n",
      "456                  Millet, Mr. Francis Davis  65.0   26.5500\n",
      "483                     Turkula, Mrs. (Hedwig)  63.0    9.5875\n",
      "493                    Artagaveytia, Mr. Ramon  71.0   49.5042\n",
      "545               Nicholson, Mr. Arthur Ernest  64.0   26.0000\n",
      "555                         Wright, Mr. George  62.0   26.5500\n",
      "570                         Harris, Mr. George  62.0   10.5000\n",
      "625                      Sutton, Mr. Frederick  61.0   32.3208\n",
      "630       Barkworth, Mr. Algernon Henry Wilson  80.0   30.0000\n",
      "672                Mitchell, Mr. Henry Michael  70.0   10.5000\n",
      "745               Crosby, Capt. Edward Gifford  70.0   71.0000\n",
      "829  Stone, Mrs. George Nelson (Martha Evelyn)  62.0   80.0000\n",
      "851                        Svensson, Mr. Johan  74.0    7.7750\n"
     ]
    }
   ],
   "source": [
    "df_senior = df.loc[df['Age'] > 60, ['Name', 'Age', 'Fare']]\n",
    "print(df_senior)"
   ]
  },
  {
   "cell_type": "markdown",
   "id": "3f8f910b",
   "metadata": {},
   "source": [
    "3. Selecting **first 10 rows and first 4 columns** using `.iloc[]`:"
   ]
  },
  {
   "cell_type": "code",
   "execution_count": 6,
   "id": "7f0ad35f",
   "metadata": {},
   "outputs": [
    {
     "name": "stdout",
     "output_type": "stream",
     "text": [
      "   PassengerId  Survived  Pclass  \\\n",
      "0            1         0       3   \n",
      "1            2         1       1   \n",
      "2            3         1       3   \n",
      "3            4         1       1   \n",
      "4            5         0       3   \n",
      "5            6         0       3   \n",
      "6            7         0       1   \n",
      "7            8         0       3   \n",
      "8            9         1       3   \n",
      "9           10         1       2   \n",
      "\n",
      "                                                Name  \n",
      "0                            Braund, Mr. Owen Harris  \n",
      "1  Cumings, Mrs. John Bradley (Florence Briggs Th...  \n",
      "2                             Heikkinen, Miss. Laina  \n",
      "3       Futrelle, Mrs. Jacques Heath (Lily May Peel)  \n",
      "4                           Allen, Mr. William Henry  \n",
      "5                                   Moran, Mr. James  \n",
      "6                            McCarthy, Mr. Timothy J  \n",
      "7                     Palsson, Master. Gosta Leonard  \n",
      "8  Johnson, Mrs. Oscar W (Elisabeth Vilhelmina Berg)  \n",
      "9                Nasser, Mrs. Nicholas (Adele Achem)  \n"
     ]
    }
   ],
   "source": [
    "print(df.iloc[0:10, 0:4])"
   ]
  },
  {
   "cell_type": "markdown",
   "id": "afbb5f3b",
   "metadata": {},
   "source": [
    "### Exercises\n",
    "\n",
    "Q1. Select and display only the 'Name', 'Age', and 'Sex' columns for the first 7 rows using `.loc[]`."
   ]
  },
  {
   "cell_type": "code",
   "execution_count": 7,
   "id": "88bafce2",
   "metadata": {},
   "outputs": [
    {
     "name": "stdout",
     "output_type": "stream",
     "text": [
      "                                                Name   Age     Sex\n",
      "0                            Braund, Mr. Owen Harris  22.0    male\n",
      "1  Cumings, Mrs. John Bradley (Florence Briggs Th...  38.0  female\n",
      "2                             Heikkinen, Miss. Laina  26.0  female\n",
      "3       Futrelle, Mrs. Jacques Heath (Lily May Peel)  35.0  female\n",
      "4                           Allen, Mr. William Henry  35.0    male\n",
      "5                                   Moran, Mr. James   NaN    male\n",
      "6                            McCarthy, Mr. Timothy J  54.0    male\n"
     ]
    }
   ],
   "source": [
    "import pandas as pd\n",
    "\n",
    "df = pd.read_csv(\"data/train.csv\")\n",
    "\n",
    "selected_data = df.loc[0:6, [\"Name\", \"Age\", \"Sex\"]]\n",
    "print(selected_data)"
   ]
  },
  {
   "cell_type": "markdown",
   "id": "8aa296e5",
   "metadata": {},
   "source": [
    "Q2. Use `.iloc[]` to get rows from index 10 to 20 and columns from index 0 to 5."
   ]
  },
  {
   "cell_type": "code",
   "execution_count": 8,
   "id": "42f86519",
   "metadata": {},
   "outputs": [
    {
     "name": "stdout",
     "output_type": "stream",
     "text": [
      "    PassengerId  Survived  Pclass  \\\n",
      "10           11         1       3   \n",
      "11           12         1       1   \n",
      "12           13         0       3   \n",
      "13           14         0       3   \n",
      "14           15         0       3   \n",
      "15           16         1       2   \n",
      "16           17         0       3   \n",
      "17           18         1       2   \n",
      "18           19         0       3   \n",
      "19           20         1       3   \n",
      "20           21         0       2   \n",
      "\n",
      "                                                 Name     Sex   Age  \n",
      "10                    Sandstrom, Miss. Marguerite Rut  female   4.0  \n",
      "11                           Bonnell, Miss. Elizabeth  female  58.0  \n",
      "12                     Saundercock, Mr. William Henry    male  20.0  \n",
      "13                        Andersson, Mr. Anders Johan    male  39.0  \n",
      "14               Vestrom, Miss. Hulda Amanda Adolfina  female  14.0  \n",
      "15                   Hewlett, Mrs. (Mary D Kingcome)   female  55.0  \n",
      "16                               Rice, Master. Eugene    male   2.0  \n",
      "17                       Williams, Mr. Charles Eugene    male   NaN  \n",
      "18  Vander Planke, Mrs. Julius (Emelia Maria Vande...  female  31.0  \n",
      "19                            Masselmani, Mrs. Fatima  female   NaN  \n",
      "20                               Fynney, Mr. Joseph J    male  35.0  \n"
     ]
    }
   ],
   "source": [
    "subset = df.iloc[10:21, 0:6]\n",
    "print(subset)"
   ]
  },
  {
   "cell_type": "markdown",
   "id": "6a0e2017",
   "metadata": {},
   "source": [
    "Q3. Select all rows where 'Fare' is greater than 100 and display 'Name', 'Fare', and 'Pclass'."
   ]
  },
  {
   "cell_type": "code",
   "execution_count": 9,
   "id": "6bf72aac",
   "metadata": {},
   "outputs": [
    {
     "name": "stdout",
     "output_type": "stream",
     "text": [
      "                                                  Name      Fare  Pclass\n",
      "27                      Fortune, Mr. Charles Alexander  263.0000       1\n",
      "31      Spencer, Mrs. William Augustus (Marie Eugenie)  146.5208       1\n",
      "88                          Fortune, Miss. Mabel Helen  263.0000       1\n",
      "118                           Baxter, Mr. Quigg Edmond  247.5208       1\n",
      "195                               Lurette, Miss. Elise  146.5208       1\n",
      "215                            Newell, Miss. Madeleine  113.2750       1\n",
      "258                                   Ward, Miss. Anna  512.3292       1\n",
      "268      Graham, Mrs. William Thompson (Edith Junkins)  153.4625       1\n",
      "269                             Bissette, Miss. Amelia  135.6333       1\n",
      "297                       Allison, Miss. Helen Loraine  151.5500       1\n",
      "299    Baxter, Mrs. James (Helene DeLaudeniere Chaput)  247.5208       1\n",
      "305                     Allison, Master. Hudson Trevor  151.5500       1\n",
      "306                            Fleming, Miss. Margaret  110.8833       1\n",
      "307  Penasco y Castellana, Mrs. Victor de Satode (M...  108.9000       1\n",
      "311                         Ryerson, Miss. Emily Borie  262.3750       1\n",
      "318                           Wick, Miss. Mary Natalie  164.8667       1\n",
      "319  Spedden, Mrs. Frederic Oakley (Margaretta Corn...  134.5000       1\n",
      "325                           Young, Miss. Marie Grice  135.6333       1\n",
      "332                          Graham, Mr. George Edward  153.4625       1\n",
      "334  Frauenthal, Mrs. Henry William (Clara Heinshei...  133.6500       1\n",
      "337                    Burns, Miss. Elizabeth Margaret  134.5000       1\n",
      "341                     Fortune, Miss. Alice Elizabeth  263.0000       1\n",
      "373                                Ringhini, Mr. Sante  135.6333       1\n",
      "377                          Widener, Mr. Harry Elkins  211.5000       1\n",
      "380                              Bidois, Miss. Rosalie  227.5250       1\n",
      "390                         Carter, Mr. William Ernest  120.0000       1\n",
      "393                             Newell, Miss. Marjorie  113.2750       1\n",
      "435                          Carter, Miss. Lucile Polk  120.0000       1\n",
      "438                                  Fortune, Mr. Mark  263.0000       1\n",
      "498    Allison, Mrs. Hudson J C (Bessie Waldo Daniels)  151.5500       1\n",
      "505         Penasco y Castellana, Mr. Victor de Satode  108.9000       1\n",
      "527                                 Farthing, Mr. John  221.7792       1\n",
      "537                                LeRoy, Miss. Bertha  106.4250       1\n",
      "544                         Douglas, Mr. Walter Donald  106.4250       1\n",
      "550                        Thayer, Mr. John Borland Jr  110.8833       1\n",
      "557                                Robbins, Mr. Victor  227.5250       1\n",
      "581  Thayer, Mrs. John Borland (Marian Longstreth M...  110.8833       1\n",
      "609                          Shutes, Miss. Elizabeth W  153.4625       1\n",
      "659                         Newell, Mr. Arthur Webster  113.2750       1\n",
      "660                      Frauenthal, Dr. Henry William  133.6500       1\n",
      "679                 Cardeza, Mr. Thomas Drake Martinez  512.3292       1\n",
      "689                  Madill, Miss. Georgette Alexandra  211.3375       1\n",
      "698                           Thayer, Mr. John Borland  110.8833       1\n",
      "700  Astor, Mrs. John Jacob (Madeleine Talmadge Force)  227.5250       1\n",
      "708                               Cleaver, Miss. Alice  151.5500       1\n",
      "716                      Endres, Miss. Caroline Louise  227.5250       1\n",
      "730                      Allen, Miss. Elisabeth Walton  211.3375       1\n",
      "737                             Lesurer, Mr. Gustave J  512.3292       1\n",
      "742              Ryerson, Miss. Susan Parker \"Suzette\"  262.3750       1\n",
      "763          Carter, Mrs. William Ernest (Lucile Polk)  120.0000       1\n",
      "779  Robert, Mrs. Edward Scott (Elisabeth Walton Mc...  211.3375       1\n",
      "802                Carter, Master. William Thornton II  120.0000       1\n",
      "856         Wick, Mrs. George Dennick (Mary Hitchcock)  164.8667       1\n"
     ]
    }
   ],
   "source": [
    "high_fare_passengers = df.loc[df[\"Fare\"] > 100, [\"Name\", \"Fare\", \"Pclass\"]]\n",
    "print(high_fare_passengers)"
   ]
  },
  {
   "cell_type": "markdown",
   "id": "eaf86cdf",
   "metadata": {},
   "source": [
    "Q4. Use `[]` bracket notation to select and display the 'Survived' column."
   ]
  },
  {
   "cell_type": "code",
   "execution_count": 10,
   "id": "4d413fba",
   "metadata": {},
   "outputs": [
    {
     "name": "stdout",
     "output_type": "stream",
     "text": [
      "0    0\n",
      "1    1\n",
      "2    1\n",
      "3    1\n",
      "4    0\n",
      "Name: Survived, dtype: int64\n"
     ]
    }
   ],
   "source": [
    "survived_column = df[\"Survived\"]\n",
    "print(survived_column.head())"
   ]
  },
  {
   "cell_type": "markdown",
   "id": "01cca53e",
   "metadata": {},
   "source": [
    "Q5. What’s the difference in the result between `df.loc[0:5]` and `df.iloc[0:5]`?\n",
    "\n",
    "**Answer:**\n",
    "\n",
    "- `df.loc[0:5]` selects **rows with labels/indexes from 0 to 5, inclusive**. It includes **both** the start and end indexes.\n",
    "- `df.iloc[0:5]` selects **rows by integer position from 0 up to but not including 5**. It includes **only** index positions 0 to 4."
   ]
  },
  {
   "cell_type": "code",
   "execution_count": 11,
   "id": "0cf355ec",
   "metadata": {},
   "outputs": [
    {
     "name": "stdout",
     "output_type": "stream",
     "text": [
      "   PassengerId  Survived  Pclass  \\\n",
      "0            1         0       3   \n",
      "1            2         1       1   \n",
      "2            3         1       3   \n",
      "3            4         1       1   \n",
      "4            5         0       3   \n",
      "5            6         0       3   \n",
      "\n",
      "                                                Name     Sex   Age  SibSp  \\\n",
      "0                            Braund, Mr. Owen Harris    male  22.0      1   \n",
      "1  Cumings, Mrs. John Bradley (Florence Briggs Th...  female  38.0      1   \n",
      "2                             Heikkinen, Miss. Laina  female  26.0      0   \n",
      "3       Futrelle, Mrs. Jacques Heath (Lily May Peel)  female  35.0      1   \n",
      "4                           Allen, Mr. William Henry    male  35.0      0   \n",
      "5                                   Moran, Mr. James    male   NaN      0   \n",
      "\n",
      "   Parch            Ticket     Fare Cabin Embarked  \n",
      "0      0         A/5 21171   7.2500   NaN        S  \n",
      "1      0          PC 17599  71.2833   C85        C  \n",
      "2      0  STON/O2. 3101282   7.9250   NaN        S  \n",
      "3      0            113803  53.1000  C123        S  \n",
      "4      0            373450   8.0500   NaN        S  \n",
      "5      0            330877   8.4583   NaN        Q  \n",
      "   PassengerId  Survived  Pclass  \\\n",
      "0            1         0       3   \n",
      "1            2         1       1   \n",
      "2            3         1       3   \n",
      "3            4         1       1   \n",
      "4            5         0       3   \n",
      "\n",
      "                                                Name     Sex   Age  SibSp  \\\n",
      "0                            Braund, Mr. Owen Harris    male  22.0      1   \n",
      "1  Cumings, Mrs. John Bradley (Florence Briggs Th...  female  38.0      1   \n",
      "2                             Heikkinen, Miss. Laina  female  26.0      0   \n",
      "3       Futrelle, Mrs. Jacques Heath (Lily May Peel)  female  35.0      1   \n",
      "4                           Allen, Mr. William Henry    male  35.0      0   \n",
      "\n",
      "   Parch            Ticket     Fare Cabin Embarked  \n",
      "0      0         A/5 21171   7.2500   NaN        S  \n",
      "1      0          PC 17599  71.2833   C85        C  \n",
      "2      0  STON/O2. 3101282   7.9250   NaN        S  \n",
      "3      0            113803  53.1000  C123        S  \n",
      "4      0            373450   8.0500   NaN        S  \n"
     ]
    }
   ],
   "source": [
    "print(df.loc[0:5])\n",
    "print(df.iloc[0:5])"
   ]
  },
  {
   "cell_type": "markdown",
   "id": "75d253da",
   "metadata": {},
   "source": [
    "### Summary\n",
    "\n",
    "Data selection is at the core of working with any dataset. Whether we're analyzing data, applying filters, or preparing it for machine learning, being able to select specific rows and columns is absolutely essential. In Pandas, we’re provided with multiple tools for this: bracket notation (`[]`), `.loc[]`, and `.iloc[]`.\n",
    "\n",
    "The simplest way to access columns is by using the bracket notation like `df['Name']`, which quickly returns a single column as a Series. We can even select multiple columns by wrapping them in a list. However, this method only works for columns — we can’t use it for rows.\n",
    "\n",
    "To access both rows and columns with full flexibility, we use `.loc[]` and `.iloc[]`. The `.loc[]` method allows label-based selection, meaning we select rows and columns by their index names or column names. This is particularly useful when we’ve set a custom index (like `PassengerId` or `Pclass`). It’s intuitive and powerful for real-world datasets.\n",
    "\n",
    "On the other hand, `.iloc[]` is position-based, like slicing in a Python list. It’s great for numerical slicing and when we don’t know the exact labels. A key thing to remember is that `.loc[]` includes the end index in a range, while `.iloc[]` excludes it (just like Python slicing).\n",
    "\n",
    "By mastering these techniques, we can navigate, filter, and manipulate datasets with confidence. In AI/ML projects, selecting the right data — whether it’s features or training subsets — is often the first step toward building smarter systems."
   ]
  }
 ],
 "metadata": {
  "kernelspec": {
   "display_name": "Venv",
   "language": "python",
   "name": "python3"
  },
  "language_info": {
   "codemirror_mode": {
    "name": "ipython",
    "version": 3
   },
   "file_extension": ".py",
   "mimetype": "text/x-python",
   "name": "python",
   "nbconvert_exporter": "python",
   "pygments_lexer": "ipython3",
   "version": "3.12.8"
  }
 },
 "nbformat": 4,
 "nbformat_minor": 5
}
