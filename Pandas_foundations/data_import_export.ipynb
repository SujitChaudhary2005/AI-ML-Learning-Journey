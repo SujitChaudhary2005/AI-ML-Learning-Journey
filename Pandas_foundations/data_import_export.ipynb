{
 "cells": [
  {
   "cell_type": "markdown",
   "id": "c5c67529",
   "metadata": {},
   "source": [
    "# Data Import/Export: CSV, Excel, JSON, SQL, and APIs in Pandas\n",
    "\n",
    "### What Is Data Import/Export?\n",
    "\n",
    "Real-world data doesn't always come as preloaded DataFrames. Most often, data is stored in external formats like CSVs, Excel files, JSON, SQL databases, or served through APIs. Being able to **read from** and **write to** these formats is crucial for any data pipeline.\n",
    "\n",
    "Pandas offers powerful built-in tools for importing/exporting all these file types with just one or two lines of code. Mastering this allows us to bring in raw datasets, clean and analyze them, and save our results efficiently.\n",
    "\n",
    "## Reading Data with Pandas\n",
    "\n",
    "1. **CSV Files** (Most common format)"
   ]
  },
  {
   "cell_type": "code",
   "execution_count": null,
   "id": "921446ea",
   "metadata": {},
   "outputs": [],
   "source": [
    "import pandas as pd\n",
    "\n",
    "df = pd.read_csv(\"data/train.csv\")  # Load Titanic data"
   ]
  },
  {
   "cell_type": "markdown",
   "id": "4a0033f8",
   "metadata": {},
   "source": [
    "Other options:"
   ]
  },
  {
   "cell_type": "code",
   "execution_count": null,
   "id": "a9702200",
   "metadata": {},
   "outputs": [],
   "source": [
    "pd.read_csv(\"data.csv\", delimiter=\";\", encoding=\"utf-8\", nrows=100)"
   ]
  },
  {
   "cell_type": "markdown",
   "id": "a2ed6646",
   "metadata": {},
   "source": [
    "2. **Excel Files**"
   ]
  },
  {
   "cell_type": "code",
   "execution_count": null,
   "id": "1f5d9303",
   "metadata": {},
   "outputs": [],
   "source": [
    "df_excel = pd.read_excel(\"data/titanic.xlsx\", sheet_name=\"Sheet1\")"
   ]
  },
  {
   "cell_type": "markdown",
   "id": "c77f63af",
   "metadata": {},
   "source": [
    "3. **JSON Files**"
   ]
  },
  {
   "cell_type": "code",
   "execution_count": null,
   "id": "19e90465",
   "metadata": {},
   "outputs": [],
   "source": [
    "df_json = pd.read_json(\"data/titanic.json\")"
   ]
  },
  {
   "cell_type": "markdown",
   "id": "82940269",
   "metadata": {},
   "source": [
    "For nested JSONs: `pd.json_normalize()` helps flatten them.\n",
    "\n",
    "4. **SQL Databases**"
   ]
  },
  {
   "cell_type": "code",
   "execution_count": null,
   "id": "1569bc30",
   "metadata": {},
   "outputs": [],
   "source": [
    "import sqlite3\n",
    "\n",
    "conn = sqlite3.connect(\"data/titanic.db\")\n",
    "df_sql = pd.read_sql_query(\"SELECT * FROM passengers\", conn)"
   ]
  },
  {
   "cell_type": "markdown",
   "id": "6b982ccd",
   "metadata": {},
   "source": [
    "5. **APIs (Web Data)**\n",
    "\n",
    "Use `requests` library to fetch data from web APIs:"
   ]
  },
  {
   "cell_type": "code",
   "execution_count": null,
   "id": "8ae8003f",
   "metadata": {},
   "outputs": [],
   "source": [
    "import requests\n",
    "\n",
    "response = requests.get(\"https://api.example.com/titanic\")\n",
    "data = response.json()\n",
    "df_api = pd.DataFrame(data)"
   ]
  },
  {
   "cell_type": "markdown",
   "id": "db69588d",
   "metadata": {},
   "source": [
    "## Exporting Data with Pandas\n",
    "\n",
    "1. **To CSV**"
   ]
  },
  {
   "cell_type": "code",
   "execution_count": null,
   "id": "f44b99ef",
   "metadata": {},
   "outputs": [],
   "source": [
    "df.to_csv(\"data/titanic_clean.csv\", index=False)"
   ]
  },
  {
   "cell_type": "markdown",
   "id": "9fe0b6c9",
   "metadata": {},
   "source": [
    "2. **To Excel**"
   ]
  },
  {
   "cell_type": "code",
   "execution_count": null,
   "id": "c29f2c5c",
   "metadata": {},
   "outputs": [],
   "source": [
    "df.to_excel(\"data/titanic_clean.xlsx\", index=False)"
   ]
  },
  {
   "cell_type": "markdown",
   "id": "7e856f21",
   "metadata": {},
   "source": [
    "3. **To JSON**"
   ]
  },
  {
   "cell_type": "code",
   "execution_count": null,
   "id": "dc8e10d1",
   "metadata": {},
   "outputs": [],
   "source": [
    "df.to_json(\"data/titanic_clean.json\", orient=\"records\")"
   ]
  },
  {
   "cell_type": "markdown",
   "id": "d5dfebd5",
   "metadata": {},
   "source": [
    "4. **To SQL**"
   ]
  },
  {
   "cell_type": "code",
   "execution_count": null,
   "id": "c1f3f7ef",
   "metadata": {},
   "outputs": [],
   "source": [
    "df.to_sql(\"clean_passengers\", conn, if_exists=\"replace\", index=False)"
   ]
  },
  {
   "cell_type": "markdown",
   "id": "b7845c71",
   "metadata": {},
   "source": [
    "## AI/ML Use Case: Data Sources for Modeling\n",
    "\n",
    "In machine learning workflows:\n",
    "\n",
    "- We may **ingest data from APIs**, public datasets, or databases.\n",
    "- Store **cleaned features into `.csv`/`.parquet`** for modeling.\n",
    "- Use `.to_sql()` for **tracking pipeline outputs**.\n",
    "- Export predictions or dashboards as `.xlsx` or `.json`.\n",
    "\n",
    "Good data I/O (input/output) handling makes our projects reproducible, shareable, and production-ready.\n",
    "\n",
    "## Exercises\n",
    "\n",
    "**Q1.** Load the Titanic CSV file into a DataFrame."
   ]
  },
  {
   "cell_type": "code",
   "execution_count": null,
   "id": "bfbf1bc0",
   "metadata": {},
   "outputs": [],
   "source": [
    "df = pd.read_csv(\"data/train.csv\")\n",
    "print(df.head())"
   ]
  },
  {
   "cell_type": "markdown",
   "id": "12a45e77",
   "metadata": {},
   "source": [
    "**Q2.** Export the top 100 rows to Excel."
   ]
  },
  {
   "cell_type": "code",
   "execution_count": null,
   "id": "78899145",
   "metadata": {},
   "outputs": [],
   "source": [
    "df.head(100).to_excel(\"data/top100.xlsx\", index=False)"
   ]
  },
  {
   "cell_type": "markdown",
   "id": "2f3dd5ad",
   "metadata": {},
   "source": [
    "**Q3.** Save a JSON file with selected columns."
   ]
  },
  {
   "cell_type": "code",
   "execution_count": null,
   "id": "fbda4c04",
   "metadata": {},
   "outputs": [],
   "source": [
    "df[['PassengerId', 'Name', 'Survived']].to_json(\"data/passengers.json\", orient=\"records\")"
   ]
  },
  {
   "cell_type": "markdown",
   "id": "98094b9a",
   "metadata": {},
   "source": [
    "**Q4.** Load mock SQL table and query passengers who survived."
   ]
  },
  {
   "cell_type": "code",
   "execution_count": null,
   "id": "924a4a39",
   "metadata": {},
   "outputs": [],
   "source": [
    "conn = sqlite3.connect(\"data/titanic.db\")\n",
    "df_survived = pd.read_sql_query(\"SELECT * FROM passengers WHERE Survived=1\", conn)"
   ]
  },
  {
   "cell_type": "markdown",
   "id": "05f6f43c",
   "metadata": {},
   "source": [
    "**Q5.** Load data from a public API and convert it into DataFrame."
   ]
  },
  {
   "cell_type": "code",
   "execution_count": null,
   "id": "07aec8d3",
   "metadata": {},
   "outputs": [],
   "source": [
    "response = requests.get(\"https://api.example.com/titanic\")\n",
    "df_api = pd.DataFrame(response.json())"
   ]
  },
  {
   "cell_type": "markdown",
   "id": "765e742e",
   "metadata": {},
   "source": [
    "## Summary\n",
    "\n",
    "Pandas makes importing and exporting data simple across all common formats — from local files like CSV and Excel to complex SQL databases and online APIs. This versatility enables seamless data ingestion, transformation, and sharing. Whether we're loading a dataset for analysis or saving ML model outputs, Pandas gives us precise control over file handling.\n",
    "\n",
    "Understanding `read_` and `to_` methods ensures our data workflows are **automated**, **scalable**, and **ready for production**. For machine learning and analytics, clean I/O is the bridge between raw data and meaningful insights. Always ensure our files are well-formatted and named clearly when saving — this keeps our pipeline reproducible and professional."
   ]
  }
 ],
 "metadata": {
  "language_info": {
   "name": "python"
  }
 },
 "nbformat": 4,
 "nbformat_minor": 5
}
