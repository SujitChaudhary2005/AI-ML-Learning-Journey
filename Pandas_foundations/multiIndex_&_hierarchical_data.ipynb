{
 "cells": [
  {
   "cell_type": "markdown",
   "id": "844e1243",
   "metadata": {},
   "source": [
    "# MultiIndex and Hierarchical Data in Pandas\n",
    "\n",
    "### What Is MultiIndex and Hierarchical Data?\n",
    "\n",
    "In many real-world datasets — especially those from **time series**, **grouped analyses**, or **pivot tables** — data is organized across **multiple levels of indexing**. This is called a **MultiIndex**, and it allows Pandas to represent and manipulate **hierarchical data** efficiently.\n",
    "\n",
    "Instead of a single column as the row index, a **MultiIndex** can have two or more levels — for example, grouping data by both `Pclass` and `Sex`. This structure enables more complex, grouped operations, elegant reshaping, and more readable outputs when working with grouped data summaries.\n",
    "\n",
    "### Example Setup: Group Titanic Passengers by Class and Sex\n",
    "\n",
    "We'll use Titanic dataset columns like `Pclass`, `Sex`, and `Survived` to demonstrate a MultiIndex."
   ]
  },
  {
   "cell_type": "code",
   "execution_count": 1,
   "id": "3b36eb4b",
   "metadata": {},
   "outputs": [
    {
     "name": "stdout",
     "output_type": "stream",
     "text": [
      "               count  sum      mean\n",
      "Pclass Sex                         \n",
      "1      female     94   91  0.968085\n",
      "       male      122   45  0.368852\n",
      "2      female     76   70  0.921053\n",
      "       male      108   17  0.157407\n",
      "3      female    144   72  0.500000\n",
      "       male      347   47  0.135447\n"
     ]
    }
   ],
   "source": [
    "import pandas as pd\n",
    "\n",
    "df = pd.read_csv(\"data/train.csv\")\n",
    "grouped = df.groupby(['Pclass', 'Sex'])['Survived'].agg(['count', 'sum', 'mean'])\n",
    "print(grouped)"
   ]
  },
  {
   "cell_type": "markdown",
   "id": "499e36c9",
   "metadata": {},
   "source": [
    "Here, both `Pclass` and `Sex` are used as **row indexes**, creating a **MultiIndex**. We can think of this as a tree-like structure: first level `Pclass`, then nested `Sex`.\n",
    "\n",
    "### Why Use MultiIndex?\n",
    "\n",
    "MultiIndexes are useful when:\n",
    "\n",
    "- We want to analyze data across **two or more dimensions**.\n",
    "- We want to create **pivot-like structures** but still maintain a DataFrame.\n",
    "- We want to **reshape** data between long and wide forms.\n",
    "- We’re dealing with **hierarchical categories** (e.g., Year → Month → Day).\n",
    "\n",
    "### Key Operations with MultiIndex\n",
    "\n",
    "1. Creating a MultiIndex with `.groupby()`\n",
    "    \n",
    "As seen above, using `.groupby(['col1', 'col2'])` creates a MultiIndex in the result:"
   ]
  },
  {
   "cell_type": "code",
   "execution_count": 2,
   "id": "b895b259",
   "metadata": {},
   "outputs": [
    {
     "name": "stdout",
     "output_type": "stream",
     "text": [
      "Pclass  Sex   \n",
      "1       female    0.968085\n",
      "        male      0.368852\n",
      "2       female    0.921053\n",
      "        male      0.157407\n",
      "3       female    0.500000\n",
      "        male      0.135447\n",
      "Name: Survived, dtype: float64\n"
     ]
    }
   ],
   "source": [
    "grouped = df.groupby(['Pclass', 'Sex'])['Survived'].mean()\n",
    "print(grouped)"
   ]
  },
  {
   "cell_type": "markdown",
   "id": "bcb91961",
   "metadata": {},
   "source": [
    "2. Accessing Values in a MultiIndex\n",
    "    \n",
    "We can access values by **tuple indexing**:"
   ]
  },
  {
   "cell_type": "code",
   "execution_count": 3,
   "id": "faae8e0f",
   "metadata": {},
   "outputs": [
    {
     "name": "stdout",
     "output_type": "stream",
     "text": [
      "0.9680851063829787\n"
     ]
    }
   ],
   "source": [
    "print(grouped.loc[(1, 'female')])  # Mean survival of 1st class females"
   ]
  },
  {
   "cell_type": "markdown",
   "id": "546f2456",
   "metadata": {},
   "source": [
    "3. Resetting the Index\n",
    "\n",
    "Convert MultiIndex back to flat DataFrame with `.reset_index()`:"
   ]
  },
  {
   "cell_type": "code",
   "execution_count": 4,
   "id": "44af11b8",
   "metadata": {},
   "outputs": [
    {
     "name": "stdout",
     "output_type": "stream",
     "text": [
      "   Pclass     Sex  Survived\n",
      "0       1  female  0.968085\n",
      "1       1    male  0.368852\n",
      "2       2  female  0.921053\n",
      "3       2    male  0.157407\n",
      "4       3  female  0.500000\n"
     ]
    }
   ],
   "source": [
    "flat_df = grouped.reset_index()\n",
    "print(flat_df.head())"
   ]
  },
  {
   "cell_type": "markdown",
   "id": "4eda8429",
   "metadata": {},
   "source": [
    "4. Unstacking and Pivoting Levels\n",
    "\n",
    "We can convert one level of index into columns using `.unstack()`:"
   ]
  },
  {
   "cell_type": "code",
   "execution_count": 5,
   "id": "504c9deb",
   "metadata": {},
   "outputs": [
    {
     "name": "stdout",
     "output_type": "stream",
     "text": [
      "Sex       female      male\n",
      "Pclass                    \n",
      "1       0.968085  0.368852\n",
      "2       0.921053  0.157407\n",
      "3       0.500000  0.135447\n"
     ]
    }
   ],
   "source": [
    "unstacked = grouped.unstack()  # Moves 'Sex' from index to columns\n",
    "print(unstacked)"
   ]
  },
  {
   "cell_type": "markdown",
   "id": "42567d7f",
   "metadata": {},
   "source": [
    "This is great for comparison between categories.\n",
    "\n",
    "5. Stack Back to MultiIndex\n",
    "\n",
    "Reverse `.unstack()` using `.stack()`:"
   ]
  },
  {
   "cell_type": "code",
   "execution_count": 6,
   "id": "7e7d2677",
   "metadata": {},
   "outputs": [
    {
     "name": "stdout",
     "output_type": "stream",
     "text": [
      "Pclass  Sex   \n",
      "1       female    0.968085\n",
      "        male      0.368852\n",
      "2       female    0.921053\n",
      "        male      0.157407\n",
      "3       female    0.500000\n",
      "dtype: float64\n"
     ]
    }
   ],
   "source": [
    "restacked = unstacked.stack()\n",
    "print(restacked.head())"
   ]
  },
  {
   "cell_type": "markdown",
   "id": "9a6f42b3",
   "metadata": {},
   "source": [
    "6. Swapping Index Levels"
   ]
  },
  {
   "cell_type": "code",
   "execution_count": 7,
   "id": "d2c4d8af",
   "metadata": {},
   "outputs": [
    {
     "name": "stdout",
     "output_type": "stream",
     "text": [
      "Sex     Pclass\n",
      "female  1         0.968085\n",
      "male    1         0.368852\n",
      "female  2         0.921053\n",
      "male    2         0.157407\n",
      "female  3         0.500000\n",
      "Name: Survived, dtype: float64\n"
     ]
    }
   ],
   "source": [
    "swapped = grouped.swaplevel()\n",
    "print(swapped.head())"
   ]
  },
  {
   "cell_type": "markdown",
   "id": "4fec9ff4",
   "metadata": {},
   "source": [
    "7. Sorting a MultiIndex\n",
    "\n",
    "Always sort a MultiIndex with `.sort_index()` to prevent confusion:"
   ]
  },
  {
   "cell_type": "code",
   "execution_count": 8,
   "id": "f2a8fe30",
   "metadata": {},
   "outputs": [
    {
     "name": "stdout",
     "output_type": "stream",
     "text": [
      "Pclass  Sex   \n",
      "1       female    0.968085\n",
      "        male      0.368852\n",
      "2       female    0.921053\n",
      "        male      0.157407\n",
      "3       female    0.500000\n",
      "Name: Survived, dtype: float64\n"
     ]
    }
   ],
   "source": [
    "sorted_group = grouped.sort_index()\n",
    "print(sorted_group.head())"
   ]
  },
  {
   "cell_type": "markdown",
   "id": "38e9dc37",
   "metadata": {},
   "source": [
    "### AI/ML Use Case: Hierarchical Feature Extraction\n",
    "\n",
    "Hierarchical indexing can help:\n",
    "\n",
    "- Analyze **nested categories** (e.g., Class → Gender → Survival).\n",
    "- Build **complex aggregation pipelines** for feature engineering.\n",
    "- Structure **multi-level time series** (e.g., user → session → timestamp).\n",
    "- Represent **panel data** or **multi-series forecasting datasets**.\n",
    "\n",
    "For example, in a Titanic ML pipeline:\n",
    "\n",
    "- Use group-level survival rates (`Pclass`, `Sex`) as new features.\n",
    "- Pivot MultiIndex into columns to prepare wide-format datasets.\n",
    "\n",
    "### Exercises\n",
    "\n",
    "Q1. Group by `Pclass` and `Embarked`, get survival rate"
   ]
  },
  {
   "cell_type": "code",
   "execution_count": 9,
   "id": "88a5f92c",
   "metadata": {},
   "outputs": [
    {
     "name": "stdout",
     "output_type": "stream",
     "text": [
      "   Pclass     Sex  Survived\n",
      "0       1  female  0.968085\n",
      "1       1    male  0.368852\n",
      "2       2  female  0.921053\n",
      "3       2    male  0.157407\n",
      "4       3  female  0.500000\n"
     ]
    }
   ],
   "source": [
    "flat_df = grouped.reset_index()\n",
    "print(flat_df.head())"
   ]
  },
  {
   "cell_type": "markdown",
   "id": "e90e3bf2",
   "metadata": {},
   "source": [
    "Q2. Convert that MultiIndex result into a flat DataFrame"
   ]
  },
  {
   "cell_type": "code",
   "execution_count": 10,
   "id": "5c88fd19",
   "metadata": {},
   "outputs": [
    {
     "name": "stdout",
     "output_type": "stream",
     "text": [
      "   Pclass     Sex  Survived\n",
      "0       1  female  0.968085\n",
      "1       1    male  0.368852\n",
      "2       2  female  0.921053\n",
      "3       2    male  0.157407\n",
      "4       3  female  0.500000\n"
     ]
    }
   ],
   "source": [
    "flat_df = grouped.reset_index()\n",
    "print(flat_df.head())"
   ]
  },
  {
   "cell_type": "markdown",
   "id": "1f15cab9",
   "metadata": {},
   "source": [
    "Q3. Unstack the `Embarked` level"
   ]
  },
  {
   "cell_type": "code",
   "execution_count": 11,
   "id": "a407ed30",
   "metadata": {},
   "outputs": [
    {
     "name": "stdout",
     "output_type": "stream",
     "text": [
      "Sex       female      male\n",
      "Pclass                    \n",
      "1       0.968085  0.368852\n",
      "2       0.921053  0.157407\n",
      "3       0.500000  0.135447\n"
     ]
    }
   ],
   "source": [
    "unstacked = grouped.unstack()\n",
    "print(unstacked)"
   ]
  },
  {
   "cell_type": "markdown",
   "id": "fe8c7c4c",
   "metadata": {},
   "source": [
    "Q4. Access survival rate for 3rd class passengers who embarked from \"S”"
   ]
  },
  {
   "cell_type": "code",
   "execution_count": 12,
   "id": "ac761e5d",
   "metadata": {},
   "outputs": [
    {
     "name": "stdout",
     "output_type": "stream",
     "text": [
      "0.18980169971671387\n"
     ]
    }
   ],
   "source": [
    "# Group by Pclass and Embarked to get the mean survival rate\n",
    "grouped_embarked = df.groupby(['Pclass', 'Embarked'])['Survived'].mean()\n",
    "print(grouped_embarked.loc[(3, 'S')])"
   ]
  },
  {
   "cell_type": "markdown",
   "id": "a9873d91",
   "metadata": {},
   "source": [
    "Q5. Sort the MultiIndex by both levels"
   ]
  },
  {
   "cell_type": "code",
   "execution_count": 13,
   "id": "f172fd28",
   "metadata": {},
   "outputs": [
    {
     "name": "stdout",
     "output_type": "stream",
     "text": [
      "Pclass  Sex   \n",
      "1       female    0.968085\n",
      "        male      0.368852\n",
      "2       female    0.921053\n",
      "        male      0.157407\n",
      "3       female    0.500000\n",
      "        male      0.135447\n",
      "Name: Survived, dtype: float64\n"
     ]
    }
   ],
   "source": [
    "sorted_group = grouped.sort_index()\n",
    "print(sorted_group)"
   ]
  },
  {
   "cell_type": "markdown",
   "id": "2bbb1a37",
   "metadata": {},
   "source": [
    "### Summary\n",
    "\n",
    "MultiIndexing in Pandas allows data scientists to represent and work with **hierarchically structured data** across multiple dimensions — such as `Pclass` and `Sex`, or `Date` and `City`. While flat tables are easy to view, real-world data often contains nested relationships. MultiIndex provides a **clean and powerful way to analyze such datasets** without needing complex joins or data duplication.\n",
    "\n",
    "By using methods like `.groupby()`, `.unstack()`, `.stack()`, `.swaplevel()`, and `.reset_index()`, we can easily **navigate between long and wide formats**. This flexibility is especially important in **machine learning workflows**, where feature engineering may involve aggregate statistics at group levels. MultiIndex also simplifies **multi-time-series**, **panel data**, and **deeply nested categories** in industries like finance, healthcare, and customer analytics.\n",
    "\n",
    "In summary, mastering MultiIndex allows us to explore our data across layers, perform advanced grouped operations, and prepare our datasets efficiently for modeling and visualization. It bridges the gap between structured tables and real-world hierarchical relationships."
   ]
  }
 ],
 "metadata": {
  "kernelspec": {
   "display_name": "Venv",
   "language": "python",
   "name": "python3"
  },
  "language_info": {
   "codemirror_mode": {
    "name": "ipython",
    "version": 3
   },
   "file_extension": ".py",
   "mimetype": "text/x-python",
   "name": "python",
   "nbconvert_exporter": "python",
   "pygments_lexer": "ipython3",
   "version": "3.12.8"
  }
 },
 "nbformat": 4,
 "nbformat_minor": 5
}
