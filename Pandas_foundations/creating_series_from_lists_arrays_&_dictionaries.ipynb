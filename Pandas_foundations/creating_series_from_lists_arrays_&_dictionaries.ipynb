{
 "cells": [
  {
   "cell_type": "markdown",
   "id": "f75fe9a4",
   "metadata": {},
   "source": [
    "# Creating Series: From Lists, Arrays, and Dictionaries\n",
    "\n",
    "### What is a Pandas Series?\n",
    "\n",
    "A **Pandas Series** is a **one-dimensional labeled array** capable of holding any data type — integers, floats, strings, or even Python objects. It’s similar to a column in a spreadsheet or database table, but with more power. Think of it like a mix between a NumPy array (for performance and calculations) and a Python dictionary (because of the labels or index).\n",
    "\n",
    "In data analysis and machine learning, we often deal with columns of data — for example, just the \"Age\" or \"Fare\" of Titanic passengers. A Pandas Series gives us a simple and powerful way to manage and manipulate such single-column data. Every Series object has two main parts:\n",
    "\n",
    "- **The values** (the actual data)\n",
    "- **The index** (labels that help identify each value)\n",
    "\n",
    "This makes it easy to retrieve, filter, and operate on specific elements — whether by position or label.\n",
    "\n",
    "### Why Do We Use Series?\n",
    "\n",
    "We use Series in almost every step of data preparation, feature engineering, and model input/output. Here’s why:\n",
    "\n",
    "- We can easily access a single column from a DataFrame — and that’s a Series.\n",
    "- We can build new columns or filtered data by starting with a Series.\n",
    "- It supports fast mathematical operations — no need for slow loops.\n",
    "- It retains labels (index), which makes our operations readable and trackable.\n",
    "- It integrates well with NumPy and other ML libraries.\n",
    "\n",
    "As we go deeper into Pandas, we’ll see Series being used everywhere — in selections, in groupings, in plots, and even in machine learning features.\n",
    "\n",
    "### Creating Series – Different Methods\n",
    "\n",
    "1. **Creating a Series from a Python List**"
   ]
  },
  {
   "cell_type": "code",
   "execution_count": 1,
   "id": "8ddbd5f8",
   "metadata": {},
   "outputs": [
    {
     "name": "stdout",
     "output_type": "stream",
     "text": [
      "0    10\n",
      "1    20\n",
      "2    30\n",
      "3    40\n",
      "dtype: int64\n"
     ]
    }
   ],
   "source": [
    "import pandas as pd\n",
    "    \n",
    "data = [10, 20, 30, 40]\n",
    "series = pd.Series(data)\n",
    "print(series)"
   ]
  },
  {
   "cell_type": "markdown",
   "id": "9336e407",
   "metadata": {},
   "source": [
    "This creates a Series with default integer index starting from 0."
   ]
  },
  {
   "cell_type": "markdown",
   "id": "008860ec",
   "metadata": {},
   "source": [
    "2. **Creating a Series with Custom Index**\n",
    "    \n",
    "    We can give meaningful labels to our data."
   ]
  },
  {
   "cell_type": "code",
   "execution_count": 2,
   "id": "ffa5b664",
   "metadata": {},
   "outputs": [
    {
     "name": "stdout",
     "output_type": "stream",
     "text": [
      "math       85\n",
      "science    90\n",
      "history    75\n",
      "english    80\n",
      "dtype: int64\n"
     ]
    }
   ],
   "source": [
    "labels = ['math', 'science', 'history', 'english']\n",
    "marks = [85, 90, 75, 80]\n",
    "    \n",
    "series = pd.Series(marks, index=labels)\n",
    "print(series)"
   ]
  },
  {
   "cell_type": "markdown",
   "id": "0ae20ec7",
   "metadata": {},
   "source": [
    "This is more readable and helpful, especially in real-world datasets.\n",
    "    \n",
    "3. **Creating a Series from a Dictionary**\n",
    "    \n",
    "    Dictionaries already have key-value pairs, so they map perfectly to index-value in Series."
   ]
  },
  {
   "cell_type": "code",
   "execution_count": 3,
   "id": "df18e120",
   "metadata": {},
   "outputs": [
    {
     "name": "stdout",
     "output_type": "stream",
     "text": [
      "a    100\n",
      "b    200\n",
      "c    300\n",
      "dtype: int64\n"
     ]
    }
   ],
   "source": [
    "data = {'a': 100, 'b': 200, 'c': 300}\n",
    "series = pd.Series(data)\n",
    "print(series)"
   ]
  },
  {
   "cell_type": "markdown",
   "id": "3e3a836e",
   "metadata": {},
   "source": [
    "4. **Creating a Series from a NumPy Array**\n",
    "    \n",
    "    If we already have numeric data in a NumPy array, we can turn it into a Series."
   ]
  },
  {
   "cell_type": "code",
   "execution_count": 4,
   "id": "3176fa11",
   "metadata": {},
   "outputs": [
    {
     "name": "stdout",
     "output_type": "stream",
     "text": [
      "x    1.1\n",
      "y    2.2\n",
      "z    3.3\n",
      "dtype: float64\n"
     ]
    }
   ],
   "source": [
    "import numpy as np\n",
    "    \n",
    "arr = np.array([1.1, 2.2, 3.3])\n",
    "labels = ['x', 'y', 'z']\n",
    "series = pd.Series(arr, index=labels)\n",
    "print(series)"
   ]
  },
  {
   "cell_type": "markdown",
   "id": "b4a10df9",
   "metadata": {},
   "source": [
    "5. **Creating an Empty Series (with default dtype)**"
   ]
  },
  {
   "cell_type": "code",
   "execution_count": 5,
   "id": "15368df5",
   "metadata": {},
   "outputs": [
    {
     "name": "stdout",
     "output_type": "stream",
     "text": [
      "Series([], dtype: float64)\n"
     ]
    }
   ],
   "source": [
    "empty_series = pd.Series(dtype='float64')\n",
    "print(empty_series)"
   ]
  },
  {
   "cell_type": "markdown",
   "id": "088b756a",
   "metadata": {},
   "source": [
    "This is useful when we want to build a Series gradually or define a schema.\n",
    "    \n",
    "\n",
    "### Operations on Series\n",
    "\n",
    "Pandas Series supports vectorized operations. This means we can apply operations on the whole series at once."
   ]
  },
  {
   "cell_type": "code",
   "execution_count": 6,
   "id": "a109d5c0",
   "metadata": {},
   "outputs": [
    {
     "name": "stdout",
     "output_type": "stream",
     "text": [
      "0    2\n",
      "1    3\n",
      "2    4\n",
      "dtype: int64\n",
      "0    10\n",
      "1    20\n",
      "2    30\n",
      "dtype: int64\n"
     ]
    }
   ],
   "source": [
    "s = pd.Series([1, 2, 3])\n",
    "print(s + 1)       # Add 1 to each element\n",
    "print(s * 10)      # Multiply each element by 10"
   ]
  },
  {
   "cell_type": "markdown",
   "id": "4ec0034d",
   "metadata": {},
   "source": [
    "We can also apply functions like `sum()`, `mean()`, and more.\n",
    "\n",
    "### Exercises\n",
    "\n",
    "Q1. Create a Series of 5 favorite movies using custom labels like \"first\", \"second\", etc."
   ]
  },
  {
   "cell_type": "code",
   "execution_count": 7,
   "id": "e6be69c0",
   "metadata": {},
   "outputs": [
    {
     "name": "stdout",
     "output_type": "stream",
     "text": [
      "first        Interstellar\n",
      "second          Inception\n",
      "third     The Dark Knight\n",
      "fourth     Shutter Island\n",
      "fifth          Fight Club\n",
      "dtype: object\n"
     ]
    }
   ],
   "source": [
    "movies = [\"Interstellar\", \"Inception\", \"The Dark Knight\", \"Shutter Island\", \"Fight Club\"]\n",
    "labels = [\"first\", \"second\", \"third\", \"fourth\", \"fifth\"]\n",
    "\n",
    "fav_movies = pd.Series(movies, index=labels)\n",
    "print(fav_movies)"
   ]
  },
  {
   "cell_type": "markdown",
   "id": "2159ee17",
   "metadata": {},
   "source": [
    "Q2. Build a Series from a dictionary where keys are country names and values are populations."
   ]
  },
  {
   "cell_type": "code",
   "execution_count": 8,
   "id": "233884a3",
   "metadata": {},
   "outputs": [
    {
     "name": "stdout",
     "output_type": "stream",
     "text": [
      "India      1400000000\n",
      "Nepal        30000000\n",
      "USA         331000000\n",
      "Japan       125000000\n",
      "Germany      83000000\n",
      "dtype: int64\n"
     ]
    }
   ],
   "source": [
    "population_dict = {\n",
    "    \"India\": 1400000000,\n",
    "    \"Nepal\": 30000000,\n",
    "    \"USA\": 331000000,\n",
    "    \"Japan\": 125000000,\n",
    "    \"Germany\": 83000000\n",
    "}\n",
    "\n",
    "population_series = pd.Series(population_dict)\n",
    "print(population_series)"
   ]
  },
  {
   "cell_type": "markdown",
   "id": "ebcd46b3",
   "metadata": {},
   "source": [
    "Q3. Use a Series to store 4 prices, then increase all prices by 15% using vectorized math."
   ]
  },
  {
   "cell_type": "code",
   "execution_count": 9,
   "id": "5dfe8b68",
   "metadata": {},
   "outputs": [
    {
     "name": "stdout",
     "output_type": "stream",
     "text": [
      "0    115.0\n",
      "1    287.5\n",
      "2    391.0\n",
      "3     92.0\n",
      "dtype: float64\n"
     ]
    }
   ],
   "source": [
    "prices = pd.Series([100, 250, 340, 80])\n",
    "increased_prices = prices * 1.15\n",
    "print(increased_prices)"
   ]
  },
  {
   "cell_type": "markdown",
   "id": "9b73bc7d",
   "metadata": {},
   "source": [
    "Q4. Create a Series from a NumPy array and multiply each value by 3."
   ]
  },
  {
   "cell_type": "code",
   "execution_count": 10,
   "id": "d490fe3b",
   "metadata": {},
   "outputs": [
    {
     "name": "stdout",
     "output_type": "stream",
     "text": [
      "0     30\n",
      "1     60\n",
      "2     90\n",
      "3    120\n",
      "dtype: int64\n"
     ]
    }
   ],
   "source": [
    "arr = np.array([10, 20, 30, 40])\n",
    "series = pd.Series(arr)\n",
    "tripled = series * 3\n",
    "print(tripled)"
   ]
  },
  {
   "cell_type": "markdown",
   "id": "d7230bad",
   "metadata": {},
   "source": [
    "### Summary\n",
    "\n",
    "Understanding and mastering Pandas Series is essential for building a solid data foundation. The Series is the basic building block of Pandas. It represents a **single column of labeled data**, with efficient support for indexing, filtering, and vectorized calculations. Internally, it is built on top of NumPy arrays, so it inherits the speed and flexibility of NumPy while adding the extra power of labeled indexes.\n",
    "\n",
    "A Series behaves like a **hybrid of a list, array, and dictionary**. It supports slicing and indexing like lists, performs fast numeric operations like arrays, and uses key-based access like dictionaries. This combination makes it perfect for real-world datasets where we need both speed and meaning behind data entries.\n",
    "\n",
    "We can create Series from a variety of sources: Python lists, dictionaries, and NumPy arrays. When we use a list, Pandas assigns default integer indices. If we provide our own index (like labels or category names), it becomes more readable and more useful. Creating a Series from a dictionary allows us to directly map keys to values, making it ideal for summary statistics or lookup tables.\n",
    "\n",
    "Series are especially useful when working with one column at a time — for example, selecting the \"Age\" column from a DataFrame. They also let us perform calculations, apply functions, and handle missing values efficiently.\n",
    "\n",
    "As we move ahead to more complex data structures like DataFrames, understanding Series will help us a lot — because every column in a DataFrame **is a Series**. Once we’re confident with Series, we’ll be more comfortable with slicing, filtering, and transforming data column-wise across entire tables."
   ]
  }
 ],
 "metadata": {
  "kernelspec": {
   "display_name": "Venv",
   "language": "python",
   "name": "python3"
  },
  "language_info": {
   "codemirror_mode": {
    "name": "ipython",
    "version": 3
   },
   "file_extension": ".py",
   "mimetype": "text/x-python",
   "name": "python",
   "nbconvert_exporter": "python",
   "pygments_lexer": "ipython3",
   "version": "3.12.8"
  }
 },
 "nbformat": 4,
 "nbformat_minor": 5
}
