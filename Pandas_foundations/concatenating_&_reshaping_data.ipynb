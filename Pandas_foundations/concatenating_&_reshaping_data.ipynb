{
 "cells": [
  {
   "cell_type": "markdown",
   "id": "5427f0e9",
   "metadata": {},
   "source": [
    "# Concatenating and Reshaping Data in Pandas\n",
    "\n",
    "### What Is Concatenation and Reshaping?\n",
    "\n",
    "In real-world data pipelines, we often need to **combine datasets vertically or horizontally** (concatenation), or **restructure them** from wide-to-long or long-to-wide formats (reshaping). These operations are essential when:\n",
    "\n",
    "- You split data for processing and want to recombine later\n",
    "- Data is stored across multiple files or tables\n",
    "- You need to convert group-wise data into structured formats for ML\n",
    "\n",
    "Pandas provides powerful tools like:\n",
    "\n",
    "- `pd.concat()` — for **combining** DataFrames along rows or columns\n",
    "- `.melt()` and `.pivot()` — for **reshaping** between long and wide formats\n",
    "- `.stack()` and `.unstack()` — for **hierarchical reshaping**\n",
    "\n",
    "We'll use the Titanic dataset to explore these operations.\n",
    "\n",
    "### 1. Concatenation Using `pd.concat()`\n",
    "\n",
    "Combine Two DataFrames Vertically (Row-wise)"
   ]
  },
  {
   "cell_type": "code",
   "execution_count": 1,
   "id": "85a7ca96",
   "metadata": {},
   "outputs": [
    {
     "name": "stdout",
     "output_type": "stream",
     "text": [
      "   PassengerId                                               Name\n",
      "0            1                            Braund, Mr. Owen Harris\n",
      "1            2  Cumings, Mrs. John Bradley (Florence Briggs Th...\n",
      "2            3                             Heikkinen, Miss. Laina\n",
      "3            4       Futrelle, Mrs. Jacques Heath (Lily May Peel)\n",
      "4            5                           Allen, Mr. William Henry\n",
      "5            6                                   Moran, Mr. James\n"
     ]
    }
   ],
   "source": [
    "import pandas as pd\n",
    "\n",
    "df = pd.read_csv(\"data/train.csv\")\n",
    "df1 = pd.read_csv(\"data/train.csv\").iloc[:3]\n",
    "df2 = pd.read_csv(\"data/train.csv\").iloc[3:6]\n",
    "\n",
    "df_row_concat = pd.concat([df1, df2], axis=0)\n",
    "print(df_row_concat[['PassengerId', 'Name']])"
   ]
  },
  {
   "cell_type": "markdown",
   "id": "0eb9b424",
   "metadata": {},
   "source": [
    "- `axis=0` means vertical stacking\n",
    "- Indexes are **not reset automatically** unless specified\n",
    "\n",
    "Combine Two DataFrames Horizontally (Column-wise)\n"
   ]
  },
  {
   "cell_type": "code",
   "execution_count": 2,
   "id": "6cfab0ae",
   "metadata": {},
   "outputs": [
    {
     "name": "stdout",
     "output_type": "stream",
     "text": [
      "   PassengerId                                               Name     Sex  \\\n",
      "0            1                            Braund, Mr. Owen Harris    male   \n",
      "1            2  Cumings, Mrs. John Bradley (Florence Briggs Th...  female   \n",
      "2            3                             Heikkinen, Miss. Laina  female   \n",
      "3            4       Futrelle, Mrs. Jacques Heath (Lily May Peel)  female   \n",
      "4            5                           Allen, Mr. William Henry    male   \n",
      "\n",
      "    Age  \n",
      "0  22.0  \n",
      "1  38.0  \n",
      "2  26.0  \n",
      "3  35.0  \n",
      "4  35.0  \n"
     ]
    }
   ],
   "source": [
    "df1 = pd.read_csv(\"data/train.csv\")[['PassengerId', 'Name']]\n",
    "df2 = pd.read_csv(\"data/train.csv\")[['Sex', 'Age']]\n",
    "\n",
    "df_col_concat = pd.concat([df1, df2], axis=1)\n",
    "print(df_col_concat.head())"
   ]
  },
  {
   "cell_type": "markdown",
   "id": "d33ba532",
   "metadata": {},
   "source": [
    "Resetting Index After Concat"
   ]
  },
  {
   "cell_type": "code",
   "execution_count": 3,
   "id": "98f0503c",
   "metadata": {},
   "outputs": [
    {
     "name": "stdout",
     "output_type": "stream",
     "text": [
      "   PassengerId                                               Name  Sex  Age\n",
      "0          1.0                            Braund, Mr. Owen Harris  NaN  NaN\n",
      "1          2.0  Cumings, Mrs. John Bradley (Florence Briggs Th...  NaN  NaN\n",
      "2          3.0                             Heikkinen, Miss. Laina  NaN  NaN\n",
      "3          4.0       Futrelle, Mrs. Jacques Heath (Lily May Peel)  NaN  NaN\n",
      "4          5.0                           Allen, Mr. William Henry  NaN  NaN\n"
     ]
    }
   ],
   "source": [
    "df_concat_reset = pd.concat([df1, df2], axis=0).reset_index(drop=True)\n",
    "print(df_concat_reset.head())"
   ]
  },
  {
   "cell_type": "markdown",
   "id": "041be46c",
   "metadata": {},
   "source": [
    "### 2. Reshaping with `melt()`: Wide → Long\n",
    "\n",
    "Convert columns into rows — useful for time series or stacked observations."
   ]
  },
  {
   "cell_type": "code",
   "execution_count": 4,
   "id": "994f8531",
   "metadata": {},
   "outputs": [
    {
     "name": "stdout",
     "output_type": "stream",
     "text": [
      "   PassengerId Relation  Count\n",
      "0            1    SibSp      1\n",
      "1            2    SibSp      1\n",
      "2            3    SibSp      0\n",
      "3            4    SibSp      1\n",
      "4            5    SibSp      0\n"
     ]
    }
   ],
   "source": [
    "df_sample = df[['PassengerId', 'SibSp', 'Parch']].head()\n",
    "\n",
    "df_melted = pd.melt(df_sample, id_vars='PassengerId', var_name='Relation', value_name='Count')\n",
    "print(df_melted.head())"
   ]
  },
  {
   "cell_type": "markdown",
   "id": "63158027",
   "metadata": {},
   "source": [
    "- `id_vars`: columns to keep fixed\n",
    "- Other columns are unpivoted into two columns (`Relation`, `Count`)\n",
    "\n",
    "### 3. Reshaping with `pivot()`: Long → Wide\n",
    "\n",
    "Reverse of melt — convert a long table into a wide format."
   ]
  },
  {
   "cell_type": "code",
   "execution_count": 5,
   "id": "6888a5e1",
   "metadata": {},
   "outputs": [
    {
     "name": "stdout",
     "output_type": "stream",
     "text": [
      "Relation     Parch  SibSp\n",
      "PassengerId              \n",
      "1                0      1\n",
      "2                0      1\n",
      "3                0      0\n",
      "4                0      1\n",
      "5                0      0\n"
     ]
    }
   ],
   "source": [
    "pivoted = df_melted.pivot(index='PassengerId', columns='Relation', values='Count')\n",
    "print(pivoted.head())"
   ]
  },
  {
   "cell_type": "markdown",
   "id": "ff45ff3b",
   "metadata": {},
   "source": [
    "### 4. Stack & Unstack for MultiIndex Reshaping\n",
    "\n",
    "Stack: Columns → Index"
   ]
  },
  {
   "cell_type": "code",
   "execution_count": 6,
   "id": "01421764",
   "metadata": {},
   "outputs": [
    {
     "name": "stdout",
     "output_type": "stream",
     "text": [
      "PassengerId  Relation\n",
      "1            Parch       0\n",
      "             SibSp       1\n",
      "2            Parch       0\n",
      "             SibSp       1\n",
      "3            Parch       0\n",
      "dtype: int64\n"
     ]
    }
   ],
   "source": [
    "stacked = pivoted.stack()\n",
    "print(stacked.head())"
   ]
  },
  {
   "cell_type": "markdown",
   "id": "44b482bb",
   "metadata": {},
   "source": [
    "Unstack: Index → Columns"
   ]
  },
  {
   "cell_type": "code",
   "execution_count": 7,
   "id": "b4ec7010",
   "metadata": {},
   "outputs": [
    {
     "name": "stdout",
     "output_type": "stream",
     "text": [
      "Relation     Parch  SibSp\n",
      "PassengerId              \n",
      "1                0      1\n",
      "2                0      1\n",
      "3                0      0\n",
      "4                0      1\n",
      "5                0      0\n"
     ]
    }
   ],
   "source": [
    "unstacked = stacked.unstack()\n",
    "print(unstacked.head())"
   ]
  },
  {
   "cell_type": "markdown",
   "id": "40956c18",
   "metadata": {},
   "source": [
    "### AI/ML Use Case: Tidy Data for Modeling\n",
    "\n",
    "Machine learning algorithms need **clean and structured input** — often in **tidy long-format** or **flat wide-format**.\n",
    "\n",
    "Examples:\n",
    "\n",
    "- Melt data to stack features for **sequence models**\n",
    "- Pivot group stats (e.g., survival rate by class and gender)\n",
    "- Stack/unstack time-series user data for RNNs or LSTMs\n",
    "\n",
    "These reshaping tools help us prepare **meaningful features** and **consolidate large datasets**.\n",
    "\n",
    "### Exercises\n",
    "\n",
    "Q1. Concatenate first 5 and last 5 rows of Titanic dataset vertically"
   ]
  },
  {
   "cell_type": "code",
   "execution_count": 8,
   "id": "1491199c",
   "metadata": {},
   "outputs": [
    {
     "name": "stdout",
     "output_type": "stream",
     "text": [
      "     PassengerId                                               Name\n",
      "0              1                            Braund, Mr. Owen Harris\n",
      "1              2  Cumings, Mrs. John Bradley (Florence Briggs Th...\n",
      "2              3                             Heikkinen, Miss. Laina\n",
      "3              4       Futrelle, Mrs. Jacques Heath (Lily May Peel)\n",
      "4              5                           Allen, Mr. William Henry\n",
      "886          887                              Montvila, Rev. Juozas\n",
      "887          888                       Graham, Miss. Margaret Edith\n",
      "888          889           Johnston, Miss. Catherine Helen \"Carrie\"\n",
      "889          890                              Behr, Mr. Karl Howell\n",
      "890          891                                Dooley, Mr. Patrick\n"
     ]
    }
   ],
   "source": [
    "df_top = df.head(5)\n",
    "df_bottom = df.tail(5)\n",
    "\n",
    "df_concat = pd.concat([df_top, df_bottom])\n",
    "print(df_concat[['PassengerId', 'Name']])"
   ]
  },
  {
   "cell_type": "markdown",
   "id": "39a5000f",
   "metadata": {},
   "source": [
    "Q2. Horizontally concatenate 'Name', 'Sex', 'Age' into one DataFrame"
   ]
  },
  {
   "cell_type": "code",
   "execution_count": 9,
   "id": "01356545",
   "metadata": {},
   "outputs": [
    {
     "name": "stdout",
     "output_type": "stream",
     "text": [
      "                                                Name     Sex   Age\n",
      "0                            Braund, Mr. Owen Harris    male  22.0\n",
      "1  Cumings, Mrs. John Bradley (Florence Briggs Th...  female  38.0\n",
      "2                             Heikkinen, Miss. Laina  female  26.0\n",
      "3       Futrelle, Mrs. Jacques Heath (Lily May Peel)  female  35.0\n",
      "4                           Allen, Mr. William Henry    male  35.0\n"
     ]
    }
   ],
   "source": [
    "df_name = df[['Name']]\n",
    "df_sex = df[['Sex']]\n",
    "df_age = df[['Age']]\n",
    "\n",
    "df_combined = pd.concat([df_name, df_sex, df_age], axis=1)\n",
    "print(df_combined.head())"
   ]
  },
  {
   "cell_type": "markdown",
   "id": "9780eccb",
   "metadata": {},
   "source": [
    "Q3. Use `.melt()` on 'SibSp' and 'Parch' to convert to long format"
   ]
  },
  {
   "cell_type": "code",
   "execution_count": 10,
   "id": "fe58cb96",
   "metadata": {},
   "outputs": [
    {
     "name": "stdout",
     "output_type": "stream",
     "text": [
      "   PassengerId variable  value\n",
      "0            1    SibSp      1\n",
      "1            2    SibSp      1\n",
      "2            3    SibSp      0\n",
      "3            4    SibSp      1\n",
      "4            5    SibSp      0\n"
     ]
    }
   ],
   "source": [
    "df_melt = pd.melt(df[['PassengerId', 'SibSp', 'Parch']], id_vars='PassengerId')\n",
    "print(df_melt.head())"
   ]
  },
  {
   "cell_type": "markdown",
   "id": "98781338",
   "metadata": {},
   "source": [
    "Q4. Pivot the melted DataFrame back to wide"
   ]
  },
  {
   "cell_type": "code",
   "execution_count": 11,
   "id": "30f548cc",
   "metadata": {},
   "outputs": [
    {
     "name": "stdout",
     "output_type": "stream",
     "text": [
      "variable     Parch  SibSp\n",
      "PassengerId              \n",
      "1                0      1\n",
      "2                0      1\n",
      "3                0      0\n",
      "4                0      1\n",
      "5                0      0\n"
     ]
    }
   ],
   "source": [
    "df_pivot = df_melt.pivot(index='PassengerId', columns='variable', values='value')\n",
    "print(df_pivot.head())"
   ]
  },
  {
   "cell_type": "markdown",
   "id": "c09649cd",
   "metadata": {},
   "source": [
    "Q5. Stack and unstack the pivoted DataFrame"
   ]
  },
  {
   "cell_type": "code",
   "execution_count": 12,
   "id": "02a5704d",
   "metadata": {},
   "outputs": [
    {
     "name": "stdout",
     "output_type": "stream",
     "text": [
      "PassengerId  variable\n",
      "1            Parch       0\n",
      "             SibSp       1\n",
      "2            Parch       0\n",
      "             SibSp       1\n",
      "3            Parch       0\n",
      "dtype: int64\n",
      "variable     Parch  SibSp\n",
      "PassengerId              \n",
      "1                0      1\n",
      "2                0      1\n",
      "3                0      0\n",
      "4                0      1\n",
      "5                0      0\n"
     ]
    }
   ],
   "source": [
    "stacked = df_pivot.stack()\n",
    "print(stacked.head())\n",
    "\n",
    "unstacked = stacked.unstack()\n",
    "print(unstacked.head())"
   ]
  },
  {
   "cell_type": "markdown",
   "id": "aeb8cc28",
   "metadata": {},
   "source": [
    "### Summary\n",
    "\n",
    "Concatenating and reshaping data in Pandas are powerful operations for data alignment, transformation, and formatting. Whether you’re working with split files, group aggregates, time-series, or sequence data, being able to reshape between **wide and long formats** is essential.\n",
    "\n",
    "- **`pd.concat()`** helps combine DataFrames vertically or horizontally.\n",
    "- **`.melt()`** converts wide → long (unpivoting), useful for tidying or stacking.\n",
    "- **`.pivot()`** does long → wide (pivoting), ideal for creating wide format for models.\n",
    "- **`.stack()` / `.unstack()`** support deeper reshaping in MultiIndex structures.\n",
    "\n",
    "Mastering these tools lets you build clean, model-ready datasets and apply advanced feature engineering, especially for sequence-based or grouped modeling scenarios in machine learning."
   ]
  }
 ],
 "metadata": {
  "kernelspec": {
   "display_name": "Venv",
   "language": "python",
   "name": "python3"
  },
  "language_info": {
   "codemirror_mode": {
    "name": "ipython",
    "version": 3
   },
   "file_extension": ".py",
   "mimetype": "text/x-python",
   "name": "python",
   "nbconvert_exporter": "python",
   "pygments_lexer": "ipython3",
   "version": "3.12.8"
  }
 },
 "nbformat": 4,
 "nbformat_minor": 5
}
