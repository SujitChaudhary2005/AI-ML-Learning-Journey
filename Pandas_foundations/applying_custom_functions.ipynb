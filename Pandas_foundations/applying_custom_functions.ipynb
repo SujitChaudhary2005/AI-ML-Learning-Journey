{
 "cells": [
  {
   "cell_type": "markdown",
   "id": "d8f12540",
   "metadata": {},
   "source": [
    "# Applying Custom Functions in Pandas\n",
    "\n",
    "### What Are Custom Function Applications in Pandas?\n",
    "\n",
    "In many real-world datasets, raw data alone isn’t enough. We often need to **transform**, **categorize**, **normalize**, or **extract** information using our own logic. That’s where **custom functions** come in — and Pandas offers three core tools to apply them:\n",
    "\n",
    "- `.apply()`\n",
    "- `.map()`\n",
    "- `.applymap()`\n",
    "\n",
    "These allow us to apply **user-defined or lambda functions** across Series, rows, columns, or even entire DataFrames.\n",
    "\n",
    "### `.apply()`\n",
    "\n",
    "`.apply()` is the most flexible. It can be used on **Series or DataFrames**, allowing row-wise or column-wise operations.\n",
    "\n",
    "**Example**\n",
    "\n",
    "convert all names to string lengths:"
   ]
  },
  {
   "cell_type": "code",
   "execution_count": 1,
   "id": "978e4fd7",
   "metadata": {},
   "outputs": [
    {
     "name": "stdout",
     "output_type": "stream",
     "text": [
      "0    23\n",
      "1    51\n",
      "2    22\n",
      "3    44\n",
      "4    24\n",
      "Name: NameLength, dtype: int64\n"
     ]
    }
   ],
   "source": [
    "import pandas as pd\n",
    "df = pd.read_csv(\"data/train.csv\")\n",
    "\n",
    "df['NameLength'] = df['Name'].apply(len)\n",
    "print(df['NameLength'].head())"
   ]
  },
  {
   "cell_type": "markdown",
   "id": "388b91b4",
   "metadata": {},
   "source": [
    "Or more complex:"
   ]
  },
  {
   "cell_type": "code",
   "execution_count": 2,
   "id": "53f58547",
   "metadata": {},
   "outputs": [
    {
     "name": "stdout",
     "output_type": "stream",
     "text": [
      "    Age AgeGroup\n",
      "0  22.0    Adult\n",
      "1  38.0    Adult\n",
      "2  26.0    Adult\n",
      "3  35.0    Adult\n",
      "4  35.0    Adult\n"
     ]
    }
   ],
   "source": [
    "def age_category(age):\n",
    "    if pd.isnull(age):\n",
    "        return 'Unknown'\n",
    "    elif age < 18:\n",
    "        return 'Child'\n",
    "    elif age < 60:\n",
    "        return 'Adult'\n",
    "    else:\n",
    "        return 'Senior'\n",
    "\n",
    "df['AgeGroup'] = df['Age'].apply(age_category)\n",
    "print(df[['Age', 'AgeGroup']].head())"
   ]
  },
  {
   "cell_type": "markdown",
   "id": "c7f81609",
   "metadata": {},
   "source": [
    "We can also use lambda functions:"
   ]
  },
  {
   "cell_type": "code",
   "execution_count": 3,
   "id": "2216067f",
   "metadata": {},
   "outputs": [
    {
     "name": "stdout",
     "output_type": "stream",
     "text": [
      "      Fare FareLevel\n",
      "0   7.2500       Low\n",
      "1  71.2833       Low\n",
      "2   7.9250       Low\n",
      "3  53.1000       Low\n",
      "4   8.0500       Low\n"
     ]
    }
   ],
   "source": [
    "df['FareLevel'] = df['Fare'].apply(lambda x: 'High' if x > 100 else 'Low')\n",
    "print(df[['Fare', 'FareLevel']].head())"
   ]
  },
  {
   "cell_type": "markdown",
   "id": "69cf193b",
   "metadata": {},
   "source": [
    "### `.map()`\n",
    "\n",
    "`.map()` works **only on Series** and is often used for **value mapping or replacing**."
   ]
  },
  {
   "cell_type": "code",
   "execution_count": 4,
   "id": "b884b2f9",
   "metadata": {},
   "outputs": [
    {
     "name": "stdout",
     "output_type": "stream",
     "text": [
      "      Sex  Sex_num\n",
      "0    male        0\n",
      "1  female        1\n",
      "2  female        1\n",
      "3  female        1\n",
      "4    male        0\n"
     ]
    }
   ],
   "source": [
    "# Replace male/female with 0/1\n",
    "df['Sex_num'] = df['Sex'].map({'male': 0, 'female': 1})\n",
    "print(df[['Sex', 'Sex_num']].head())"
   ]
  },
  {
   "cell_type": "markdown",
   "id": "699ac44f",
   "metadata": {},
   "source": [
    "It’s simpler than `.apply()` and faster for lookups or remapping.\n",
    "\n",
    "### `.applymap()`\n",
    "\n",
    "`.applymap()` is for **element-wise operations across the entire DataFrame**, usually with numeric data or transformations."
   ]
  },
  {
   "cell_type": "code",
   "execution_count": null,
   "id": "cc3ad62a",
   "metadata": {},
   "outputs": [],
   "source": [
    "df_numeric = df.select_dtypes(include='number')\n",
    "print(df_numeric.head())\n",
    "df_squared = df_numeric.applymap(lambda x: x**2)\n",
    "print(df_squared.head())"
   ]
  },
  {
   "cell_type": "markdown",
   "id": "44d2cbf0",
   "metadata": {},
   "source": [
    "This is rarely used but powerful for applying a formula to every number in the dataset.\n",
    "\n",
    "In AI/ML preprocessing, applying functions helps:\n",
    "\n",
    "- Feature creation (age buckets, income levels, etc.)\n",
    "- Label encoding\n",
    "- Custom metrics (ratios, scores)\n",
    "- Cleaning text and numerical inputs\n",
    "\n",
    "### When and Why to Use `.apply()`, `.map()`, and `.applymap()`\n",
    "\n",
    "These three functions allow us to **customize data behavior** that’s not possible with built-in Pandas methods alone. Here's how and when to use each:\n",
    "\n",
    "### Use `.apply()` when:\n",
    "\n",
    "- We need **row-wise or column-wise** logic\n",
    "- Logic depends on multiple values in a row\n",
    "- We want to apply complex or nested `if/else` logic\n",
    "- We’re creating **new feature columns**\n",
    "\n",
    "**Example**\n",
    "\n",
    "Tag passengers with “Family” or “Solo” based on number of siblings/parents:"
   ]
  },
  {
   "cell_type": "code",
   "execution_count": 5,
   "id": "06a16fc8",
   "metadata": {},
   "outputs": [
    {
     "name": "stdout",
     "output_type": "stream",
     "text": [
      "   SibSp  Parch FamilyStatus\n",
      "0      1      0       Family\n",
      "1      1      0       Family\n",
      "2      0      0         Solo\n",
      "3      1      0       Family\n",
      "4      0      0         Solo\n"
     ]
    }
   ],
   "source": [
    "def family_status(row):\n",
    "    return 'Family' if (row['SibSp'] + row['Parch']) > 0 else 'Solo'\n",
    "\n",
    "df['FamilyStatus'] = df.apply(family_status, axis=1)\n",
    "print(df[['SibSp', 'Parch', 'FamilyStatus']].head())"
   ]
  },
  {
   "cell_type": "markdown",
   "id": "25591c58",
   "metadata": {},
   "source": [
    "Note the `axis=1` tells it to apply **row-wise**.\n",
    "\n",
    "### Use `.map()` when:\n",
    "\n",
    "- We’re working with a **single column** (Series)\n",
    "- We want to **replace values** based on a dictionary or function\n",
    "- We don’t need access to multiple columns\n",
    "\n",
    "**Example**\n",
    "\n",
    "Convert gender to numeric:"
   ]
  },
  {
   "cell_type": "code",
   "execution_count": 6,
   "id": "68000b2d",
   "metadata": {},
   "outputs": [
    {
     "name": "stdout",
     "output_type": "stream",
     "text": [
      "0    0\n",
      "1    1\n",
      "2    1\n",
      "3    1\n",
      "4    0\n",
      "Name: Sex, dtype: int64\n"
     ]
    }
   ],
   "source": [
    "df['Sex'] = df['Sex'].map({'male': 0, 'female': 1})\n",
    "print(df['Sex'].head())"
   ]
  },
  {
   "cell_type": "markdown",
   "id": "e31f3ed7",
   "metadata": {},
   "source": [
    "We can also use lambdas:"
   ]
  },
  {
   "cell_type": "code",
   "execution_count": 7,
   "id": "c5d3724a",
   "metadata": {},
   "outputs": [
    {
     "name": "stdout",
     "output_type": "stream",
     "text": [
      "      Fare FareLevel\n",
      "0   7.2500       Low\n",
      "1  71.2833       Low\n",
      "2   7.9250       Low\n",
      "3  53.1000       Low\n",
      "4   8.0500       Low\n"
     ]
    }
   ],
   "source": [
    "df['FareLevel'] = df['Fare'].map(lambda x: 'High' if x > 100 else 'Low')\n",
    "print(df[['Fare', 'FareLevel']].head())"
   ]
  },
  {
   "cell_type": "markdown",
   "id": "4f0bc813",
   "metadata": {},
   "source": [
    "### Use `.applymap()` when:\n",
    "\n",
    "- We want to apply a **function to every element** of a DataFrame (not row/column)\n",
    "- We're working with **numeric data**\n",
    "- We need to normalize, round, or scale every value\n",
    "\n",
    "**Example**"
   ]
  },
  {
   "cell_type": "code",
   "execution_count": null,
   "id": "2e829033",
   "metadata": {},
   "outputs": [],
   "source": [
    "df_numeric = df.select_dtypes(include='number')\n",
    "print(df_numeric.head())\n",
    "df_scaled = df_numeric.applymap(lambda x: round(x / 10, 2))\n",
    "print(df_scaled.head())"
   ]
  },
  {
   "cell_type": "markdown",
   "id": "244efc6b",
   "metadata": {},
   "source": [
    "In AI/ML pipelines, these functions are a **core part of feature engineering** — converting messy or inconsistent raw values into machine-readable, informative features that drive better model performance.\n",
    "\n",
    "### Exercises\n",
    "\n",
    "Q1. Convert 'Sex' column to numeric using `.map()`"
   ]
  },
  {
   "cell_type": "code",
   "execution_count": 8,
   "id": "827b9068",
   "metadata": {},
   "outputs": [
    {
     "name": "stdout",
     "output_type": "stream",
     "text": [
      "   Sex  Sex_num\n",
      "0    0      NaN\n",
      "1    1      NaN\n",
      "2    1      NaN\n",
      "3    1      NaN\n",
      "4    0      NaN\n"
     ]
    }
   ],
   "source": [
    "df['Sex_num'] = df['Sex'].map({'male': 0, 'female': 1})\n",
    "print(df[['Sex', 'Sex_num']].head())"
   ]
  },
  {
   "cell_type": "markdown",
   "id": "9594d740",
   "metadata": {},
   "source": [
    "Q2. Create an 'AgeGroup' column using `.apply()`"
   ]
  },
  {
   "cell_type": "code",
   "execution_count": 9,
   "id": "d2ad3d76",
   "metadata": {},
   "outputs": [
    {
     "name": "stdout",
     "output_type": "stream",
     "text": [
      "    Age AgeGroup\n",
      "0  22.0    Adult\n",
      "1  38.0    Adult\n",
      "2  26.0    Adult\n",
      "3  35.0    Adult\n",
      "4  35.0    Adult\n"
     ]
    }
   ],
   "source": [
    "df['AgeGroup'] = df['Age'].apply(lambda x: 'Child' if x < 18 else 'Adult' if x < 60 else 'Senior')\n",
    "print(df[['Age', 'AgeGroup']].head())"
   ]
  },
  {
   "cell_type": "markdown",
   "id": "c37894e6",
   "metadata": {},
   "source": [
    "Q3. Apply `.applymap()` to square all numeric values"
   ]
  },
  {
   "cell_type": "code",
   "execution_count": null,
   "id": "0bca395e",
   "metadata": {},
   "outputs": [],
   "source": [
    "df_numeric = df.select_dtypes(include='number')\n",
    "print(df_numeric.head())\n",
    "df_squared = df_numeric.applymap(lambda x: x**2)\n",
    "print(df_squared.head())"
   ]
  },
  {
   "cell_type": "markdown",
   "id": "fbc812db",
   "metadata": {},
   "source": [
    "Q4. Use `.apply()` to calculate family size and label as 'Small' or 'Large'"
   ]
  },
  {
   "cell_type": "code",
   "execution_count": 10,
   "id": "2aa11c57",
   "metadata": {},
   "outputs": [
    {
     "name": "stdout",
     "output_type": "stream",
     "text": [
      "   FamilySize FamilyLabel\n",
      "0           1       Small\n",
      "1           1       Small\n",
      "2           0       Small\n",
      "3           1       Small\n",
      "4           0       Small\n"
     ]
    }
   ],
   "source": [
    "df['FamilySize'] = df.apply(lambda row: row['SibSp'] + row['Parch'], axis=1)\n",
    "df['FamilyLabel'] = df['FamilySize'].apply(lambda x: 'Large' if x > 2 else 'Small')\n",
    "print(df[['FamilySize', 'FamilyLabel']].head())"
   ]
  },
  {
   "cell_type": "markdown",
   "id": "24e67d75",
   "metadata": {},
   "source": [
    "### Summary\n",
    "\n",
    "In this lesson, we unlocked one of the most powerful tools in a data scientist’s toolkit: **custom function application**. The trio of `.apply()`, `.map()`, and `.applymap()` gives us **full control** over our DataFrame's transformation logic — turning raw, untidy, or complex data into clean, meaningful features ready for modeling.\n",
    "\n",
    "- Use `.apply()` when we need **flexible logic** over rows or columns — it’s our go-to for feature engineering that involves more than one variable (e.g., total family size, conditional categorization).\n",
    "- Use `.map()` when working on **a single column transformation** or simple value replacement. It's the fastest and cleanest for categorical remapping (e.g., \"male\" to 0, \"female\" to 1).\n",
    "- Use `.applymap()` when applying **a mathematical or text transformation to every element** in a numeric or object DataFrame (though this is less common in feature engineering).\n",
    "\n",
    "These tools not only make data more **useful** and **machine-readable**, but also let us embed **domain-specific knowledge** directly into the dataset. This can result in massive improvements in model performance, especially in projects where real-world logic matters (e.g., fraud detection, customer segmentation, survival prediction like Titanic).\n",
    "\n",
    "Without mastering these techniques, we're limited to basic summaries. But with them, We can create **new features**, **fix inconsistencies**, and **capture nuance** — the key ingredients of winning AI/ML models."
   ]
  }
 ],
 "metadata": {
  "kernelspec": {
   "display_name": "Venv",
   "language": "python",
   "name": "python3"
  },
  "language_info": {
   "codemirror_mode": {
    "name": "ipython",
    "version": 3
   },
   "file_extension": ".py",
   "mimetype": "text/x-python",
   "name": "python",
   "nbconvert_exporter": "python",
   "pygments_lexer": "ipython3",
   "version": "3.12.8"
  }
 },
 "nbformat": 4,
 "nbformat_minor": 5
}
