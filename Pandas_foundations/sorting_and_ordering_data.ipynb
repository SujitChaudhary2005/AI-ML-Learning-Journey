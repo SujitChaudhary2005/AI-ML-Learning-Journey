{
 "cells": [
  {
   "cell_type": "markdown",
   "id": "a8ded8bf",
   "metadata": {},
   "source": [
    "# Sorting and Ordering Data in Pandas\n",
    "\n",
    "### What Is Sorting in Pandas?\n",
    "\n",
    "When we explore or prepare data for analysis or modeling, the first thing we often need is **to bring order to our dataset**. Whether we’re identifying the top performers, sorting passengers by age or fare, or simply preparing data for reports or dashboards — **sorting** gives structure to our work.\n",
    "\n",
    "In Pandas, we have two primary tools for sorting:\n",
    "\n",
    "- `sort_values()` — for sorting by actual **column values**\n",
    "- `sort_index()` — for sorting by **row or column index**\n",
    "\n",
    "These methods let us organize our DataFrame in meaningful ways. With `sort_values()`, we can easily sort by one or multiple columns. With `sort_index()`, we can manage the order of indexes, which is especially helpful when we’re working with custom indexes or time series.\n",
    "\n",
    "Sorting isn’t just about looking neat — it’s often the first step in identifying **outliers**, **top-N records**, or **patterns** that matter. When we’re building ML pipelines, visualizing data, or creating reports, mastering sorting allows us to bring clarity and direction to our insights.\n",
    "\n",
    "Let’s go through the full power of sorting using Pandas and the Titanic dataset.\n",
    "\n",
    "### `sort_values()` — Sorting by Column Values\n",
    "\n",
    "When we want to organize our dataset by the values **inside the columns**, we use `sort_values()`. This is our go-to method when ranking passengers by age, fare, or survival status.\n",
    "\n",
    "**Syntax:**\n",
    "\n",
    "```python\n",
    "df.sort_values(by='ColumnName', ascending=True)\n",
    "```\n",
    "\n",
    "### Parameters:\n",
    "\n",
    "- `by`: Column name(s) to sort\n",
    "- `ascending`: `True` for ascending, `False` for descending\n",
    "- `na_position`: Places `NaN` at `'first'` or `'last'`\n",
    "- `inplace`: Whether to overwrite the original DataFrame\n",
    "- `key`: Optional function to apply before sorting\n",
    "\n",
    "**Examples**"
   ]
  },
  {
   "cell_type": "code",
   "execution_count": 1,
   "id": "c8fbc4db",
   "metadata": {},
   "outputs": [
    {
     "name": "stdout",
     "output_type": "stream",
     "text": [
      "                                 Name  Fare\n",
      "815                  Fry, Mr. Richard   0.0\n",
      "806            Andrews, Mr. Thomas Jr   0.0\n",
      "413    Cunningham, Mr. Alfred Fleming   0.0\n",
      "481  Frost, Mr. Anthony Wood \"Archie\"   0.0\n",
      "302   Johnson, Mr. William Cahoone Jr   0.0\n",
      "                                Name   Age\n",
      "803  Thomas, Master. Assad Alexander  0.42\n",
      "755        Hamalainen, Master. Viljo  0.67\n",
      "644           Baclini, Miss. Eugenie  0.75\n",
      "469    Baclini, Miss. Helene Barbara  0.75\n",
      "78     Caldwell, Master. Alden Gates  0.83\n",
      "     Pclass      Fare                                Name\n",
      "258       1  512.3292                    Ward, Miss. Anna\n",
      "679       1  512.3292  Cardeza, Mr. Thomas Drake Martinez\n",
      "737       1  512.3292              Lesurer, Mr. Gustave J\n",
      "27        1  263.0000      Fortune, Mr. Charles Alexander\n",
      "88        1  263.0000          Fortune, Miss. Mabel Helen\n"
     ]
    }
   ],
   "source": [
    "import pandas as pd\n",
    "df = pd.read_csv(\"data/train.csv\")\n",
    "\n",
    "# Sort by Fare\n",
    "print(df.sort_values(by='Fare')[['Name', 'Fare']].head())\n",
    "\n",
    "# Sort by Age\n",
    "print(df.sort_values(by='Age')[['Name', 'Age']].head())\n",
    "\n",
    "# Sort by Pclass and Fare (multi-level)\n",
    "print(df.sort_values(by=['Pclass', 'Fare'], ascending=[True, False])[['Pclass', 'Fare', 'Name']].head())"
   ]
  },
  {
   "cell_type": "markdown",
   "id": "c9a8eb11",
   "metadata": {},
   "source": [
    "Using `sort_values()` helps us organize messy data, prepare meaningful summaries, and support decision-making in our analysis process.\n",
    "\n",
    "### `sort_index()` — Sorting by Row Index\n",
    "\n",
    "Sometimes, the structure of our data matters more than the values. When we need to sort based on the **index** (like row numbers or a custom ID), we use `sort_index()`.\n",
    "\n",
    "Syntax:\n",
    "\n",
    "```python\n",
    "df.sort_index(ascending=True)\n",
    "```\n",
    "\n",
    "**Why and When We Use It:**\n",
    "\n",
    "- To **restore order** after shuffling or merging data\n",
    "- To **sort time-series data** (e.g., by dates)\n",
    "- To **organize by custom index** like `PassengerId`\n",
    "\n",
    "**Example**"
   ]
  },
  {
   "cell_type": "code",
   "execution_count": 2,
   "id": "0c166c91",
   "metadata": {},
   "outputs": [
    {
     "name": "stdout",
     "output_type": "stream",
     "text": [
      "     PassengerId  Survived  Pclass                                      Name  \\\n",
      "890          891         0       3                       Dooley, Mr. Patrick   \n",
      "889          890         1       1                     Behr, Mr. Karl Howell   \n",
      "888          889         0       3  Johnston, Miss. Catherine Helen \"Carrie\"   \n",
      "887          888         1       1              Graham, Miss. Margaret Edith   \n",
      "886          887         0       2                     Montvila, Rev. Juozas   \n",
      "\n",
      "        Sex   Age  SibSp  Parch      Ticket   Fare Cabin Embarked  \n",
      "890    male  32.0      0      0      370376   7.75   NaN        Q  \n",
      "889    male  26.0      0      0      111369  30.00  C148        C  \n",
      "888  female   NaN      1      2  W./C. 6607  23.45   NaN        S  \n",
      "887  female  19.0      0      0      112053  30.00   B42        S  \n",
      "886    male  27.0      0      0      211536  13.00   NaN        S  \n",
      "             Survived  Pclass  \\\n",
      "PassengerId                     \n",
      "1                   0       3   \n",
      "2                   1       1   \n",
      "3                   1       3   \n",
      "4                   1       1   \n",
      "5                   0       3   \n",
      "\n",
      "                                                          Name     Sex   Age  \\\n",
      "PassengerId                                                                    \n",
      "1                                      Braund, Mr. Owen Harris    male  22.0   \n",
      "2            Cumings, Mrs. John Bradley (Florence Briggs Th...  female  38.0   \n",
      "3                                       Heikkinen, Miss. Laina  female  26.0   \n",
      "4                 Futrelle, Mrs. Jacques Heath (Lily May Peel)  female  35.0   \n",
      "5                                     Allen, Mr. William Henry    male  35.0   \n",
      "\n",
      "             SibSp  Parch            Ticket     Fare Cabin Embarked  \n",
      "PassengerId                                                          \n",
      "1                1      0         A/5 21171   7.2500   NaN        S  \n",
      "2                1      0          PC 17599  71.2833   C85        C  \n",
      "3                0      0  STON/O2. 3101282   7.9250   NaN        S  \n",
      "4                1      0            113803  53.1000  C123        S  \n",
      "5                0      0            373450   8.0500   NaN        S  \n"
     ]
    }
   ],
   "source": [
    "# Sort in reverse index order\n",
    "print(df.sort_index(ascending=False).head())\n",
    "\n",
    "# Set a custom index and sort\n",
    "df_indexed = df.set_index(\"PassengerId\")\n",
    "print(df_indexed.sort_index().head())"
   ]
  },
  {
   "cell_type": "markdown",
   "id": "55714503",
   "metadata": {},
   "source": [
    "Sorting by index keeps our structure clean — especially in time-based or grouped data where order matters. It ensures consistency when we’re aligning data across steps.\n",
    "\n",
    "### Handling Null Values During Sorting (`na_position`)\n",
    "\n",
    "Real datasets, like Titanic, often have missing values. When we sort a column with nulls, it’s important to **decide where those NaNs should appear**. By default, Pandas places them **last**, but we can change that using the `na_position` parameter.\n",
    "\n",
    "**Example**"
   ]
  },
  {
   "cell_type": "code",
   "execution_count": 3,
   "id": "5823165e",
   "metadata": {},
   "outputs": [
    {
     "name": "stdout",
     "output_type": "stream",
     "text": [
      "                                         Name  Age\n",
      "859                          Razi, Mr. Raihed  NaN\n",
      "863         Sage, Miss. Dorothy Edith \"Dolly\"  NaN\n",
      "868               van Melkebeke, Mr. Philemon  NaN\n",
      "878                        Laleff, Mr. Kristo  NaN\n",
      "888  Johnston, Miss. Catherine Helen \"Carrie\"  NaN\n",
      "                             Name  Age\n",
      "5                Moran, Mr. James  NaN\n",
      "17   Williams, Mr. Charles Eugene  NaN\n",
      "19        Masselmani, Mrs. Fatima  NaN\n",
      "26        Emir, Mr. Farred Chehab  NaN\n",
      "28  O'Dwyer, Miss. Ellen \"Nellie\"  NaN\n",
      "                                 Name  Age  Fare\n",
      "277       Parkes, Mr. Francis \"Frank\"  NaN   0.0\n",
      "413    Cunningham, Mr. Alfred Fleming  NaN   0.0\n",
      "466             Campbell, Mr. William  NaN   0.0\n",
      "481  Frost, Mr. Anthony Wood \"Archie\"  NaN   0.0\n",
      "633     Parr, Mr. William Henry Marsh  NaN   0.0\n"
     ]
    }
   ],
   "source": [
    "# Default (NaNs at end)\n",
    "print(df.sort_values(by='Age', na_position='last')[['Name', 'Age']].tail())\n",
    "\n",
    "# NaNs at start\n",
    "print(df.sort_values(by='Age', na_position='first')[['Name', 'Age']].head())\n",
    "\n",
    "# Combined with multiple columns\n",
    "print(df.sort_values(by=['Age', 'Fare'], na_position='first')[['Name', 'Age', 'Fare']].head())"
   ]
  },
  {
   "cell_type": "markdown",
   "id": "c3a0d2bf",
   "metadata": {},
   "source": [
    "As data scientists, we must decide whether missing values should be prioritized, ignored, or filled before sorting. This decision impacts our modeling, filtering, and how insights are communicated.\n",
    "\n",
    "### Sorting by Multiple Criteria with Complex Conditions\n",
    "\n",
    "There are many times when we want to **sort by more than one condition** — for example, sort passengers by class, and within each class, by fare paid.\n",
    "\n",
    "**Example**"
   ]
  },
  {
   "cell_type": "code",
   "execution_count": 4,
   "id": "5f1c0611",
   "metadata": {},
   "outputs": [
    {
     "name": "stdout",
     "output_type": "stream",
     "text": [
      "     Pclass      Fare                                Name\n",
      "258       1  512.3292                    Ward, Miss. Anna\n",
      "679       1  512.3292  Cardeza, Mr. Thomas Drake Martinez\n",
      "737       1  512.3292              Lesurer, Mr. Gustave J\n",
      "27        1  263.0000      Fortune, Mr. Charles Alexander\n",
      "88        1  263.0000          Fortune, Miss. Mabel Helen\n",
      "                                Name   Age\n",
      "803  Thomas, Master. Assad Alexander  0.42\n",
      "755        Hamalainen, Master. Viljo  0.67\n",
      "469    Baclini, Miss. Helene Barbara  0.75\n",
      "644           Baclini, Miss. Eugenie  0.75\n",
      "78     Caldwell, Master. Alden Gates  0.83\n"
     ]
    }
   ],
   "source": [
    "# First by class (ascending), then fare (descending)\n",
    "print(df.sort_values(by=['Pclass', 'Fare'], ascending=[True, False])[['Pclass', 'Fare', 'Name']].head())\n",
    "\n",
    "# Sort Age, replacing NaNs with median first\n",
    "print(df.sort_values(by='Age', key=lambda x: x.fillna(x.median()))[['Name', 'Age']].head())"
   ]
  },
  {
   "cell_type": "markdown",
   "id": "b1f25796",
   "metadata": {},
   "source": [
    "This is useful when we’re doing **grouped analysis**, segmenting our audience, or ranking based on business rules. It allows us to maintain logical order even when the data is messy or partial.\n",
    "\n",
    "### Sorting String and Categorical Data\n",
    "\n",
    "String and categorical sorting can be tricky — especially when we care about **specific orders** (like 1st class before 2nd, or sorting by last name).\n",
    "\n",
    "**Example**"
   ]
  },
  {
   "cell_type": "code",
   "execution_count": 5,
   "id": "27a82a90",
   "metadata": {},
   "outputs": [
    {
     "name": "stdout",
     "output_type": "stream",
     "text": [
      "                                      Name\n",
      "845                    Abbing, Mr. Anthony\n",
      "746            Abbott, Mr. Rossmore Edward\n",
      "279       Abbott, Mrs. Stanton (Rosa Hunt)\n",
      "308                    Abelson, Mr. Samuel\n",
      "874  Abelson, Mrs. Samuel (Hannah Wizosky)\n",
      "                                      Name\n",
      "845                    Abbing, Mr. Anthony\n",
      "279       Abbott, Mrs. Stanton (Rosa Hunt)\n",
      "746            Abbott, Mr. Rossmore Edward\n",
      "874  Abelson, Mrs. Samuel (Hannah Wizosky)\n",
      "308                    Abelson, Mr. Samuel\n",
      "                                                  Name Pclass_cat\n",
      "445                          Dodge, Master. Washington          1\n",
      "310                     Hays, Miss. Margaret Bechstein          1\n",
      "309                     Francatelli, Miss. Laura Mabel          1\n",
      "307  Penasco y Castellana, Mrs. Victor de Satode (M...          1\n",
      "306                            Fleming, Miss. Margaret          1\n"
     ]
    }
   ],
   "source": [
    "# Alphabetical name sort\n",
    "print(df.sort_values(by='Name')[['Name']].head())\n",
    "\n",
    "# Sort by last name\n",
    "print(df.sort_values(by='Name', key=lambda x: x.str.split(',').str[0])[['Name']].head())\n",
    "\n",
    "# Sort Pclass as an ordered category\n",
    "df['Pclass_cat'] = pd.Categorical(df['Pclass'], categories=[1, 2, 3], ordered=True)\n",
    "print(df.sort_values(by='Pclass_cat')[['Name', 'Pclass_cat']].head())"
   ]
  },
  {
   "cell_type": "markdown",
   "id": "cc333fd1",
   "metadata": {},
   "source": [
    "We often use this when working with **labels**, **product tiers**, or **text-based fields**. Custom sorting lets us reflect real-world logic in our analysis.\n",
    "\n",
    "### Performance Considerations for Large Datasets\n",
    "\n",
    "Sorting can be computationally expensive — especially with tens or hundreds of thousands of rows. To **optimize performance**, we should:\n",
    "\n",
    "- Use `inplace=True` to avoid making a copy\n",
    "- Use `nlargest()` or `nsmallest()` for top-N records\n",
    "- Use `ignore_index=True` when index values aren’t needed\n",
    "\n",
    "**Example**"
   ]
  },
  {
   "cell_type": "code",
   "execution_count": 6,
   "id": "17834b96",
   "metadata": {},
   "outputs": [
    {
     "name": "stdout",
     "output_type": "stream",
     "text": [
      "In-place sort time: 0.01s\n"
     ]
    }
   ],
   "source": [
    "import time\n",
    "import numpy as np\n",
    "\n",
    "large_df = pd.DataFrame({\n",
    "    'A': np.random.randint(1, 1_000_000, 100_000),\n",
    "    'B': np.random.randn(100_000)\n",
    "})\n",
    "\n",
    "start = time.time()\n",
    "large_df.sort_values(by='A', inplace=True)\n",
    "print(f\"In-place sort time: {time.time() - start:.2f}s\")"
   ]
  },
  {
   "cell_type": "markdown",
   "id": "c706487e",
   "metadata": {},
   "source": [
    "As our projects grow (e.g., in ML training data), these optimizations can save **time, memory, and cost** — especially in production environments.\n",
    "\n",
    "### Sorting with Custom Functions / Keys\n",
    "\n",
    "Sometimes, we want to sort based on **derived values** — like absolute difference from median fare or extracted title from a name.\n",
    "\n",
    "**Example**"
   ]
  },
  {
   "cell_type": "code",
   "execution_count": 7,
   "id": "c56f8127",
   "metadata": {},
   "outputs": [
    {
     "name": "stdout",
     "output_type": "stream",
     "text": [
      "                                        Name     Fare\n",
      "830  Yasbeck, Mrs. Antoni (Selini Alexander)  14.4542\n",
      "73               Chronopoulos, Mr. Apostolos  14.4542\n",
      "111                     Zabour, Miss. Hileni  14.4542\n",
      "702                    Barbara, Miss. Saiide  14.4542\n",
      "620                      Yasbeck, Mr. Antoni  14.4542\n",
      "                                    Name Title\n",
      "745         Crosby, Capt. Edward Gifford  Capt\n",
      "647  Simonius-Blumer, Col. Oberst Alfons   Col\n",
      "694                      Weir, Col. John   Col\n",
      "30              Uruchurtu, Don. Manuel E   Don\n",
      "796          Leader, Dr. Alice (Farnham)    Dr\n"
     ]
    }
   ],
   "source": [
    "# Sort by how close fare is to median\n",
    "median_fare = df['Fare'].median()\n",
    "print(df.sort_values(by='Fare', key=lambda x: abs(x - median_fare))[['Name', 'Fare']].head())\n",
    "\n",
    "# Sort by extracted title\n",
    "df['Title'] = df['Name'].apply(lambda name: name.split(',')[1].split('.')[0].strip())\n",
    "print(df.sort_values(by='Title')[['Name', 'Title']].head())"
   ]
  },
  {
   "cell_type": "markdown",
   "id": "7fe666fd",
   "metadata": {},
   "source": [
    "This is especially powerful during **feature engineering**, where we need to create new metrics or use logic-based ranking.\n",
    "\n",
    "### Sorting Columns with axis=1\n",
    "\n",
    "Pandas also lets us **sort columns** using `axis=1`. This helps when we want to display or export datasets in a cleaner format."
   ]
  },
  {
   "cell_type": "code",
   "execution_count": 8,
   "id": "36bcdf51",
   "metadata": {},
   "outputs": [
    {
     "name": "stdout",
     "output_type": "stream",
     "text": [
      "    Age Cabin Embarked     Fare  \\\n",
      "0  22.0   NaN        S   7.2500   \n",
      "1  38.0   C85        C  71.2833   \n",
      "2  26.0   NaN        S   7.9250   \n",
      "3  35.0  C123        S  53.1000   \n",
      "4  35.0   NaN        S   8.0500   \n",
      "\n",
      "                                                Name  Parch  PassengerId  \\\n",
      "0                            Braund, Mr. Owen Harris      0            1   \n",
      "1  Cumings, Mrs. John Bradley (Florence Briggs Th...      0            2   \n",
      "2                             Heikkinen, Miss. Laina      0            3   \n",
      "3       Futrelle, Mrs. Jacques Heath (Lily May Peel)      0            4   \n",
      "4                           Allen, Mr. William Henry      0            5   \n",
      "\n",
      "   Pclass Pclass_cat     Sex  SibSp  Survived            Ticket Title  \n",
      "0       3          3    male      1         0         A/5 21171    Mr  \n",
      "1       1          1  female      1         1          PC 17599   Mrs  \n",
      "2       3          3  female      0         1  STON/O2. 3101282  Miss  \n",
      "3       1          1  female      1         1            113803   Mrs  \n",
      "4       3          3    male      0         0            373450    Mr  \n",
      "   PassengerId  Survived  Pclass   Age  SibSp  Parch     Fare  \\\n",
      "0            1         0       3  22.0      1      0   7.2500   \n",
      "1            2         1       1  38.0      1      0  71.2833   \n",
      "2            3         1       3  26.0      0      0   7.9250   \n",
      "3            4         1       1  35.0      1      0  53.1000   \n",
      "4            5         0       3  35.0      0      0   8.0500   \n",
      "\n",
      "                                                Name     Sex  \\\n",
      "0                            Braund, Mr. Owen Harris    male   \n",
      "1  Cumings, Mrs. John Bradley (Florence Briggs Th...  female   \n",
      "2                             Heikkinen, Miss. Laina  female   \n",
      "3       Futrelle, Mrs. Jacques Heath (Lily May Peel)  female   \n",
      "4                           Allen, Mr. William Henry    male   \n",
      "\n",
      "             Ticket Cabin Embarked Title  \n",
      "0         A/5 21171   NaN        S    Mr  \n",
      "1          PC 17599   C85        C   Mrs  \n",
      "2  STON/O2. 3101282   NaN        S  Miss  \n",
      "3            113803  C123        S   Mrs  \n",
      "4            373450   NaN        S    Mr  \n"
     ]
    }
   ],
   "source": [
    "# Sort columns alphabetically\n",
    "print(df.sort_index(axis=1).head())\n",
    "\n",
    "# Group numeric columns before object columns\n",
    "numeric_cols = df.select_dtypes(include='number').columns.tolist()\n",
    "object_cols = df.select_dtypes(include='object').columns.tolist()\n",
    "print(df[numeric_cols + object_cols].head())"
   ]
  },
  {
   "cell_type": "markdown",
   "id": "9129a2ba",
   "metadata": {},
   "source": [
    "Great for preparing reports, formatting outputs, or exporting CSVs for external tools.\n",
    "\n",
    "### Memory-Efficient Sorting with `inplace=True`\n",
    "\n",
    "In large datasets, using `inplace=True` prevents duplication and reduces memory use."
   ]
  },
  {
   "cell_type": "code",
   "execution_count": 9,
   "id": "0d7ec07f",
   "metadata": {},
   "outputs": [
    {
     "name": "stdout",
     "output_type": "stream",
     "text": [
      "   PassengerId  Survived  Pclass                              Name   Sex  \\\n",
      "0          816         0       1                  Fry, Mr. Richard  male   \n",
      "1          807         0       1            Andrews, Mr. Thomas Jr  male   \n",
      "2          414         0       2    Cunningham, Mr. Alfred Fleming  male   \n",
      "3          482         0       2  Frost, Mr. Anthony Wood \"Archie\"  male   \n",
      "4          303         0       3   Johnson, Mr. William Cahoone Jr  male   \n",
      "\n",
      "    Age  SibSp  Parch  Ticket  Fare Cabin Embarked Pclass_cat Title  \n",
      "0   NaN      0      0  112058   0.0  B102        S          1    Mr  \n",
      "1  39.0      0      0  112050   0.0   A36        S          1    Mr  \n",
      "2   NaN      0      0  239853   0.0   NaN        S          2    Mr  \n",
      "3   NaN      0      0  239854   0.0   NaN        S          2    Mr  \n",
      "4  19.0      0      0    LINE   0.0   NaN        S          3    Mr  \n"
     ]
    }
   ],
   "source": [
    "df_copy = df.copy()\n",
    "df_copy.sort_values(by='Fare', inplace=True)\n",
    "df_copy.reset_index(drop=True, inplace=True)\n",
    "print(df_copy.head())"
   ]
  },
  {
   "cell_type": "markdown",
   "id": "3258745a",
   "metadata": {},
   "source": [
    "This helps us save time when processing large volumes of data in production or limited environments like Colab or Kaggle.\n",
    "\n",
    "### Exercise\n",
    "\n",
    "Q1. Sort all passengers by `Age` in descending order. Place `NaN` values (missing ages) at the beginning. Display only `Name`, `Age`, and `Pclass`."
   ]
  },
  {
   "cell_type": "code",
   "execution_count": 10,
   "id": "6246a3d8",
   "metadata": {},
   "outputs": [
    {
     "name": "stdout",
     "output_type": "stream",
     "text": [
      "                                              Name  Age  Pclass\n",
      "5                                 Moran, Mr. James  NaN       3\n",
      "17                    Williams, Mr. Charles Eugene  NaN       2\n",
      "19                         Masselmani, Mrs. Fatima  NaN       3\n",
      "26                         Emir, Mr. Farred Chehab  NaN       3\n",
      "28                   O'Dwyer, Miss. Ellen \"Nellie\"  NaN       3\n",
      "29                             Todoroff, Mr. Lalio  NaN       3\n",
      "31  Spencer, Mrs. William Augustus (Marie Eugenie)  NaN       1\n",
      "32                        Glynn, Miss. Mary Agatha  NaN       3\n",
      "36                                Mamee, Mr. Hanna  NaN       3\n",
      "42                             Kraeff, Mr. Theodor  NaN       3\n"
     ]
    }
   ],
   "source": [
    "df_age_sorted = df.sort_values(by='Age', ascending=False, na_position='first')\n",
    "print(df_age_sorted[['Name', 'Age', 'Pclass']].head(10))"
   ]
  },
  {
   "cell_type": "markdown",
   "id": "acec0027",
   "metadata": {},
   "source": [
    "Q2. Sort the dataset first by `Sex` (alphabetically), and then by `Fare` in descending order. Display the top 5 results."
   ]
  },
  {
   "cell_type": "code",
   "execution_count": 11,
   "id": "47870f68",
   "metadata": {},
   "outputs": [
    {
     "name": "stdout",
     "output_type": "stream",
     "text": [
      "                                      Name     Sex      Fare\n",
      "258                       Ward, Miss. Anna  female  512.3292\n",
      "88              Fortune, Miss. Mabel Helen  female  263.0000\n",
      "341         Fortune, Miss. Alice Elizabeth  female  263.0000\n",
      "311             Ryerson, Miss. Emily Borie  female  262.3750\n",
      "742  Ryerson, Miss. Susan Parker \"Suzette\"  female  262.3750\n"
     ]
    }
   ],
   "source": [
    "df_sorted_sex_fare = df.sort_values(by=['Sex', 'Fare'], ascending=[True, False])\n",
    "print(df_sorted_sex_fare[['Name', 'Sex', 'Fare']].head(5))"
   ]
  },
  {
   "cell_type": "markdown",
   "id": "8ea22499",
   "metadata": {},
   "source": [
    "Q3. Extract the title (Mr., Mrs., Miss, etc.) from the `Name` column and sort all passengers by title. Show the title distribution."
   ]
  },
  {
   "cell_type": "code",
   "execution_count": 12,
   "id": "f927ae92",
   "metadata": {},
   "outputs": [
    {
     "name": "stdout",
     "output_type": "stream",
     "text": [
      "                                    Name Title\n",
      "745         Crosby, Capt. Edward Gifford  Capt\n",
      "647  Simonius-Blumer, Col. Oberst Alfons   Col\n",
      "694                      Weir, Col. John   Col\n",
      "30              Uruchurtu, Don. Manuel E   Don\n",
      "796          Leader, Dr. Alice (Farnham)    Dr\n",
      "632            Stahelin-Maeglin, Dr. Max    Dr\n",
      "398                     Pain, Dr. Alfred    Dr\n",
      "317                 Moraweck, Dr. Ernest    Dr\n",
      "660        Frauenthal, Dr. Henry William    Dr\n",
      "245          Minahan, Dr. William Edward    Dr\n",
      "\n",
      "Title counts:\n",
      "Title\n",
      "Mr              517\n",
      "Miss            182\n",
      "Mrs             125\n",
      "Master           40\n",
      "Dr                7\n",
      "Rev               6\n",
      "Col               2\n",
      "Mlle              2\n",
      "Major             2\n",
      "Ms                1\n",
      "Mme               1\n",
      "Don               1\n",
      "Lady              1\n",
      "Sir               1\n",
      "Capt              1\n",
      "the Countess      1\n",
      "Jonkheer          1\n",
      "Name: count, dtype: int64\n"
     ]
    }
   ],
   "source": [
    "df['Title'] = df['Name'].apply(lambda name: name.split(',')[1].split('.')[0].strip())\n",
    "df_title_sorted = df.sort_values(by='Title')\n",
    "print(df_title_sorted[['Name', 'Title']].head(10))\n",
    "\n",
    "# Optional: Show title frequency\n",
    "print(\"\\nTitle counts:\")\n",
    "print(df['Title'].value_counts())"
   ]
  },
  {
   "cell_type": "markdown",
   "id": "2cb0369d",
   "metadata": {},
   "source": [
    "Q4. Use `nlargest()` and `nsmallest()` to get the top 5 and bottom 5 fares paid. Compare it with `sort_values()`."
   ]
  },
  {
   "cell_type": "code",
   "execution_count": 13,
   "id": "f6e6b6b5",
   "metadata": {},
   "outputs": [
    {
     "name": "stdout",
     "output_type": "stream",
     "text": [
      "Top 5 - Using nlargest:\n",
      "                                   Name      Fare\n",
      "258                    Ward, Miss. Anna  512.3292\n",
      "679  Cardeza, Mr. Thomas Drake Martinez  512.3292\n",
      "737              Lesurer, Mr. Gustave J  512.3292\n",
      "27       Fortune, Mr. Charles Alexander  263.0000\n",
      "88           Fortune, Miss. Mabel Helen  263.0000\n",
      "\n",
      "Top 5 - Using sort_values:\n",
      "                                   Name      Fare\n",
      "679  Cardeza, Mr. Thomas Drake Martinez  512.3292\n",
      "258                    Ward, Miss. Anna  512.3292\n",
      "737              Lesurer, Mr. Gustave J  512.3292\n",
      "88           Fortune, Miss. Mabel Helen  263.0000\n",
      "438                   Fortune, Mr. Mark  263.0000\n",
      "\n",
      "Bottom 5 - Using nsmallest:\n",
      "                                Name  Fare\n",
      "179              Leonard, Mr. Lionel   0.0\n",
      "263            Harrison, Mr. William   0.0\n",
      "271     Tornquist, Mr. William Henry   0.0\n",
      "277      Parkes, Mr. Francis \"Frank\"   0.0\n",
      "302  Johnson, Mr. William Cahoone Jr   0.0\n",
      "\n",
      "Bottom 5 - Using sort_values:\n",
      "                                 Name  Fare\n",
      "815                  Fry, Mr. Richard   0.0\n",
      "806            Andrews, Mr. Thomas Jr   0.0\n",
      "413    Cunningham, Mr. Alfred Fleming   0.0\n",
      "481  Frost, Mr. Anthony Wood \"Archie\"   0.0\n",
      "302   Johnson, Mr. William Cahoone Jr   0.0\n"
     ]
    }
   ],
   "source": [
    "top_fares_nl = df.nlargest(5, 'Fare')[['Name', 'Fare']]\n",
    "bottom_fares_ns = df.nsmallest(5, 'Fare')[['Name', 'Fare']]\n",
    "\n",
    "top_fares_sort = df.sort_values(by='Fare', ascending=False)[['Name', 'Fare']].head(5)\n",
    "bottom_fares_sort = df.sort_values(by='Fare')[['Name', 'Fare']].head(5)\n",
    "\n",
    "print(\"Top 5 - Using nlargest:\")\n",
    "print(top_fares_nl)\n",
    "\n",
    "print(\"\\nTop 5 - Using sort_values:\")\n",
    "print(top_fares_sort)\n",
    "\n",
    "print(\"\\nBottom 5 - Using nsmallest:\")\n",
    "print(bottom_fares_ns)\n",
    "\n",
    "print(\"\\nBottom 5 - Using sort_values:\")\n",
    "print(bottom_fares_sort)"
   ]
  },
  {
   "cell_type": "markdown",
   "id": "f5ae7e19",
   "metadata": {},
   "source": [
    "Q5. Sort all rows by the absolute difference of their `Fare` from the median fare. Display the 5 passengers whose fare was closest to the median."
   ]
  },
  {
   "cell_type": "code",
   "execution_count": 14,
   "id": "0c0b1ba1",
   "metadata": {},
   "outputs": [
    {
     "name": "stdout",
     "output_type": "stream",
     "text": [
      "Passengers closest to median fare:\n",
      "                                        Name     Fare\n",
      "830  Yasbeck, Mrs. Antoni (Selini Alexander)  14.4542\n",
      "73               Chronopoulos, Mr. Apostolos  14.4542\n",
      "111                     Zabour, Miss. Hileni  14.4542\n",
      "702                    Barbara, Miss. Saiide  14.4542\n",
      "620                      Yasbeck, Mr. Antoni  14.4542\n"
     ]
    }
   ],
   "source": [
    "median_fare = df['Fare'].median()\n",
    "df_sorted_median = df.sort_values(by='Fare', key=lambda x: abs(x - median_fare))\n",
    "print(\"Passengers closest to median fare:\")\n",
    "print(df_sorted_median[['Name', 'Fare']].head(5))"
   ]
  },
  {
   "cell_type": "markdown",
   "id": "9513cf52",
   "metadata": {},
   "source": [
    "Q6. What is the difference between `sort_values()` and `sort_index()`?"
   ]
  },
  {
   "cell_type": "markdown",
   "id": "3fd66fb1",
   "metadata": {},
   "source": [
    "- `sort_values()` sorts based on column data values.\n",
    "- `sort_index()` sorts based on the row or column **index**.\n",
    "    \n",
    "    Use `sort_values()` when we care about the actual data. Use `sort_index()` when we care about the order of rows."
   ]
  },
  {
   "cell_type": "markdown",
   "id": "ed8bf9e5",
   "metadata": {},
   "source": [
    "## Summary\n",
    "\n",
    "Sorting is a foundational operation in data analysis that helps bring structure and clarity to datasets. In Pandas, we primarily use two methods to perform sorting: `sort_values()` and `sort_index()`.\n",
    "\n",
    "- `sort_values()` allows sorting based on one or multiple column values (e.g., sorting passengers by age or fare).\n",
    "- `sort_index()` arranges the rows or columns based on the index, which is especially helpful when working with time series or restoring original order after a shuffle.\n",
    "\n",
    "We can sort in ascending or descending order, handle missing values using `na_position`, and apply custom sorting logic using the `key` parameter. Sorting can also be performed on multiple criteria (like class and fare), or even on derived values such as the absolute difference from the median. It supports sorting of strings, categorical data, and even DataFrame columns (`axis=1`).\n",
    "\n",
    "For large datasets, performance tips like using `inplace=True`, or methods like `nlargest()` and `nsmallest()` help save memory and time. Sorting is widely used in feature engineering, exploratory data analysis (EDA), data cleaning, and machine learning pipelines.\n",
    "\n",
    "Mastering sorting enables you to identify top performers, clean inconsistencies, and prepare data for meaningful insights — making it an essential skill for any data-driven project."
   ]
  }
 ],
 "metadata": {
  "kernelspec": {
   "display_name": "Venv",
   "language": "python",
   "name": "python3"
  },
  "language_info": {
   "codemirror_mode": {
    "name": "ipython",
    "version": 3
   },
   "file_extension": ".py",
   "mimetype": "text/x-python",
   "name": "python",
   "nbconvert_exporter": "python",
   "pygments_lexer": "ipython3",
   "version": "3.12.8"
  }
 },
 "nbformat": 4,
 "nbformat_minor": 5
}
