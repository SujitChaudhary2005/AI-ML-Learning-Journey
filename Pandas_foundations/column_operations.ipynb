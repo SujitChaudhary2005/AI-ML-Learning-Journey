{
 "cells": [
  {
   "cell_type": "markdown",
   "id": "dfc18be2",
   "metadata": {},
   "source": [
    "# Column Operations in Pandas\n",
    "\n",
    "### What Are Column Operations?\n",
    "\n",
    "Column operations in Pandas involve creating new columns, modifying existing ones, renaming them for clarity, or removing unnecessary columns to streamline our dataset. These operations are core to **data cleaning**, **feature engineering**, and **dataset restructuring** — all of which are essential for any kind of data analysis or machine learning workflow.\n",
    "\n",
    "With just a few lines of code, we can manipulate columns using vectorized operations, built-in Pandas methods, or custom logic. Whether we're building new features like \"is_child\" or renaming \"Pclass\" to \"Passenger_Class\", column operations let us transform our raw data into a meaningful format.\n",
    "\n",
    "### Why Column Operations Are Important\n",
    "\n",
    "Column operations are crucial for:\n",
    "\n",
    "- **Feature Engineering**: Creating new features based on domain logic or statistical transformations.\n",
    "- **Cleaning Data**: Removing or renaming columns that are unclear or redundant.\n",
    "- **Readability**: Giving clear and meaningful names to columns helps teams and tools understand the dataset better.\n",
    "- **Preprocessing for ML Models**: Selecting and engineering the right columns is vital for model accuracy.\n",
    "\n",
    "In practice, nearly **every data science project** requires column operations at some point before the data is ready for modeling or analysis.\n",
    "\n",
    "### Common Column Operations and Their Syntax\n",
    "\n",
    "**1. Creating a New Column**\n",
    "\n",
    "We can assign a new Series (list, logic, operation, etc.) to a new column name."
   ]
  },
  {
   "cell_type": "code",
   "execution_count": 1,
   "id": "3724c7d4",
   "metadata": {},
   "outputs": [
    {
     "name": "stdout",
     "output_type": "stream",
     "text": [
      "   SibSp  Parch  FamilySize\n",
      "0      1      0           1\n",
      "1      1      0           1\n",
      "2      0      0           0\n",
      "3      1      0           1\n",
      "4      0      0           0\n"
     ]
    }
   ],
   "source": [
    "import pandas as pd\n",
    "df = pd.read_csv(\"data/train.csv\")\n",
    "\n",
    "# Add a column 'FamilySize' = SibSp + Parch\n",
    "df['FamilySize'] = df['SibSp'] + df['Parch']\n",
    "print(df[['SibSp', 'Parch', 'FamilySize']].head())"
   ]
  },
  {
   "cell_type": "markdown",
   "id": "17e37bec",
   "metadata": {},
   "source": [
    "**2. Modifying an Existing Column**\n",
    "\n",
    "You can overwrite an existing column with a modified version of itself."
   ]
  },
  {
   "cell_type": "code",
   "execution_count": 2,
   "id": "11883a91",
   "metadata": {},
   "outputs": [
    {
     "name": "stdout",
     "output_type": "stream",
     "text": [
      "       Fare\n",
      "0  2.110213\n",
      "1  4.280593\n",
      "2  2.188856\n",
      "3  3.990834\n",
      "4  2.202765\n"
     ]
    }
   ],
   "source": [
    "import numpy as np\n",
    "df['Fare'] = np.log1p(df['Fare'])\n",
    "print(df[['Fare']].head())"
   ]
  },
  {
   "cell_type": "markdown",
   "id": "dda6d743",
   "metadata": {},
   "source": [
    "**3. Renaming Columns**\n",
    "\n",
    "Use `.rename()` method with `columns` argument. Set `inplace=True` to apply directly."
   ]
  },
  {
   "cell_type": "code",
   "execution_count": 3,
   "id": "6b3a289d",
   "metadata": {},
   "outputs": [
    {
     "name": "stdout",
     "output_type": "stream",
     "text": [
      "Index(['PassengerId', 'Survived', 'Passenger_Class', 'Name', 'Sex', 'Age',\n",
      "       'SibSp', 'Parch', 'Ticket', 'Fare', 'Cabin', 'Embarked', 'FamilySize'],\n",
      "      dtype='object')\n"
     ]
    }
   ],
   "source": [
    "# Rename 'Pclass' to 'Passenger_Class'\n",
    "df.rename(columns={'Pclass': 'Passenger_Class'}, inplace=True)\n",
    "print(df.columns)"
   ]
  },
  {
   "cell_type": "markdown",
   "id": "d1b43f51",
   "metadata": {},
   "source": [
    "**4. Dropping Columns**\n",
    "\n",
    "Use `.drop()` method with `axis=1` for columns."
   ]
  },
  {
   "cell_type": "code",
   "execution_count": 4,
   "id": "b17c94a1",
   "metadata": {},
   "outputs": [
    {
     "name": "stdout",
     "output_type": "stream",
     "text": [
      "Dropped 'Cabin' column. Current columns: Index(['PassengerId', 'Survived', 'Passenger_Class', 'Name', 'Sex', 'Age',\n",
      "       'SibSp', 'Parch', 'Ticket', 'Fare', 'Embarked', 'FamilySize'],\n",
      "      dtype='object')\n",
      "Dropped 'Ticket' and 'Embarked' columns. Current columns: Index(['PassengerId', 'Survived', 'Passenger_Class', 'Name', 'Sex', 'Age',\n",
      "       'SibSp', 'Parch', 'Fare', 'FamilySize'],\n",
      "      dtype='object')\n"
     ]
    }
   ],
   "source": [
    "# Drop the 'Cabin' column\n",
    "df.drop('Cabin', axis=1, inplace=True)\n",
    "print(\"Dropped 'Cabin' column. Current columns:\", df.columns)\n",
    "\n",
    "# Drop multiple columns\n",
    "df.drop(['Ticket', 'Embarked'], axis=1, inplace=True)\n",
    "print(\"Dropped 'Ticket' and 'Embarked' columns. Current columns:\", df.columns)"
   ]
  },
  {
   "cell_type": "markdown",
   "id": "f67e6209",
   "metadata": {},
   "source": [
    "### Examples Using Titanic Dataset"
   ]
  },
  {
   "cell_type": "code",
   "execution_count": null,
   "id": "04dc2ff0",
   "metadata": {},
   "outputs": [
    {
     "name": "stdout",
     "output_type": "stream",
     "text": [
      "   SibSp  Parch  FamilySize\n",
      "0      1      0           1\n",
      "1      1      0           1\n",
      "2      0      0           0\n",
      "3      1      0           1\n",
      "4      0      0           0\n",
      "       Fare\n",
      "0  1.134691\n",
      "1  1.664038\n",
      "2  1.159662\n",
      "3  1.607603\n",
      "4  1.164014\n",
      "Index(['PassengerId', 'Survived', 'Passenger_Class', 'Name', 'Sex', 'Age',\n",
      "       'SibSp', 'Parch', 'Fare', 'FamilySize'],\n",
      "      dtype='object')\n",
      "Index(['PassengerId', 'Survived', 'Passenger_Class', 'Name', 'Sex', 'Age',\n",
      "       'Fare'],\n",
      "      dtype='object')\n"
     ]
    }
   ],
   "source": [
    "# 1. Create a new column 'FamilySize'\n",
    "df['FamilySize'] = df['SibSp'] + df['Parch']\n",
    "print(df[['SibSp', 'Parch', 'FamilySize']].head())\n",
    "\n",
    "# 2. Modify 'Fare' to log scale to normalize\n",
    "import numpy as np\n",
    "df['Fare'] = np.log1p(df['Fare'])\n",
    "print(df[['Fare']].head())\n",
    "\n",
    "# 3. Rename 'Pclass' to 'Passenger_Class'\n",
    "df.rename(columns={'Pclass': 'Passenger_Class'}, inplace=True)\n",
    "print(df.columns)\n",
    "\n",
    "# 4. Drop the 'SibSp' column\n",
    "df.drop('SibSp', axis=1, inplace=True)\n",
    "\n",
    "# 5. Drop 'Parch' and 'FamilySize'\n",
    "df.drop(['Parch', 'FamilySize'], axis=1, inplace=True)\n",
    "\n",
    "# Check final columns\n",
    "print(df.columns)"
   ]
  },
  {
   "cell_type": "markdown",
   "id": "b4365eb0",
   "metadata": {},
   "source": [
    "### Real-World Machine Learning Use Cases\n",
    "\n",
    "- Creating a `has_family` flag: `df['HasFamily'] = (df['FamilySize'] > 0).astype(int)`\n",
    "- Normalizing or transforming numeric columns for better model performance.\n",
    "- Renaming columns to remove spaces or special characters before exporting to ML libraries.\n",
    "- Dropping columns that are irrelevant or leak information.\n",
    "\n",
    "### Best Practices\n",
    "\n",
    "| Task | Best Practice |\n",
    "| --- | --- |\n",
    "| Creating Columns | Use vectorized operations (avoid loops) |\n",
    "| Renaming | Use `.rename()` and keep names consistent across projects |\n",
    "| Dropping | Drop with `inplace=True` or reassign to avoid confusion |\n",
    "| Modifying | Use `.apply()` or NumPy methods for fast transformations |\n",
    "| Permanent Changes | Always inspect `.columns` before saving or exporting |\n",
    "\n",
    "### Exercises\n",
    "\n",
    "Q1. Create a new column `is_child` where age < 12 → 1, else 0"
   ]
  },
  {
   "cell_type": "code",
   "execution_count": 6,
   "id": "e7f2f36b",
   "metadata": {},
   "outputs": [
    {
     "name": "stdout",
     "output_type": "stream",
     "text": [
      "                                                Name   Age  is_child\n",
      "0                            Braund, Mr. Owen Harris  22.0         0\n",
      "1  Cumings, Mrs. John Bradley (Florence Briggs Th...  38.0         0\n",
      "2                             Heikkinen, Miss. Laina  26.0         0\n",
      "3       Futrelle, Mrs. Jacques Heath (Lily May Peel)  35.0         0\n",
      "4                           Allen, Mr. William Henry  35.0         0\n"
     ]
    }
   ],
   "source": [
    "df['is_child'] = df['Age'].apply(lambda age: 1 if age < 12 else 0)\n",
    "print(df[['Name', 'Age', 'is_child']].head())"
   ]
  },
  {
   "cell_type": "markdown",
   "id": "80e93631",
   "metadata": {},
   "source": [
    "Q2. Create a column `Fare_Category` with values: 'Low' if Fare < 10, 'Mid' if 10 ≤ Fare < 50, else 'High'"
   ]
  },
  {
   "cell_type": "code",
   "execution_count": 7,
   "id": "38b1239d",
   "metadata": {},
   "outputs": [
    {
     "name": "stdout",
     "output_type": "stream",
     "text": [
      "       Fare Fare_Category\n",
      "0  1.134691           Low\n",
      "1  1.664038           Low\n",
      "2  1.159662           Low\n",
      "3  1.607603           Low\n",
      "4  1.164014           Low\n"
     ]
    }
   ],
   "source": [
    "def categorize_fare(fare):\n",
    "    if fare < 10:\n",
    "        return 'Low'\n",
    "    elif fare < 50:\n",
    "        return 'Mid'\n",
    "    else:\n",
    "        return 'High'\n",
    "\n",
    "df['Fare_Category'] = df['Fare'].apply(categorize_fare)\n",
    "print(df[['Fare', 'Fare_Category']].head())"
   ]
  },
  {
   "cell_type": "markdown",
   "id": "c6e5cc9a",
   "metadata": {},
   "source": [
    "Q3. Rename columns `Sex` to `Gender` and `Age` to `Passenger_Age`"
   ]
  },
  {
   "cell_type": "code",
   "execution_count": 8,
   "id": "b8c52518",
   "metadata": {},
   "outputs": [
    {
     "name": "stdout",
     "output_type": "stream",
     "text": [
      "   Gender  Passenger_Age\n",
      "0    male           22.0\n",
      "1  female           38.0\n",
      "2  female           26.0\n",
      "3  female           35.0\n",
      "4    male           35.0\n"
     ]
    }
   ],
   "source": [
    "df.rename(columns={'Sex': 'Gender', 'Age': 'Passenger_Age'}, inplace=True)\n",
    "print(df[['Gender', 'Passenger_Age']].head())"
   ]
  },
  {
   "cell_type": "markdown",
   "id": "ff4da1c0",
   "metadata": {},
   "source": [
    "Q4. Drop columns `PassengerId` and `Name` from the dataset"
   ]
  },
  {
   "cell_type": "code",
   "execution_count": 9,
   "id": "8a263d98",
   "metadata": {},
   "outputs": [
    {
     "name": "stdout",
     "output_type": "stream",
     "text": [
      "   Survived  Passenger_Class  Gender  Passenger_Age      Fare  is_child  \\\n",
      "0         0                3    male           22.0  1.134691         0   \n",
      "1         1                1  female           38.0  1.664038         0   \n",
      "2         1                3  female           26.0  1.159662         0   \n",
      "3         1                1  female           35.0  1.607603         0   \n",
      "4         0                3    male           35.0  1.164014         0   \n",
      "\n",
      "  Fare_Category  \n",
      "0           Low  \n",
      "1           Low  \n",
      "2           Low  \n",
      "3           Low  \n",
      "4           Low  \n"
     ]
    }
   ],
   "source": [
    "df.drop(['PassengerId', 'Name'], axis=1, inplace=True)\n",
    "print(df.head())"
   ]
  },
  {
   "cell_type": "markdown",
   "id": "55b08a24",
   "metadata": {},
   "source": [
    "Q5. Add a new column `Fare_Squared` which is Fare squared"
   ]
  },
  {
   "cell_type": "code",
   "execution_count": 10,
   "id": "4b178c77",
   "metadata": {},
   "outputs": [
    {
     "name": "stdout",
     "output_type": "stream",
     "text": [
      "       Fare  Fare_Squared\n",
      "0  1.134691      1.287524\n",
      "1  1.664038      2.769024\n",
      "2  1.159662      1.344817\n",
      "3  1.607603      2.584388\n",
      "4  1.164014      1.354930\n"
     ]
    }
   ],
   "source": [
    "df['Fare_Squared'] = df['Fare'] ** 2\n",
    "print(df[['Fare', 'Fare_Squared']].head())"
   ]
  },
  {
   "cell_type": "markdown",
   "id": "16e7ef3e",
   "metadata": {},
   "source": [
    "### Summary\n",
    "\n",
    "Column operations are the backbone of data transformation in Pandas. They allow us to reshape our dataset by adding, updating, renaming, or removing columns. In real-world projects, column operations are often the **first and most frequent actions** taken before any serious modeling or visual analysis begins.\n",
    "\n",
    "From creating derived features like `FamilySize` or `Fare_Category`, to cleaning up messy column names or dropping irrelevant information, these steps make our dataset **more structured, readable, and model-ready**. Efficient column operations also help reduce memory usage and improve processing speed, especially for large datasets.\n",
    "\n",
    "These operations are also integral to **feature engineering**, which is one of the most impactful steps in the ML pipeline. A good model often starts with well-engineered columns. When done properly, these operations simplify our workflow and help eliminate data quality issues early in the process.\n",
    "\n",
    "Mastering these operations ensures we can move swiftly from raw CSVs to a clean, analysis-ready dataset. Understanding how to write clean, maintainable code for column operations is a sign of a strong data professional or ML engineer."
   ]
  }
 ],
 "metadata": {
  "kernelspec": {
   "display_name": "Venv",
   "language": "python",
   "name": "python3"
  },
  "language_info": {
   "codemirror_mode": {
    "name": "ipython",
    "version": 3
   },
   "file_extension": ".py",
   "mimetype": "text/x-python",
   "name": "python",
   "nbconvert_exporter": "python",
   "pygments_lexer": "ipython3",
   "version": "3.12.8"
  }
 },
 "nbformat": 4,
 "nbformat_minor": 5
}
