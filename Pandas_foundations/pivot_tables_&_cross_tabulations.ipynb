{
 "cells": [
  {
   "cell_type": "markdown",
   "id": "68b0208a",
   "metadata": {},
   "source": [
    "# Pivot Tables and Cross-Tabulations in Pandas\n",
    "\n",
    "### What Is a Pivot Table?\n",
    "\n",
    "A **pivot table** is a high-level data summarization tool that allows us to **rearrange, group, and compute aggregations** over a DataFrame. Think of it as an Excel-style table that we can “pivot” around different columns to understand data patterns better.\n",
    "\n",
    "In Pandas, the `.pivot_table()` function lets us:\n",
    "\n",
    "- Choose a **row index** (e.g., class)\n",
    "- Choose a **column index** (e.g., gender)\n",
    "- Choose **values to aggregate** (e.g., fare or survival)\n",
    "- Choose **how to aggregate** (mean, sum, count, etc.)\n",
    "\n",
    "### Basic syntax\n",
    "\n",
    "```python\n",
    "df.pivot_table(values='Fare', index='Pclass', columns='Sex', aggfunc='mean')\n",
    "```\n",
    "\n",
    "This shows the **average fare** paid by each gender in each class — instantly! Unlike `groupby()`, pivot tables also **automatically fill in missing combinations** with `NaN` and support **multi-indexing** for even deeper insight.\n",
    "\n",
    "Why does this matter in AI/ML? Before training any model, we want to know:\n",
    "\n",
    "- Which groups paid more or had better survival odds?\n",
    "- Are there biases in our features?\n",
    "- Are some combinations rare or dominant?\n",
    "\n",
    "These insights help us choose better features, balance our datasets, and avoid misleading trends. Pivot tables are fast, flexible, and perfect for summarizing complex multi-dimensional data.\n",
    "\n",
    "### Example:"
   ]
  },
  {
   "cell_type": "code",
   "execution_count": 1,
   "id": "ac7ecc98",
   "metadata": {},
   "outputs": [
    {
     "name": "stdout",
     "output_type": "stream",
     "text": [
      "Sex         female       male\n",
      "Pclass                       \n",
      "1       106.125798  67.226127\n",
      "2        21.970121  19.741782\n",
      "3        16.118810  12.661633\n"
     ]
    }
   ],
   "source": [
    "import pandas as pd\n",
    "df = pd.read_csv(\"data/train.csv\")\n",
    "\n",
    "# Pivot: Mean fare by Pclass and Sex\n",
    "pivot = df.pivot_table(values='Fare', index='Pclass', columns='Sex', aggfunc='mean')\n",
    "print(pivot)"
   ]
  },
  {
   "cell_type": "markdown",
   "id": "98a22dca",
   "metadata": {},
   "source": [
    "### What Is a Cross Tabulation?\n",
    "\n",
    "A **cross-tabulation (crosstab)** is similar to a pivot table but is specifically designed for **counting frequencies** between two or more categorical variables. Pandas provides `.crosstab()` to generate this quickly.\n",
    "\n",
    "### Example"
   ]
  },
  {
   "cell_type": "code",
   "execution_count": 2,
   "id": "446a0a3a",
   "metadata": {},
   "outputs": [
    {
     "name": "stdout",
     "output_type": "stream",
     "text": [
      "Survived    0    1\n",
      "Sex               \n",
      "female     81  233\n",
      "male      468  109\n"
     ]
    }
   ],
   "source": [
    "print(pd.crosstab(df['Sex'], df['Survived']))"
   ]
  },
  {
   "cell_type": "markdown",
   "id": "4f606cf8",
   "metadata": {},
   "source": [
    "This outputs a table where:\n",
    "\n",
    "- Rows = Sex (Male, Female)\n",
    "- Columns = Survived (0 or 1)\n",
    "- Values = Count of occurrences\n",
    "\n",
    "It's one of the best tools for checking **class balance**, **relationships between categories**, and **potential feature-target dependencies**.\n",
    "\n",
    "Why does this matter in AI/ML?\n",
    "\n",
    "- We can use `.crosstab()` to **check class imbalance** in our target.\n",
    "- Spot **dominant groups** (e.g., most survivors are females?).\n",
    "- Explore relationships without visualizations.\n",
    "\n",
    "### Syntax\n",
    "\n",
    "```python\n",
    "pd.crosstab(index=df['Pclass'], columns=df['Survived'], margins=True)\n",
    "```\n",
    "\n",
    "The `margins=True` argument adds total row/column counts.\n",
    "We can even normalize:"
   ]
  },
  {
   "cell_type": "code",
   "execution_count": 3,
   "id": "6bb63f51",
   "metadata": {},
   "outputs": [
    {
     "name": "stdout",
     "output_type": "stream",
     "text": [
      "Survived         0         1\n",
      "Pclass                      \n",
      "1         0.370370  0.629630\n",
      "2         0.527174  0.472826\n",
      "3         0.757637  0.242363\n"
     ]
    }
   ],
   "source": [
    "# Normalize by row to see % survival by class\n",
    "print(pd.crosstab(df['Pclass'], df['Survived'], normalize='index'))"
   ]
  },
  {
   "cell_type": "markdown",
   "id": "9f8f1ad8",
   "metadata": {},
   "source": [
    "This gives survival **ratios** instead of raw counts — very helpful when engineering features like \"Class_Survival_Rate\".\n",
    "\n",
    "Crosstabs also support multiple columns:"
   ]
  },
  {
   "cell_type": "code",
   "execution_count": 4,
   "id": "bd22f087",
   "metadata": {},
   "outputs": [
    {
     "name": "stdout",
     "output_type": "stream",
     "text": [
      "Survived           0    1\n",
      "Sex    Embarked          \n",
      "female C           9   64\n",
      "       Q           9   27\n",
      "       S          63  140\n",
      "male   C          66   29\n",
      "       Q          38    3\n",
      "       S         364   77\n"
     ]
    }
   ],
   "source": [
    "print(pd.crosstab([df['Sex'], df['Embarked']], df['Survived']))"
   ]
  },
  {
   "cell_type": "markdown",
   "id": "8fb6eef1",
   "metadata": {},
   "source": [
    "This multi-index lets us answer deep questions like:\n",
    "\n",
    "> “How did female passengers embarking from Cherbourg fare?”\n",
    "> \n",
    "\n",
    "That’s the beauty of crosstabs — they bring **hidden relationships** to the surface.\n",
    "\n",
    "### Exercises\n",
    "\n",
    "Q1. Create a pivot table showing average Age by Pclass and Sex."
   ]
  },
  {
   "cell_type": "code",
   "execution_count": 5,
   "id": "f1e62c1c",
   "metadata": {},
   "outputs": [
    {
     "name": "stdout",
     "output_type": "stream",
     "text": [
      "Sex        female       male\n",
      "Pclass                      \n",
      "1       34.611765  41.281386\n",
      "2       28.722973  30.740707\n",
      "3       21.750000  26.507589\n"
     ]
    }
   ],
   "source": [
    "print(df.pivot_table(values='Age', index='Pclass', columns='Sex', aggfunc='mean'))"
   ]
  },
  {
   "cell_type": "markdown",
   "id": "e6be9eaf",
   "metadata": {},
   "source": [
    "Q2. Show count of passengers by Sex and Survived using crosstab."
   ]
  },
  {
   "cell_type": "code",
   "execution_count": 6,
   "id": "0492b43e",
   "metadata": {},
   "outputs": [
    {
     "name": "stdout",
     "output_type": "stream",
     "text": [
      "Survived    0    1\n",
      "Sex               \n",
      "female     81  233\n",
      "male      468  109\n"
     ]
    }
   ],
   "source": [
    "print(pd.crosstab(df['Sex'], df['Survived']))"
   ]
  },
  {
   "cell_type": "markdown",
   "id": "41d41302",
   "metadata": {},
   "source": [
    "Q3. What percentage of passengers survived by class?"
   ]
  },
  {
   "cell_type": "code",
   "execution_count": 7,
   "id": "9af21f09",
   "metadata": {},
   "outputs": [
    {
     "name": "stdout",
     "output_type": "stream",
     "text": [
      "Survived         0         1\n",
      "Pclass                      \n",
      "1         0.370370  0.629630\n",
      "2         0.527174  0.472826\n",
      "3         0.757637  0.242363\n"
     ]
    }
   ],
   "source": [
    "print(pd.crosstab(df['Pclass'], df['Survived'], normalize='index'))"
   ]
  },
  {
   "cell_type": "markdown",
   "id": "b518779f",
   "metadata": {},
   "source": [
    "Q4. Use pivot_table to show median Fare by Embarked and Sex."
   ]
  },
  {
   "cell_type": "code",
   "execution_count": 8,
   "id": "cefe844a",
   "metadata": {},
   "outputs": [
    {
     "name": "stdout",
     "output_type": "stream",
     "text": [
      "Sex         female   male\n",
      "Embarked                 \n",
      "C         56.92920  24.00\n",
      "Q          7.76875   7.75\n",
      "S         24.15000  10.50\n"
     ]
    }
   ],
   "source": [
    "print(df.pivot_table(values='Fare', index='Embarked', columns='Sex', aggfunc='median'))"
   ]
  },
  {
   "cell_type": "markdown",
   "id": "101d0c83",
   "metadata": {},
   "source": [
    "### Summary\n",
    "\n",
    "**Pivot tables** and **crosstabs** are two of the most valuable tools in any data scientist’s arsenal for **summarizing structured data**. While they may seem similar, each has its specific strength:\n",
    "\n",
    "- Use **pivot tables** when we want to **aggregate** (sum, mean, count, median) over multiple dimensions.\n",
    "- Use **crosstabs** when we want to **count relationships** between categorical features.\n",
    "\n",
    "Both allow us to uncover **non-obvious group patterns**, engineer useful features, and validate dataset assumptions before building any models.\n",
    "\n",
    "In the context of AI/ML:\n",
    "\n",
    "- These tools help identify **group-level trends**, **imbalances**, and **biases** that could affect model fairness or performance.\n",
    "- We can extract domain knowledge that improves feature selection and model logic.\n",
    "- They’re vital for preprocessing, quality checks, and post-model analysis.\n",
    "\n",
    "For example, if a pivot table shows that 1st-class female passengers have a 90% survival rate, that insight might influence our feature engineering. Or, if a crosstab shows that nearly all 3rd-class males died, it might highlight a need to balance training data for better generalization.\n",
    "\n",
    "In conclusion, pivot tables and cross-tabs are not just EDA tricks — they’re **AI/ML decision-making tools** that every serious data scientist should master."
   ]
  }
 ],
 "metadata": {
  "kernelspec": {
   "display_name": "Venv",
   "language": "python",
   "name": "python3"
  },
  "language_info": {
   "codemirror_mode": {
    "name": "ipython",
    "version": 3
   },
   "file_extension": ".py",
   "mimetype": "text/x-python",
   "name": "python",
   "nbconvert_exporter": "python",
   "pygments_lexer": "ipython3",
   "version": "3.12.8"
  }
 },
 "nbformat": 4,
 "nbformat_minor": 5
}
