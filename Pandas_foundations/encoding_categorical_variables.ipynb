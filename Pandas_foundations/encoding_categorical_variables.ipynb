{
 "cells": [
  {
   "cell_type": "markdown",
   "id": "9fac19cf",
   "metadata": {},
   "source": [
    "# Encoding Categorical Variables in Pandas\n",
    "\n",
    "### What Is Encoding?\n",
    "\n",
    "In machine learning and AI workflows, we can’t directly use categorical text like `'male'`, `'female'`, `'S'`, `'C'`, or `'Q'` in models — they need to be **converted into numbers**. This process is called **encoding**, and it’s an essential step before feeding categorical data into algorithms.\n",
    "\n",
    "Encoding transforms human-readable categories into numerical formats while **preserving meaning** and **avoiding bias**. There are multiple strategies, and the choice depends on the number of categories, their importance, and whether or not the data has an inherent order.\n",
    "\n",
    "### Pandas provides two main encoding techniques:\n",
    "\n",
    "- `.map()` / `.replace()` – Simple label conversion for binary or manual mappings.\n",
    "- `pd.get_dummies()` – For one-hot encoding (OHE), where each category becomes a new column with 0 or 1.\n",
    "\n",
    "### Using `.map()` for Binary Categories\n",
    "\n",
    "The `.map()` method is perfect for converting binary categorical columns into 0s and 1s."
   ]
  },
  {
   "cell_type": "code",
   "execution_count": 1,
   "id": "bb742a10",
   "metadata": {},
   "outputs": [
    {
     "name": "stdout",
     "output_type": "stream",
     "text": [
      "      Sex  Sex_mapped\n",
      "0    male           0\n",
      "1  female           1\n",
      "2  female           1\n",
      "3  female           1\n",
      "4    male           0\n"
     ]
    }
   ],
   "source": [
    "import pandas as pd\n",
    "\n",
    "df = pd.read_csv(\"data/train.csv\")\n",
    "\n",
    "# Convert 'Sex' to 0/1\n",
    "df['Sex_mapped'] = df['Sex'].map({'male': 0, 'female': 1})\n",
    "\n",
    "print(df[['Sex', 'Sex_mapped']].head())"
   ]
  },
  {
   "cell_type": "markdown",
   "id": "ac00a1c8",
   "metadata": {},
   "source": [
    "This method is **clean and intuitive**. We define a dictionary to map original categories to numeric values. It’s commonly used in binary gender, Yes/No, or True/False columns.\n",
    "\n",
    "### Using `.replace()` for Manual Mapping\n",
    "\n",
    "`.replace()` works similarly to `.map()` but is slightly more flexible. It can handle multiple column replacements or even values not present in the column without raising errors."
   ]
  },
  {
   "cell_type": "code",
   "execution_count": 2,
   "id": "b952cefe",
   "metadata": {},
   "outputs": [
    {
     "name": "stdout",
     "output_type": "stream",
     "text": [
      "  Embarked  Embarked_replaced\n",
      "0        S                0.0\n",
      "1        C                1.0\n",
      "2        S                0.0\n",
      "3        S                0.0\n",
      "4        S                0.0\n"
     ]
    },
    {
     "name": "stderr",
     "output_type": "stream",
     "text": [
      "C:\\Users\\LOQ\\AppData\\Local\\Temp\\ipykernel_8940\\3923562052.py:2: FutureWarning: Downcasting behavior in `replace` is deprecated and will be removed in a future version. To retain the old behavior, explicitly call `result.infer_objects(copy=False)`. To opt-in to the future behavior, set `pd.set_option('future.no_silent_downcasting', True)`\n",
      "  df['Embarked_replaced'] = df['Embarked'].replace({'S': 0, 'C': 1, 'Q': 2}).infer_objects(copy=False)\n"
     ]
    }
   ],
   "source": [
    "# Convert 'Embarked' values to numeric codes\n",
    "df['Embarked_replaced'] = df['Embarked'].replace({'S': 0, 'C': 1, 'Q': 2}).infer_objects(copy=False)\n",
    "print(df[['Embarked', 'Embarked_replaced']].head())"
   ]
  },
  {
   "cell_type": "markdown",
   "id": "27cec9d2",
   "metadata": {},
   "source": [
    "Use `.replace()` when:\n",
    "\n",
    "- We’re replacing multiple categories\n",
    "- We want to avoid NaNs if categories are missing\n",
    "- We don’t want `.map()`'s strict behavior\n",
    "\n",
    "### About `.infer_objects(copy=False)`\n",
    "\n",
    "When we use `.replace()` to convert string values to numbers, Pandas might still keep the column's data type as `object`, even though it looks like numbers. This can cause issues in later steps, especially with machine learning models.\n",
    "\n",
    "To fix this, we use:"
   ]
  },
  {
   "cell_type": "code",
   "execution_count": null,
   "id": "e3c0c4b2",
   "metadata": {},
   "outputs": [],
   "source": [
    ".infer_objects(copy=False)"
   ]
  },
  {
   "cell_type": "markdown",
   "id": "1b69ab79",
   "metadata": {},
   "source": [
    "- It tells Pandas to **try to infer the best data type** for the column (like converting from `object` to `int` or `float`).\n",
    "- `copy=False` means it will update the data in place, saving memory.\n",
    "\n",
    "This helps avoid future warnings and ensures our numeric data is actually numeric!\n",
    "\n",
    "### One-Hot Encoding with `pd.get_dummies()`\n",
    "\n",
    "One-hot encoding creates a new column for **each category** and marks presence with 1 or absence with 0. This is ideal for categorical data with no order, such as `'Embarked'`, `'Pclass'`, or `'Sex'`."
   ]
  },
  {
   "cell_type": "code",
   "execution_count": 3,
   "id": "c6d99a59",
   "metadata": {},
   "outputs": [
    {
     "name": "stdout",
     "output_type": "stream",
     "text": [
      "  Embarked  Embarked_C  Embarked_Q  Embarked_S\n",
      "0        S       False       False        True\n",
      "1        C        True       False       False\n",
      "2        S       False       False        True\n",
      "3        S       False       False        True\n",
      "4        S       False       False        True\n"
     ]
    }
   ],
   "source": [
    "# One-hot encode 'Embarked'\n",
    "embarked_dummies = pd.get_dummies(df['Embarked'], prefix='Embarked')\n",
    "df = pd.concat([df, embarked_dummies], axis=1)\n",
    "\n",
    "print(df[['Embarked', 'Embarked_C', 'Embarked_Q', 'Embarked_S']].head())"
   ]
  },
  {
   "cell_type": "markdown",
   "id": "e9781315",
   "metadata": {},
   "source": [
    "This avoids introducing artificial order into categorical variables. It’s commonly used when training ML models with `scikit-learn`, `XGBoost`, etc.\n",
    "\n",
    "### Optional:\n",
    "\n",
    "To avoid multicollinearity (where dummy variables are linearly dependent), We can use:"
   ]
  },
  {
   "cell_type": "code",
   "execution_count": 4,
   "id": "2ff58648",
   "metadata": {},
   "outputs": [
    {
     "data": {
      "text/html": [
       "<div>\n",
       "<style scoped>\n",
       "    .dataframe tbody tr th:only-of-type {\n",
       "        vertical-align: middle;\n",
       "    }\n",
       "\n",
       "    .dataframe tbody tr th {\n",
       "        vertical-align: top;\n",
       "    }\n",
       "\n",
       "    .dataframe thead th {\n",
       "        text-align: right;\n",
       "    }\n",
       "</style>\n",
       "<table border=\"1\" class=\"dataframe\">\n",
       "  <thead>\n",
       "    <tr style=\"text-align: right;\">\n",
       "      <th></th>\n",
       "      <th>Embarked_Q</th>\n",
       "      <th>Embarked_S</th>\n",
       "    </tr>\n",
       "  </thead>\n",
       "  <tbody>\n",
       "    <tr>\n",
       "      <th>0</th>\n",
       "      <td>False</td>\n",
       "      <td>True</td>\n",
       "    </tr>\n",
       "    <tr>\n",
       "      <th>1</th>\n",
       "      <td>False</td>\n",
       "      <td>False</td>\n",
       "    </tr>\n",
       "    <tr>\n",
       "      <th>2</th>\n",
       "      <td>False</td>\n",
       "      <td>True</td>\n",
       "    </tr>\n",
       "    <tr>\n",
       "      <th>3</th>\n",
       "      <td>False</td>\n",
       "      <td>True</td>\n",
       "    </tr>\n",
       "    <tr>\n",
       "      <th>4</th>\n",
       "      <td>False</td>\n",
       "      <td>True</td>\n",
       "    </tr>\n",
       "    <tr>\n",
       "      <th>...</th>\n",
       "      <td>...</td>\n",
       "      <td>...</td>\n",
       "    </tr>\n",
       "    <tr>\n",
       "      <th>886</th>\n",
       "      <td>False</td>\n",
       "      <td>True</td>\n",
       "    </tr>\n",
       "    <tr>\n",
       "      <th>887</th>\n",
       "      <td>False</td>\n",
       "      <td>True</td>\n",
       "    </tr>\n",
       "    <tr>\n",
       "      <th>888</th>\n",
       "      <td>False</td>\n",
       "      <td>True</td>\n",
       "    </tr>\n",
       "    <tr>\n",
       "      <th>889</th>\n",
       "      <td>False</td>\n",
       "      <td>False</td>\n",
       "    </tr>\n",
       "    <tr>\n",
       "      <th>890</th>\n",
       "      <td>True</td>\n",
       "      <td>False</td>\n",
       "    </tr>\n",
       "  </tbody>\n",
       "</table>\n",
       "<p>891 rows × 2 columns</p>\n",
       "</div>"
      ],
      "text/plain": [
       "     Embarked_Q  Embarked_S\n",
       "0         False        True\n",
       "1         False       False\n",
       "2         False        True\n",
       "3         False        True\n",
       "4         False        True\n",
       "..          ...         ...\n",
       "886       False        True\n",
       "887       False        True\n",
       "888       False        True\n",
       "889       False       False\n",
       "890        True       False\n",
       "\n",
       "[891 rows x 2 columns]"
      ]
     },
     "execution_count": 4,
     "metadata": {},
     "output_type": "execute_result"
    }
   ],
   "source": [
    "pd.get_dummies(df['Embarked'], prefix='Embarked', drop_first=True)"
   ]
  },
  {
   "cell_type": "markdown",
   "id": "7dbef530",
   "metadata": {},
   "source": [
    "This drops one dummy column, making the dataset more compact.\n",
    "\n",
    "### Encoding Multiple Columns at Once"
   ]
  },
  {
   "cell_type": "code",
   "execution_count": 5,
   "id": "e229e430",
   "metadata": {},
   "outputs": [
    {
     "name": "stdout",
     "output_type": "stream",
     "text": [
      "Index(['PassengerId', 'Survived', 'Pclass', 'Name', 'Age', 'SibSp', 'Parch',\n",
      "       'Ticket', 'Fare', 'Cabin', 'Sex_female', 'Sex_male', 'Embarked_C',\n",
      "       'Embarked_Q', 'Embarked_S'],\n",
      "      dtype='object')\n"
     ]
    }
   ],
   "source": [
    "df = pd.read_csv(\"data/train.csv\")\n",
    "\n",
    "# One-hot encode 'Sex' and 'Embarked' at once\n",
    "df_encoded = pd.get_dummies(df, columns=['Sex', 'Embarked'], prefix=['Sex', 'Embarked'])\n",
    "\n",
    "print(df_encoded.columns)"
   ]
  },
  {
   "cell_type": "markdown",
   "id": "4b1561c1",
   "metadata": {},
   "source": [
    "This is helpful when we have **many categorical columns** and want to convert all of them efficiently.\n",
    "\n",
    "### Exercises\n",
    "\n",
    "Q1. Encode the 'Sex' column as 0 for male and 1 for female using `.map()`."
   ]
  },
  {
   "cell_type": "code",
   "execution_count": 6,
   "id": "1f4a5bab",
   "metadata": {},
   "outputs": [
    {
     "name": "stdout",
     "output_type": "stream",
     "text": [
      "      Sex  Sex_encoded\n",
      "0    male            0\n",
      "1  female            1\n",
      "2  female            1\n",
      "3  female            1\n",
      "4    male            0\n"
     ]
    }
   ],
   "source": [
    "df['Sex_encoded'] = df['Sex'].map({'male': 0, 'female': 1})\n",
    "print(df[['Sex', 'Sex_encoded']].head())"
   ]
  },
  {
   "cell_type": "markdown",
   "id": "fc546c76",
   "metadata": {},
   "source": [
    "Q2. Use `.replace()` to encode 'Embarked' with: S=0, C=1, Q=2."
   ]
  },
  {
   "cell_type": "code",
   "execution_count": 7,
   "id": "20fb4417",
   "metadata": {},
   "outputs": [
    {
     "name": "stdout",
     "output_type": "stream",
     "text": [
      "  Embarked  Embarked_encoded\n",
      "0        S               0.0\n",
      "1        C               1.0\n",
      "2        S               0.0\n",
      "3        S               0.0\n",
      "4        S               0.0\n"
     ]
    },
    {
     "name": "stderr",
     "output_type": "stream",
     "text": [
      "C:\\Users\\LOQ\\AppData\\Local\\Temp\\ipykernel_8940\\2805559712.py:1: FutureWarning: Downcasting behavior in `replace` is deprecated and will be removed in a future version. To retain the old behavior, explicitly call `result.infer_objects(copy=False)`. To opt-in to the future behavior, set `pd.set_option('future.no_silent_downcasting', True)`\n",
      "  df['Embarked_encoded'] = df['Embarked'].replace({'S': 0, 'C': 1, 'Q': 2}).infer_objects(copy=False)\n"
     ]
    }
   ],
   "source": [
    "df['Embarked_encoded'] = df['Embarked'].replace({'S': 0, 'C': 1, 'Q': 2}).infer_objects(copy=False)\n",
    "print(df[['Embarked', 'Embarked_encoded']].head())"
   ]
  },
  {
   "cell_type": "markdown",
   "id": "4f653e60",
   "metadata": {},
   "source": [
    "Q3. Apply `pd.get_dummies()` to the 'Pclass' column."
   ]
  },
  {
   "cell_type": "code",
   "execution_count": 8,
   "id": "6d8dd280",
   "metadata": {},
   "outputs": [
    {
     "name": "stdout",
     "output_type": "stream",
     "text": [
      "   PassengerId  Survived  Pclass  \\\n",
      "0            1         0       3   \n",
      "1            2         1       1   \n",
      "2            3         1       3   \n",
      "3            4         1       1   \n",
      "4            5         0       3   \n",
      "\n",
      "                                                Name     Sex   Age  SibSp  \\\n",
      "0                            Braund, Mr. Owen Harris    male  22.0      1   \n",
      "1  Cumings, Mrs. John Bradley (Florence Briggs Th...  female  38.0      1   \n",
      "2                             Heikkinen, Miss. Laina  female  26.0      0   \n",
      "3       Futrelle, Mrs. Jacques Heath (Lily May Peel)  female  35.0      1   \n",
      "4                           Allen, Mr. William Henry    male  35.0      0   \n",
      "\n",
      "   Parch            Ticket     Fare Cabin Embarked  Sex_encoded  \\\n",
      "0      0         A/5 21171   7.2500   NaN        S            0   \n",
      "1      0          PC 17599  71.2833   C85        C            1   \n",
      "2      0  STON/O2. 3101282   7.9250   NaN        S            1   \n",
      "3      0            113803  53.1000  C123        S            1   \n",
      "4      0            373450   8.0500   NaN        S            0   \n",
      "\n",
      "   Embarked_encoded  Pclass_1  Pclass_2  Pclass_3  \n",
      "0               0.0     False     False      True  \n",
      "1               1.0      True     False     False  \n",
      "2               0.0     False     False      True  \n",
      "3               0.0      True     False     False  \n",
      "4               0.0     False     False      True  \n"
     ]
    }
   ],
   "source": [
    "pclass_dummies = pd.get_dummies(df['Pclass'], prefix='Pclass')\n",
    "df = pd.concat([df, pclass_dummies], axis=1)\n",
    "print(df.head())"
   ]
  },
  {
   "cell_type": "markdown",
   "id": "618509ad",
   "metadata": {},
   "source": [
    "Q4. Use one-hot encoding on both 'Sex' and 'Embarked' columns at once."
   ]
  },
  {
   "cell_type": "code",
   "execution_count": 9,
   "id": "35f34c09",
   "metadata": {},
   "outputs": [
    {
     "name": "stdout",
     "output_type": "stream",
     "text": [
      "   PassengerId  Survived  Pclass  \\\n",
      "0            1         0       3   \n",
      "1            2         1       1   \n",
      "2            3         1       3   \n",
      "3            4         1       1   \n",
      "4            5         0       3   \n",
      "\n",
      "                                                Name   Age  SibSp  Parch  \\\n",
      "0                            Braund, Mr. Owen Harris  22.0      1      0   \n",
      "1  Cumings, Mrs. John Bradley (Florence Briggs Th...  38.0      1      0   \n",
      "2                             Heikkinen, Miss. Laina  26.0      0      0   \n",
      "3       Futrelle, Mrs. Jacques Heath (Lily May Peel)  35.0      1      0   \n",
      "4                           Allen, Mr. William Henry  35.0      0      0   \n",
      "\n",
      "             Ticket     Fare Cabin  Sex_encoded  Embarked_encoded  Pclass_1  \\\n",
      "0         A/5 21171   7.2500   NaN            0               0.0     False   \n",
      "1          PC 17599  71.2833   C85            1               1.0      True   \n",
      "2  STON/O2. 3101282   7.9250   NaN            1               0.0     False   \n",
      "3            113803  53.1000  C123            1               0.0      True   \n",
      "4            373450   8.0500   NaN            0               0.0     False   \n",
      "\n",
      "   Pclass_2  Pclass_3  Sex_female  Sex_male  Embarked_C  Embarked_Q  \\\n",
      "0     False      True       False      True       False       False   \n",
      "1     False     False        True     False        True       False   \n",
      "2     False      True        True     False       False       False   \n",
      "3     False     False        True     False       False       False   \n",
      "4     False      True       False      True       False       False   \n",
      "\n",
      "   Embarked_S  \n",
      "0        True  \n",
      "1       False  \n",
      "2        True  \n",
      "3        True  \n",
      "4        True  \n"
     ]
    }
   ],
   "source": [
    "df_encoded = pd.get_dummies(df, columns=['Sex', 'Embarked'], prefix=['Sex', 'Embarked'])\n",
    "print(df_encoded.head())"
   ]
  },
  {
   "cell_type": "markdown",
   "id": "d7ece45a",
   "metadata": {},
   "source": [
    "Q5. Use `drop_first=True` with `get_dummies()` on 'Embarked' and explain the difference."
   ]
  },
  {
   "cell_type": "code",
   "execution_count": 10,
   "id": "f60ebd1d",
   "metadata": {},
   "outputs": [
    {
     "name": "stdout",
     "output_type": "stream",
     "text": [
      "       Q      S\n",
      "0  False   True\n",
      "1  False  False\n",
      "2  False   True\n",
      "3  False   True\n",
      "4  False   True\n"
     ]
    }
   ],
   "source": [
    "df_emb_dummies = pd.get_dummies(df['Embarked'], drop_first=True)\n",
    "print(df_emb_dummies.head())"
   ]
  },
  {
   "cell_type": "markdown",
   "id": "e53aa61a",
   "metadata": {},
   "source": [
    "This drops the first category to avoid multicollinearity in ML models.\n",
    "\n",
    "### Summary\n",
    "\n",
    "In this topic, we tackled **encoding categorical variables**, a vital step for any machine learning pipeline. Machine learning models only understand numbers — not strings — so we must transform categorical text data into numeric format.\n",
    "\n",
    "We covered:\n",
    "\n",
    "- `.map()` for binary mapping\n",
    "- `.replace()` for manual or safer multi-value replacement\n",
    "- `pd.get_dummies()` for one-hot encoding, which is powerful and scalable\n",
    "- Encoding multiple columns efficiently\n",
    "\n",
    "These encoding techniques allow categorical data to be included in model training, prediction, and evaluation. As we move forward, we’ll use these encoded variables during **feature selection, scaling, and model fitting**. Without encoding, categorical variables would be ignored or mishandled — leading to poor results. But with the right techniques, they become high-value predictors."
   ]
  }
 ],
 "metadata": {
  "kernelspec": {
   "display_name": "Venv",
   "language": "python",
   "name": "python3"
  },
  "language_info": {
   "codemirror_mode": {
    "name": "ipython",
    "version": 3
   },
   "file_extension": ".py",
   "mimetype": "text/x-python",
   "name": "python",
   "nbconvert_exporter": "python",
   "pygments_lexer": "ipython3",
   "version": "3.12.8"
  }
 },
 "nbformat": 4,
 "nbformat_minor": 5
}
