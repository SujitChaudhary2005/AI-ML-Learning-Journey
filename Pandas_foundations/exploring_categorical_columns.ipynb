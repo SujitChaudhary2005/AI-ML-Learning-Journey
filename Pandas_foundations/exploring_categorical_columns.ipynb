{
 "cells": [
  {
   "cell_type": "markdown",
   "id": "73a65c2a",
   "metadata": {},
   "source": [
    "# Exploring Categorical Columns in Pandas\n",
    "\n",
    "### What Are Categorical Columns?\n",
    "\n",
    "Categorical columns represent **discrete, qualitative information** — like gender, port of embarkation, ticket class, or cabin labels. These columns don’t carry mathematical meaning the way numbers do, but they contain powerful patterns. In the Titanic dataset, columns like `'Sex'`, `'Embarked'`, `'Pclass'`, and even `'Cabin'` are categorical.\n",
    "\n",
    "Before we can visualize or encode them for ML, we must **explore and understand** them. That includes checking how many **unique values** they contain, how **frequently** each category appears, and whether any values are **unexpected or missing**.\n",
    "\n",
    "Using methods like `.unique()`, `.nunique()`, and `.value_counts()`, we can get a clear picture of each column’s diversity and distribution. This helps us make smart decisions about **cleaning**, **encoding**, or even **dropping** a column. For example, a column with 700+ unique values (like `'Name'` or `'Cabin'`) might be too noisy to encode directly. But `'Sex'` and `'Embarked'`, which have only a few categories, are perfect for modeling.\n",
    "\n",
    "### `.unique()`: Finding All Unique Values\n",
    "\n",
    "The `.unique()` method shows us **all distinct values** in a column. This helps us verify whether a column is truly categorical, and spot typos or anomalies."
   ]
  },
  {
   "cell_type": "code",
   "execution_count": 1,
   "id": "5a43e82f",
   "metadata": {},
   "outputs": [
    {
     "name": "stdout",
     "output_type": "stream",
     "text": [
      "['male' 'female']\n",
      "['S' 'C' 'Q' nan]\n"
     ]
    }
   ],
   "source": [
    "import pandas as pd\n",
    "\n",
    "df = pd.read_csv(\"data/train.csv\")\n",
    "\n",
    "# Unique values in 'Sex' column\n",
    "print(df['Sex'].unique())\n",
    "\n",
    "# Unique values in 'Embarked' column\n",
    "print(df['Embarked'].unique())"
   ]
  },
  {
   "cell_type": "markdown",
   "id": "6485dba2",
   "metadata": {},
   "source": [
    "From this, we know that `'Sex'` has two valid categories, and `'Embarked'` has three — but also contains missing values (`nan`).\n",
    "\n",
    "### `.nunique()`: Count of Unique Values\n",
    "\n",
    "To check how many **distinct categories** exist in a column, we use `.nunique()`. This is useful for quick diagnostics when scanning multiple columns."
   ]
  },
  {
   "cell_type": "code",
   "execution_count": 2,
   "id": "6006d9f7",
   "metadata": {},
   "outputs": [
    {
     "name": "stdout",
     "output_type": "stream",
     "text": [
      "PassengerId    891\n",
      "Survived         2\n",
      "Pclass           3\n",
      "Name           891\n",
      "Sex              2\n",
      "Age             88\n",
      "SibSp            7\n",
      "Parch            7\n",
      "Ticket         681\n",
      "Fare           248\n",
      "Cabin          147\n",
      "Embarked         3\n",
      "dtype: int64\n"
     ]
    }
   ],
   "source": [
    "# How many unique values per column?\n",
    "print(df.nunique())"
   ]
  },
  {
   "cell_type": "markdown",
   "id": "b085bed5",
   "metadata": {},
   "source": [
    "This will give us a numeric summary — great for identifying ID columns, detecting potential categorical fields, or spotting high-cardinality issues.\n",
    "\n",
    "### `.value_counts()`: Frequency of Each Category\n",
    "\n",
    "The `.value_counts()` method is one of our best tools for **analyzing category distribution**. It shows how often each unique value appears — either in raw counts or proportions."
   ]
  },
  {
   "cell_type": "code",
   "execution_count": 3,
   "id": "eacf6c1a",
   "metadata": {},
   "outputs": [
    {
     "name": "stdout",
     "output_type": "stream",
     "text": [
      "Sex\n",
      "male      577\n",
      "female    314\n",
      "Name: count, dtype: int64\n",
      "Embarked\n",
      "S      644\n",
      "C      168\n",
      "Q       77\n",
      "NaN      2\n",
      "Name: count, dtype: int64\n"
     ]
    }
   ],
   "source": [
    "# Count values in 'Sex'\n",
    "print(df['Sex'].value_counts())\n",
    "\n",
    "# Count values in 'Embarked' including missing\n",
    "print(df['Embarked'].value_counts(dropna=False))"
   ]
  },
  {
   "cell_type": "markdown",
   "id": "fdb99498",
   "metadata": {},
   "source": [
    "This helps us see if the column is balanced or skewed — important for modeling and fairness in ML.\n",
    "\n",
    "### Exploring Multiple Categorical Columns at Once\n",
    "\n",
    "To focus only on **categorical** columns (i.e., object or string types), we can use `.select_dtypes()`."
   ]
  },
  {
   "cell_type": "code",
   "execution_count": 4,
   "id": "3f65f60d",
   "metadata": {},
   "outputs": [
    {
     "name": "stdout",
     "output_type": "stream",
     "text": [
      "\n",
      "Column: Name\n",
      "Name\n",
      "Braund, Mr. Owen Harris                                1\n",
      "Cumings, Mrs. John Bradley (Florence Briggs Thayer)    1\n",
      "Heikkinen, Miss. Laina                                 1\n",
      "Futrelle, Mrs. Jacques Heath (Lily May Peel)           1\n",
      "Allen, Mr. William Henry                               1\n",
      "                                                      ..\n",
      "Montvila, Rev. Juozas                                  1\n",
      "Graham, Miss. Margaret Edith                           1\n",
      "Johnston, Miss. Catherine Helen \"Carrie\"               1\n",
      "Behr, Mr. Karl Howell                                  1\n",
      "Dooley, Mr. Patrick                                    1\n",
      "Name: count, Length: 891, dtype: int64\n",
      "\n",
      "Column: Sex\n",
      "Sex\n",
      "male      577\n",
      "female    314\n",
      "Name: count, dtype: int64\n",
      "\n",
      "Column: Ticket\n",
      "Ticket\n",
      "347082              7\n",
      "1601                7\n",
      "CA. 2343            7\n",
      "3101295             6\n",
      "CA 2144             6\n",
      "                   ..\n",
      "PC 17590            1\n",
      "17463               1\n",
      "330877              1\n",
      "373450              1\n",
      "STON/O2. 3101282    1\n",
      "Name: count, Length: 681, dtype: int64\n",
      "\n",
      "Column: Cabin\n",
      "Cabin\n",
      "NaN            687\n",
      "G6               4\n",
      "C23 C25 C27      4\n",
      "B96 B98          4\n",
      "F2               3\n",
      "              ... \n",
      "E17              1\n",
      "A24              1\n",
      "C50              1\n",
      "B42              1\n",
      "C148             1\n",
      "Name: count, Length: 148, dtype: int64\n",
      "\n",
      "Column: Embarked\n",
      "Embarked\n",
      "S      644\n",
      "C      168\n",
      "Q       77\n",
      "NaN      2\n",
      "Name: count, dtype: int64\n"
     ]
    }
   ],
   "source": [
    "# Select only object (string-like) columns\n",
    "cat_cols = df.select_dtypes(include='object').columns\n",
    "\n",
    "# Loop through and display value counts\n",
    "for col in cat_cols:\n",
    "    print(f\"\\nColumn: {col}\")\n",
    "    print(df[col].value_counts(dropna=False))"
   ]
  },
  {
   "cell_type": "markdown",
   "id": "8bcabad2",
   "metadata": {},
   "source": [
    "This gives us a full overview of all category columns — a great trick before one-hot encoding or label encoding in future stages.\n",
    "\n",
    "### Exercises\n",
    "\n",
    "Q1. Show all unique values in the `'Pclass'` column."
   ]
  },
  {
   "cell_type": "code",
   "execution_count": 5,
   "id": "818012a9",
   "metadata": {},
   "outputs": [
    {
     "name": "stdout",
     "output_type": "stream",
     "text": [
      "[3 1 2]\n"
     ]
    }
   ],
   "source": [
    "print(df['Pclass'].unique())"
   ]
  },
  {
   "cell_type": "markdown",
   "id": "14680807",
   "metadata": {},
   "source": [
    "Q2. Count how many unique values are in the `'Cabin'` column."
   ]
  },
  {
   "cell_type": "code",
   "execution_count": 6,
   "id": "87ab1ab8",
   "metadata": {},
   "outputs": [
    {
     "name": "stdout",
     "output_type": "stream",
     "text": [
      "147\n"
     ]
    }
   ],
   "source": [
    "print(df['Cabin'].nunique())"
   ]
  },
  {
   "cell_type": "markdown",
   "id": "aaf26efe",
   "metadata": {},
   "source": [
    "Q3. Display the frequency of values in the `'Embarked'` column."
   ]
  },
  {
   "cell_type": "code",
   "execution_count": 7,
   "id": "3a22357e",
   "metadata": {},
   "outputs": [
    {
     "name": "stdout",
     "output_type": "stream",
     "text": [
      "Embarked\n",
      "S      644\n",
      "C      168\n",
      "Q       77\n",
      "NaN      2\n",
      "Name: count, dtype: int64\n"
     ]
    }
   ],
   "source": [
    "print(df['Embarked'].value_counts(dropna=False))"
   ]
  },
  {
   "cell_type": "markdown",
   "id": "43330c0c",
   "metadata": {},
   "source": [
    "Q4. Print how many unique values exist in each column (hint: use `.nunique()`)."
   ]
  },
  {
   "cell_type": "code",
   "execution_count": 8,
   "id": "0414e9ee",
   "metadata": {},
   "outputs": [
    {
     "name": "stdout",
     "output_type": "stream",
     "text": [
      "PassengerId    891\n",
      "Survived         2\n",
      "Pclass           3\n",
      "Name           891\n",
      "Sex              2\n",
      "Age             88\n",
      "SibSp            7\n",
      "Parch            7\n",
      "Ticket         681\n",
      "Fare           248\n",
      "Cabin          147\n",
      "Embarked         3\n",
      "dtype: int64\n"
     ]
    }
   ],
   "source": [
    "print(df.nunique())"
   ]
  },
  {
   "cell_type": "markdown",
   "id": "24bf48aa",
   "metadata": {},
   "source": [
    "Q5. Print the top 5 most common ticket values."
   ]
  },
  {
   "cell_type": "code",
   "execution_count": 9,
   "id": "fc643f5b",
   "metadata": {},
   "outputs": [
    {
     "name": "stdout",
     "output_type": "stream",
     "text": [
      "Ticket\n",
      "347082      7\n",
      "1601        7\n",
      "CA. 2343    7\n",
      "3101295     6\n",
      "CA 2144     6\n",
      "Name: count, dtype: int64\n"
     ]
    }
   ],
   "source": [
    "print(df['Ticket'].value_counts().head(5))"
   ]
  },
  {
   "cell_type": "markdown",
   "id": "c8feb3ba",
   "metadata": {},
   "source": [
    "Q6. Loop through all object-type columns and print value counts for each."
   ]
  },
  {
   "cell_type": "code",
   "execution_count": 10,
   "id": "6f2b4e08",
   "metadata": {},
   "outputs": [
    {
     "name": "stdout",
     "output_type": "stream",
     "text": [
      "\n",
      "Column: Name\n",
      "Name\n",
      "Braund, Mr. Owen Harris                                1\n",
      "Cumings, Mrs. John Bradley (Florence Briggs Thayer)    1\n",
      "Heikkinen, Miss. Laina                                 1\n",
      "Futrelle, Mrs. Jacques Heath (Lily May Peel)           1\n",
      "Allen, Mr. William Henry                               1\n",
      "                                                      ..\n",
      "Montvila, Rev. Juozas                                  1\n",
      "Graham, Miss. Margaret Edith                           1\n",
      "Johnston, Miss. Catherine Helen \"Carrie\"               1\n",
      "Behr, Mr. Karl Howell                                  1\n",
      "Dooley, Mr. Patrick                                    1\n",
      "Name: count, Length: 891, dtype: int64\n",
      "\n",
      "Column: Sex\n",
      "Sex\n",
      "male      577\n",
      "female    314\n",
      "Name: count, dtype: int64\n",
      "\n",
      "Column: Ticket\n",
      "Ticket\n",
      "347082              7\n",
      "1601                7\n",
      "CA. 2343            7\n",
      "3101295             6\n",
      "CA 2144             6\n",
      "                   ..\n",
      "PC 17590            1\n",
      "17463               1\n",
      "330877              1\n",
      "373450              1\n",
      "STON/O2. 3101282    1\n",
      "Name: count, Length: 681, dtype: int64\n",
      "\n",
      "Column: Cabin\n",
      "Cabin\n",
      "NaN            687\n",
      "G6               4\n",
      "C23 C25 C27      4\n",
      "B96 B98          4\n",
      "F2               3\n",
      "              ... \n",
      "E17              1\n",
      "A24              1\n",
      "C50              1\n",
      "B42              1\n",
      "C148             1\n",
      "Name: count, Length: 148, dtype: int64\n",
      "\n",
      "Column: Embarked\n",
      "Embarked\n",
      "S      644\n",
      "C      168\n",
      "Q       77\n",
      "NaN      2\n",
      "Name: count, dtype: int64\n"
     ]
    }
   ],
   "source": [
    "for col in df.select_dtypes(include='object').columns:\n",
    "    print(f\"\\nColumn: {col}\")\n",
    "    print(df[col].value_counts(dropna=False))"
   ]
  },
  {
   "cell_type": "markdown",
   "id": "6c976e39",
   "metadata": {},
   "source": [
    "### Summary\n",
    "\n",
    "In this topic, we explored one of the most powerful aspects of EDA: understanding categorical columns. These fields may not be numeric, but they often hold critical insight — whether it’s someone’s gender, travel class, or embarkation point.\n",
    "\n",
    "We learned to use:\n",
    "\n",
    "- `.unique()` to view all distinct values,\n",
    "- `.nunique()` to count how many categories exist,\n",
    "- `.value_counts()` to measure the frequency of each category.\n",
    "\n",
    "We also explored how to isolate all object-type columns for deep inspection. These tools help us spot **imbalances**, **data errors**, **encoding opportunities**, and **potential model bias**. Categorical data is often where machine learning shines — but only if we explore and prepare it correctly.\n",
    "\n",
    "As we move forward into **encoding techniques**, **visualizations**, and **feature engineering**, this exploration becomes the foundation for everything else. A well-understood category column is one of the biggest advantages in AI."
   ]
  }
 ],
 "metadata": {
  "kernelspec": {
   "display_name": "Venv",
   "language": "python",
   "name": "python3"
  },
  "language_info": {
   "codemirror_mode": {
    "name": "ipython",
    "version": 3
   },
   "file_extension": ".py",
   "mimetype": "text/x-python",
   "name": "python",
   "nbconvert_exporter": "python",
   "pygments_lexer": "ipython3",
   "version": "3.12.8"
  }
 },
 "nbformat": 4,
 "nbformat_minor": 5
}
