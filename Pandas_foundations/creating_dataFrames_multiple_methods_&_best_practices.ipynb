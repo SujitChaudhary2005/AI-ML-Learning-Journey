{
 "cells": [
  {
   "cell_type": "markdown",
   "id": "50b9b7b7",
   "metadata": {},
   "source": [
    "# Creating DataFrames: Multiple Methods and Best Practices\n",
    "\n",
    "### What is a Pandas DataFrame?\n",
    "\n",
    "A **DataFrame** is the core data structure in Pandas — a two-dimensional, labeled data table. Think of it like a spreadsheet in Python: it has **rows and columns**, with labels (or indexes) for both. Each column in a DataFrame is actually a **Series**. That means when we combine multiple Series together (side-by-side), we get a DataFrame.\n",
    "\n",
    "This structure is perfect for real-world data — like the **Titanic dataset**, where each row is a passenger, and columns hold information like age, fare, gender, etc.\n",
    "\n",
    "Working with DataFrames gives us full control over our data. We can select, filter, sort, clean, group, analyze, and export — all with clean and readable code.\n",
    "\n",
    "### Why Do We Use DataFrames?\n",
    "\n",
    "In real-world AI/ML projects, almost everything we do starts with a DataFrame:\n",
    "\n",
    "- **Clean & Explore** raw datasets from CSV, Excel, JSON, SQL\n",
    "- **Engineer Features** for machine learning (like combining or transforming columns)\n",
    "- **Handle Missing Data** and fix inconsistencies\n",
    "- **Split datasets** into train/test sets for modeling\n",
    "- **Run analytics** like group summaries, correlations, and aggregations\n",
    "\n",
    "In short, DataFrames are **where data becomes usable**.\n",
    "\n",
    "### Creating DataFrames – Different Methods\n",
    "\n",
    "1.  **From a Dictionary of Lists**\n",
    "    \n",
    "    Each key becomes a column name. Each list becomes that column’s values. This is the **most common** way to create small, structured tables manually."
   ]
  },
  {
   "cell_type": "code",
   "execution_count": 1,
   "id": "cb27faf9",
   "metadata": {},
   "outputs": [
    {
     "name": "stdout",
     "output_type": "stream",
     "text": [
      "      Name  Age      City\n",
      "0    Alice   25  New York\n",
      "1      Bob   30   Chicago\n",
      "2  Charlie   22   Houston\n"
     ]
    }
   ],
   "source": [
    "import pandas as pd\n",
    "    \n",
    "data = {\n",
    "    \"Name\": [\"Alice\", \"Bob\", \"Charlie\"],\n",
    "    \"Age\": [25, 30, 22],\n",
    "    \"City\": [\"New York\", \"Chicago\", \"Houston\"]\n",
    "}\n",
    "    \n",
    "df = pd.DataFrame(data)\n",
    "print(df)"
   ]
  },
  {
   "cell_type": "markdown",
   "id": "6fa3a0ac",
   "metadata": {},
   "source": [
    "2. **From a List of Dictionaries**\n",
    "    \n",
    "    Each dictionary becomes a row. Keys become column names. This is useful when data comes from APIs or JSON."
   ]
  },
  {
   "cell_type": "code",
   "execution_count": 2,
   "id": "2ecec60f",
   "metadata": {},
   "outputs": [
    {
     "name": "stdout",
     "output_type": "stream",
     "text": [
      "      Name  Age      City\n",
      "0    Alice   25  New York\n",
      "1      Bob   30   Chicago\n",
      "2  Charlie   22   Houston\n"
     ]
    }
   ],
   "source": [
    "data = [\n",
    "    {\"Name\": \"Alice\", \"Age\": 25, \"City\": \"New York\"},\n",
    "    {\"Name\": \"Bob\", \"Age\": 30, \"City\": \"Chicago\"},\n",
    "    {\"Name\": \"Charlie\", \"Age\": 22, \"City\": \"Houston\"}\n",
    "]\n",
    "    \n",
    "df = pd.DataFrame(data)\n",
    "print(df)"
   ]
  },
  {
   "cell_type": "markdown",
   "id": "e41f0a53",
   "metadata": {},
   "source": [
    "3. **From a List of Lists (with Column Names)**\n",
    "    \n",
    "    We can also use a nested list, and define column names separately."
   ]
  },
  {
   "cell_type": "code",
   "execution_count": 3,
   "id": "930945e5",
   "metadata": {},
   "outputs": [
    {
     "name": "stdout",
     "output_type": "stream",
     "text": [
      "      Name  Age      City\n",
      "0    Alice   25  New York\n",
      "1      Bob   30   Chicago\n",
      "2  Charlie   22   Houston\n"
     ]
    }
   ],
   "source": [
    "data = [\n",
    "    [\"Alice\", 25, \"New York\"],\n",
    "    [\"Bob\", 30, \"Chicago\"],\n",
    "    [\"Charlie\", 22, \"Houston\"]\n",
    "]\n",
    "    \n",
    "columns = [\"Name\", \"Age\", \"City\"]\n",
    "df = pd.DataFrame(data, columns=columns)\n",
    "print(df)"
   ]
  },
  {
   "cell_type": "markdown",
   "id": "2401c9f9",
   "metadata": {},
   "source": [
    "4. **From NumPy Arrays**\n",
    "    \n",
    "    If we already have structured data as a NumPy array, we can convert it easily."
   ]
  },
  {
   "cell_type": "code",
   "execution_count": 4,
   "id": "3cb30387",
   "metadata": {},
   "outputs": [
    {
     "name": "stdout",
     "output_type": "stream",
     "text": [
      "   A  B\n",
      "0  1  2\n",
      "1  3  4\n",
      "2  5  6\n"
     ]
    }
   ],
   "source": [
    "import numpy as np\n",
    "    \n",
    "arr = np.array([[1, 2], [3, 4], [5, 6]])\n",
    "df = pd.DataFrame(arr, columns=[\"A\", \"B\"])\n",
    "print(df)"
   ]
  },
  {
   "cell_type": "markdown",
   "id": "6ed348b4",
   "metadata": {},
   "source": [
    "5. **Creating an Empty DataFrame**\n",
    "    \n",
    "    We can initialize an empty DataFrame when we want to fill it later. This is useful when building a table row-by-row or based on user input."
   ]
  },
  {
   "cell_type": "code",
   "execution_count": 5,
   "id": "f0639ec4",
   "metadata": {},
   "outputs": [
    {
     "name": "stdout",
     "output_type": "stream",
     "text": [
      "Empty DataFrame\n",
      "Columns: [Name, Age, City]\n",
      "Index: []\n"
     ]
    }
   ],
   "source": [
    "empty_df = pd.DataFrame(columns=[\"Name\", \"Age\", \"City\"])\n",
    "print(empty_df)"
   ]
  },
  {
   "cell_type": "markdown",
   "id": "e52fe244",
   "metadata": {},
   "source": [
    "### Exercises\n",
    "\n",
    "Q1. Create a DataFrame using a dictionary of lists containing names, marks, and grade of 3 students."
   ]
  },
  {
   "cell_type": "code",
   "execution_count": 6,
   "id": "1f4a4f6d",
   "metadata": {},
   "outputs": [
    {
     "name": "stdout",
     "output_type": "stream",
     "text": [
      "   Names  Marks Grade\n",
      "0  Sujit     50     B\n",
      "1    Ram     60    B+\n",
      "2   Hari     90    A+\n"
     ]
    }
   ],
   "source": [
    "data = {\n",
    "    \"Names\": [\"Sujit\", \"Ram\", \"Hari\"],\n",
    "    \"Marks\": [50, 60, 90],\n",
    "    \"Grade\": [\"B\", \"B+\", \"A+\"]\n",
    "}\n",
    "\n",
    "print(pd.DataFrame(data))"
   ]
  },
  {
   "cell_type": "markdown",
   "id": "978f8fc0",
   "metadata": {},
   "source": [
    "Q2. Build a DataFrame from a list of dictionaries, each representing a car with keys like \"brand\", \"model\", and \"price\"."
   ]
  },
  {
   "cell_type": "code",
   "execution_count": 7,
   "id": "58b24ff5",
   "metadata": {},
   "outputs": [
    {
     "name": "stdout",
     "output_type": "stream",
     "text": [
      "    brand    model  price\n",
      "0  Toyota  Corolla  25000\n",
      "1   Honda    Civic  27000\n",
      "2   Tesla  Model 3  42000\n"
     ]
    }
   ],
   "source": [
    "cars = [\n",
    "    {\"brand\": \"Toyota\", \"model\": \"Corolla\", \"price\": 25000},\n",
    "    {\"brand\": \"Honda\", \"model\": \"Civic\", \"price\": 27000},\n",
    "    {\"brand\": \"Tesla\", \"model\": \"Model 3\", \"price\": 42000}\n",
    "]\n",
    "\n",
    "cars_df = pd.DataFrame(cars)\n",
    "print(cars_df)"
   ]
  },
  {
   "cell_type": "markdown",
   "id": "8ad77a18",
   "metadata": {},
   "source": [
    "Q3. Use a NumPy array to create a DataFrame of shape (3, 3) with columns: \"X\", \"Y\", and \"Z\"."
   ]
  },
  {
   "cell_type": "code",
   "execution_count": 8,
   "id": "30e0734a",
   "metadata": {},
   "outputs": [
    {
     "name": "stdout",
     "output_type": "stream",
     "text": [
      "   X  Y  Z\n",
      "0  1  2  3\n",
      "1  4  5  6\n",
      "2  7  8  9\n"
     ]
    }
   ],
   "source": [
    "arr = np.array([[1, 2, 3],\n",
    "                [4, 5, 6],\n",
    "                [7, 8, 9]])\n",
    "\n",
    "df_from_array = pd.DataFrame(arr, columns=[\"X\", \"Y\", \"Z\"])\n",
    "print(df_from_array)"
   ]
  },
  {
   "cell_type": "markdown",
   "id": "8adeafb1",
   "metadata": {},
   "source": [
    "Q4. Create an empty DataFrame with column headers for employee details like \"Name\", \"Department\", \"Salary\"."
   ]
  },
  {
   "cell_type": "code",
   "execution_count": 9,
   "id": "ac348121",
   "metadata": {},
   "outputs": [
    {
     "name": "stdout",
     "output_type": "stream",
     "text": [
      "Empty DataFrame\n",
      "Columns: [Name, Department, Salary]\n",
      "Index: []\n"
     ]
    }
   ],
   "source": [
    "empty_employees = pd.DataFrame(columns=[\"Name\", \"Department\", \"Salary\"])\n",
    "print(empty_employees)"
   ]
  },
  {
   "cell_type": "markdown",
   "id": "4a501342",
   "metadata": {},
   "source": [
    "### Summary\n",
    "\n",
    "Understanding how to create DataFrames is one of the first steps to becoming comfortable with real data. Unlike lists or arrays, DataFrames are **designed for structured, labeled data**, making them perfect for handling rows and columns from datasets like Titanic.\n",
    "\n",
    "We can create DataFrames from:\n",
    "\n",
    "- Dictionaries of lists (for manual table-like creation)\n",
    "- Lists of dictionaries (often from JSON or APIs)\n",
    "- NumPy arrays (for numerical and scientific data)\n",
    "- Even empty shells (when planning to build incrementally)\n",
    "\n",
    "Each method gives us flexibility depending on where our data comes from. In AI/ML, we’ll often load CSVs, Excel files, or datasets from Kaggle, but it’s equally important to know how to **manually build or simulate DataFrames** for testing and experimentation.\n",
    "\n",
    "As we continue our journey, DataFrames will be at the center of everything we do — from cleaning and analyzing data, to building models and visualizing results. Knowing how to create and control them gives us a strong foundation."
   ]
  }
 ],
 "metadata": {
  "kernelspec": {
   "display_name": "Venv",
   "language": "python",
   "name": "python3"
  },
  "language_info": {
   "codemirror_mode": {
    "name": "ipython",
    "version": 3
   },
   "file_extension": ".py",
   "mimetype": "text/x-python",
   "name": "python",
   "nbconvert_exporter": "python",
   "pygments_lexer": "ipython3",
   "version": "3.12.8"
  }
 },
 "nbformat": 4,
 "nbformat_minor": 5
}
