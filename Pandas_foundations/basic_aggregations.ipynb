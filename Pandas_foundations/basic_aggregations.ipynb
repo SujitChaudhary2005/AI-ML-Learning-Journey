{
 "cells": [
  {
   "cell_type": "markdown",
   "id": "af6bdd7b",
   "metadata": {},
   "source": [
    "# Basic Aggregations in Pandas\n",
    "\n",
    "### What Are Aggregations?\n",
    "\n",
    "In data science and machine learning, **aggregation** refers to the process of summarizing a dataset by computing metrics such as **totals, averages, minimums, maximums, and counts**. These statistics help us understand the distribution, trends, and structure of the data without having to look at each record individually.\n",
    "\n",
    "For instance, in the Titanic dataset, instead of checking every passenger’s age, we might ask: “What is the **average age**?” or “What is the **total fare collected**?” These answers come from aggregations.\n",
    "\n",
    "In Pandas, aggregation methods are **built-in** and optimized for speed. They work on both **Series** (individual columns) and **DataFrames** (entire datasets). These functions are critical during **EDA (Exploratory Data Analysis)**, a step that always comes before data modeling or visualization in AI/ML workflows.\n",
    "\n",
    "### Why Aggregations Matter in AI/ML\n",
    "\n",
    "Aggregations form the backbone of **data profiling**, which is the act of analyzing our dataset’s contents and structure. Without aggregation:\n",
    "\n",
    "- We won’t know if a column is heavily skewed.\n",
    "- We might miss extreme outliers that could break our model.\n",
    "- We might not notice data imbalance in a classification task.\n",
    "- We could end up training on biased or misrepresented data.\n",
    "\n",
    "Imagine trying to build a model to predict survival on the Titanic without knowing **how many survivors there are** or if **age** or **fare** distributions are skewed — our model might fail silently or make misleading predictions.\n",
    "\n",
    "In short, we **can’t build clean or fair ML models without knowing our data**, and we can’t know our data without aggregation.\n",
    "\n",
    "### Most Common Aggregation Methods in Pandas\n",
    "\n",
    "| Function | Purpose |\n",
    "| --- | --- |\n",
    "| `.sum()` | Total value |\n",
    "| `.mean()` | Average |\n",
    "| `.median()` | Middle value |\n",
    "| `.min()` / `.max()` | Smallest/Largest |\n",
    "| `.count()` | Count of non-null entries |\n",
    "| `.value_counts()` | Frequency of each unique value |\n",
    "| `.describe()` | Full statistical summary |\n",
    "\n",
    "### Examples"
   ]
  },
  {
   "cell_type": "code",
   "execution_count": 1,
   "id": "3bb23ff5",
   "metadata": {},
   "outputs": [
    {
     "name": "stdout",
     "output_type": "stream",
     "text": [
      "29.69911764705882\n",
      "28693.9493\n",
      "0.42 80.0\n",
      "PassengerId    891\n",
      "Survived       891\n",
      "Pclass         891\n",
      "Name           891\n",
      "Sex            891\n",
      "Age            714\n",
      "SibSp          891\n",
      "Parch          891\n",
      "Ticket         891\n",
      "Fare           891\n",
      "Cabin          204\n",
      "Embarked       889\n",
      "dtype: int64\n",
      "Pclass\n",
      "3    491\n",
      "1    216\n",
      "2    184\n",
      "Name: count, dtype: int64\n",
      "Survived\n",
      "0    549\n",
      "1    342\n",
      "Name: count, dtype: int64\n"
     ]
    }
   ],
   "source": [
    "import pandas as pd\n",
    "df = pd.read_csv(\"data/train.csv\")\n",
    "\n",
    "# Average age\n",
    "print(df['Age'].mean())  # e.g., 29.69\n",
    "\n",
    "# Total fare\n",
    "print(df['Fare'].sum())  # e.g., 28693.949\n",
    "\n",
    "# Age range\n",
    "print(df['Age'].min(), df['Age'].max())\n",
    "\n",
    "# Count of non-null entries per column\n",
    "print(df.count())\n",
    "\n",
    "# Frequency of passenger classes\n",
    "print(df['Pclass'].value_counts())\n",
    "\n",
    "# Survival distribution\n",
    "print(df['Survived'].value_counts())"
   ]
  },
  {
   "cell_type": "markdown",
   "id": "53e74b34",
   "metadata": {},
   "source": [
    "Use `.describe()` to get a full summary:"
   ]
  },
  {
   "cell_type": "code",
   "execution_count": 2,
   "id": "3ce45ec1",
   "metadata": {},
   "outputs": [
    {
     "name": "stdout",
     "output_type": "stream",
     "text": [
      "       PassengerId    Survived      Pclass         Age       SibSp  \\\n",
      "count   891.000000  891.000000  891.000000  714.000000  891.000000   \n",
      "mean    446.000000    0.383838    2.308642   29.699118    0.523008   \n",
      "std     257.353842    0.486592    0.836071   14.526497    1.102743   \n",
      "min       1.000000    0.000000    1.000000    0.420000    0.000000   \n",
      "25%     223.500000    0.000000    2.000000   20.125000    0.000000   \n",
      "50%     446.000000    0.000000    3.000000   28.000000    0.000000   \n",
      "75%     668.500000    1.000000    3.000000   38.000000    1.000000   \n",
      "max     891.000000    1.000000    3.000000   80.000000    8.000000   \n",
      "\n",
      "            Parch        Fare  \n",
      "count  891.000000  891.000000  \n",
      "mean     0.381594   32.204208  \n",
      "std      0.806057   49.693429  \n",
      "min      0.000000    0.000000  \n",
      "25%      0.000000    7.910400  \n",
      "50%      0.000000   14.454200  \n",
      "75%      0.000000   31.000000  \n",
      "max      6.000000  512.329200  \n"
     ]
    }
   ],
   "source": [
    "print(df.describe())"
   ]
  },
  {
   "cell_type": "markdown",
   "id": "f2027f99",
   "metadata": {},
   "source": [
    "This includes:\n",
    "\n",
    "- count\n",
    "- mean\n",
    "- std (standard deviation)\n",
    "- min/max\n",
    "- 25%, 50%, 75% percentiles\n",
    "\n",
    "### When & Where to Use These\n",
    "\n",
    "| Use Case | Method |\n",
    "| --- | --- |\n",
    "| Checking column balance | `.value_counts()` |\n",
    "| Handling missing values with stats | `.mean()`, `.median()` |\n",
    "| Checking if column can be normalized | `.min()`, `.max()` |\n",
    "| Understanding column distribution | `.describe()` |\n",
    "| Validating class balance for ML | `.value_counts()` on target variable |\n",
    "\n",
    "In classification tasks (like survival prediction), knowing the **class balance** is critical. If 90% of people didn’t survive and we don’t catch it, our model could learn to just always predict “no survival” and still be 90% accurate — but totally useless.\n",
    "\n",
    "### Exercises\n",
    "\n",
    "Q1. What is the mean fare paid by passengers?"
   ]
  },
  {
   "cell_type": "code",
   "execution_count": 3,
   "id": "c886fbc9",
   "metadata": {},
   "outputs": [
    {
     "name": "stdout",
     "output_type": "stream",
     "text": [
      "32.204207968574636\n"
     ]
    }
   ],
   "source": [
    "print(df['Fare'].mean())"
   ]
  },
  {
   "cell_type": "markdown",
   "id": "572c2c5b",
   "metadata": {},
   "source": [
    "Q2. What’s the total number of passengers who survived?"
   ]
  },
  {
   "cell_type": "code",
   "execution_count": 4,
   "id": "4aa15b16",
   "metadata": {},
   "outputs": [
    {
     "name": "stdout",
     "output_type": "stream",
     "text": [
      "342\n"
     ]
    }
   ],
   "source": [
    "print(df['Survived'].sum())"
   ]
  },
  {
   "cell_type": "markdown",
   "id": "816b7253",
   "metadata": {},
   "source": [
    "Q3. Show how many passengers were in each class."
   ]
  },
  {
   "cell_type": "code",
   "execution_count": 5,
   "id": "70803299",
   "metadata": {},
   "outputs": [
    {
     "name": "stdout",
     "output_type": "stream",
     "text": [
      "Pclass\n",
      "3    491\n",
      "1    216\n",
      "2    184\n",
      "Name: count, dtype: int64\n"
     ]
    }
   ],
   "source": [
    "print(df['Pclass'].value_counts())"
   ]
  },
  {
   "cell_type": "markdown",
   "id": "008561da",
   "metadata": {},
   "source": [
    "Q4. Get the minimum and maximum ages."
   ]
  },
  {
   "cell_type": "code",
   "execution_count": 6,
   "id": "1438eea8",
   "metadata": {},
   "outputs": [
    {
     "name": "stdout",
     "output_type": "stream",
     "text": [
      "0.42 80.0\n"
     ]
    }
   ],
   "source": [
    "print(df['Age'].min(), df['Age'].max())"
   ]
  },
  {
   "cell_type": "markdown",
   "id": "ef5c3837",
   "metadata": {},
   "source": [
    "Q5. Describe the statistics for the dataset."
   ]
  },
  {
   "cell_type": "code",
   "execution_count": 7,
   "id": "34e8ac1f",
   "metadata": {},
   "outputs": [
    {
     "name": "stdout",
     "output_type": "stream",
     "text": [
      "       PassengerId    Survived      Pclass         Age       SibSp  \\\n",
      "count   891.000000  891.000000  891.000000  714.000000  891.000000   \n",
      "mean    446.000000    0.383838    2.308642   29.699118    0.523008   \n",
      "std     257.353842    0.486592    0.836071   14.526497    1.102743   \n",
      "min       1.000000    0.000000    1.000000    0.420000    0.000000   \n",
      "25%     223.500000    0.000000    2.000000   20.125000    0.000000   \n",
      "50%     446.000000    0.000000    3.000000   28.000000    0.000000   \n",
      "75%     668.500000    1.000000    3.000000   38.000000    1.000000   \n",
      "max     891.000000    1.000000    3.000000   80.000000    8.000000   \n",
      "\n",
      "            Parch        Fare  \n",
      "count  891.000000  891.000000  \n",
      "mean     0.381594   32.204208  \n",
      "std      0.806057   49.693429  \n",
      "min      0.000000    0.000000  \n",
      "25%      0.000000    7.910400  \n",
      "50%      0.000000   14.454200  \n",
      "75%      0.000000   31.000000  \n",
      "max      6.000000  512.329200  \n"
     ]
    }
   ],
   "source": [
    "print(df.describe())"
   ]
  },
  {
   "cell_type": "markdown",
   "id": "2278654c",
   "metadata": {},
   "source": [
    "### Summary\n",
    "\n",
    "Basic aggregations are simple but incredibly powerful. They help us spot patterns, errors, biases, and opportunities for feature engineering. They are used:\n",
    "\n",
    "- Before visualizing\n",
    "- Before modeling\n",
    "- During cleaning\n",
    "- While interpreting results\n",
    "\n",
    "In machine learning, these aggregation stats help us:\n",
    "\n",
    "- Choose thresholds (mean, median)\n",
    "- Design preprocessing logic\n",
    "- Balance datasets\n",
    "- Debug performance issues\n",
    "\n",
    "Learning to **read and trust our data** is the first skill of a serious AI/ML engineer — and **aggregations are our first set of tools.**"
   ]
  }
 ],
 "metadata": {
  "kernelspec": {
   "display_name": "Venv",
   "language": "python",
   "name": "python3"
  },
  "language_info": {
   "codemirror_mode": {
    "name": "ipython",
    "version": 3
   },
   "file_extension": ".py",
   "mimetype": "text/x-python",
   "name": "python",
   "nbconvert_exporter": "python",
   "pygments_lexer": "ipython3",
   "version": "3.12.8"
  }
 },
 "nbformat": 4,
 "nbformat_minor": 5
}
