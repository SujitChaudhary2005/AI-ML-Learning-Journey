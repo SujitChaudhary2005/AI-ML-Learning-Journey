{
 "cells": [
  {
   "cell_type": "markdown",
   "id": "9c9ca528",
   "metadata": {},
   "source": [
    "# GroupBy Operations in Pandas\n",
    "\n",
    "### What is `.groupby()` in Pandas?\n",
    "\n",
    "The `.groupby()` function in Pandas is a **foundational tool** used to group data based on one or more columns and then **apply aggregation functions** like `.mean()`, `.sum()`, `.count()`, etc. It follows the classic **\"Split-Apply-Combine\" strategy**:\n",
    "\n",
    "1. **Split** the data into groups based on a column.\n",
    "2. **Apply** an operation (like mean or sum) to each group.\n",
    "3. **Combine** the results into a new structure.\n",
    "\n",
    "For example, in the Titanic dataset, instead of analyzing passengers one by one, we could ask:\n",
    "\n",
    "- “What’s the average fare paid by each class?”\n",
    "- “What’s the survival rate per gender?”\n",
    "- “How does age vary between survivors and non-survivors?”\n",
    "\n",
    "All of these are solved using `.groupby()`.\n",
    "\n",
    "### Why GroupBy Matters in AI/ML\n",
    "\n",
    "GroupBy operations are **essential** in AI and machine learning for:\n",
    "\n",
    "- **Feature Engineering:** Add new columns like average fare by class.\n",
    "- **Fairness Audits:** Check model fairness by inspecting metrics across subgroups.\n",
    "- **Bias Detection:** Uneven distributions in gender/class can bias training.\n",
    "- **Data Exploration:** Understand patterns within subgroups.\n",
    "\n",
    "In classification tasks, like predicting Titanic survival, grouped insights can reveal hidden trends that improve model accuracy. For example, survival rates by gender or class can inspire features like `Is_Child`, `Is_Rich`, or `Is_Female`.\n",
    "\n",
    "If we train without knowing group-wise differences, we risk misleading outcomes. ML models reflect the data they see — `groupby()` helps us **understand those reflections**.\n",
    "\n",
    "### Syntax and Examples\n",
    "\n",
    "Basic GroupBy syntax:\n",
    "\n",
    "```python\n",
    "df.groupby('column_name')['target_column'].mean()\n",
    "```\n",
    "\n",
    "Examples with Titanic dataset:"
   ]
  },
  {
   "cell_type": "code",
   "execution_count": 1,
   "id": "d23ad9dd",
   "metadata": {},
   "outputs": [
    {
     "name": "stdout",
     "output_type": "stream",
     "text": [
      "Pclass\n",
      "1    84.154687\n",
      "2    20.662183\n",
      "3    13.675550\n",
      "Name: Fare, dtype: float64\n",
      "Sex\n",
      "female    233\n",
      "male      109\n",
      "Name: Survived, dtype: int64\n",
      "               mean   min   max\n",
      "Survived                       \n",
      "0         30.626179  1.00  74.0\n",
      "1         28.343690  0.42  80.0\n",
      "Sex     Pclass\n",
      "female  1         106.125798\n",
      "        2          21.970121\n",
      "        3          16.118810\n",
      "male    1          67.226127\n",
      "        2          19.741782\n",
      "        3          12.661633\n",
      "Name: Fare, dtype: float64\n"
     ]
    }
   ],
   "source": [
    "import pandas as pd\n",
    "df = pd.read_csv(\"data/train.csv\")\n",
    "\n",
    "# 1. Mean fare by class\n",
    "print(df.groupby('Pclass')['Fare'].mean())\n",
    "\n",
    "# 2. Survival count by gender\n",
    "print(df.groupby('Sex')['Survived'].sum())\n",
    "\n",
    "# 3. Age stats by survival\n",
    "print(df.groupby('Survived')['Age'].agg(['mean', 'min', 'max']))\n",
    "\n",
    "# 4. Multi-level groupby\n",
    "print(df.groupby(['Sex', 'Pclass'])['Fare'].mean())"
   ]
  },
  {
   "cell_type": "markdown",
   "id": "fcac9e57",
   "metadata": {},
   "source": [
    "### Advanced Use Cases"
   ]
  },
  {
   "cell_type": "code",
   "execution_count": 2,
   "id": "6b615e98",
   "metadata": {},
   "outputs": [
    {
     "name": "stdout",
     "output_type": "stream",
     "text": [
      "Embarked\n",
      "C    508.3167\n",
      "Q     83.2500\n",
      "S    263.0000\n",
      "Name: Fare, dtype: float64\n",
      "             Fare                 Age       \n",
      "             mean   median       mean median\n",
      "Pclass                                      \n",
      "1       84.154687  60.2875  38.233441   37.0\n",
      "2       20.662183  14.2500  29.877630   29.0\n",
      "3       13.675550   8.0500  25.140620   24.0\n"
     ]
    }
   ],
   "source": [
    "# Custom aggregation\n",
    "print(df.groupby('Embarked')['Fare'].agg(lambda x: x.max() - x.min()))\n",
    "\n",
    "# Multiple columns\n",
    "print(df.groupby('Pclass')[['Fare', 'Age']].agg(['mean', 'median']))"
   ]
  },
  {
   "cell_type": "markdown",
   "id": "5708b5af",
   "metadata": {},
   "source": [
    "GroupBy supports many options:\n",
    "\n",
    "- `keep='first'` / `keep='last'`\n",
    "- Grouping on multiple columns\n",
    "- Aggregating multiple stats\n",
    "\n",
    "### Exercises\n",
    "\n",
    "Q1. Average age per class"
   ]
  },
  {
   "cell_type": "code",
   "execution_count": 3,
   "id": "a9fa2d84",
   "metadata": {},
   "outputs": [
    {
     "name": "stdout",
     "output_type": "stream",
     "text": [
      "Pclass\n",
      "1    38.233441\n",
      "2    29.877630\n",
      "3    25.140620\n",
      "Name: Age, dtype: float64\n"
     ]
    }
   ],
   "source": [
    "print(df.groupby('Pclass')['Age'].mean())"
   ]
  },
  {
   "cell_type": "markdown",
   "id": "b36e9720",
   "metadata": {},
   "source": [
    "Q2. Count survivors per port"
   ]
  },
  {
   "cell_type": "code",
   "execution_count": 4,
   "id": "0936c911",
   "metadata": {},
   "outputs": [
    {
     "name": "stdout",
     "output_type": "stream",
     "text": [
      "Embarked\n",
      "C     93\n",
      "Q     30\n",
      "S    217\n",
      "Name: Survived, dtype: int64\n"
     ]
    }
   ],
   "source": [
    "print(df.groupby('Embarked')['Survived'].sum())"
   ]
  },
  {
   "cell_type": "markdown",
   "id": "fefe405e",
   "metadata": {},
   "source": [
    "Q3. Fare summary by class"
   ]
  },
  {
   "cell_type": "code",
   "execution_count": null,
   "id": "b220d3fc",
   "metadata": {},
   "outputs": [],
   "source": [
    "print(df.groupby('Pclass')['Fare'].agg(['min', 'mean', 'max']))"
   ]
  },
  {
   "cell_type": "markdown",
   "id": "d08b507b",
   "metadata": {},
   "source": [
    "Q4. Passengers count by class and gender"
   ]
  },
  {
   "cell_type": "code",
   "execution_count": 5,
   "id": "9e3de67a",
   "metadata": {},
   "outputs": [
    {
     "name": "stdout",
     "output_type": "stream",
     "text": [
      "Sex     Pclass\n",
      "female  1          94\n",
      "        2          76\n",
      "        3         144\n",
      "male    1         122\n",
      "        2         108\n",
      "        3         347\n",
      "Name: PassengerId, dtype: int64\n"
     ]
    }
   ],
   "source": [
    "print(df.groupby(['Sex', 'Pclass'])['PassengerId'].count())"
   ]
  },
  {
   "cell_type": "markdown",
   "id": "1739a52c",
   "metadata": {},
   "source": [
    "### Summary\n",
    "\n",
    "The `.groupby()` method in Pandas is **one of the most powerful tools** for structured data analysis. It allows us to break down our data by categories and apply aggregations to each group. This is especially useful for:\n",
    "\n",
    "- EDA (Exploratory Data Analysis)\n",
    "- Creating features for ML\n",
    "- Auditing for bias and imbalance\n",
    "\n",
    "With just one line of code, we can unlock rich, category-wise insights that would be tedious to compute manually. In machine learning workflows, `groupby()` is used before model training, during preprocessing, and even post-modeling to interpret predictions.\n",
    "\n",
    "By mastering `groupby()`, we gain the ability to **ask deeper questions** of our data and **engineer better ML solutions**."
   ]
  }
 ],
 "metadata": {
  "kernelspec": {
   "display_name": "Venv",
   "language": "python",
   "name": "python3"
  },
  "language_info": {
   "codemirror_mode": {
    "name": "ipython",
    "version": 3
   },
   "file_extension": ".py",
   "mimetype": "text/x-python",
   "name": "python",
   "nbconvert_exporter": "python",
   "pygments_lexer": "ipython3",
   "version": "3.12.8"
  }
 },
 "nbformat": 4,
 "nbformat_minor": 5
}
