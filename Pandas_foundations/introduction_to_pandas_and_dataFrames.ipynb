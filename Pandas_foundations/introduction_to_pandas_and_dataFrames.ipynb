{
 "cells": [
  {
   "cell_type": "markdown",
   "id": "e820da28",
   "metadata": {},
   "source": [
    "# Introduction to Pandas and DataFrames\n",
    "\n",
    "### What is Pandas?\n",
    "\n",
    "**Pandas** is one of the most powerful libraries in Python for **data analysis and manipulation**. It helps us work with **structured data** (think: tables like Excel or CSV files), and it’s one of the first tools we use in our AI/ML journey.\n",
    "\n",
    "Pandas gives us easy access to:\n",
    "\n",
    "- Rows and columns (like a spreadsheet)\n",
    "- Fast filtering, grouping, sorting\n",
    "- Handling missing values\n",
    "- Working with real-world datasets\n",
    "\n",
    "It’s built on top of **NumPy**, so it’s fast, reliable, and works well with machine learning libraries like **Scikit-learn**, **TensorFlow**, and **PyTorch**.\n",
    "\n",
    "### Why Do We Use Pandas?\n",
    "\n",
    "- **Easy CSV & Excel Import/Export**\n",
    "    \n",
    "    Load and save datasets with a single line.\n",
    "    \n",
    "- **Real-World Data Handling**\n",
    "    \n",
    "    Missing values, duplicates, messy columns? Pandas handles them all.\n",
    "    \n",
    "- **Preprocessing for AI/ML**\n",
    "    \n",
    "    Prepare data for models: filtering, feature engineering, splitting, etc.\n",
    "    \n",
    "- **Readable & Powerful Syntax**\n",
    "    \n",
    "    Pandas code reads like English and supports chaining operations cleanly.\n",
    "    \n",
    "\n",
    "### Importing Pandas"
   ]
  },
  {
   "cell_type": "code",
   "execution_count": 1,
   "id": "9aedfbf4",
   "metadata": {},
   "outputs": [],
   "source": [
    "import pandas as pd"
   ]
  },
  {
   "cell_type": "markdown",
   "id": "adc7783a",
   "metadata": {},
   "source": [
    "We always use `pd` as a short alias — it’s the standard in the data world.\n",
    "\n",
    "### Loading a Real Dataset (Titanic)\n",
    "\n",
    "We’ll use the **Kaggle Titanic Dataset** (specifically `train.csv`). It’s a great starter dataset: Each row is a passenger and columns contain age, gender, ticket class, etc. We’ll use this one file to learn all the important Pandas concepts."
   ]
  },
  {
   "cell_type": "code",
   "execution_count": 2,
   "id": "00e5ef4a",
   "metadata": {},
   "outputs": [
    {
     "name": "stdout",
     "output_type": "stream",
     "text": [
      "<class 'pandas.core.frame.DataFrame'>\n"
     ]
    }
   ],
   "source": [
    "df = pd.read_csv('data/train.csv')\n",
    "print(type(df)) "
   ]
  },
  {
   "cell_type": "markdown",
   "id": "3e2aad91",
   "metadata": {},
   "source": [
    "### What's a DataFrame?\n",
    "\n",
    "A **DataFrame** is the main object in Pandas — it’s like an Excel sheet with labels for rows and columns. Each column is a **Series** (like a single list of values)."
   ]
  },
  {
   "cell_type": "code",
   "execution_count": 3,
   "id": "5b3d097b",
   "metadata": {},
   "outputs": [
    {
     "name": "stdout",
     "output_type": "stream",
     "text": [
      "<class 'pandas.core.frame.DataFrame'>\n",
      "<class 'pandas.core.series.Series'>\n"
     ]
    }
   ],
   "source": [
    "print(type(df))\n",
    "print(type(df['Age']))"
   ]
  },
  {
   "cell_type": "markdown",
   "id": "93cd702f",
   "metadata": {},
   "source": [
    "This structure makes it super easy to:\n",
    "\n",
    "- Select columns: `df['Age']`\n",
    "- Filter rows: `df[df['Age'] > 30]`\n",
    "- Group, sort, modify, and clean\n",
    "\n",
    "We’ll dig deeper into how to explore and analyze this data in later topics.\n",
    "\n",
    "### Summary\n",
    "\n",
    "Pandas is the **foundation of data handling** in Python, just like NumPy is the base for numeric operations. It gives us the **DataFrame**, which is our primary tool to explore, clean, transform, and analyze data in rows and columns.\n",
    "\n",
    "In this first step, we:\n",
    "\n",
    "- Imported Pandas and loaded a real-world CSV dataset (`train.csv`)\n",
    "- Learned that each dataset is stored as a DataFrame — a table-like structure\n",
    "- Got a feel for what kind of data we're working with (names, ages, survival, ticket class)\n",
    "- Understood the difference between a **DataFrame** (2D table) and a **Series** (1D column)\n",
    "\n",
    "This sets us up for more advanced topics like data creation, filtering, grouping, and analysis — all crucial steps before building any AI/ML model."
   ]
  }
 ],
 "metadata": {
  "kernelspec": {
   "display_name": "Venv",
   "language": "python",
   "name": "python3"
  },
  "language_info": {
   "codemirror_mode": {
    "name": "ipython",
    "version": 3
   },
   "file_extension": ".py",
   "mimetype": "text/x-python",
   "name": "python",
   "nbconvert_exporter": "python",
   "pygments_lexer": "ipython3",
   "version": "3.12.8"
  }
 },
 "nbformat": 4,
 "nbformat_minor": 5
}
