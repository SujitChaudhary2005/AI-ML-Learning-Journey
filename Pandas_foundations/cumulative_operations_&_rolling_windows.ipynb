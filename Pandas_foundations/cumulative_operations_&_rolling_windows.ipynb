{
 "cells": [
  {
   "cell_type": "markdown",
   "id": "a2e89737",
   "metadata": {},
   "source": [
    "# Cumulative Operations and Rolling Windows in Pandas\n",
    "\n",
    "### What Are Cumulative Operations and Rolling Windows?\n",
    "\n",
    "In data analysis and time series, **cumulative operations** and **rolling windows** help us observe running totals, averages, and other statistics over a sequence of values. These techniques are essential for detecting **trends**, **seasonality**, **anomalies**, and **local patterns** in our dataset.\n",
    "\n",
    "In the Titanic dataset, we can simulate rolling windows on numerical columns like `Age`, `Fare`, or cumulative statistics by passenger ID or boarding date (if present or simulated).\n",
    "\n",
    "## Cumulative Functions in Pandas\n",
    "\n",
    "Cumulative functions return the running total (or other operation) across rows."
   ]
  },
  {
   "cell_type": "code",
   "execution_count": 1,
   "id": "342d56fb",
   "metadata": {},
   "outputs": [
    {
     "name": "stdout",
     "output_type": "stream",
     "text": [
      "   PassengerId     Fare  CumulativeFare  CumulativeSurvival  CumulativeMaxAge\n",
      "0            1   7.2500          7.2500                   0              22.0\n",
      "1            2  71.2833         78.5333                   1              38.0\n",
      "2            3   7.9250         86.4583                   2              38.0\n",
      "3            4  53.1000        139.5583                   3              38.0\n",
      "4            5   8.0500        147.6083                   3              38.0\n"
     ]
    }
   ],
   "source": [
    "import pandas as pd\n",
    "\n",
    "df = pd.read_csv(\"data/train.csv\")\n",
    "\n",
    "df['CumulativeFare'] = df['Fare'].cumsum()\n",
    "df['CumulativeSurvival'] = df['Survived'].cumsum()\n",
    "df['CumulativeMaxAge'] = df['Age'].cummax()\n",
    "print(df[['PassengerId', 'Fare', 'CumulativeFare', 'CumulativeSurvival', 'CumulativeMaxAge']].head())"
   ]
  },
  {
   "cell_type": "markdown",
   "id": "5811e1ba",
   "metadata": {},
   "source": [
    "Other cumulative methods:\n",
    "\n",
    "- `.cumsum()` → Cumulative sum\n",
    "- `.cumprod()` → Cumulative product\n",
    "- `.cummax()` → Cumulative max\n",
    "- `.cummin()` → Cumulative min\n",
    "\n",
    "## Rolling Window Functions\n",
    "\n",
    "Rolling functions apply a moving window over the data and calculate a statistic within that window. It's commonly used in time series for smoothing."
   ]
  },
  {
   "cell_type": "code",
   "execution_count": 2,
   "id": "19cbf559",
   "metadata": {},
   "outputs": [
    {
     "name": "stdout",
     "output_type": "stream",
     "text": [
      "      Fare  RollingFare  Survived  RollingSurvival\n",
      "0   7.2500          NaN         0              NaN\n",
      "1  71.2833          NaN         1              NaN\n",
      "2   7.9250          NaN         1              NaN\n",
      "3  53.1000          NaN         1              NaN\n",
      "4   8.0500     29.52166         0              0.6\n",
      "5   8.4583     29.76332         0              0.6\n",
      "6  51.8625     25.87916         0              0.4\n",
      "7  21.0750     28.50916         0              0.2\n",
      "8  11.1333     20.11582         1              0.2\n",
      "9  30.0708     24.51998         1              0.4\n"
     ]
    }
   ],
   "source": [
    "# Rolling mean on Fare\n",
    "df['RollingFare'] = df['Fare'].rolling(window=5).mean()\n",
    "\n",
    "# Rolling survival rate (average over last 5 passengers)\n",
    "df['RollingSurvival'] = df['Survived'].rolling(window=5).mean()\n",
    "print(df[['Fare', 'RollingFare', 'Survived', 'RollingSurvival']].head(10))"
   ]
  },
  {
   "cell_type": "markdown",
   "id": "c20495b6",
   "metadata": {},
   "source": [
    "Common functions with `.rolling()`:\n",
    "\n",
    "- `.mean()`, `.sum()`, `.std()`, `.min()`, `.max()`\n",
    "\n",
    "### Handling Missing Values:\n",
    "\n",
    "- Use `.fillna()` to handle NaN values introduced at the beginning of rolling windows.\n",
    "\n",
    "## AI/ML Use Case: Time-Based Feature Engineering\n",
    "\n",
    "Cumulative and rolling operations are heavily used in machine learning to create **derived features** that track user behavior, trends, or group statistics over time.\n",
    "\n",
    "Examples:\n",
    "\n",
    "- Cumulative sum of purchases\n",
    "- Rolling average temperature\n",
    "- Rolling survival rate or delay\n",
    "- Customer engagement trends over time\n",
    "\n",
    "These can be **predictive** features that capture long-term patterns or short-term spikes, improving model accuracy.\n",
    "\n",
    "## Exercises\n",
    "\n",
    "**Q1.** Compute cumulative sum of `Fare`."
   ]
  },
  {
   "cell_type": "code",
   "execution_count": 3,
   "id": "15e4f8df",
   "metadata": {},
   "outputs": [
    {
     "name": "stdout",
     "output_type": "stream",
     "text": [
      "   PassengerId     Fare   CumFare\n",
      "0            1   7.2500    7.2500\n",
      "1            2  71.2833   78.5333\n",
      "2            3   7.9250   86.4583\n",
      "3            4  53.1000  139.5583\n",
      "4            5   8.0500  147.6083\n"
     ]
    }
   ],
   "source": [
    "df['CumFare'] = df['Fare'].cumsum()\n",
    "print(df[['PassengerId', 'Fare', 'CumFare']].head())"
   ]
  },
  {
   "cell_type": "markdown",
   "id": "e861046b",
   "metadata": {},
   "source": [
    "**Q2.** Compute rolling mean of `Age` with window of 3."
   ]
  },
  {
   "cell_type": "code",
   "execution_count": 4,
   "id": "44d1e5f8",
   "metadata": {},
   "outputs": [
    {
     "name": "stdout",
     "output_type": "stream",
     "text": [
      "   PassengerId   Age  RollingAge\n",
      "0            1  22.0         NaN\n",
      "1            2  38.0         NaN\n",
      "2            3  26.0   28.666667\n",
      "3            4  35.0   33.000000\n",
      "4            5  35.0   32.000000\n",
      "5            6   NaN         NaN\n",
      "6            7  54.0         NaN\n",
      "7            8   2.0         NaN\n",
      "8            9  27.0   27.666667\n",
      "9           10  14.0   14.333333\n"
     ]
    }
   ],
   "source": [
    "df['RollingAge'] = df['Age'].rolling(window=3).mean()\n",
    "print(df[['PassengerId', 'Age', 'RollingAge']].head(10))"
   ]
  },
  {
   "cell_type": "markdown",
   "id": "ceef8e9e",
   "metadata": {},
   "source": [
    "**Q3.** Add column for cumulative count of passengers."
   ]
  },
  {
   "cell_type": "code",
   "execution_count": 5,
   "id": "4696e9bf",
   "metadata": {},
   "outputs": [],
   "source": [
    "df['CumulativeCount'] = range(1, len(df) + 1)"
   ]
  },
  {
   "cell_type": "markdown",
   "id": "1656e607",
   "metadata": {},
   "source": [
    "**Q4.** Create rolling standard deviation of `Fare` with window 4."
   ]
  },
  {
   "cell_type": "code",
   "execution_count": 6,
   "id": "4623525b",
   "metadata": {},
   "outputs": [
    {
     "name": "stdout",
     "output_type": "stream",
     "text": [
      "      Fare  RollingFareStd\n",
      "0   7.2500             NaN\n",
      "1  71.2833             NaN\n",
      "2   7.9250             NaN\n",
      "3  53.1000       32.389078\n",
      "4   8.0500       32.163198\n",
      "5   8.4583       22.478937\n",
      "6  51.8625       25.540069\n",
      "7  21.0750       20.575731\n",
      "8  11.1333       19.907780\n",
      "9  30.0708       17.368570\n"
     ]
    }
   ],
   "source": [
    "df['RollingFareStd'] = df['Fare'].rolling(window=4).std()\n",
    "print(df[['Fare', 'RollingFareStd']].head(10))"
   ]
  },
  {
   "cell_type": "markdown",
   "id": "c57f8825",
   "metadata": {},
   "source": [
    "**Q5.** Fill missing values in rolling results using forward fill."
   ]
  },
  {
   "cell_type": "code",
   "execution_count": null,
   "id": "64a86945",
   "metadata": {},
   "outputs": [],
   "source": [
    "df['RollingAge'] = df['RollingAge'].fillna(method='ffill')"
   ]
  },
  {
   "cell_type": "markdown",
   "id": "2c9e25e0",
   "metadata": {},
   "source": [
    "### Summary\n",
    "\n",
    "Cumulative and rolling operations are key tools in Pandas for analyzing trends and smoothing out short-term fluctuations. Cumulative functions like `.cumsum()`, `.cummax()` help track growth over time, while rolling windows allow for local averages and volatility measurement.\n",
    "\n",
    "These operations are especially useful in time-series analysis, stock price forecasting, customer behavior modeling, and more. Rolling statistics can be combined with `.groupby()` and `.shift()` for even more powerful feature engineering.\n",
    "\n",
    "When used properly, these techniques lead to **better model inputs**, **smoother data visualization**, and **insightful analytics**. Always visualize and validate these derived columns before using them in production ML pipelines."
   ]
  }
 ],
 "metadata": {
  "kernelspec": {
   "display_name": "Venv",
   "language": "python",
   "name": "python3"
  },
  "language_info": {
   "codemirror_mode": {
    "name": "ipython",
    "version": 3
   },
   "file_extension": ".py",
   "mimetype": "text/x-python",
   "name": "python",
   "nbconvert_exporter": "python",
   "pygments_lexer": "ipython3",
   "version": "3.12.8"
  }
 },
 "nbformat": 4,
 "nbformat_minor": 5
}
