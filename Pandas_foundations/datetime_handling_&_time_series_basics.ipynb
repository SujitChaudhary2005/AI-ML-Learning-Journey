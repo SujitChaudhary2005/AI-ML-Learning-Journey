{
 "cells": [
  {
   "cell_type": "markdown",
   "id": "2e9cd5e2",
   "metadata": {},
   "source": [
    "# DateTime Handling and Time Series Basics in Pandas\n",
    "\n",
    "### What Is DateTime Handling and Time Series in Pandas?\n",
    "\n",
    "Many real-world datasets involve dates and times — such as birth dates, timestamps, or ticket booking times. In the Titanic dataset, the `Date of Journey` or similar time-based fields (hypothetical or added by us) can help identify patterns like group boarding, survival trends by time, or weekly patterns.\n",
    "\n",
    "**Pandas offers a rich set of DateTime tools** to parse, format, manipulate, and analyze time-based data. These tools are essential for time series analysis and AI/ML tasks involving temporal trends.\n",
    "\n",
    "### Sample Setup (Custom Date Column)\n",
    "\n",
    "Since the Titanic dataset doesn't include a Date column by default, we'll simulate one by creating a new column."
   ]
  },
  {
   "cell_type": "code",
   "execution_count": 1,
   "id": "32b2d32e",
   "metadata": {},
   "outputs": [
    {
     "name": "stdout",
     "output_type": "stream",
     "text": [
      "                                                Name JourneyDate\n",
      "0                            Braund, Mr. Owen Harris  1912-04-07\n",
      "1  Cumings, Mrs. John Bradley (Florence Briggs Th...  1912-04-04\n",
      "2                             Heikkinen, Miss. Laina  1912-04-13\n",
      "3       Futrelle, Mrs. Jacques Heath (Lily May Peel)  1912-04-15\n",
      "4                           Allen, Mr. William Henry  1912-04-11\n"
     ]
    }
   ],
   "source": [
    "import pandas as pd\n",
    "import numpy as np\n",
    "\n",
    "df = pd.read_csv(\"data/train.csv\")\n",
    "\n",
    "# Simulate a 'JourneyDate' column between 1912-04-01 and 1912-04-15\n",
    "np.random.seed(42)\n",
    "df['JourneyDate'] = pd.to_datetime(\n",
    "    np.random.choice(pd.date_range(\"1912-04-01\", \"1912-04-15\"), size=len(df))\n",
    ")\n",
    "\n",
    "print(df[['Name', 'JourneyDate']].head())"
   ]
  },
  {
   "cell_type": "markdown",
   "id": "8c27bfc9",
   "metadata": {},
   "source": [
    "### Why Is DateTime Important in AI/ML?\n",
    "\n",
    "In AI/ML and data analytics, DateTime features are often engineered into:\n",
    "\n",
    "- Weekday/weekend indicators\n",
    "- Time since event\n",
    "- Monthly or hourly patterns\n",
    "- Lag-based features for time series forecasting\n",
    "\n",
    "These are critical for tasks like:\n",
    "\n",
    "- **Survival prediction** (boarding time)\n",
    "- **Demand prediction** (by hour/day/month)\n",
    "- **Churn or retention modeling** (time since signup)\n",
    "\n",
    "### Common DateTime Functions in Pandas\n",
    "\n",
    "Pandas has a `.dt` accessor just like `.str` for strings. It allows us to apply datetime operations to a column.\n",
    "\n",
    "1. `.to_datetime()`: Convert to Pandas DateTime format"
   ]
  },
  {
   "cell_type": "code",
   "execution_count": 2,
   "id": "7d8feba1",
   "metadata": {},
   "outputs": [
    {
     "name": "stdout",
     "output_type": "stream",
     "text": [
      "datetime64[ns]\n"
     ]
    }
   ],
   "source": [
    "df['JourneyDate'] = pd.to_datetime(df['JourneyDate'])\n",
    "print(df.dtypes['JourneyDate'])  # Should show datetime64[ns]"
   ]
  },
  {
   "cell_type": "markdown",
   "id": "e9628147",
   "metadata": {},
   "source": [
    "2. `.dt.year`, `.dt.month`, `.dt.day`: Extract parts of date"
   ]
  },
  {
   "cell_type": "code",
   "execution_count": 3,
   "id": "5a3213e0",
   "metadata": {},
   "outputs": [
    {
     "name": "stdout",
     "output_type": "stream",
     "text": [
      "  JourneyDate  JourneyYear  JourneyMonth  JourneyDay\n",
      "0  1912-04-07         1912             4           7\n",
      "1  1912-04-04         1912             4           4\n",
      "2  1912-04-13         1912             4          13\n",
      "3  1912-04-15         1912             4          15\n",
      "4  1912-04-11         1912             4          11\n"
     ]
    }
   ],
   "source": [
    "df['JourneyYear'] = df['JourneyDate'].dt.year\n",
    "df['JourneyMonth'] = df['JourneyDate'].dt.month\n",
    "df['JourneyDay'] = df['JourneyDate'].dt.day\n",
    "    \n",
    "print(df[['JourneyDate', 'JourneyYear', 'JourneyMonth', 'JourneyDay']].head())"
   ]
  },
  {
   "cell_type": "markdown",
   "id": "c97a7814",
   "metadata": {},
   "source": [
    "3. `.dt.weekday`, `.dt.day_name()`: Day of week"
   ]
  },
  {
   "cell_type": "code",
   "execution_count": 4,
   "id": "33412e3f",
   "metadata": {},
   "outputs": [
    {
     "name": "stdout",
     "output_type": "stream",
     "text": [
      "  JourneyDate  IsMonthStart  IsMonthEnd\n",
      "0  1912-04-07         False       False\n",
      "1  1912-04-04         False       False\n",
      "2  1912-04-13         False       False\n",
      "3  1912-04-15         False       False\n",
      "4  1912-04-11         False       False\n"
     ]
    }
   ],
   "source": [
    "df['IsMonthStart'] = df['JourneyDate'].dt.is_month_start\n",
    "df['IsMonthEnd'] = df['JourneyDate'].dt.is_month_end\n",
    "    \n",
    "print(df[['JourneyDate', 'IsMonthStart', 'IsMonthEnd']].head())"
   ]
  },
  {
   "cell_type": "markdown",
   "id": "6851fa7b",
   "metadata": {},
   "source": [
    "4. Subtracting Dates: Time Delta"
   ]
  },
  {
   "cell_type": "code",
   "execution_count": 5,
   "id": "a98d1bb9",
   "metadata": {},
   "outputs": [
    {
     "name": "stdout",
     "output_type": "stream",
     "text": [
      "  JourneyDate  DaysFromLast\n",
      "0  1912-04-07             8\n",
      "1  1912-04-04            11\n",
      "2  1912-04-13             2\n",
      "3  1912-04-15             0\n",
      "4  1912-04-11             4\n"
     ]
    }
   ],
   "source": [
    "latest = df['JourneyDate'].max()\n",
    "df['DaysFromLast'] = (latest - df['JourneyDate']).dt.days\n",
    "    \n",
    "print(df[['JourneyDate', 'DaysFromLast']].head())"
   ]
  },
  {
   "cell_type": "markdown",
   "id": "f565a955",
   "metadata": {},
   "source": [
    "5. Filtering Based on Date"
   ]
  },
  {
   "cell_type": "code",
   "execution_count": 6,
   "id": "45a52b4c",
   "metadata": {},
   "outputs": [
    {
     "name": "stdout",
     "output_type": "stream",
     "text": [
      "                                            Name JourneyDate\n",
      "2                         Heikkinen, Miss. Laina  1912-04-13\n",
      "3   Futrelle, Mrs. Jacques Heath (Lily May Peel)  1912-04-15\n",
      "4                       Allen, Mr. William Henry  1912-04-11\n",
      "6                        McCarthy, Mr. Timothy J  1912-04-13\n",
      "12                Saundercock, Mr. William Henry  1912-04-11\n"
     ]
    }
   ],
   "source": [
    "# Passengers who boarded after April 10\n",
    "filtered = df[df['JourneyDate'] > \"1912-04-10\"]\n",
    "print(filtered[['Name', 'JourneyDate']].head())"
   ]
  },
  {
   "cell_type": "markdown",
   "id": "035d759b",
   "metadata": {},
   "source": [
    "### Basic Time Series Grouping (Resampling & Aggregation)\n",
    "\n",
    "To demonstrate basic time-based grouping, we'll assume each row is a booking. Let's see how many people boarded per day:"
   ]
  },
  {
   "cell_type": "code",
   "execution_count": 7,
   "id": "ef511fa1",
   "metadata": {},
   "outputs": [
    {
     "name": "stdout",
     "output_type": "stream",
     "text": [
      "  JourneyDate  PassengerCount\n",
      "0  1912-04-01              72\n",
      "1  1912-04-02              46\n",
      "2  1912-04-03              69\n",
      "3  1912-04-04              59\n",
      "4  1912-04-05              61\n"
     ]
    }
   ],
   "source": [
    "daily_counts = df.groupby('JourneyDate').size().reset_index(name='PassengerCount')\n",
    "print(daily_counts.head())"
   ]
  },
  {
   "cell_type": "markdown",
   "id": "b171907f",
   "metadata": {},
   "source": [
    "We could also use `.resample()` if `JourneyDate` is set as index:"
   ]
  },
  {
   "cell_type": "code",
   "execution_count": 8,
   "id": "cf4a8f62",
   "metadata": {},
   "outputs": [
    {
     "name": "stdout",
     "output_type": "stream",
     "text": [
      "JourneyDate\n",
      "1912-04-01    72\n",
      "1912-04-02    46\n",
      "1912-04-03    69\n",
      "1912-04-04    59\n",
      "1912-04-05    61\n",
      "Freq: D, Name: PassengerId, dtype: int64\n"
     ]
    }
   ],
   "source": [
    "df.set_index('JourneyDate', inplace=True)\n",
    "daily_summary = df['PassengerId'].resample('D').count()\n",
    "\n",
    "print(daily_summary.head())"
   ]
  },
  {
   "cell_type": "markdown",
   "id": "aec21bb5",
   "metadata": {},
   "source": [
    "### AI/ML Use Case: Feature Engineering with DateTime\n",
    "\n",
    "Date columns in machine learning often get transformed into:\n",
    "\n",
    "- **Categorical features** like Weekday, Month, etc.\n",
    "- **Time-lag features** (days since last event)\n",
    "- **Time of day** or **seasonal** indicators\n",
    "\n",
    "These features improve model accuracy when behavior varies by time — for example:\n",
    "\n",
    "- Passengers on weekdays vs weekends\n",
    "- Last-minute ticket booking patterns\n",
    "- Group boarding on specific dates\n",
    "\n",
    "### Exercise\n",
    "\n",
    "Q1. What day of the week did each passenger board?"
   ]
  },
  {
   "cell_type": "code",
   "execution_count": 9,
   "id": "3856389e",
   "metadata": {},
   "outputs": [
    {
     "name": "stdout",
     "output_type": "stream",
     "text": [
      "  JourneyDate DayOfWeek\n",
      "0  1912-04-07    Sunday\n",
      "1  1912-04-04  Thursday\n",
      "2  1912-04-13  Saturday\n",
      "3  1912-04-15    Monday\n",
      "4  1912-04-11  Thursday\n"
     ]
    }
   ],
   "source": [
    "# Make sure JourneyDate is a column\n",
    "if 'JourneyDate' not in df.columns:\n",
    "    df.reset_index(inplace=True)\n",
    "\n",
    "df['DayOfWeek'] = df['JourneyDate'].dt.day_name()\n",
    "print(df[['JourneyDate', 'DayOfWeek']].head())"
   ]
  },
  {
   "cell_type": "markdown",
   "id": "1672b438",
   "metadata": {},
   "source": [
    "Q2. Create a column `IsWeekend` if the day is Saturday or Sunday"
   ]
  },
  {
   "cell_type": "code",
   "execution_count": 10,
   "id": "625327fd",
   "metadata": {},
   "outputs": [
    {
     "name": "stdout",
     "output_type": "stream",
     "text": [
      "  JourneyDate  IsWeekend\n",
      "0  1912-04-07       True\n",
      "1  1912-04-04      False\n",
      "2  1912-04-13       True\n",
      "3  1912-04-15      False\n",
      "4  1912-04-11      False\n"
     ]
    }
   ],
   "source": [
    "df['IsWeekend'] = df['JourneyDate'].dt.weekday >= 5\n",
    "print(df[['JourneyDate', 'IsWeekend']].head())"
   ]
  },
  {
   "cell_type": "markdown",
   "id": "c2e1e515",
   "metadata": {},
   "source": [
    "Q3. Create a column `BookingPeriod` with values:\n",
    "\n",
    "- `\"Early\"` for days <= April 7\n",
    "- `\"Late\"` for days > April 7"
   ]
  },
  {
   "cell_type": "code",
   "execution_count": 11,
   "id": "e2d11b11",
   "metadata": {},
   "outputs": [
    {
     "name": "stdout",
     "output_type": "stream",
     "text": [
      "  JourneyDate BookingPeriod\n",
      "0  1912-04-07         Early\n",
      "1  1912-04-04         Early\n",
      "2  1912-04-13          Late\n",
      "3  1912-04-15          Late\n",
      "4  1912-04-11          Late\n"
     ]
    }
   ],
   "source": [
    "df['BookingPeriod'] = df['JourneyDate'].apply(\n",
    "    lambda x: \"Early\" if x.day <= 7 else \"Late\"\n",
    ")\n",
    "print(df[['JourneyDate', 'BookingPeriod']].head())"
   ]
  },
  {
   "cell_type": "markdown",
   "id": "c5dff2f6",
   "metadata": {},
   "source": [
    "Q4. Group passengers by JourneyDate and count"
   ]
  },
  {
   "cell_type": "code",
   "execution_count": 12,
   "id": "13d5381f",
   "metadata": {},
   "outputs": [
    {
     "name": "stdout",
     "output_type": "stream",
     "text": [
      "  JourneyDate  PassengerCount\n",
      "0  1912-04-01              72\n",
      "1  1912-04-02              46\n",
      "2  1912-04-03              69\n",
      "3  1912-04-04              59\n",
      "4  1912-04-05              61\n"
     ]
    }
   ],
   "source": [
    "booking_counts = df.groupby('JourneyDate').size().reset_index(name='PassengerCount')\n",
    "print(booking_counts.head())"
   ]
  },
  {
   "cell_type": "markdown",
   "id": "d9cbe52b",
   "metadata": {},
   "source": [
    "### Summary\n",
    "\n",
    "DateTime operations in Pandas are foundational when working with any **temporal data** — whether it's journeys, bookings, timestamps, or log events. While the Titanic dataset didn’t come with a `Date` column, we simulated one to demonstrate how valuable and flexible date-based features can be.\n",
    "\n",
    "Key takeaways:\n",
    "\n",
    "- Use `.to_datetime()` to convert columns into true datetime types.\n",
    "- Access date parts using `.dt.year`, `.dt.day`, `.dt.day_name()`, etc.\n",
    "- Generate derived features like `IsWeekend`, `DaysFromLast`, or `BookingPeriod`.\n",
    "- Use `.apply()` for more advanced transformations based on date values.\n",
    "\n",
    "In ML workflows, time-based features are crucial for **trend analysis, forecasting**, and **behavior prediction**. With Pandas, working with dates becomes fast, expressive, and scalable — essential for any data scientist or ML engineer."
   ]
  }
 ],
 "metadata": {
  "kernelspec": {
   "display_name": "Venv",
   "language": "python",
   "name": "python3"
  },
  "language_info": {
   "codemirror_mode": {
    "name": "ipython",
    "version": 3
   },
   "file_extension": ".py",
   "mimetype": "text/x-python",
   "name": "python",
   "nbconvert_exporter": "python",
   "pygments_lexer": "ipython3",
   "version": "3.12.8"
  }
 },
 "nbformat": 4,
 "nbformat_minor": 5
}
