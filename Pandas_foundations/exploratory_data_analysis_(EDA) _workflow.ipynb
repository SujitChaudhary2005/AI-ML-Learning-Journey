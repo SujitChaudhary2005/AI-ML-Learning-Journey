{
 "cells": [
  {
   "cell_type": "markdown",
   "id": "de1ce576",
   "metadata": {},
   "source": [
    "# Exploratory Data Analysis (EDA) Workflow in Pandas\n",
    "\n",
    "### What is EDA and Why It Matters?\n",
    "\n",
    "Exploratory Data Analysis (EDA) is the process of deeply investigating datasets to **summarize characteristics**, **detect anomalies**, **identify patterns**, and **form hypotheses**. This step is crucial before any AI/ML modeling because it ensures the **quality and relevance of our data**. Without EDA, we risk:\n",
    "\n",
    "- Building models on incomplete or biased datasets\n",
    "- Missing important patterns or relationships\n",
    "- Feeding incorrect feature formats into algorithms\n",
    "\n",
    "In the context of the **Titanic dataset**, EDA helps uncover insights like:\n",
    "\n",
    "- Which passenger groups had the highest survival rates\n",
    "- How ticket class and fare affected survival\n",
    "- The impact of missing data on predictive modeling\n",
    "\n",
    "In **AI/ML pipelines**, EDA helps with:\n",
    "\n",
    "- **Feature selection** (choosing which columns to use)\n",
    "- **Data cleaning** (fixing missing values, duplicates, outliers)\n",
    "- **Preventing data leakage** (avoiding unrealistic performance due to correlated features)\n",
    "\n",
    "**Step 1 – Understand the Data Structure**"
   ]
  },
  {
   "cell_type": "code",
   "execution_count": 1,
   "id": "5fecbe2a",
   "metadata": {},
   "outputs": [
    {
     "name": "stdout",
     "output_type": "stream",
     "text": [
      "<class 'pandas.core.frame.DataFrame'>\n",
      "RangeIndex: 891 entries, 0 to 890\n",
      "Data columns (total 12 columns):\n",
      " #   Column       Non-Null Count  Dtype  \n",
      "---  ------       --------------  -----  \n",
      " 0   PassengerId  891 non-null    int64  \n",
      " 1   Survived     891 non-null    int64  \n",
      " 2   Pclass       891 non-null    int64  \n",
      " 3   Name         891 non-null    object \n",
      " 4   Sex          891 non-null    object \n",
      " 5   Age          714 non-null    float64\n",
      " 6   SibSp        891 non-null    int64  \n",
      " 7   Parch        891 non-null    int64  \n",
      " 8   Ticket       891 non-null    object \n",
      " 9   Fare         891 non-null    float64\n",
      " 10  Cabin        204 non-null    object \n",
      " 11  Embarked     889 non-null    object \n",
      "dtypes: float64(2), int64(5), object(5)\n",
      "memory usage: 83.7+ KB\n",
      "Categorical Columns: ['Name', 'Sex', 'Ticket', 'Cabin', 'Embarked']\n",
      "Numerical Columns: ['PassengerId', 'Survived', 'Pclass', 'Age', 'SibSp', 'Parch', 'Fare']\n"
     ]
    }
   ],
   "source": [
    "import pandas as pd\n",
    "\n",
    "df = pd.read_csv(\"data/train.csv\")\n",
    "\n",
    "# Overview\n",
    "df.info()\n",
    "df.head()\n",
    "\n",
    "# Identify categorical vs numerical columns\n",
    "cat_cols = df.select_dtypes(include='object').columns\n",
    "num_cols = df.select_dtypes(include=['int64', 'float64']).columns\n",
    "\n",
    "print(\"Categorical Columns:\", cat_cols.tolist())\n",
    "print(\"Numerical Columns:\", num_cols.tolist())"
   ]
  },
  {
   "cell_type": "markdown",
   "id": "d3a02845",
   "metadata": {},
   "source": [
    "**Purpose:**\n",
    "\n",
    "- See **column names**, **data types**, **number of non-null values**\n",
    "- Determine **categorical vs numerical** for appropriate analysis\n",
    "- Spot possible **data type issues** (e.g., dates stored as strings)\n",
    "\n",
    "**Step 2 – Univariate Analysis**\n",
    "\n",
    "Focuses on **one variable at a time**."
   ]
  },
  {
   "cell_type": "code",
   "execution_count": 2,
   "id": "3f9d0997",
   "metadata": {},
   "outputs": [
    {
     "name": "stdout",
     "output_type": "stream",
     "text": [
      "count    714.000000\n",
      "mean      29.699118\n",
      "std       14.526497\n",
      "min        0.420000\n",
      "25%       20.125000\n",
      "50%       28.000000\n",
      "75%       38.000000\n",
      "max       80.000000\n",
      "Name: Age, dtype: float64\n",
      "count    891.000000\n",
      "mean      32.204208\n",
      "std       49.693429\n",
      "min        0.000000\n",
      "25%        7.910400\n",
      "50%       14.454200\n",
      "75%       31.000000\n",
      "max      512.329200\n",
      "Name: Fare, dtype: float64\n",
      "Survived\n",
      "0    0.616162\n",
      "1    0.383838\n",
      "Name: proportion, dtype: float64\n",
      "Sex\n",
      "male      577\n",
      "female    314\n",
      "Name: count, dtype: int64\n"
     ]
    }
   ],
   "source": [
    "# Numeric\n",
    "print(df['Age'].describe())\n",
    "print(df['Fare'].describe())\n",
    "\n",
    "# Categorical\n",
    "print(df['Survived'].value_counts(normalize=True))\n",
    "print(df['Sex'].value_counts())"
   ]
  },
  {
   "cell_type": "markdown",
   "id": "9438dc2a",
   "metadata": {},
   "source": [
    "**Purpose:**\n",
    "\n",
    "- Detect **skewness**, **extreme values**, and **common categories**\n",
    "- For Titanic, we might see that the median Age is ~28 and survival rate ~38%\n",
    "\n",
    "**Step 3 – Bivariate & Multivariate Analysis**\n",
    "\n",
    "Explore relationships between **two or more variables**."
   ]
  },
  {
   "cell_type": "code",
   "execution_count": 3,
   "id": "dcc08634",
   "metadata": {},
   "outputs": [
    {
     "data": {
      "text/plain": [
       "Sex     Pclass\n",
       "female  1         0.968085\n",
       "        2         0.921053\n",
       "        3         0.500000\n",
       "male    1         0.368852\n",
       "        2         0.157407\n",
       "        3         0.135447\n",
       "Name: Survived, dtype: float64"
      ]
     },
     "execution_count": 3,
     "metadata": {},
     "output_type": "execute_result"
    }
   ],
   "source": [
    "# Bivariate example\n",
    "pd.crosstab(df['Sex'], df['Survived'], normalize='index')\n",
    "\n",
    "# Group statistics\n",
    "df.groupby('Pclass')['Survived'].mean()\n",
    "\n",
    "# Multivariate\n",
    "df.groupby(['Sex', 'Pclass'])['Survived'].mean()"
   ]
  },
  {
   "cell_type": "markdown",
   "id": "47de9d9f",
   "metadata": {},
   "source": [
    "**Purpose:**\n",
    "\n",
    "- Understand **interactions** between features\n",
    "- Example: Female passengers had higher survival rates, especially in higher classes\n",
    "\n",
    "**Step 4 – Outlier Detection**"
   ]
  },
  {
   "cell_type": "code",
   "execution_count": 4,
   "id": "1dbf32b1",
   "metadata": {},
   "outputs": [
    {
     "data": {
      "text/plain": [
       "<Axes: >"
      ]
     },
     "execution_count": 4,
     "metadata": {},
     "output_type": "execute_result"
    },
    {
     "data": {
      "image/png": "[encoded data removed]",
      "text/plain": [
       "<Figure size 640x480 with 1 Axes>"
      ]
     },
     "metadata": {},
     "output_type": "display_data"
    }
   ],
   "source": [
    "df.boxplot(column='Fare')"
   ]
  },
  {
   "cell_type": "markdown",
   "id": "387765a7",
   "metadata": {},
   "source": [
    "**Purpose:**\n",
    "\n",
    "- Identify **unusually high or low values**\n",
    "- Outliers can **distort mean/variance** and affect ML models\n",
    "- In Titanic, a few fares are > 500, which are luxury tickets\n",
    "\n",
    "**Step 5 – Correlation & Feature Relationships**"
   ]
  },
  {
   "cell_type": "code",
   "execution_count": 5,
   "id": "acec74bf",
   "metadata": {},
   "outputs": [
    {
     "data": {
      "text/html": [
       "<div>\n",
       "<style scoped>\n",
       "    .dataframe tbody tr th:only-of-type {\n",
       "        vertical-align: middle;\n",
       "    }\n",
       "\n",
       "    .dataframe tbody tr th {\n",
       "        vertical-align: top;\n",
       "    }\n",
       "\n",
       "    .dataframe thead th {\n",
       "        text-align: right;\n",
       "    }\n",
       "</style>\n",
       "<table border=\"1\" class=\"dataframe\">\n",
       "  <thead>\n",
       "    <tr style=\"text-align: right;\">\n",
       "      <th></th>\n",
       "      <th>PassengerId</th>\n",
       "      <th>Survived</th>\n",
       "      <th>Pclass</th>\n",
       "      <th>Age</th>\n",
       "      <th>SibSp</th>\n",
       "      <th>Parch</th>\n",
       "      <th>Fare</th>\n",
       "    </tr>\n",
       "  </thead>\n",
       "  <tbody>\n",
       "    <tr>\n",
       "      <th>PassengerId</th>\n",
       "      <td>1.000000</td>\n",
       "      <td>-0.005007</td>\n",
       "      <td>-0.035144</td>\n",
       "      <td>0.036847</td>\n",
       "      <td>-0.057527</td>\n",
       "      <td>-0.001652</td>\n",
       "      <td>0.012658</td>\n",
       "    </tr>\n",
       "    <tr>\n",
       "      <th>Survived</th>\n",
       "      <td>-0.005007</td>\n",
       "      <td>1.000000</td>\n",
       "      <td>-0.338481</td>\n",
       "      <td>-0.077221</td>\n",
       "      <td>-0.035322</td>\n",
       "      <td>0.081629</td>\n",
       "      <td>0.257307</td>\n",
       "    </tr>\n",
       "    <tr>\n",
       "      <th>Pclass</th>\n",
       "      <td>-0.035144</td>\n",
       "      <td>-0.338481</td>\n",
       "      <td>1.000000</td>\n",
       "      <td>-0.369226</td>\n",
       "      <td>0.083081</td>\n",
       "      <td>0.018443</td>\n",
       "      <td>-0.549500</td>\n",
       "    </tr>\n",
       "    <tr>\n",
       "      <th>Age</th>\n",
       "      <td>0.036847</td>\n",
       "      <td>-0.077221</td>\n",
       "      <td>-0.369226</td>\n",
       "      <td>1.000000</td>\n",
       "      <td>-0.308247</td>\n",
       "      <td>-0.189119</td>\n",
       "      <td>0.096067</td>\n",
       "    </tr>\n",
       "    <tr>\n",
       "      <th>SibSp</th>\n",
       "      <td>-0.057527</td>\n",
       "      <td>-0.035322</td>\n",
       "      <td>0.083081</td>\n",
       "      <td>-0.308247</td>\n",
       "      <td>1.000000</td>\n",
       "      <td>0.414838</td>\n",
       "      <td>0.159651</td>\n",
       "    </tr>\n",
       "    <tr>\n",
       "      <th>Parch</th>\n",
       "      <td>-0.001652</td>\n",
       "      <td>0.081629</td>\n",
       "      <td>0.018443</td>\n",
       "      <td>-0.189119</td>\n",
       "      <td>0.414838</td>\n",
       "      <td>1.000000</td>\n",
       "      <td>0.216225</td>\n",
       "    </tr>\n",
       "    <tr>\n",
       "      <th>Fare</th>\n",
       "      <td>0.012658</td>\n",
       "      <td>0.257307</td>\n",
       "      <td>-0.549500</td>\n",
       "      <td>0.096067</td>\n",
       "      <td>0.159651</td>\n",
       "      <td>0.216225</td>\n",
       "      <td>1.000000</td>\n",
       "    </tr>\n",
       "  </tbody>\n",
       "</table>\n",
       "</div>"
      ],
      "text/plain": [
       "             PassengerId  Survived    Pclass       Age     SibSp     Parch  \\\n",
       "PassengerId     1.000000 -0.005007 -0.035144  0.036847 -0.057527 -0.001652   \n",
       "Survived       -0.005007  1.000000 -0.338481 -0.077221 -0.035322  0.081629   \n",
       "Pclass         -0.035144 -0.338481  1.000000 -0.369226  0.083081  0.018443   \n",
       "Age             0.036847 -0.077221 -0.369226  1.000000 -0.308247 -0.189119   \n",
       "SibSp          -0.057527 -0.035322  0.083081 -0.308247  1.000000  0.414838   \n",
       "Parch          -0.001652  0.081629  0.018443 -0.189119  0.414838  1.000000   \n",
       "Fare            0.012658  0.257307 -0.549500  0.096067  0.159651  0.216225   \n",
       "\n",
       "                 Fare  \n",
       "PassengerId  0.012658  \n",
       "Survived     0.257307  \n",
       "Pclass      -0.549500  \n",
       "Age          0.096067  \n",
       "SibSp        0.159651  \n",
       "Parch        0.216225  \n",
       "Fare         1.000000  "
      ]
     },
     "execution_count": 5,
     "metadata": {},
     "output_type": "execute_result"
    }
   ],
   "source": [
    "df.corr(numeric_only=True)"
   ]
  },
  {
   "cell_type": "markdown",
   "id": "8672632a",
   "metadata": {},
   "source": [
    "- Detect **high correlations** that may indicate redundancy\n",
    "- Example: `SibSp` and `Parch` might correlate with `FamilySize` (engineered feature)\n",
    "\n",
    "**Step 6 – Missing Values Overview**"
   ]
  },
  {
   "cell_type": "code",
   "execution_count": 6,
   "id": "6a4a31e0",
   "metadata": {},
   "outputs": [
    {
     "data": {
      "text/plain": [
       "Cabin          687\n",
       "Age            177\n",
       "Embarked         2\n",
       "PassengerId      0\n",
       "Name             0\n",
       "Pclass           0\n",
       "Survived         0\n",
       "Sex              0\n",
       "Parch            0\n",
       "SibSp            0\n",
       "Fare             0\n",
       "Ticket           0\n",
       "dtype: int64"
      ]
     },
     "execution_count": 6,
     "metadata": {},
     "output_type": "execute_result"
    }
   ],
   "source": [
    "df.isnull().sum().sort_values(ascending=False)"
   ]
  },
  {
   "cell_type": "markdown",
   "id": "5be85fb2",
   "metadata": {},
   "source": [
    "**Purpose:**\n",
    "\n",
    "- Identify columns with missing values\n",
    "- Plan **imputation strategies** (median for Age, mode for Embarked)\n",
    "\n",
    "**Step 7 – Visualization Techniques**"
   ]
  },
  {
   "cell_type": "code",
   "execution_count": 7,
   "id": "4c812fa8",
   "metadata": {},
   "outputs": [
    {
     "data": {
      "image/png": "[encoded data removed]",
      "text/plain": [
       "<Figure size 640x480 with 1 Axes>"
      ]
     },
     "metadata": {},
     "output_type": "display_data"
    }
   ],
   "source": [
    "import seaborn as sns\n",
    "import matplotlib.pyplot as plt\n",
    "\n",
    "sns.histplot(df['Age'], kde=True)\n",
    "sns.barplot(x='Sex', y='Survived', data=df)\n",
    "plt.show()"
   ]
  },
  {
   "cell_type": "markdown",
   "id": "baa87a68",
   "metadata": {},
   "source": [
    "**Purpose:**\n",
    "\n",
    "- Reveal patterns **not obvious in tables**\n",
    "- Example: Younger passengers had slightly higher survival rates\n",
    "\n",
    "## AI/ML Use Cases\n",
    "\n",
    "- **Feature selection**: Drop irrelevant or highly correlated features\n",
    "- **Data cleaning**: Fix missing values before modeling\n",
    "- **Anomaly detection**: Identify rare cases that may mislead models\n",
    "- **Prevent data leakage**: Avoid features that give away the target variable\n",
    "\n",
    "## **Exercises**\n",
    "\n",
    "Q1. Check missing values in Titanic and impute Age with the median"
   ]
  },
  {
   "cell_type": "code",
   "execution_count": null,
   "id": "4be34d31",
   "metadata": {},
   "outputs": [],
   "source": [
    "print(\"Missing values before imputation:\\n\", df.isnull().sum())\n",
    "df['Age'].fillna(df['Age'].median(), inplace=True)\n",
    "print(\"\\nMissing values after imputing Age:\\n\", df.isnull().sum())"
   ]
  },
  {
   "cell_type": "markdown",
   "id": "b22c88ce",
   "metadata": {},
   "source": [
    "Q2. Create histogram of Fare with KDE"
   ]
  },
  {
   "cell_type": "code",
   "execution_count": 8,
   "id": "861fb834",
   "metadata": {},
   "outputs": [
    {
     "data": {
      "image/png": "[encoded data removed]",
      "text/plain": [
       "<Figure size 800x500 with 1 Axes>"
      ]
     },
     "metadata": {},
     "output_type": "display_data"
    }
   ],
   "source": [
    "plt.figure(figsize=(8, 5))\n",
    "sns.histplot(df['Fare'], kde=True, bins=30)\n",
    "plt.title(\"Fare Distribution with KDE\")\n",
    "plt.xlabel(\"Fare\")\n",
    "plt.ylabel(\"Frequency\")\n",
    "plt.show()"
   ]
  },
  {
   "cell_type": "markdown",
   "id": "f7e9f78b",
   "metadata": {},
   "source": [
    "Q3.  Compare survival rates by Embarked and Pclass"
   ]
  },
  {
   "cell_type": "code",
   "execution_count": 9,
   "id": "fc98af78",
   "metadata": {},
   "outputs": [
    {
     "name": "stdout",
     "output_type": "stream",
     "text": [
      "\n",
      "Survival Rates by Embarked & Pclass:\n",
      "   Embarked  Pclass  Survived\n",
      "0        C       1  0.694118\n",
      "1        C       2  0.529412\n",
      "2        C       3  0.378788\n",
      "3        Q       1  0.500000\n",
      "4        Q       2  0.666667\n",
      "5        Q       3  0.375000\n",
      "6        S       1  0.582677\n",
      "7        S       2  0.463415\n",
      "8        S       3  0.189802\n"
     ]
    },
    {
     "data": {
      "image/png": "[encoded data removed]",
      "text/plain": [
       "<Figure size 800x500 with 1 Axes>"
      ]
     },
     "metadata": {},
     "output_type": "display_data"
    }
   ],
   "source": [
    "survival_rates = df.groupby(['Embarked', 'Pclass'])['Survived'].mean().reset_index()\n",
    "print(\"\\nSurvival Rates by Embarked & Pclass:\\n\", survival_rates)\n",
    "\n",
    "plt.figure(figsize=(8, 5))\n",
    "sns.barplot(x='Embarked', y='Survived', hue='Pclass', data=df)\n",
    "plt.title(\"Survival Rate by Embarked and Pclass\")\n",
    "plt.ylabel(\"Survival Rate\")\n",
    "plt.show()"
   ]
  },
  {
   "cell_type": "markdown",
   "id": "dd12cc33",
   "metadata": {},
   "source": [
    "Q4.  Detect and list outliers in Fare"
   ]
  },
  {
   "cell_type": "code",
   "execution_count": 10,
   "id": "be714ab5",
   "metadata": {},
   "outputs": [
    {
     "name": "stdout",
     "output_type": "stream",
     "text": [
      "\n",
      "Outliers in Fare:\n",
      "      PassengerId      Fare\n",
      "1              2   71.2833\n",
      "27            28  263.0000\n",
      "31            32  146.5208\n",
      "34            35   82.1708\n",
      "52            53   76.7292\n",
      "..           ...       ...\n",
      "846          847   69.5500\n",
      "849          850   89.1042\n",
      "856          857  164.8667\n",
      "863          864   69.5500\n",
      "879          880   83.1583\n",
      "\n",
      "[116 rows x 2 columns]\n"
     ]
    }
   ],
   "source": [
    "Q1 = df['Fare'].quantile(0.25)\n",
    "Q3 = df['Fare'].quantile(0.75)\n",
    "IQR = Q3 - Q1\n",
    "lower_bound = Q1 - 1.5 * IQR\n",
    "upper_bound = Q3 + 1.5 * IQR\n",
    "\n",
    "outliers = df[(df['Fare'] < lower_bound) | (df['Fare'] > upper_bound)]\n",
    "print(\"\\nOutliers in Fare:\\n\", outliers[['PassengerId', 'Fare']])"
   ]
  },
  {
   "cell_type": "markdown",
   "id": "a0cf20ad",
   "metadata": {},
   "source": [
    "### Summary\n",
    "\n",
    "Exploratory Data Analysis (EDA) is not optional—it serves as the foundation for building any reliable AI/ML model. Using the Titanic dataset, we began by inspecting the data structure to understand the nature, types, and distribution of features. We analyzed individual columns to gain insights into their statistical properties and detect potential anomalies. We then explored relationships between variables, such as how passenger class and embarkation port relate to survival rates. Outlier detection was performed to identify unusual values, particularly in the `Fare` feature, and missing values were addressed, such as imputing the median for the `Age` column. Visualizations like histograms, KDE plots, and heatmaps were used to spot patterns and correlations that are not immediately visible in raw data. Conducting a thorough EDA not only reduces the risk of making poor modeling decisions but also improves feature engineering, helping us identify which variables are most predictive and relevant. Ultimately, EDA ensures that the model is built on clean, accurate, and contextually meaningful data, laying a strong groundwork for successful AI/ML outcomes."
   ]
  }
 ],
 "metadata": {
  "kernelspec": {
   "display_name": "Venv",
   "language": "python",
   "name": "python3"
  },
  "language_info": {
   "codemirror_mode": {
    "name": "ipython",
    "version": 3
   },
   "file_extension": ".py",
   "mimetype": "text/x-python",
   "name": "python",
   "nbconvert_exporter": "python",
   "pygments_lexer": "ipython3",
   "version": "3.12.8"
  }
 },
 "nbformat": 4,
 "nbformat_minor": 5
}
