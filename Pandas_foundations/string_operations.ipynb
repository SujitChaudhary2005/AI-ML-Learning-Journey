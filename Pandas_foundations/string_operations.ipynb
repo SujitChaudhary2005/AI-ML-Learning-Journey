{
 "cells": [
  {
   "cell_type": "markdown",
   "id": "9bfc6f67",
   "metadata": {},
   "source": [
    "# String Operations in Pandas\n",
    "\n",
    "### What Are String Operations in Pandas?\n",
    "\n",
    "Text-based data is everywhere — in names, emails, addresses, IDs, tickets, and more. In the Titanic dataset, key columns like `Name`, `Ticket`, and `Cabin` contain strings that can be cleaned, transformed, or mined for useful information.\n",
    "\n",
    "Pandas provides a powerful `.str` accessor to manipulate strings across an entire column (Series) efficiently. These operations allow us to:\n",
    "\n",
    "- Normalize text (e.g., convert everything to lowercase)\n",
    "- Clean messy strings (e.g., remove punctuation)\n",
    "- Extract structured patterns (e.g., titles from names)\n",
    "- Filter or tag rows based on string content\n",
    "\n",
    "These string operations are especially valuable in AI/ML workflows for **feature engineering**, such as extracting names, standardizing formats, or building binary indicators from patterns in text.\n",
    "\n",
    "### Loading the Titanic Dataset"
   ]
  },
  {
   "cell_type": "code",
   "execution_count": 1,
   "id": "232cef41",
   "metadata": {},
   "outputs": [
    {
     "name": "stdout",
     "output_type": "stream",
     "text": [
      "                                                Name            Ticket Cabin\n",
      "0                            Braund, Mr. Owen Harris         A/5 21171   NaN\n",
      "1  Cumings, Mrs. John Bradley (Florence Briggs Th...          PC 17599   C85\n",
      "2                             Heikkinen, Miss. Laina  STON/O2. 3101282   NaN\n",
      "3       Futrelle, Mrs. Jacques Heath (Lily May Peel)            113803  C123\n",
      "4                           Allen, Mr. William Henry            373450   NaN\n"
     ]
    }
   ],
   "source": [
    "import pandas as pd\n",
    "df = pd.read_csv(\"data/train.csv\")\n",
    "print(df[['Name', 'Ticket', 'Cabin']].head())"
   ]
  },
  {
   "cell_type": "markdown",
   "id": "5d5308e0",
   "metadata": {},
   "source": [
    "### Regular Expressions in Pandas (`regex=True`)\n",
    "\n",
    "**Regex (Regular Expressions)** are patterns used to match strings. Pandas string functions like `.replace()`, `.contains()`, and `.extract()` can use regex to:\n",
    "\n",
    "- Match specific characters or groups\n",
    "- Remove unwanted patterns (e.g., punctuation)\n",
    "- Extract substrings using complex patterns\n",
    "\n",
    "Regex is especially useful when string values follow a consistent format (like names or codes).\n",
    "\n",
    "### Why Use Regex in Pandas?\n",
    "\n",
    "In AI/ML preprocessing, regex helps:\n",
    "\n",
    "- Extract titles from names: `\"Mr.\"`, `\"Miss.\"`\n",
    "- Remove unwanted characters: punctuation, brackets\n",
    "- Match specific types of strings: digits, uppercase words, etc.\n",
    "\n",
    "### Common Regex Symbols and Their Meaning\n",
    "\n",
    "This cheat sheet will help us understand and write regular expressions when working with string data in Pandas:\n",
    "\n",
    "| **Symbol** | **Meaning** | **Example** | **Matches** |\n",
    "| --- | --- | --- | --- |\n",
    "| `.` | Any character except newline | `\"a.b\"` | Matches `\"aab\"`, `\"acb\"` |\n",
    "| `^` | Start of string (outside `[]`) | `\"^Mr\"` | Matches `\"Mr. John\"` at the start |\n",
    "| `$` | End of string | `\"end$\"` | Matches `\"This is the end\"` |\n",
    "| `*` | Zero or more of the preceding pattern | `\"lo*\"` | Matches `\"l\"`, `\"lo\"`, `\"loo\"` |\n",
    "| `+` | One or more of the preceding pattern | `\"lo+\"` | Matches `\"lo\"`, `\"loo\"` |\n",
    "| `?` | Zero or one of the preceding pattern | `\"lo?\"` | Matches `\"l\"` or `\"lo\"` |\n",
    "| `{n}` | Exactly n repetitions | `\"a{3}\"` | Matches `\"aaa\"` |\n",
    "| `{n,}` | n or more repetitions | `\"a{2,}\"` | Matches `\"aa\"`, `\"aaa\"`, etc. |\n",
    "| `{n,m}` | Between n and m repetitions | `\"a{2,4}\"` | Matches `\"aa\"`, `\"aaa\"`, `\"aaaa\"` |\n",
    "| `[]` | Character set (any one inside) | `\"[abc]\"` | Matches `\"a\"`, `\"b\"`, `\"c\"` |\n",
    "| `[^...]` | Negated character set | `\"[^0-9]\"` | Matches anything except digits |\n",
    "| `\\w` | Word character = `[a-zA-Z0-9_]` | `\"\\w\"` | Matches `\"a\"`, `\"Z\"`, `\"9\"`, `\"_\"` |\n",
    "| `\\W` | Non-word character | `\"\\W\"` | Matches `\"!\"`, `\".\"`, `\" \"` |\n",
    "| `\\d` | Digit = `[0-9]` | `\"\\d\"` | Matches `\"3\"`, `\"9\"` |\n",
    "| `\\D` | Non-digit | `\"\\D\"` | Matches `\"a\"`, `\"!\"` |\n",
    "| `\\s` | Whitespace (space, tab, newline) | `\"\\s\"` | Matches `\" \"`, `\"\\n\"` |\n",
    "| `\\S` | Non-whitespace | `\"\\S\"` | Matches `\"a\"`, `\"1\"`, `\"@\"` |\n",
    "| `()` | Grouping and extraction | `\"(Mr|Mrs)\\\\.?\"` | Matches `\"Mr.\"`, `\"Mrs.\"`, `\"Mr\"`, `\"Mrs\"` |\n",
    "| `\\.` | Escaped dot (matches a literal `.`) | `\"Mr\\.\"` | Matches `\"Mr.\"` |\n",
    "| `\\\\` | Escapes a backslash | `\"\\\\d\"` | Interpreted as `\\d` (digit) |\n",
    "| `(?i)` | Case-insensitive mode | `\"(?i)miss\"` | Matches `\"Miss\"`, `\"MISS\"`, `\"miss\"` |\n",
    "\n",
    "### Special Tips for Pandas\n",
    "\n",
    "- Use `regex=True` in `.replace()` and `.str.contains()` to activate regex mode.\n",
    "- Escape symbols like `.` or `+` with `\\` if we want their literal meaning.\n",
    "- Group patterns using `()` for extraction with `.str.extract()`\n",
    "\n",
    "### Common String Methods\n",
    "\n",
    "1. `.lower()` : Converts every character in a string to lowercase. Standardizes text so that comparisons are case-insensitive — very useful when matching keywords like \"miss\", \"mr\", etc."
   ]
  },
  {
   "cell_type": "code",
   "execution_count": 2,
   "id": "d0b3d480",
   "metadata": {},
   "outputs": [
    {
     "name": "stdout",
     "output_type": "stream",
     "text": [
      "                                                Name  \\\n",
      "0                            Braund, Mr. Owen Harris   \n",
      "1  Cumings, Mrs. John Bradley (Florence Briggs Th...   \n",
      "2                             Heikkinen, Miss. Laina   \n",
      "3       Futrelle, Mrs. Jacques Heath (Lily May Peel)   \n",
      "4                           Allen, Mr. William Henry   \n",
      "\n",
      "                                          Name_lower  \n",
      "0                            braund, mr. owen harris  \n",
      "1  cumings, mrs. john bradley (florence briggs th...  \n",
      "2                             heikkinen, miss. laina  \n",
      "3       futrelle, mrs. jacques heath (lily may peel)  \n",
      "4                           allen, mr. william henry  \n"
     ]
    }
   ],
   "source": [
    "df['Name_lower'] = df['Name'].str.lower()\n",
    "print(df[['Name', 'Name_lower']].head())"
   ]
  },
  {
   "cell_type": "markdown",
   "id": "4096d498",
   "metadata": {},
   "source": [
    "2. `.replace()` : Replaces specific characters or patterns with another string. Can use both simple string replacement and regex. Clean strings by removing punctuation or replacing unwanted patterns before analysis or feature extraction."
   ]
  },
  {
   "cell_type": "code",
   "execution_count": 3,
   "id": "663d60fe",
   "metadata": {},
   "outputs": [
    {
     "name": "stdout",
     "output_type": "stream",
     "text": [
      "                                                Name  \\\n",
      "0                            Braund, Mr. Owen Harris   \n",
      "1  Cumings, Mrs. John Bradley (Florence Briggs Th...   \n",
      "2                             Heikkinen, Miss. Laina   \n",
      "3       Futrelle, Mrs. Jacques Heath (Lily May Peel)   \n",
      "4                           Allen, Mr. William Henry   \n",
      "\n",
      "                                        Name_clean  \n",
      "0                            Braund Mr Owen Harris  \n",
      "1  Cumings Mrs John Bradley Florence Briggs Thayer  \n",
      "2                             Heikkinen Miss Laina  \n",
      "3         Futrelle Mrs Jacques Heath Lily May Peel  \n",
      "4                           Allen Mr William Henry  \n"
     ]
    }
   ],
   "source": [
    "df['Name_clean'] = df['Name'].str.replace(r\"[^\\w\\s]\", \"\", regex=True)\n",
    "print(df[['Name', 'Name_clean']].head())"
   ]
  },
  {
   "cell_type": "markdown",
   "id": "8ae1baac",
   "metadata": {},
   "source": [
    "3. `.contains()` : Returns `True` if a substring or pattern is found in the string. Create binary flags for presence of certain titles or labels like \"Miss\", \"Master\", \"PC\", etc."
   ]
  },
  {
   "cell_type": "code",
   "execution_count": 4,
   "id": "35ac656f",
   "metadata": {},
   "outputs": [
    {
     "name": "stdout",
     "output_type": "stream",
     "text": [
      "                                                Name  Has_Miss\n",
      "0                            Braund, Mr. Owen Harris     False\n",
      "1  Cumings, Mrs. John Bradley (Florence Briggs Th...     False\n",
      "2                             Heikkinen, Miss. Laina      True\n",
      "3       Futrelle, Mrs. Jacques Heath (Lily May Peel)     False\n",
      "4                           Allen, Mr. William Henry     False\n"
     ]
    }
   ],
   "source": [
    "df['Has_Miss'] = df['Name'].str.contains(\"Miss\")\n",
    "print(df[['Name', 'Has_Miss']].head())"
   ]
  },
  {
   "cell_type": "markdown",
   "id": "33b977ba",
   "metadata": {},
   "source": [
    "4. `.startswith()` and `.endswith()` : Checks if a string starts or ends with a particular substring. Identify patterns like ticket codes or labels that follow a prefix/suffix."
   ]
  },
  {
   "cell_type": "code",
   "execution_count": 5,
   "id": "bae1386d",
   "metadata": {},
   "outputs": [
    {
     "name": "stdout",
     "output_type": "stream",
     "text": [
      "                                                Name  Starts_with_Mr\n",
      "0                            Braund, Mr. Owen Harris           False\n",
      "1  Cumings, Mrs. John Bradley (Florence Briggs Th...           False\n",
      "2                             Heikkinen, Miss. Laina           False\n",
      "3       Futrelle, Mrs. Jacques Heath (Lily May Peel)           False\n",
      "4                           Allen, Mr. William Henry           False\n"
     ]
    }
   ],
   "source": [
    "df['Starts_with_Mr'] = df['Name'].str.startswith(\"Mr\")\n",
    "print(df[['Name', 'Starts_with_Mr']].head())"
   ]
  },
  {
   "cell_type": "markdown",
   "id": "7acd4f51",
   "metadata": {},
   "source": [
    "5. `.split()` with `.str.get()` : Splits a string into a list using a delimiter. Use `.str.get()` to access a specific part. Extract the last name from `Name` field (format is “Last, Title First”)."
   ]
  },
  {
   "cell_type": "code",
   "execution_count": 6,
   "id": "aa34e7ca",
   "metadata": {},
   "outputs": [
    {
     "name": "stdout",
     "output_type": "stream",
     "text": [
      "                                                Name  Last_Name\n",
      "0                            Braund, Mr. Owen Harris     Braund\n",
      "1  Cumings, Mrs. John Bradley (Florence Briggs Th...    Cumings\n",
      "2                             Heikkinen, Miss. Laina  Heikkinen\n",
      "3       Futrelle, Mrs. Jacques Heath (Lily May Peel)   Futrelle\n",
      "4                           Allen, Mr. William Henry      Allen\n"
     ]
    }
   ],
   "source": [
    "df['Last_Name'] = df['Name'].str.split(',').str.get(0)\n",
    "print(df[['Name', 'Last_Name']].head())"
   ]
  },
  {
   "cell_type": "markdown",
   "id": "e1d1d349",
   "metadata": {},
   "source": [
    "6. `.extract()` : Uses regex to extract parts of strings and place them into a new column. Extract titles such as “Mr”, “Miss”, “Dr” from names."
   ]
  },
  {
   "cell_type": "code",
   "execution_count": 7,
   "id": "30412502",
   "metadata": {},
   "outputs": [
    {
     "name": "stdout",
     "output_type": "stream",
     "text": [
      "                                                Name Title\n",
      "0                            Braund, Mr. Owen Harris    Mr\n",
      "1  Cumings, Mrs. John Bradley (Florence Briggs Th...   Mrs\n",
      "2                             Heikkinen, Miss. Laina  Miss\n",
      "3       Futrelle, Mrs. Jacques Heath (Lily May Peel)   Mrs\n",
      "4                           Allen, Mr. William Henry    Mr\n"
     ]
    }
   ],
   "source": [
    "df['Title'] = df['Name'].str.extract(r'([A-Za-z]+)\\.')\n",
    "print(df[['Name', 'Title']].head())"
   ]
  },
  {
   "cell_type": "markdown",
   "id": "7f620a01",
   "metadata": {},
   "source": [
    "**Explanation:**\n",
    "\n",
    "- `([A-Za-z]+)` matches one or more letters.\n",
    "- `\\.` matches the literal dot character after the title.\n",
    "\n",
    "### AI/ML Use Case: Feature Engineering from Strings\n",
    "\n",
    "In machine learning, string columns are usually **not used directly**. Instead, we:\n",
    "\n",
    "- Extract **features** (e.g., Title from Name)\n",
    "- Convert **categories** into numbers (Label Encoding)\n",
    "- Clean noise for consistency (e.g., lowercase, punctuation removal)\n",
    "\n",
    "Examples from Titanic:\n",
    "\n",
    "- `Title` can indicate gender and age group.\n",
    "- Cleaned `Ticket` or `Cabin` values can help detect social class or group travel.\n",
    "- Flags like `Has_Miss` or `Has_Master` can correlate with survival rate.\n",
    "\n",
    "Clean, structured string features often **boost model performance**."
   ]
  },
  {
   "cell_type": "markdown",
   "id": "f9a46abb",
   "metadata": {},
   "source": [
    "## When to Use `.str` vs `.apply()` for String Logic\n",
    "\n",
    "- Use `.str` for **simple**, **vectorized**, and **efficient** string operations.\n",
    "- Use `.apply()` when:\n",
    "    - The logic involves conditionals\n",
    "    - We need more control (e.g., combining columns, multiple operations)\n",
    "\n",
    "Example with `.apply()`:"
   ]
  },
  {
   "cell_type": "code",
   "execution_count": 8,
   "id": "793c4e4f",
   "metadata": {},
   "outputs": [
    {
     "name": "stdout",
     "output_type": "stream",
     "text": [
      "                                                Name NameLengthLabel\n",
      "0                            Braund, Mr. Owen Harris           Short\n",
      "1  Cumings, Mrs. John Bradley (Florence Briggs Th...            Long\n",
      "2                             Heikkinen, Miss. Laina           Short\n",
      "3       Futrelle, Mrs. Jacques Heath (Lily May Peel)            Long\n",
      "4                           Allen, Mr. William Henry           Short\n"
     ]
    }
   ],
   "source": [
    "df['NameLengthLabel'] = df['Name'].apply(lambda x: 'Short' if len(x) < 30 else 'Long')\n",
    "print(df[['Name', 'NameLengthLabel']].head())"
   ]
  },
  {
   "cell_type": "markdown",
   "id": "d646bd2f",
   "metadata": {},
   "source": [
    "### Exercise\n",
    "\n",
    "Q1. Extract the passenger Title from the Name column"
   ]
  },
  {
   "cell_type": "code",
   "execution_count": 9,
   "id": "23a7e403",
   "metadata": {},
   "outputs": [
    {
     "name": "stdout",
     "output_type": "stream",
     "text": [
      "                                                Name Title\n",
      "0                            Braund, Mr. Owen Harris    Mr\n",
      "1  Cumings, Mrs. John Bradley (Florence Briggs Th...   Mrs\n",
      "2                             Heikkinen, Miss. Laina  Miss\n",
      "3       Futrelle, Mrs. Jacques Heath (Lily May Peel)   Mrs\n",
      "4                           Allen, Mr. William Henry    Mr\n"
     ]
    }
   ],
   "source": [
    "df['Title'] = df['Name'].str.extract(r'([A-Za-z]+)\\.')\n",
    "print(df[['Name', 'Title']].head())"
   ]
  },
  {
   "cell_type": "markdown",
   "id": "86a3d147",
   "metadata": {},
   "source": [
    "Q2. Clean the Name column by removing all punctuation and converting to lowercase"
   ]
  },
  {
   "cell_type": "code",
   "execution_count": 10,
   "id": "58f6249e",
   "metadata": {},
   "outputs": [
    {
     "name": "stdout",
     "output_type": "stream",
     "text": [
      "                                                Name  \\\n",
      "0                            Braund, Mr. Owen Harris   \n",
      "1  Cumings, Mrs. John Bradley (Florence Briggs Th...   \n",
      "2                             Heikkinen, Miss. Laina   \n",
      "3       Futrelle, Mrs. Jacques Heath (Lily May Peel)   \n",
      "4                           Allen, Mr. William Henry   \n",
      "\n",
      "                                        Name_clean  \n",
      "0                            braund mr owen harris  \n",
      "1  cumings mrs john bradley florence briggs thayer  \n",
      "2                             heikkinen miss laina  \n",
      "3         futrelle mrs jacques heath lily may peel  \n",
      "4                           allen mr william henry  \n"
     ]
    }
   ],
   "source": [
    "# Remove punctuation and convert to lowercase\n",
    "df['Name_clean'] = df['Name'].str.replace(r\"[^\\w\\s]\", \"\", regex=True).str.lower()\n",
    "print(df[['Name', 'Name_clean']].head())"
   ]
  },
  {
   "cell_type": "markdown",
   "id": "65acbcb3",
   "metadata": {},
   "source": [
    "> `r\"[^\\w\\s]\"` means: \"Match any character that is not a word (\\w) or whitespace (\\s)\".\n",
    "> \n",
    "> \n",
    "> It removes punctuation like commas, dots, brackets, etc.\n",
    "> \n",
    "\n",
    "Q3. Create a `Has_Master` column that flags if \"Master\" is in the name"
   ]
  },
  {
   "cell_type": "code",
   "execution_count": 11,
   "id": "2a7cf2b0",
   "metadata": {},
   "outputs": [
    {
     "name": "stdout",
     "output_type": "stream",
     "text": [
      "                                                Name  Has_Master\n",
      "0                            Braund, Mr. Owen Harris       False\n",
      "1  Cumings, Mrs. John Bradley (Florence Briggs Th...       False\n",
      "2                             Heikkinen, Miss. Laina       False\n",
      "3       Futrelle, Mrs. Jacques Heath (Lily May Peel)       False\n",
      "4                           Allen, Mr. William Henry       False\n"
     ]
    }
   ],
   "source": [
    "df['Has_Master'] = df['Name'].str.contains(\"Master\", case=False)\n",
    "print(df[['Name', 'Has_Master']].head())"
   ]
  },
  {
   "cell_type": "markdown",
   "id": "044d5ff9",
   "metadata": {},
   "source": [
    "Q4. Extract the last name from Name using `.split()` "
   ]
  },
  {
   "cell_type": "code",
   "execution_count": 12,
   "id": "3b7c4c63",
   "metadata": {},
   "outputs": [
    {
     "name": "stdout",
     "output_type": "stream",
     "text": [
      "                                                Name  Last_Name\n",
      "0                            Braund, Mr. Owen Harris     Braund\n",
      "1  Cumings, Mrs. John Bradley (Florence Briggs Th...    Cumings\n",
      "2                             Heikkinen, Miss. Laina  Heikkinen\n",
      "3       Futrelle, Mrs. Jacques Heath (Lily May Peel)   Futrelle\n",
      "4                           Allen, Mr. William Henry      Allen\n"
     ]
    }
   ],
   "source": [
    "df['Last_Name'] = df['Name'].str.split(',').str.get(0)\n",
    "print(df[['Name', 'Last_Name']].head())"
   ]
  },
  {
   "cell_type": "markdown",
   "id": "bf78a900",
   "metadata": {},
   "source": [
    "Q5. Create a binary column `Has_Initial` if a title like “Dr.” or “Rev.” appears in the name"
   ]
  },
  {
   "cell_type": "code",
   "execution_count": null,
   "id": "a6d75f55",
   "metadata": {},
   "outputs": [],
   "source": [
    "df['Has_Initial'] = df['Name'].str.contains(r'\\b(Dr|Rev)\\.', regex=True)\n",
    "print(df[['Name', 'Has_Initial']].head())"
   ]
  },
  {
   "cell_type": "markdown",
   "id": "63c81397",
   "metadata": {},
   "source": [
    "Q6. Use `.replace()` with regex to remove all digits from the Ticket column"
   ]
  },
  {
   "cell_type": "code",
   "execution_count": 14,
   "id": "15459f48",
   "metadata": {},
   "outputs": [
    {
     "name": "stdout",
     "output_type": "stream",
     "text": [
      "             Ticket Ticket_no_digits\n",
      "0         A/5 21171              A/ \n",
      "1          PC 17599              PC \n",
      "2  STON/O2. 3101282         STON/O. \n",
      "3            113803                 \n",
      "4            373450                 \n"
     ]
    }
   ],
   "source": [
    "df['Ticket_no_digits'] = df['Ticket'].str.replace(r'\\d+', '', regex=True)\n",
    "print(df[['Ticket', 'Ticket_no_digits']].head())"
   ]
  },
  {
   "cell_type": "markdown",
   "id": "85a799ca",
   "metadata": {},
   "source": [
    "## Summary\n",
    "\n",
    "String operations in Pandas are essential for cleaning, transforming, and extracting meaningful features from text data—often messy, inconsistent, or unstructured in real-world datasets. In AI and machine learning workflows, raw textual columns like names, tickets, or IDs usually cannot be fed directly into models. Instead, they require preprocessing to convert text into structured, numeric, or categorical features.\n",
    "\n",
    "Pandas provides the powerful `.str` accessor that allows vectorized string manipulation across an entire Series or DataFrame column efficiently, even with large datasets. This makes string handling fast, concise, and scalable.\n",
    "\n",
    "Key Pandas string methods include:\n",
    "\n",
    "- **`.lower()`**: Normalizes text by converting all characters to lowercase, helping standardize data and avoid case sensitivity issues during matching or filtering.\n",
    "- **`.replace()`**: Removes or substitutes unwanted characters or patterns using plain strings or regular expressions (regex). This cleans noisy data by eliminating punctuation, digits, or special symbols.\n",
    "- **`.contains()`**: Returns Boolean values indicating if a substring or regex pattern exists in each string. This is useful to create binary flags (e.g., “Has_Master”) that signal presence of keywords or labels.\n",
    "- **`.startswith()` and `.endswith()`**: Check if strings begin or end with a specific substring, helping identify patterns like ticket prefixes or name titles.\n",
    "- **`.split()`**: Splits strings by delimiters into lists; combined with `.str.get()` to extract specific parts (e.g., last names from “Last, First” format).\n",
    "- **`.extract()`**: Uses regex to capture and extract specific patterns into new columns, ideal for structured feature extraction like titles (“Mr.”, “Dr.”).\n",
    "\n",
    "Regular expressions are integral to advanced string operations in Pandas, enabling complex pattern matching and extraction. Understanding common regex symbols and syntax enhances the ability to clean and parse data effectively.\n",
    "\n",
    "While `.str` methods are ideal for simple, vectorized operations on single text columns, `.apply()` with custom functions is used when logic requires conditionals, multi-column interactions, or more complex processing—though this is less efficient.\n",
    "\n",
    "In summary, mastering Pandas string operations and regex empowers data scientists and ML engineers to convert raw text into structured, informative features, significantly boosting model quality and analysis accuracy."
   ]
  }
 ],
 "metadata": {
  "kernelspec": {
   "display_name": "Venv",
   "language": "python",
   "name": "python3"
  },
  "language_info": {
   "codemirror_mode": {
    "name": "ipython",
    "version": 3
   },
   "file_extension": ".py",
   "mimetype": "text/x-python",
   "name": "python",
   "nbconvert_exporter": "python",
   "pygments_lexer": "ipython3",
   "version": "3.12.8"
  }
 },
 "nbformat": 4,
 "nbformat_minor": 5
}
