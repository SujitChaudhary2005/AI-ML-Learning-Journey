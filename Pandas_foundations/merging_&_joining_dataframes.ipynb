{
 "cells": [
  {
   "cell_type": "markdown",
   "id": "cc2be71b",
   "metadata": {},
   "source": [
    "# Merging and Joining DataFrames in Pandas\n",
    "\n",
    "### What Are Merging and Joining DataFrames?\n",
    "\n",
    "Merging and joining are ways to **combine two or more DataFrames** based on common columns or indexes, similar to SQL JOIN operations. This is a fundamental step when dealing with multiple datasets or splitting data into parts (like train/test splits).\n",
    "\n",
    "For example, in the Titanic dataset, we might have passenger details in one table and ticket prices or survival info in another. Merging lets us combine these into a single, enriched DataFrame.\n",
    "\n",
    "### Basic Merging Using `.merge()`\n",
    "\n",
    "Pandas provides the `.merge()` method to join DataFrames based on one or more keys."
   ]
  },
  {
   "cell_type": "code",
   "execution_count": null,
   "id": "e0075743",
   "metadata": {},
   "outputs": [],
   "source": [
    "import pandas as pd\n",
    "\n",
    "df = pd.read_csv(\"data/train.csv\")\n",
    "df2 = pd.read_csv(\"data/ticket_fare.csv\")  # hypothetical second dataset\n",
    "\n",
    "merged = pd.merge(df, df2, on='Ticket')\n",
    "print(merged.head())"
   ]
  },
  {
   "cell_type": "markdown",
   "id": "8739b5dd",
   "metadata": {},
   "source": [
    "- `on='Ticket'` means merge based on the `Ticket` column.\n",
    "- By default, it performs an **inner join**, keeping rows with matching keys in both DataFrames.\n",
    "\n",
    "### Types of Joins\n",
    "\n",
    "- **Inner Join**: Only matching rows from both DataFrames.\n",
    "- **Left Join**: All rows from left DataFrame + matching from right.\n",
    "- **Right Join**: All rows from right DataFrame + matching from left.\n",
    "- **Outer Join**: All rows from both DataFrames, filling missing values with NaN.\n",
    "\n",
    "**Example**"
   ]
  },
  {
   "cell_type": "code",
   "execution_count": null,
   "id": "dfa20fa3",
   "metadata": {},
   "outputs": [],
   "source": [
    "merged_left = pd.merge(df, df2, on='Ticket', how='left')"
   ]
  },
  {
   "cell_type": "markdown",
   "id": "9468a766",
   "metadata": {},
   "source": [
    "### Multiple Key Merging\n",
    "\n",
    "We can merge on multiple columns:"
   ]
  },
  {
   "cell_type": "code",
   "execution_count": null,
   "id": "739333ef",
   "metadata": {},
   "outputs": [],
   "source": [
    "merged_multi = pd.merge(df, df2, on=['Ticket', 'Pclass'])"
   ]
  },
  {
   "cell_type": "markdown",
   "id": "4ed4ee08",
   "metadata": {},
   "source": [
    "### Index-based Merging and `.join()`\n",
    "\n",
    "- `.merge()` can also join on index using `left_index=True` and/or `right_index=True`.\n",
    "- `.join()` is a simpler method for index-based joins.\n",
    "\n",
    "**Example**"
   ]
  },
  {
   "cell_type": "code",
   "execution_count": null,
   "id": "5e471162",
   "metadata": {},
   "outputs": [],
   "source": [
    "merged_index = df.set_index('Ticket').join(df2.set_index('Ticket'), how='inner')"
   ]
  },
  {
   "cell_type": "markdown",
   "id": "1ca59962",
   "metadata": {},
   "source": [
    "### Handling Overlapping Column Names (`suffixes` Parameter)\n",
    "\n",
    "When two DataFrames have columns with the same name (other than the key), Pandas adds suffixes to distinguish them. By default, suffixes are `'_x'` and `'_y'`.\n",
    "\n",
    "We can customize these:"
   ]
  },
  {
   "cell_type": "code",
   "execution_count": null,
   "id": "7ba428a6",
   "metadata": {},
   "outputs": [],
   "source": [
    "merged = pd.merge(df, df2, on='Ticket', suffixes=('_left', '_right'))\n",
    "print(merged.columns)"
   ]
  },
  {
   "cell_type": "markdown",
   "id": "0c28f88d",
   "metadata": {},
   "source": [
    "This prevents confusion when both DataFrames have a column like `\"Fare\"`.\n",
    "\n",
    "### Indicator Flag to Track Source of Rows (`indicator=True`)\n",
    "\n",
    "Sometimes it's useful to know the origin of each row after merging (whether it was found in left only, right only, or both).\n",
    "\n",
    "Use `indicator=True`:"
   ]
  },
  {
   "cell_type": "code",
   "execution_count": null,
   "id": "f4f5cd4d",
   "metadata": {},
   "outputs": [],
   "source": [
    "merged = pd.merge(df, df2, on='Ticket', how='outer', indicator=True)\n",
    "print(merged['_merge'].value_counts())"
   ]
  },
  {
   "cell_type": "markdown",
   "id": "79bbacce",
   "metadata": {},
   "source": [
    "The `_merge` column will show:\n",
    "\n",
    "- `'left_only'` — row only in left DataFrame\n",
    "- `'right_only'` — row only in right DataFrame\n",
    "- `'both'` — row matched in both\n",
    "\n",
    "### Performance Considerations with Large Datasets\n",
    "\n",
    "- **Index our keys** before merging to speed up operations.\n",
    "- Use `categorical` data types for keys with limited unique values.\n",
    "- Avoid unnecessary columns before merging (select only needed columns).\n",
    "- Consider chunked reading and merging for very large files.\n",
    "- Use efficient join types (`inner` is faster than `outer`).\n",
    "\n",
    "### Merging with SQL Databases or Other File Formats\n",
    "\n",
    "Pandas supports reading from and writing to many data sources, making merging easy:\n",
    "\n",
    "- Read from SQL databases using `pd.read_sql_query()` and then merge.\n",
    "- Join data from CSV, Excel, JSON files by reading them as DataFrames.\n",
    "- Use SQL joins inside databases before importing if data is very large.\n",
    "\n",
    "**Example with SQL**"
   ]
  },
  {
   "cell_type": "code",
   "execution_count": null,
   "id": "9adefd24",
   "metadata": {},
   "outputs": [],
   "source": [
    "import sqlite3\n",
    "\n",
    "conn = sqlite3.connect('titanic.db')\n",
    "df_sql = pd.read_sql_query(\"SELECT * FROM passenger_data\", conn)\n",
    "merged = pd.merge(df, df_sql, on='PassengerId', how='left')"
   ]
  },
  {
   "cell_type": "markdown",
   "id": "4c780fcf",
   "metadata": {},
   "source": [
    "### AI/ML Use Case: Data Enrichment and Feature Engineering\n",
    "\n",
    "Merging allows combining raw features from multiple sources — such as passenger demographics, ticket info, and survival outcomes — to create rich datasets for modeling. Understanding join types helps prevent data leakage or missing data issues.\n",
    "\n",
    "### Exercises\n",
    "\n",
    "Q1. Merge Titanic train data with a hypothetical ticket fare dataset on `Ticket`."
   ]
  },
  {
   "cell_type": "code",
   "execution_count": null,
   "id": "8ffda3f5",
   "metadata": {},
   "outputs": [],
   "source": [
    "merged_q1 = pd.merge(df1, df2, on='Ticket')\n",
    "print(merged_q1.head())"
   ]
  },
  {
   "cell_type": "markdown",
   "id": "7abdbe1a",
   "metadata": {},
   "source": [
    "Q2. Perform a left join and observe missing values in the merged DataFrame."
   ]
  },
  {
   "cell_type": "code",
   "execution_count": null,
   "id": "f499a84b",
   "metadata": {},
   "outputs": [],
   "source": [
    "merged_q2 = pd.merge(df1, df2, on='Ticket', how='left')\n",
    "print(merged_q2[['Ticket', 'Fare_Info']].isnull().sum())"
   ]
  },
  {
   "cell_type": "markdown",
   "id": "1e55f35e",
   "metadata": {},
   "source": [
    "Explanation: This keeps all rows from `df1`, and fills `NaN` in `Fare_Info` where there’s no match in `df2`.\n",
    "\n",
    "Q3. Merge on multiple keys: `Ticket` and `Pclass`."
   ]
  },
  {
   "cell_type": "code",
   "execution_count": null,
   "id": "7966e6d9",
   "metadata": {},
   "outputs": [],
   "source": [
    "merged_q3 = pd.merge(df1, df2, on=['Ticket', 'Pclass'], how='inner')\n",
    "print(merged_q3.head())"
   ]
  },
  {
   "cell_type": "markdown",
   "id": "9c5d5954",
   "metadata": {},
   "source": [
    "Make sure both `Ticket` and `Pclass` exist in both DataFrames before merging.\n",
    "\n",
    "Q4. Use the `suffixes` parameter to rename overlapping columns."
   ]
  },
  {
   "cell_type": "code",
   "execution_count": null,
   "id": "a59bc167",
   "metadata": {},
   "outputs": [],
   "source": [
    "df2_with_fare = df2.copy()\n",
    "df2_with_fare['Fare'] = df2_with_fare['Fare_Info'] * 0.5  # Simulated overlapping column\n",
    "\n",
    "merged_q4 = pd.merge(df1, df2_with_fare, on='Ticket', suffixes=('_original', '_info'))\n",
    "print(merged_q4[['Fare_original', 'Fare_info']].head())"
   ]
  },
  {
   "cell_type": "markdown",
   "id": "c6f51ab9",
   "metadata": {},
   "source": [
    "Q5. Use `indicator=True` to identify the origin of each row."
   ]
  },
  {
   "cell_type": "code",
   "execution_count": null,
   "id": "86737dca",
   "metadata": {},
   "outputs": [],
   "source": [
    "merged_q5 = pd.merge(df1, df2, on='Ticket', how='outer', indicator=True)\n",
    "print(merged_q5['_merge'].value_counts())\n",
    "print(merged_q5[['Ticket', '_merge']].head())"
   ]
  },
  {
   "cell_type": "markdown",
   "id": "b7c4bc6d",
   "metadata": {},
   "source": [
    "Q6. Join two DataFrames using indexes instead of columns."
   ]
  },
  {
   "cell_type": "code",
   "execution_count": null,
   "id": "e1a73766",
   "metadata": {},
   "outputs": [],
   "source": [
    "df1_indexed = df1.set_index('Ticket')\n",
    "df2_indexed = df2.set_index('Ticket')\n",
    "\n",
    "joined_q6 = df1_indexed.join(df2_indexed, how='inner')\n",
    "print(joined_q6.head())"
   ]
  },
  {
   "cell_type": "markdown",
   "id": "0f20ab4b",
   "metadata": {},
   "source": [
    "This joins both DataFrames using their `Ticket` as index. We can also try `how='left'`, `right`, or `outer`.\n",
    "\n",
    "### Summary\n",
    "\n",
    "Merging and joining DataFrames is a critical skill for combining datasets, especially when working with real-world, multi-source data. Pandas provides flexible tools like `.merge()` and `.join()` to perform these operations easily, supporting SQL-like join types (inner, left, right, outer) and both column- and index-based joins.\n",
    "\n",
    "Advanced features like customizing suffixes for overlapping columns, tracking merge origin with `indicator=True`, and performance tuning are important for large-scale, complex datasets. Additionally, Pandas integrates well with SQL databases and various file formats, allowing seamless data integration pipelines.\n",
    "\n",
    "In AI and machine learning workflows, merging is essential for **feature engineering**, **data cleaning**, and **preparation**, helping to create comprehensive datasets that improve model accuracy and insights."
   ]
  }
 ],
 "metadata": {
  "kernelspec": {
   "display_name": "Venv",
   "language": "python",
   "name": "python3"
  },
  "language_info": {
   "codemirror_mode": {
    "name": "ipython",
    "version": 3
   },
   "file_extension": ".py",
   "mimetype": "text/x-python",
   "name": "python",
   "nbconvert_exporter": "python",
   "pygments_lexer": "ipython3",
   "version": "3.12.8"
  }
 },
 "nbformat": 4,
 "nbformat_minor": 5
}
