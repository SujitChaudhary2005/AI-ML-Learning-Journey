{
 "cells": [
  {
   "cell_type": "markdown",
   "id": "f3b492e0",
   "metadata": {},
   "source": [
    "# Advanced Time Series Operations and Resampling in Pandas\n",
    "\n",
    "### What Are Advanced Time Series Operations?\n",
    "\n",
    "When working with time-series data, it's often necessary to **resample**, **smooth**, or **roll** over time to see trends, patterns, or summaries. These operations allow us to:\n",
    "\n",
    "- Downsample (e.g., daily → weekly)\n",
    "- Upsample (e.g., hourly → minute-level data)\n",
    "- Smooth noisy data using rolling averages\n",
    "- Handle missing dates or irregular intervals\n",
    "- Apply time-window-based statistics (like moving average)\n",
    "\n",
    "**Pandas provides tools like `.resample()` and `.rolling()` to perform these operations efficiently.**\n",
    "\n",
    "### Why Are These Important in AI/ML?\n",
    "\n",
    "In machine learning, especially with time-series datasets like:\n",
    "\n",
    "- Stock prices\n",
    "- Sales data\n",
    "- Sensor readings\n",
    "- Server logs\n",
    "- Event timestamps\n",
    "\n",
    "...We often need to engineer features like:\n",
    "\n",
    "- Rolling means, trends\n",
    "- Time-window aggregates\n",
    "- Resampled values\n",
    "- Temporal seasonality indicators\n",
    "\n",
    "These help models understand **temporal structure** in the data.\n",
    "\n",
    "### **Setup — Simulate a Booking Date Column**\n",
    "\n",
    "Let's assume Titanic passengers boarded between April 1 and April 15, 1912."
   ]
  },
  {
   "cell_type": "code",
   "execution_count": null,
   "id": "8ce896d8",
   "metadata": {},
   "outputs": [],
   "source": [
    "import pandas as pd\n",
    "import numpy as np\n",
    "\n",
    "df = pd.read_csv(\"data/train.csv\")\n",
    "\n",
    "# Simulate a 'JourneyDate' column\n",
    "np.random.seed(42)\n",
    "df['JourneyDate'] = pd.to_datetime(\n",
    "    np.random.choice(pd.date_range(\"1912-04-01\", \"1912-04-15\"), size=len(df))\n",
    ")\n",
    "\n",
    "# Set as index for resampling\n",
    "df.set_index('JourneyDate', inplace=True)"
   ]
  },
  {
   "cell_type": "markdown",
   "id": "0b08db7c",
   "metadata": {},
   "source": [
    "1. Resampling Data (Using `.resample()`)\n",
    "    \n",
    "Resampling allows us to **group data by time intervals**."
   ]
  },
  {
   "cell_type": "code",
   "execution_count": null,
   "id": "603c4fb8",
   "metadata": {},
   "outputs": [],
   "source": [
    "daily_counts = df['PassengerId'].resample('D').count()\n",
    "print(daily_counts.head())"
   ]
  },
  {
   "cell_type": "markdown",
   "id": "85eb2d7f",
   "metadata": {},
   "source": [
    "Weekly count:"
   ]
  },
  {
   "cell_type": "code",
   "execution_count": null,
   "id": "2a0e5e4b",
   "metadata": {},
   "outputs": [],
   "source": [
    "weekly_counts = df['PassengerId'].resample('W').count()\n",
    "print(weekly_counts)"
   ]
  },
  {
   "cell_type": "markdown",
   "id": "c0fae1dd",
   "metadata": {},
   "source": [
    "2. Forward Fill Missing Dates (`.asfreq()` + `.ffill()`)\n",
    "\n",
    "Sometimes there are missing dates. We can fill them."
   ]
  },
  {
   "cell_type": "code",
   "execution_count": null,
   "id": "d0cce4a7",
   "metadata": {},
   "outputs": [],
   "source": [
    "# Reindex to all days\n",
    "full_range = pd.date_range(start=df.index.min(), end=df.index.max())\n",
    "df_reindexed = df.reindex(full_range)\n",
    "    \n",
    "# Forward fill data\n",
    "df_filled = df_reindexed.ffill()\n",
    "print(df_filled.head())"
   ]
  },
  {
   "cell_type": "markdown",
   "id": "407f26b9",
   "metadata": {},
   "source": [
    "3. Rolling Window (Moving Average)\n",
    "    \n",
    "Smooth the daily count trend using a 3-day moving average:"
   ]
  },
  {
   "cell_type": "code",
   "execution_count": null,
   "id": "86da6661",
   "metadata": {},
   "outputs": [],
   "source": [
    "daily_counts = df['PassengerId'].resample('D').count()\n",
    "rolling_avg = daily_counts.rolling(window=3).mean()\n",
    "    \n",
    "print(rolling_avg.head())"
   ]
  },
  {
   "cell_type": "markdown",
   "id": "5c8fab21",
   "metadata": {},
   "source": [
    "4. Shifting Data in Time (Lag Features)\n",
    "    \n",
    "Shift values forward or backward — useful for **lag-based prediction**."
   ]
  },
  {
   "cell_type": "code",
   "execution_count": null,
   "id": "7fa1c7a9",
   "metadata": {},
   "outputs": [],
   "source": [
    "daily_counts = df['PassengerId'].resample('D').count()\n",
    "df_shifted = daily_counts.shift(1)  # Shift by 1 day\n",
    "    \n",
    "print(pd.DataFrame({\n",
    "    'Actual': daily_counts,\n",
    "    'Previous_Day': df_shifted\n",
    "}).head())"
   ]
  },
  {
   "cell_type": "markdown",
   "id": "afeab34f",
   "metadata": {},
   "source": [
    "5. Difference Between Time Periods\n",
    "\n",
    "Calculate the difference between a day and its previous day."
   ]
  },
  {
   "cell_type": "code",
   "execution_count": null,
   "id": "ae81780d",
   "metadata": {},
   "outputs": [],
   "source": [
    "diff = daily_counts.diff()\n",
    "print(diff.head())"
   ]
  },
  {
   "cell_type": "markdown",
   "id": "07560e32",
   "metadata": {},
   "source": [
    "### AI/ML Use Case: Time-Aware Feature Engineering\n",
    "\n",
    "In real-world datasets, time-aware features are extremely powerful:\n",
    "\n",
    "- **Rolling averages** show short-term vs long-term patterns.\n",
    "- **Lagged values** help predict future behavior (e.g., demand tomorrow).\n",
    "- **Resampled trends** reduce noise and highlight seasonal effects.\n",
    "- **Differences** help measure change over time.\n",
    "\n",
    "Time series models like ARIMA, Prophet, or LSTMs rely on such engineered features.\n",
    "\n",
    "### Exercises\n",
    "\n",
    "Q1. How many passengers boarded each week?"
   ]
  },
  {
   "cell_type": "code",
   "execution_count": null,
   "id": "20958747",
   "metadata": {},
   "outputs": [],
   "source": [
    "weekly_counts = df['PassengerId'].resample('W').count()\n",
    "print(weekly_counts)"
   ]
  },
  {
   "cell_type": "markdown",
   "id": "59d9a8ac",
   "metadata": {},
   "source": [
    "Q2. Smooth daily counts using a 3-day rolling average"
   ]
  },
  {
   "cell_type": "code",
   "execution_count": null,
   "id": "5edb21f9",
   "metadata": {},
   "outputs": [],
   "source": [
    "daily_counts = df['PassengerId'].resample('D').count()\n",
    "df['Rolling3'] = daily_counts.rolling(window=3).mean()\n",
    "print(df['Rolling3'].head())"
   ]
  },
  {
   "cell_type": "markdown",
   "id": "949167d6",
   "metadata": {},
   "source": [
    "Q3. Shift the daily count column by 1 day"
   ]
  },
  {
   "cell_type": "code",
   "execution_count": null,
   "id": "56534e0a",
   "metadata": {},
   "outputs": [],
   "source": [
    "df['ShiftedBy1'] = daily_counts.shift(1)\n",
    "print(df['ShiftedBy1'].head())"
   ]
  },
  {
   "cell_type": "markdown",
   "id": "1f1e7912",
   "metadata": {},
   "source": [
    "Q4. Compute difference between each day and the previous"
   ]
  },
  {
   "cell_type": "code",
   "execution_count": null,
   "id": "304854c0",
   "metadata": {},
   "outputs": [],
   "source": [
    "df['DailyDiff'] = daily_counts.diff()\n",
    "print(df['DailyDiff'].head())"
   ]
  },
  {
   "cell_type": "markdown",
   "id": "54fe3ed7",
   "metadata": {},
   "source": [
    "### Summary\n",
    "\n",
    "Advanced time series operations in Pandas are essential tools for analyzing and understanding datasets that evolve over time. These operations go beyond basic date extraction and allow us to **resample, smooth, shift, and compare values across time periods**. Even though the Titanic dataset does not contain original date fields, we simulated a `JourneyDate` column to demonstrate how powerful these operations can be.\n",
    "\n",
    "At the core of time series handling is the `.resample()` method, which allows us to group data based on custom time intervals — for instance, summarizing daily passenger counts into weekly totals. This is especially useful for identifying high-level trends, seasonality, or fluctuations over time. When time intervals are missing (e.g., no passengers on a particular day), forward filling techniques like `.ffill()` help fill in gaps for a continuous timeline.\n",
    "\n",
    "Another critical technique is **rolling window analysis**, enabled via `.rolling()`. This is often used to calculate moving averages, which smooth out short-term variations and highlight long-term patterns. For example, a 3-day moving average of daily passenger counts gives a clearer view of trends and reduces the noise from day-to-day randomness.\n",
    "\n",
    "We also explored **shifting and differencing**, which are foundational techniques in time-series feature engineering. The `.shift()` function allows us to create lag features — like “passenger count from the previous day” — which can be highly predictive in forecasting models. The `.diff()` method helps measure changes or growth over time by comparing each value to its previous entry. These derived features (rolling mean, lag, diff) play a vital role in models like ARIMA, LSTM, and Prophet, where time-aware relationships matter.\n",
    "\n",
    "In machine learning workflows, these advanced time series features are particularly useful for tasks such as **sales forecasting, demand prediction, behavioral modeling, anomaly detection**, and more. By converting raw timestamps into engineered time-based insights, we give our models a much better chance at capturing real-world patterns. Whether we’re dealing with financial data, sensor logs, or booking trends, mastering these time series operations in Pandas makes our analysis deeper, more accurate, and much more informative."
   ]
  }
 ],
 "metadata": {
  "kernelspec": {
   "display_name": "Venv",
   "language": "python",
   "name": "python3"
  },
  "language_info": {
   "codemirror_mode": {
    "name": "ipython",
    "version": 3
   },
   "file_extension": ".py",
   "mimetype": "text/x-python",
   "name": "python",
   "nbconvert_exporter": "python",
   "pygments_lexer": "ipython3",
   "version": "3.12.8"
  }
 },
 "nbformat": 4,
 "nbformat_minor": 5
}
