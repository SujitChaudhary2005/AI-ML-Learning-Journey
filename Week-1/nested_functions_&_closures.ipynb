{
 "cells": [
  {
   "cell_type": "markdown",
   "id": "989a54d1",
   "metadata": {},
   "source": [
    "# **Nested Functions & Closures in Python**\n",
    "\n",
    "## What is a Nested Function?\n",
    "\n",
    "A **nested function** is a function defined **inside another function**. It helps organize code logically, especially when the inner function is only used by the outer one.\n",
    "\n",
    "**Syntax:**\n",
    "\n",
    "```python\n",
    "def outer_function():\n",
    "    pass\n",
    "    def inner_function():\n",
    "        pass\n",
    "    inner_function()\n",
    "\n",
    "```\n",
    "\n",
    "- **`def outer_function()` :** Defines the **outer function**, which can include any logic.\n",
    "- **`def inner_function()` :** Defines an **inner (nested) function** — it only exists inside `outer_function()`.\n",
    "- **`pass` :** Placeholder — means “do nothing” (we can replace it with real logic later).\n",
    "- **`inner_function()` :** This calls the inner function **from within** the outer function — it's how we execute it.\n",
    "\n",
    "**Example:**\n",
    "\n",
    "Write a function using a nested function to return a greeting with the name capitalized."
   ]
  },
  {
   "cell_type": "code",
   "execution_count": 1,
   "id": "a3025393",
   "metadata": {},
   "outputs": [
    {
     "name": "stdout",
     "output_type": "stream",
     "text": [
      "Hello, Sujit!\n"
     ]
    }
   ],
   "source": [
    "def greet(name):\n",
    "    def format_name(n):\n",
    "        return n.title()\n",
    "    \n",
    "    message = f\"Hello, {format_name(name)}!\"\n",
    "    return message\n",
    "\n",
    "print(greet(\"sujit\"))"
   ]
  },
  {
   "cell_type": "markdown",
   "id": "66e6df80",
   "metadata": {},
   "source": [
    "### Exercise\n",
    "\n",
    "Q1. Create a nested function that returns the square of a number.\n"
   ]
  },
  {
   "cell_type": "code",
   "execution_count": null,
   "id": "097cde3b",
   "metadata": {},
   "outputs": [
    {
     "name": "stdout",
     "output_type": "stream",
     "text": [
      "25\n"
     ]
    }
   ],
   "source": [
    "def number(num):\n",
    "    def square():\n",
    "        return num ** 2\n",
    "    return square()\n",
    "print(number(5))"
   ]
  },
  {
   "cell_type": "markdown",
   "id": "bd8d2bf7",
   "metadata": {},
   "source": [
    "### Why do we use them?\n",
    "\n",
    "- To **encapsulate logic** and keep our code clean and modular.\n",
    "- To avoid polluting the global namespace.\n",
    "- Used in **functional programming**, **decorators**, and **closures** — which are all heavily used in AI/ML pipelines.\n",
    "\n",
    "### What is a Closure?\n",
    "\n",
    "A **closure** is created when a nested function **remembers and uses variables from its enclosing scope**, even **after the outer function has finished executing**.\n",
    "\n",
    "Closures are essential in **machine learning pipelines** and **custom model builders**—they allow persistent behavior and state without global variables.\n",
    "\n",
    "**Syntax:**\n",
    "\n",
    "```python\n",
    "def outer_function(outer_arg):\n",
    "    def inner_function(inner_arg):\n",
    "        return outer_arg + inner_arg\n",
    "    return inner_function\n",
    "```\n",
    "\n",
    "- **`outer_function(outer_arg)` :** This is a function that takes one argument called `outer_arg`.\n",
    "- **`inner_function(inner_arg)` :** Inside `outer_function`, another function `inner_function` is defined, which takes its own argument `inner_arg`.\n",
    "- **`return outer_arg + inner_arg` :** The inner function returns the sum of `outer_arg` (from the outer function) and `inner_arg` (its own argument).\n",
    "- **`return inner_function` :** The outer function returns the `inner_function` itself, not its result. This means when we call `outer_function`, we get back a function that still remembers the value of `outer_arg`.\n",
    "\n",
    "**Example:**\n",
    "\n",
    "Create a closure `multiplier(x)` that returns a function to multiply by `x`. Use it to double 5."
   ]
  },
  {
   "cell_type": "code",
   "execution_count": null,
   "id": "076db951",
   "metadata": {},
   "outputs": [
    {
     "name": "stdout",
     "output_type": "stream",
     "text": [
      "10\n"
     ]
    }
   ],
   "source": [
    "def multiplier(x):\n",
    "    def multiply(y):\n",
    "        return x * y\n",
    "    return multiply\n",
    "\n",
    "double = multiplier(2)\n",
    "print(double(5))"
   ]
  },
  {
   "cell_type": "markdown",
   "id": "9e473aaf",
   "metadata": {},
   "source": [
    "### Exercise\n",
    "\n",
    "Q1. Write a closure that remembers a user’s name and returns personalized greetings."
   ]
  },
  {
   "cell_type": "code",
   "execution_count": null,
   "id": "1e1d2680",
   "metadata": {},
   "outputs": [
    {
     "name": "stdout",
     "output_type": "stream",
     "text": [
      "Hello, Sujit!\n"
     ]
    }
   ],
   "source": [
    "def make_greeter(name):\n",
    "    def greet(greeting):\n",
    "        return f\"{greeting}, {name}!\"\n",
    "    return greet\n",
    "greet_sujit = make_greeter(\"Sujit\")\n",
    "print(greet_sujit(\"Hello\"))"
   ]
  },
  {
   "cell_type": "markdown",
   "id": "a9fc02b8",
   "metadata": {},
   "source": [
    "### Summary\n",
    "\n",
    "Nested functions and closures are powerful tools in Python that allow better structure, modularity, and scope control. A **nested function** is simply a function declared inside another function. This helps you define logic that's only relevant in the local context of the outer function, keeping your global namespace clean and making your code easier to maintain.\n",
    "\n",
    "In AI/ML, we often have functions inside functions—for example, data preprocessing routines where helper functions calculate normalization or outlier detection inside a broader cleaning function. By nesting them, we make the code more organized and less prone to bugs.\n",
    "\n",
    "A **closure** takes this a step further. When a nested function **uses a variable defined in the outer function** and still remembers it after the outer function has finished, that’s a closure. Closures are useful when building function factories (e.g., custom scorers or preprocessors), decorators, or maintaining hidden states. They let you bind behavior with data without using global variables or classes.\n",
    "\n",
    "Closures provide a way to create **function templates**—you define a general outer function, and by calling it with different parameters, you generate multiple versions of the inner function with custom behavior.\n"
   ]
  }
 ],
 "metadata": {
  "kernelspec": {
   "display_name": "Venv",
   "language": "python",
   "name": "python3"
  },
  "language_info": {
   "codemirror_mode": {
    "name": "ipython",
    "version": 3
   },
   "file_extension": ".py",
   "mimetype": "text/x-python",
   "name": "python",
   "nbconvert_exporter": "python",
   "pygments_lexer": "ipython3",
   "version": "3.12.8"
  }
 },
 "nbformat": 4,
 "nbformat_minor": 5
}
