{
 "cells": [
  {
   "cell_type": "markdown",
   "id": "dbc60083",
   "metadata": {},
   "source": [
    "# Tuples, Dictionaries & Sets\n",
    "\n",
    "## Tuples\n",
    "\n",
    "### What is a Tuple?\n",
    "\n",
    "A **tuple** is an ordered, immutable collection of items in Python. Once created, the elements in a tuple **cannot be changed** (no append, remove, or modify). This makes tuples perfect for storing **fixed, read-only data** like coordinates, RGB values, and function return values (often used in AI/ML model outputs like accuracy, loss).\n",
    "\n",
    "**Syntax:**\n",
    "\n",
    "```python\n",
    "my_tuple = (1, 2, 3)\n",
    "```\n",
    "\n",
    "- Tuples use `()` (parentheses)\n",
    "- Can store mixed types: `(\"Sujit\", 25, True)`\n",
    "- Indexing works like lists: `my_tuple[0] → 1`\n",
    "- Immutable → can't be altered by mistake\n",
    "- Faster & memory-efficient than lists\n",
    "- Useful as keys in dictionaries\n",
    "\n",
    "**Example:**\n",
    "\n",
    "Collect squares of even numbers from 1 to 10 in a tuple"
   ]
  },
  {
   "cell_type": "code",
   "execution_count": 1,
   "id": "7fbbb606",
   "metadata": {},
   "outputs": [
    {
     "name": "stdout",
     "output_type": "stream",
     "text": [
      "(4, 16, 36, 64, 100)\n"
     ]
    }
   ],
   "source": [
    "tuple_squares = tuple(i**2 for i in range(1, 11) if i % 2 == 0)\n",
    "print(tuple_squares)"
   ]
  },
  {
   "cell_type": "markdown",
   "id": "ec81d061",
   "metadata": {},
   "source": [
    "### Exercise\n",
    "\n",
    "Q1.  Create a tuple of cubes of odd numbers from 1 to 15"
   ]
  },
  {
   "cell_type": "code",
   "execution_count": 2,
   "id": "e9236fae",
   "metadata": {},
   "outputs": [
    {
     "name": "stdout",
     "output_type": "stream",
     "text": [
      "(1, 27, 125, 343, 729, 1331, 2197, 3375)\n"
     ]
    }
   ],
   "source": [
    "tuple_odd_cubes = ()\n",
    "for i in range(1, 16):\n",
    "\tif i % 2 != 0:\n",
    "\t\ttuple_odd_cubes += (i**3,)\n",
    "\t\t\n",
    "print(tuple_odd_cubes)"
   ]
  },
  {
   "cell_type": "markdown",
   "id": "f5f587b2",
   "metadata": {},
   "source": [
    "## Dictionaries\n",
    "\n",
    "### What is a Dictionary?\n",
    "\n",
    "A **dictionary** is a key : value store in Python, like a mini database in memory. It allows **fast access to data** by using custom keys. Instead of accessing data by index (like lists), we use a label or identifier.\n",
    "\n",
    "**Syntax:**\n",
    "\n",
    "```python\n",
    "student = {\"name\": \"Sujit\", \"age\": 21, \"passed\": True}\n",
    "```\n",
    "\n",
    "- Keys must be unique and immutable (e.g., strings, numbers, tuples)\n",
    "- Values can be any data type\n",
    "- Access: `student[\"name\"] → Sujit`\n",
    "- Fast key-based lookup\n",
    "- Easy to iterate `.keys()`, `.values()`, `.items()`\n",
    "\n",
    "**Example:**\n",
    "\n",
    "Map even numbers to their squares"
   ]
  },
  {
   "cell_type": "code",
   "execution_count": 3,
   "id": "3702a3cf",
   "metadata": {},
   "outputs": [
    {
     "name": "stdout",
     "output_type": "stream",
     "text": [
      "{2: 4, 4: 16, 6: 36, 8: 64, 10: 100}\n"
     ]
    }
   ],
   "source": [
    "even_squares = {i: i**2 for i in range(1, 11) if i % 2==0}\n",
    "print(even_squares)"
   ]
  },
  {
   "cell_type": "markdown",
   "id": "dad1657d",
   "metadata": {},
   "source": [
    "### Exercise\n",
    " \n",
    "Q1.  Build a mapping from numbers 1–10 to their factorials."
   ]
  },
  {
   "cell_type": "code",
   "execution_count": 4,
   "id": "fd272771",
   "metadata": {},
   "outputs": [
    {
     "name": "stdout",
     "output_type": "stream",
     "text": [
      "Factorials from 1 to 10: {1: 1, 2: 2, 3: 6, 4: 24, 5: 120, 6: 720, 7: 5040, 8: 40320, 9: 362880, 10: 3628800}\n"
     ]
    }
   ],
   "source": [
    "factorials = {}\n",
    "for i in range(1, 11):\n",
    "    factorial = 1\n",
    "    for j in range(1, i + 1):\n",
    "        factorial *= j\n",
    "    factorials[i] = factorial\n",
    "    \n",
    "print(\"Factorials from 1 to 10:\", factorials)"
   ]
  },
  {
   "cell_type": "markdown",
   "id": "ff23271c",
   "metadata": {},
   "source": [
    "## Sets\n",
    "\n",
    "### What is a Set?\n",
    "\n",
    "A **set** is an unordered collection of **unique elements**. Sets automatically remove duplicates and allow **fast membership tests**. You can’t access items by index because sets are unordered.\n",
    "\n",
    "**Syntax:** \n",
    "\n",
    "```python\n",
    "my_set = {1, 2, 3}\n",
    "```\n",
    "\n",
    "- Only unique items allowed\n",
    "- No duplicates allowed\n",
    "- Useful for filtering, deduplication, and comparison\n",
    "\n",
    "**Example:**\n",
    "\n",
    "Unique even number squares"
   ]
  },
  {
   "cell_type": "code",
   "execution_count": 5,
   "id": "b406059f",
   "metadata": {},
   "outputs": [
    {
     "name": "stdout",
     "output_type": "stream",
     "text": [
      "{16, 4, 36}\n"
     ]
    }
   ],
   "source": [
    "squares_list = [4, 16, 36, 16, 4]\n",
    "unique_squares = {i for i in squares_list}\n",
    "print(unique_squares)"
   ]
  },
  {
   "cell_type": "markdown",
   "id": "687d29fd",
   "metadata": {},
   "source": [
    "### Exercise\n",
    " \n",
    "Q1.  Given a list with duplicates, create a set of unique vowels found in the strings."
   ]
  },
  {
   "cell_type": "code",
   "execution_count": 6,
   "id": "eb50a11c",
   "metadata": {},
   "outputs": [
    {
     "name": "stdout",
     "output_type": "stream",
     "text": [
      "Unique vowels in the list: {'e', 'o', 'i', 'a'}\n"
     ]
    }
   ],
   "source": [
    "def unique_vowels(strings):\n",
    "    vowels = set()\n",
    "    for string in strings:\n",
    "        for char in string.lower():\n",
    "            if char in 'aeiou':\n",
    "                vowels.add(char)\n",
    "    return vowels\n",
    "\n",
    "print(\"Unique vowels in the list:\", unique_vowels([\"hello\", \"world\", \"python\", \"programming\", \"example\"]))"
   ]
  },
  {
   "cell_type": "markdown",
   "id": "f2c1dcf3",
   "metadata": {},
   "source": [
    "### Summary\n",
    "\n",
    "**Tuples, dictionaries, and sets** are foundational Python data structures essential for data organization, especially in AI/ML:\n",
    "\n",
    "- **Tuples** are immutable, ordered collections ideal for storing fixed datasets like coordinates or model hyperparameters. Because they cannot be changed, they are reliable and efficient, and can even be used as dictionary keys or set elements.\n",
    "- **Dictionaries** provide key-value mappings that are perfect for structured data, such as JSON objects or feature mappings. They allow constant-time lookup, easy serialization, and flexible data storage. Using comprehension syntax, we can quickly build dictionaries like `{x: x**2 for x in range(...)}`.\n",
    "- **Sets** manage unique elements, making them powerful for deduplication and set operations like union and intersection. They are widely used in preprocessing steps such as filtering out duplicate records or finding the overlap between feature sets.\n",
    "\n",
    "Each structure serves a specific purpose in data workflows: **tuples** hold fixed collections, **dictionaries** map relationships, and **sets** ensure uniqueness. Together, they form the backbone of data management in Python-based AI/ML pipelines."
   ]
  }
 ],
 "metadata": {
  "kernelspec": {
   "display_name": "Venv",
   "language": "python",
   "name": "python3"
  },
  "language_info": {
   "codemirror_mode": {
    "name": "ipython",
    "version": 3
   },
   "file_extension": ".py",
   "mimetype": "text/x-python",
   "name": "python",
   "nbconvert_exporter": "python",
   "pygments_lexer": "ipython3",
   "version": "3.12.8"
  }
 },
 "nbformat": 4,
 "nbformat_minor": 5
}
