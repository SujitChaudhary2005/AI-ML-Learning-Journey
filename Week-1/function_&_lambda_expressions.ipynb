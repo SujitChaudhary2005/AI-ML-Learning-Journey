{
 "cells": [
  {
   "cell_type": "markdown",
   "id": "a72941af",
   "metadata": {},
   "source": [
    "# **Functions and Lambda Expressions in Python**\n",
    "\n",
    "## What is a Function?\n",
    "\n",
    "A function is a reusable block of code designed to perform a specific task. Instead of writing the same code multiple times, you define it once and call it whenever needed. Function help organize our code, making it modular, easier to read, test and maintain.\n",
    "\n",
    "In AI and machine learning projects, functions are crucial because they enable **code reuse**—for example, we can write a function to clean our data or extract features and then reuse it multiple times. They also support **modularity** by breaking large pipelines into smaller, manageable pieces such as data preprocessing, feature engineering, model training, and evaluation. Functions improve **readability** and help isolate bugs during debugging, making our AI code robust and maintainable.\n",
    "\n",
    "Functions in Python are created using the `def` keyword followed by a function name and parentheses which may include input parameters. The body contains the code to execute and optionally a `return` statement to send back results.\n",
    "\n",
    "**Syntax:**\n",
    "\n",
    "```python\n",
    "def function_name(parameters):\n",
    "    \"\"\"\n",
    "    Optional docstring explaining the function.\n",
    "    \"\"\"\n",
    "    # Function body\n",
    "    result = parameters * 2\n",
    "    return result\n",
    "```\n",
    "\n",
    "- **function_name:** The name we give our function. i should be descriptive like `calculate_area()` or `double_value()`\n",
    "- **parameters:** The input values the function needs to do its job. We can have one or many. Inside the function, we can use these values.\n",
    "- **docstring (optional):** A short description of what the function does. This helps others (and us!) understand the function later.\n",
    "- **Function body:** The block of code that runs when the function is called. it’s usually indented and can include calculation, conditions, loops, etc.\n",
    "- **return result:** This tells Python to send the output back to wherever the function was called. it ends the function and give us the result\n",
    "\n",
    "**Example:**\n",
    "\n",
    "WAP to add two numbers using function."
   ]
  },
  {
   "cell_type": "code",
   "execution_count": 1,
   "id": "eca3d619",
   "metadata": {},
   "outputs": [
    {
     "name": "stdout",
     "output_type": "stream",
     "text": [
      "15\n"
     ]
    }
   ],
   "source": [
    "def add_numbers(a, b):\n",
    "    return a + b\n",
    "\n",
    "print(add_numbers(10, 5))"
   ]
  },
  {
   "cell_type": "markdown",
   "id": "8a771d47",
   "metadata": {},
   "source": [
    "WAP to greet “Hello” Function with default parameter:"
   ]
  },
  {
   "cell_type": "code",
   "execution_count": 2,
   "id": "a8de31ea",
   "metadata": {},
   "outputs": [
    {
     "name": "stdout",
     "output_type": "stream",
     "text": [
      "Hello, Sujit!\n",
      "Hello, Ram!\n"
     ]
    }
   ],
   "source": [
    "def greet(name=\"Sujit\"):\n",
    "    print(f\"Hello, {name}!\")\n",
    "\n",
    "greet()\n",
    "greet(\"Ram\")    "
   ]
  },
  {
   "cell_type": "markdown",
   "id": "dfbe6a1b",
   "metadata": {},
   "source": [
    "### Exercise\n",
    "\n",
    "Q1. Write a function `multiply_by_five(num)` that returns `num * 5`."
   ]
  },
  {
   "cell_type": "code",
   "execution_count": 3,
   "id": "1ffc9520",
   "metadata": {},
   "outputs": [
    {
     "name": "stdout",
     "output_type": "stream",
     "text": [
      "25\n"
     ]
    }
   ],
   "source": [
    "def multiply_by_five(num):\n",
    "    return num * 5\n",
    "\n",
    "print(multiply_by_five(5))  "
   ]
  },
  {
   "cell_type": "markdown",
   "id": "986c0839",
   "metadata": {},
   "source": [
    "Q2. Write a recursive function to compute the factorial of a number."
   ]
  },
  {
   "cell_type": "code",
   "execution_count": 4,
   "id": "e1fd1906",
   "metadata": {},
   "outputs": [
    {
     "name": "stdout",
     "output_type": "stream",
     "text": [
      "120\n"
     ]
    }
   ],
   "source": [
    "def fact(num):\n",
    "    if num == 0:\n",
    "        return 1\n",
    "    else:\n",
    "        return num * fact(num - 1)\n",
    "\n",
    "print(fact(5))  "
   ]
  },
  {
   "cell_type": "markdown",
   "id": "f483e70c",
   "metadata": {},
   "source": [
    "### What is a Lambda Function?\n",
    "\n",
    "→ A lambda function is a small anonymous function defined in a single line. Unlike regular functions, lambdas do not have a name and are typically used for short, simple tasks, that we want to define quickly, often as arguments to function like :\n",
    "\n",
    "- `map()` : Applies a function to **each item** in an iterable and returns a new iterable with the results.\n",
    "- `filter()` : Selects items from an iterable **that match a condition** (i.e. where the function returns `True`).\n",
    "- `sorted()` :  Returns a **new sorted list** from the items of any iterable (by default in ascending order).\n",
    "- etc.\n",
    "\n",
    "Lambdas are extremely useful in AI/ML for quick data transformations and filtering. For instance, when preprocessing data, you might want to apply a function to every element in a list or filter out unwanted data points. Lambdas keep the code concise and readable in such cases.\n",
    "\n",
    "**Syntax:**\n",
    "\n",
    "```python\n",
    "lambda arguments: expression\n",
    "```\n",
    "\n",
    "- **lambda:** A keyword used to define an **anonymous function** (a function without a name). similar to `def` , but shorter and used for quick, one-line functions.\n",
    "- **arguments:** These are the inputs to the function (just like parameters in def). we can have one or more, separated by commas. e.g.: `lambda x`, `lambda x, y`\n",
    "- **expression:** The **single action or calculation** the function will perform using the arguments.\n",
    "It should return a value automatically (no need to write `return`)\n",
    "\n",
    "**Examples:**\n",
    "\n",
    "Square a number:"
   ]
  },
  {
   "cell_type": "code",
   "execution_count": 5,
   "id": "45d61a12",
   "metadata": {},
   "outputs": [
    {
     "name": "stdout",
     "output_type": "stream",
     "text": [
      "36\n"
     ]
    }
   ],
   "source": [
    "square = lambda x: x**2\n",
    "print(square(6))  "
   ]
  },
  {
   "cell_type": "markdown",
   "id": "d79020ed",
   "metadata": {},
   "source": [
    "Using lambda with `map()`:"
   ]
  },
  {
   "cell_type": "code",
   "execution_count": 6,
   "id": "b930c6be",
   "metadata": {},
   "outputs": [
    {
     "name": "stdout",
     "output_type": "stream",
     "text": [
      "[1, 4, 9, 16, 25]\n"
     ]
    }
   ],
   "source": [
    "numbers = [1, 2, 3, 4, 5]\n",
    "squared = list(map(lambda x: x**2, numbers))\n",
    "print(squared) "
   ]
  },
  {
   "cell_type": "markdown",
   "id": "7779087f",
   "metadata": {},
   "source": [
    "Using lambda with `filter()`:"
   ]
  },
  {
   "cell_type": "code",
   "execution_count": 7,
   "id": "8685393c",
   "metadata": {},
   "outputs": [
    {
     "name": "stdout",
     "output_type": "stream",
     "text": [
      "[10, 20, 30]\n"
     ]
    }
   ],
   "source": [
    "numbers = [10, 15, 20, 25, 30]\n",
    "evens = list(filter(lambda x: x % 2 == 0, numbers))\n",
    "print(evens)"
   ]
  },
  {
   "cell_type": "markdown",
   "id": "1bebe945",
   "metadata": {},
   "source": [
    "NOTE: Avoid using lambdas for complex operations or multi-line functions, as it hurts readability. For such case, prefer regular function with `def` ."
   ]
  },
  {
   "cell_type": "markdown",
   "id": "252fb9d5",
   "metadata": {},
   "source": [
    "Q1. Create a lambda function `multiply_by_five` that returns `num * 5`."
   ]
  },
  {
   "cell_type": "code",
   "execution_count": 8,
   "id": "2dd79cda",
   "metadata": {},
   "outputs": [
    {
     "name": "stdout",
     "output_type": "stream",
     "text": [
      "20\n"
     ]
    }
   ],
   "source": [
    "multiply_by_five = lambda num: num*5\n",
    "print(multiply_by_five(4))"
   ]
  },
  {
   "cell_type": "markdown",
   "id": "33edb67c",
   "metadata": {},
   "source": [
    "Q2. Use `filter()` with a lambda to keep numbers greater than 10 from a list."
   ]
  },
  {
   "cell_type": "code",
   "execution_count": 9,
   "id": "5ee63905",
   "metadata": {},
   "outputs": [
    {
     "name": "stdout",
     "output_type": "stream",
     "text": [
      "[17, 19, 18]\n"
     ]
    }
   ],
   "source": [
    "numbers = [1,2,3,4,17,10,19,18]\n",
    "greater_than_ten = list(filter(lambda num: num>10,numbers))\n",
    "print(greater_than_ten)"
   ]
  },
  {
   "cell_type": "markdown",
   "id": "549b0f3d",
   "metadata": {},
   "source": [
    "### Summary\n",
    "Functions and lambda expressions are foundational tools in Python programming for AI/ML. Functions offer modularity, reusability, and clarity by encapsulating code blocks, while lambda expressions provide quick, concise ways to write small, anonymous functions ideal for simple data transformations and filtering. Mastering both is critical for building clean, efficient, and scalable AI/ML code."
   ]
  }
 ],
 "metadata": {
  "kernelspec": {
   "display_name": "Venv",
   "language": "python",
   "name": "python3"
  },
  "language_info": {
   "codemirror_mode": {
    "name": "ipython",
    "version": 3
   },
   "file_extension": ".py",
   "mimetype": "text/x-python",
   "name": "python",
   "nbconvert_exporter": "python",
   "pygments_lexer": "ipython3",
   "version": "3.12.8"
  }
 },
 "nbformat": 4,
 "nbformat_minor": 5
}
