{
 "cells": [
  {
   "cell_type": "markdown",
   "id": "b73d14dd",
   "metadata": {},
   "source": [
    "# Advanced Plot Types: Stackplots, Area Plots, Stem Plots\n",
    "\n",
    "### What is a Stackplot?\n",
    "\n",
    "A **Stackplot** is a type of area plot where multiple datasets are stacked on top of each other. Instead of overlapping, the values are added cumulatively, so the total is always visible at the top. This makes it easy to visualize **contributions of different categories** over time or across an index.\n",
    "\n",
    "In data science and AI/ML, stackplots are useful for:\n",
    "\n",
    "- Showing how different **sales categories** contribute to total revenue.\n",
    "- Visualizing **product sales composition** over time.\n",
    "- Tracking **resource allocation or cumulative metrics**.\n",
    "\n",
    "**Pyplot Example**"
   ]
  },
  {
   "cell_type": "code",
   "execution_count": null,
   "id": "36db75ab",
   "metadata": {},
   "outputs": [],
   "source": [
    "import matplotlib.pyplot as plt\n",
    "import pandas as pd\n",
    "\n",
    "# Load dataset\n",
    "df = pd.read_csv(\"data/Superstore.csv\", encoding='latin-1')\n",
    "\n",
    "# Take first 5 rows as days\n",
    "days = range(1, 6)\n",
    "sales = df[\"Sales\"].head(5).values\n",
    "profit = df[\"Profit\"].head(5).values\n",
    "quantity = df[\"Quantity\"].head(5).values\n",
    "\n",
    "plt.stackplot(days, sales, profit, quantity,\n",
    "              labels=[\"Sales\", \"Profit\", \"Quantity\"],\n",
    "              colors=[\"skyblue\", \"lightgreen\", \"lightcoral\"])\n",
    "plt.title(\"Stackplot of Sales, Profit & Quantity (First 5 Orders)\")\n",
    "plt.xlabel(\"Order Index\")\n",
    "plt.ylabel(\"Values\")\n",
    "plt.legend(loc=\"upper left\")\n",
    "plt.show()"
   ]
  },
  {
   "cell_type": "markdown",
   "id": "d8583e82",
   "metadata": {},
   "source": [
    "**OO Example**"
   ]
  },
  {
   "cell_type": "code",
   "execution_count": null,
   "id": "e2b9e7e9",
   "metadata": {},
   "outputs": [],
   "source": [
    "fig, ax = plt.subplots(figsize=(7,4))\n",
    "\n",
    "ax.stackplot(days, sales, profit, quantity,\n",
    "             labels=[\"Sales\", \"Profit\", \"Quantity\"],\n",
    "             colors=[\"skyblue\", \"lightgreen\", \"lightcoral\"])\n",
    "ax.set_title(\"Stackplot (OO Interface)\")\n",
    "ax.set_xlabel(\"Order Index\")\n",
    "ax.set_ylabel(\"Values\")\n",
    "ax.legend(loc=\"upper left\")\n",
    "plt.show()"
   ]
  },
  {
   "cell_type": "markdown",
   "id": "51b9c552",
   "metadata": {},
   "source": [
    "### What is an Area Plot?\n",
    "\n",
    "An **Area Plot** is similar to a line plot but with the region under the curve filled with color. This helps emphasize **the magnitude** of the trend and is best for continuous data.\n",
    "\n",
    "In AI/ML, area plots are often used for:\n",
    "\n",
    "- Comparing **training vs validation metrics** (adapted here using Sales vs Profit).\n",
    "- Visualizing **cumulative performance** or growth trends.\n",
    "- Highlighting **magnitude differences** between datasets.\n",
    "\n",
    "**Pyplot Example**"
   ]
  },
  {
   "cell_type": "code",
   "execution_count": null,
   "id": "b99fdac8",
   "metadata": {},
   "outputs": [],
   "source": [
    "# Use first 15 orders as 'epochs'\n",
    "orders = range(1, 16)\n",
    "sales = df[\"Sales\"].head(15).values\n",
    "profit = df[\"Profit\"].head(15).values\n",
    "\n",
    "plt.fill_between(orders, sales, color=\"skyblue\", alpha=0.6, label=\"Sales\")\n",
    "plt.fill_between(orders, profit, color=\"lightgreen\", alpha=0.6, label=\"Profit\")\n",
    "plt.plot(orders, sales, color=\"blue\")\n",
    "plt.plot(orders, profit, color=\"green\")\n",
    "plt.title(\"Area Plot of Sales vs Profit (First 15 Orders)\")\n",
    "plt.xlabel(\"Order Index\")\n",
    "plt.ylabel(\"Values\")\n",
    "plt.legend()\n",
    "plt.grid(True, linestyle=\"--\", alpha=0.6)\n",
    "plt.show()"
   ]
  },
  {
   "cell_type": "markdown",
   "id": "c72cd45f",
   "metadata": {},
   "source": [
    "### What is a Stem Plot?\n",
    "\n",
    "A **Stem Plot** shows discrete data points as vertical lines (stems) with markers at the tips. It is most useful for highlighting **individual values** rather than continuous trends.\n",
    "\n",
    "In AI/ML, stem plots are used for:\n",
    "\n",
    "- Displaying **spikes or anomalies** in loss/profit.\n",
    "- Representing **signal-like discrete data**.\n",
    "- Emphasizing **individual contributions** in a dataset.\n",
    "\n",
    "**Pyplot Example**"
   ]
  },
  {
   "cell_type": "code",
   "execution_count": null,
   "id": "817d0c5a",
   "metadata": {},
   "outputs": [],
   "source": [
    "discounts = df[\"Discount\"].head(20).values\n",
    "x = range(1, 21)\n",
    "\n",
    "plt.stem(x, discounts, linefmt=\"b-\", markerfmt=\"bo\", basefmt=\"k-\")\n",
    "\n",
    "# Highlight discounts > 0.5\n",
    "plt.stem([i+1 for i, val in enumerate(discounts) if val > 0.5],\n",
    "         [val for val in discounts if val > 0.5],\n",
    "         linefmt=\"r-\", markerfmt=\"ro\", basefmt=\"k-\")\n",
    "\n",
    "plt.title(\"Stem Plot of Discounts (Highlight > 0.5)\")\n",
    "plt.xlabel(\"Order Index\")\n",
    "plt.ylabel(\"Discount\")\n",
    "plt.show()"
   ]
  },
  {
   "cell_type": "markdown",
   "id": "d73c0fa4",
   "metadata": {},
   "source": [
    "**OO Example**"
   ]
  },
  {
   "cell_type": "code",
   "execution_count": null,
   "id": "9fec05b2",
   "metadata": {},
   "outputs": [],
   "source": [
    "fig, ax = plt.subplots(figsize=(7,4))\n",
    "ax.stem(x, discounts, linefmt=\"b-\", markerfmt=\"bo\", basefmt=\"k-\")\n",
    "ax.stem([i+1 for i, val in enumerate(discounts) if val > 0.5],\n",
    "        [val for val in discounts if val > 0.5],\n",
    "        linefmt=\"r-\", markerfmt=\"ro\", basefmt=\"k-\")\n",
    "ax.set_title(\"Stem Plot Example (OO Interface)\")\n",
    "ax.set_xlabel(\"Order Index\")\n",
    "ax.set_ylabel(\"Discount\")\n",
    "plt.show()"
   ]
  },
  {
   "cell_type": "markdown",
   "id": "a255caad",
   "metadata": {},
   "source": [
    "### Exercises\n",
    "\n",
    "Q1. Create a stackplot showing Sales, Profit, and Quantity for the first 7 orders."
   ]
  },
  {
   "cell_type": "code",
   "execution_count": null,
   "id": "aeb5df03",
   "metadata": {},
   "outputs": [],
   "source": [
    "orders = range(1, 8)\n",
    "sales = df[\"Sales\"].head(7).values\n",
    "profit = df[\"Profit\"].head(7).values\n",
    "quantity = df[\"Quantity\"].head(7).values\n",
    "\n",
    "plt.stackplot(orders, sales, profit, quantity,\n",
    "              labels=[\"Sales\", \"Profit\", \"Quantity\"],\n",
    "              colors=[\"lightblue\", \"lightgreen\", \"lightcoral\"])\n",
    "plt.title(\"Stackplot of Sales, Profit & Quantity (First 7 Orders)\")\n",
    "plt.xlabel(\"Order Index\")\n",
    "plt.ylabel(\"Values\")\n",
    "plt.legend()\n",
    "plt.show()"
   ]
  },
  {
   "cell_type": "markdown",
   "id": "20f33ae5",
   "metadata": {},
   "source": [
    "Q2. Use an area plot to compare Sales vs Profit for the first 15 orders."
   ]
  },
  {
   "cell_type": "code",
   "execution_count": null,
   "id": "85891c09",
   "metadata": {},
   "outputs": [],
   "source": [
    "orders = range(1, 16)\n",
    "sales = df[\"Sales\"].head(15).values\n",
    "profit = df[\"Profit\"].head(15).values\n",
    "\n",
    "plt.fill_between(orders, sales, color=\"skyblue\", alpha=0.6, label=\"Sales\")\n",
    "plt.fill_between(orders, profit, color=\"lightgreen\", alpha=0.6, label=\"Profit\")\n",
    "plt.plot(orders, sales, color=\"blue\")\n",
    "plt.plot(orders, profit, color=\"green\")\n",
    "plt.title(\"Area Plot of Sales vs Profit (First 15 Orders)\")\n",
    "plt.xlabel(\"Order Index\")\n",
    "plt.ylabel(\"Values\")\n",
    "plt.legend()\n",
    "plt.grid(True, linestyle=\"--\", alpha=0.6)\n",
    "plt.show()"
   ]
  },
  {
   "cell_type": "markdown",
   "id": "fb8eb290",
   "metadata": {},
   "source": [
    "Q3. Plot a stem plot of Discount values for the first 20 orders and mark discounts above 0.5 in red."
   ]
  },
  {
   "cell_type": "code",
   "execution_count": null,
   "id": "0adf5dfd",
   "metadata": {},
   "outputs": [],
   "source": [
    "discounts = df[\"Discount\"].head(20).values\n",
    "x = range(1, 21)\n",
    "\n",
    "plt.stem(x, discounts, linefmt=\"b-\", markerfmt=\"bo\", basefmt=\"k-\")\n",
    "plt.stem([i+1 for i, val in enumerate(discounts) if val > 0.5],\n",
    "         [val for val in discounts if val > 0.5],\n",
    "         linefmt=\"r-\", markerfmt=\"ro\", basefmt=\"k-\")\n",
    "\n",
    "plt.title(\"Stem Plot of Discounts (First 20 Orders)\")\n",
    "plt.xlabel(\"Order Index\")\n",
    "plt.ylabel(\"Discount\")\n",
    "plt.show()"
   ]
  },
  {
   "cell_type": "markdown",
   "id": "081fc5fe",
   "metadata": {},
   "source": [
    "Q4. Create a stackplot of Sales, Profit, and Quantity for the first 5 orders."
   ]
  },
  {
   "cell_type": "code",
   "execution_count": null,
   "id": "89c13958",
   "metadata": {},
   "outputs": [],
   "source": [
    "orders = range(1, 6)\n",
    "sales = df[\"Sales\"].head(5).values\n",
    "profit = df[\"Profit\"].head(5).values\n",
    "quantity = df[\"Quantity\"].head(5).values\n",
    "\n",
    "plt.stackplot(orders, sales, profit, quantity,\n",
    "              labels=[\"Sales\", \"Profit\", \"Quantity\"],\n",
    "              colors=[\"skyblue\", \"lightgreen\", \"lightcoral\"])\n",
    "plt.title(\"Stackplot of Sales, Profit & Quantity (First 5 Orders)\")\n",
    "plt.xlabel(\"Order Index\")\n",
    "plt.ylabel(\"Values\")\n",
    "plt.legend()\n",
    "plt.show()"
   ]
  },
  {
   "cell_type": "markdown",
   "id": "971c486c",
   "metadata": {},
   "source": [
    "Q5. Plot a stem plot of Profit for the first 12 orders."
   ]
  },
  {
   "cell_type": "code",
   "execution_count": null,
   "id": "5d37797d",
   "metadata": {},
   "outputs": [],
   "source": [
    "profits = df[\"Profit\"].head(12).values\n",
    "epochs = range(1, 13)\n",
    "\n",
    "plt.stem(epochs, profits, linefmt=\"g-\", markerfmt=\"go\", basefmt=\"k-\")\n",
    "plt.title(\"Stem Plot of Profit (First 12 Orders)\")\n",
    "plt.xlabel(\"Order Index\")\n",
    "plt.ylabel(\"Profit\")\n",
    "plt.grid(True, linestyle=\"--\", alpha=0.6)\n",
    "plt.show()"
   ]
  },
  {
   "cell_type": "markdown",
   "id": "bdca0b31",
   "metadata": {},
   "source": [
    "### Summary\n",
    "\n",
    "Advanced plot types like **stackplots, area plots, and stem plots** provide deeper insights into data compared to basic line, bar, or scatter plots.\n",
    "\n",
    "- **Stackplots** show how multiple components (Sales, Profit, Quantity) contribute cumulatively to a total over an index or time. They are great for understanding category contributions in datasets.\n",
    "- **Area plots** fill the region under a curve, emphasizing magnitude differences, making them ideal for comparing trends like Sales vs Profit over multiple orders.\n",
    "- **Stem plots** focus on individual data points, highlighting spikes, anomalies, or discrete changes, useful for analyzing Discounts, Profit fluctuations, or signal-like patterns.\n",
    "\n",
    "Using the **Superstore dataset**, these plots demonstrate practical applications: tracking sales trends, profit analysis, discount monitoring, and overall business insights. Advanced plotting enhances both **visual understanding** and **communication of patterns** in datasets."
   ]
  }
 ],
 "metadata": {
  "language_info": {
   "name": "python"
  }
 },
 "nbformat": 4,
 "nbformat_minor": 5
}
