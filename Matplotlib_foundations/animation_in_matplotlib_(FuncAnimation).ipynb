{
 "cells": [
  {
   "cell_type": "markdown",
   "id": "1abcd198",
   "metadata": {},
   "source": [
    "# Animation in Matplotlib (FuncAnimation)\n",
    "\n",
    "### What is Animation in Matplotlib (FuncAnimation)?\n",
    "\n",
    "Animation in Matplotlib allows us to create **dynamic and interactive visualizations** where data or visuals change over time. Instead of showing static plots, we can use animations to **illustrate patterns, transitions, or real-time updates** — for example, how stock prices change, how a learning curve evolves, or how an object moves in a simulation.\n",
    "\n",
    "The main tool for creating animations in Matplotlib is **`FuncAnimation`** from the `matplotlib.animation` module. It repeatedly calls a function (called an **update function**) at set intervals to redraw parts of the plot. This gives the illusion of motion or progression.\n",
    "\n",
    "**Key components:**\n",
    "\n",
    "- `FuncAnimation(fig, func, frames, interval, repeat)`:\n",
    "    - **fig** – The figure to animate.\n",
    "    - **func** – The update function that modifies the data on each frame.\n",
    "    - **frames** – Number of frames (or sequence of data) to animate.\n",
    "    - **interval** – Delay between frames in milliseconds.\n",
    "    - **repeat** – Whether to loop the animation.\n",
    "\n",
    "### Why is this important?\n",
    "\n",
    "Animation is very useful in:\n",
    "\n",
    "- **AI/ML:** To visualize how model weights, loss, or data clusters evolve during training.\n",
    "- **Data Science:** For showing time-based changes like stock prices, weather patterns, or sensor readings.\n",
    "- **Education & Research:** For explaining mathematical functions or physical simulations interactively.\n",
    "\n",
    "Animated visualizations make presentations **more intuitive and engaging**, helping both the analyst and the audience understand trends dynamically rather than through snapshots.\n",
    "\n",
    "**Examples**\n",
    "\n",
    "1. Basic Line Animation"
   ]
  },
  {
   "cell_type": "code",
   "execution_count": null,
   "metadata": {},
   "outputs": [],
   "source": [
    "import numpy as np\n",
    "import matplotlib.pyplot as plt\n",
    "from matplotlib.animation import FuncAnimation\n",
    "\n",
    "x = np.linspace(0, 2*np.pi, 100)\n",
    "y = np.sin(x)\n",
    "\n",
    "fig, ax = plt.subplots()\n",
    "(line,) = ax.plot(x, y, color=\"blue\")\n",
    "\n",
    "def update(frame):\n",
    "    line.set_ydata(np.sin(x + frame / 10))  # shift phase\n",
    "    return (line,)\n",
    "\n",
    "ani = FuncAnimation(fig, update, frames=100, interval=50, blit=True)\n",
    "plt.title(\"Sine Wave Animation\")\n",
    "plt.show()"
   ]
  },
  {
   "cell_type": "markdown",
   "id": "7f9c591f",
   "metadata": {},
   "source": [
    "2. Animating a Scatter Plot"
   ]
  },
  {
   "cell_type": "code",
   "execution_count": null,
   "id": "6b9f9946",
   "metadata": {},
   "outputs": [],
   "source": [
    "import numpy as np\n",
    "import matplotlib.pyplot as plt\n",
    "from matplotlib.animation import FuncAnimation\n",
    "\n",
    "fig, ax = plt.subplots()\n",
    "x, y = np.random.rand(10), np.random.rand(10)\n",
    "sc = ax.scatter(x, y, color=\"red\")\n",
    "\n",
    "def update(frame):\n",
    "    new_x = np.random.rand(10)\n",
    "    new_y = np.random.rand(10)\n",
    "    sc.set_offsets(np.c_[new_x, new_y])\n",
    "    return (sc,)\n",
    "\n",
    "ani = FuncAnimation(fig, update, frames=50, interval=200, blit=True)\n",
    "plt.title(\"Random Scatter Animation\")\n",
    "plt.show()"
   ]
  },
  {
   "cell_type": "markdown",
   "id": "76ae2341",
   "metadata": {},
   "source": [
    "3. Simulating Real-Time Data (like sensor updates)"
   ]
  },
  {
   "cell_type": "code",
   "execution_count": null,
   "metadata": {},
   "outputs": [],
   "source": [
    "import numpy as np\n",
    "import matplotlib.pyplot as plt\n",
    "from matplotlib.animation import FuncAnimation\n",
    "\n",
    "fig, ax = plt.subplots()\n",
    "x_data, y_data = [], []\n",
    "(line,) = plt.plot([], [], color=\"green\")\n",
    "\n",
    "def init():\n",
    "    ax.set_xlim(0, 100)\n",
    "    ax.set_ylim(0, 10)\n",
    "    return (line,)\n",
    "\n",
    "def update(frame):\n",
    "    x_data.append(frame)\n",
    "    y_data.append(np.random.random() * 10)\n",
    "    line.set_data(x_data, y_data)\n",
    "    return (line,)\n",
    "\n",
    "ani = FuncAnimation(fig, update, frames=np.arange(0, 100), init_func=init, interval=100)\n",
    "plt.title(\"Real-Time Data Stream\")\n",
    "plt.show()"
   ]
  },
  {
   "cell_type": "markdown",
   "id": "c1f3a690",
   "metadata": {},
   "source": [
    "### Exercises\n",
    "\n",
    "Q1. Animate a cosine wave that moves horizontally."
   ]
  },
  {
   "cell_type": "code",
   "execution_count": null,
   "id": "29d50eff",
   "metadata": {},
   "outputs": [],
   "source": [
    "x = np.linspace(0, 2*np.pi, 100)\n",
    "fig, ax = plt.subplots()\n",
    "(line,) = ax.plot(x, np.cos(x), color=\"purple\")\n",
    "\n",
    "def update(frame):\n",
    "    line.set_ydata(np.cos(x + frame / 10))\n",
    "    return (line,)\n",
    "\n",
    "ani = FuncAnimation(fig, update, frames=100, interval=50, blit=True)\n",
    "plt.title(\"Cosine Wave Animation\")\n",
    "plt.show()"
   ]
  },
  {
   "cell_type": "markdown",
   "id": "5c31ab80",
   "metadata": {},
   "source": [
    "Q2. Create a bouncing ball animation using scatter points."
   ]
  },
  {
   "cell_type": "code",
   "execution_count": null,
   "id": "bcc16085",
   "metadata": {},
   "outputs": [],
   "source": [
    "fig, ax = plt.subplots()\n",
    "ax.set_xlim(0, 10)\n",
    "ax.set_ylim(0, 10)\n",
    "(ball,) = ax.plot([], [], 'ro', markersize=15)\n",
    "\n",
    "y, dy = 5, 0.3\n",
    "\n",
    "def update(frame):\n",
    "    global y, dy\n",
    "    y += dy\n",
    "    if y >= 10 or y <= 0:\n",
    "        dy *= -1\n",
    "    ball.set_data(5, y)\n",
    "    return (ball,)\n",
    "\n",
    "ani = FuncAnimation(fig, update, frames=100, interval=50)\n",
    "plt.title(\"Bouncing Ball Animation\")\n",
    "plt.show()"
   ]
  },
  {
   "cell_type": "markdown",
   "id": "247da3b1",
   "metadata": {},
   "source": [
    "Q3. Simulate live temperature updates (random values between 20–35°C)."
   ]
  },
  {
   "cell_type": "code",
   "execution_count": null,
   "id": "7013fffa",
   "metadata": {},
   "outputs": [],
   "source": [
    "temps = []\n",
    "fig, ax = plt.subplots()\n",
    "(line,) = plt.plot([], [], color=\"orange\")\n",
    "\n",
    "def init():\n",
    "    ax.set_xlim(0, 50)\n",
    "    ax.set_ylim(20, 35)\n",
    "    return (line,)\n",
    "\n",
    "def update(frame):\n",
    "    temps.append(np.random.uniform(20, 35))\n",
    "    line.set_data(range(len(temps)), temps)\n",
    "    return (line,)\n",
    "\n",
    "ani = FuncAnimation(fig, update, frames=50, init_func=init, interval=200)\n",
    "plt.title(\"Live Temperature Simulation\")\n",
    "plt.show()"
   ]
  },
  {
   "cell_type": "markdown",
   "id": "c93a5670",
   "metadata": {},
   "source": [
    "Q4. Animate two lines — one for Sales and one for Profit — using random data updates."
   ]
  },
  {
   "cell_type": "code",
   "execution_count": null,
   "id": "24ff6fa1",
   "metadata": {},
   "outputs": [],
   "source": [
    "fig, ax = plt.subplots()\n",
    "sales, profit = [], []\n",
    "(line1,) = ax.plot([], [], label=\"Sales\", color=\"blue\")\n",
    "(line2,) = ax.plot([], [], label=\"Profit\", color=\"green\")\n",
    "\n",
    "ax.legend()\n",
    "ax.set_xlim(0, 50)\n",
    "ax.set_ylim(0, 100)\n",
    "\n",
    "def update(frame):\n",
    "    sales.append(np.random.randint(20, 90))\n",
    "    profit.append(np.random.randint(10, 70))\n",
    "    line1.set_data(range(len(sales)), sales)\n",
    "    line2.set_data(range(len(profit)), profit)\n",
    "    return line1, line2\n",
    "\n",
    "ani = FuncAnimation(fig, update, frames=50, interval=100)\n",
    "plt.title(\"Animated Sales & Profit Trends\")\n",
    "plt.show()"
   ]
  },
  {
   "cell_type": "markdown",
   "id": "91854d3e",
   "metadata": {},
   "source": [
    "Q5. Show a growing bar chart that adds new bars every frame."
   ]
  },
  {
   "cell_type": "code",
   "execution_count": null,
   "id": "0f1b1e24",
   "metadata": {},
   "outputs": [],
   "source": [
    "import matplotlib.pyplot as plt\n",
    "from matplotlib.animation import FuncAnimation\n",
    "import numpy as np\n",
    "\n",
    "fig, ax = plt.subplots()\n",
    "bars = ax.bar([], [])\n",
    "\n",
    "def update(frame):\n",
    "    x = np.arange(frame + 1)\n",
    "    y = np.random.randint(10, 100, size=frame + 1)\n",
    "    ax.clear()\n",
    "    ax.bar(x, y, color=\"skyblue\")\n",
    "    ax.set_xlim(0, 10)\n",
    "    ax.set_ylim(0, 100)\n",
    "    ax.set_title(\"Growing Bar Chart\")\n",
    "    return ax.patches\n",
    "\n",
    "ani = FuncAnimation(fig, update, frames=10, interval=500)\n",
    "plt.show()"
   ]
  },
  {
   "cell_type": "markdown",
   "id": "ae8d0f7d",
   "metadata": {},
   "source": [
    "### Summary\n",
    "\n",
    "Animation in Matplotlib using **`FuncAnimation`** transforms static plots into dynamic, time-evolving visualizations. It works by repeatedly updating the plot elements over a sequence of frames, allowing us to simulate real-time data streams, illustrate mathematical functions, or visualize changing phenomena. This technique is widely used in **AI/ML model visualization**, **sensor monitoring**, and **interactive dashboards**. By combining the update function, frames, and intervals, we can fully control how data transitions appear. Whether it’s animating a sine wave, tracking stock movements, or simulating live analytics, FuncAnimation makes visual storytelling more engaging and effective. In short, animation bridges the gap between raw data and motion-based insights — bringing your plots to life."
   ]
  }
 ],
 "metadata": {
  "kernelspec": {
   "display_name": "Venv",
   "language": "python",
   "name": "python3"
  },
  "language_info": {
   "codemirror_mode": {
    "name": "ipython",
    "version": 3
   },
   "file_extension": ".py",
   "mimetype": "text/x-python",
   "name": "python",
   "nbconvert_exporter": "python",
   "pygments_lexer": "ipython3",
   "version": "3.12.8"
  }
 },
 "nbformat": 4,
 "nbformat_minor": 5
}
