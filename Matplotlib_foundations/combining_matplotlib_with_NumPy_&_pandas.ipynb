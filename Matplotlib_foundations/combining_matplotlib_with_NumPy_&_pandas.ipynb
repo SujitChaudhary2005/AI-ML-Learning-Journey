{
 "cells": [
  {
   "cell_type": "markdown",
   "id": "f8798be1",
   "metadata": {},
   "source": [
    "# Combining Matplotlib with NumPy and Pandas\n",
    "\n",
    "### What is Combining Matplotlib with NumPy and Pandas?\n",
    "\n",
    "Matplotlib becomes even more powerful when combined with **NumPy** and **Pandas**, two core libraries for data science.\n",
    "\n",
    "- **NumPy**: Provides fast numerical computations and arrays, often used to generate or preprocess data before visualization.\n",
    "- **Pandas**: Offers high-level data structures like **Series** and **DataFrames**, making it easy to handle tabular data (like CSV files) and directly integrate with Matplotlib.\n",
    "\n",
    "Instead of manually managing raw lists, we can plot **NumPy arrays** and **Pandas DataFrames** directly. For example:\n",
    "\n",
    "- Use **NumPy** to generate synthetic data (random numbers, mathematical functions).\n",
    "- Use **Pandas** to load and clean real datasets (like sales, profit, time series).\n",
    "- Pass the data seamlessly into Matplotlib for visualization.\n",
    "\n",
    "This combination is the **standard workflow in AI/ML and data analysis**, because datasets usually come as CSV/Excel/SQL, which we process with Pandas, and then visualize trends using Matplotlib.\n",
    "\n",
    "### Why is this important?\n",
    "\n",
    "- In **machine learning**, we preprocess features using NumPy/Pandas, then visualize them to detect patterns, correlations, or outliers.\n",
    "- In **business analytics**, we can quickly turn sales/profit datasets into charts for decision-making.\n",
    "- In **research**, we often generate synthetic data (NumPy) or handle survey results (Pandas), then visualize findings.\n",
    "\n",
    "By combining these libraries, we **bridge raw data and insights** — turning numbers into meaningful stories.\n",
    "\n",
    "**Examples**\n",
    "\n",
    "1. Using NumPy with Matplotlib"
   ]
  },
  {
   "cell_type": "code",
   "execution_count": null,
   "id": "22503b25",
   "metadata": {},
   "outputs": [],
   "source": [
    "import numpy as np\n",
    "import matplotlib.pyplot as plt\n",
    "\n",
    "x = np.linspace(0, 10, 100)\n",
    "y = np.sin(x) + np.random.normal(0, 0.2, 100)  # noisy sine wave\n",
    "\n",
    "plt.figure(figsize=(8,5))\n",
    "plt.plot(x, y, label=\"Noisy Sine\")\n",
    "plt.plot(x, np.sin(x), label=\"True Sine\", linestyle=\"--\")\n",
    "plt.title(\"NumPy Array with Matplotlib\")\n",
    "plt.xlabel(\"X-axis\")\n",
    "plt.ylabel(\"Y-axis\")\n",
    "plt.legend()\n",
    "plt.show()"
   ]
  },
  {
   "cell_type": "markdown",
   "id": "db63cf66",
   "metadata": {},
   "source": [
    "2. Using Pandas with Matplotlib"
   ]
  },
  {
   "cell_type": "code",
   "execution_count": null,
   "id": "d4984b53",
   "metadata": {},
   "outputs": [],
   "source": [
    "import pandas as pd\n",
    "\n",
    "# Load dataset\n",
    "df = pd.read_csv(\"data/Superstore.csv\", encoding='latin-1')\n",
    "\n",
    "# Line plot of Sales over time\n",
    "plt.figure(figsize=(10,6))\n",
    "plt.plot(df[\"Order Date\"], df[\"Sales\"], alpha=0.7)\n",
    "plt.title(\"Sales Over Time\")\n",
    "plt.xlabel(\"Date\")\n",
    "plt.ylabel(\"Sales\")\n",
    "plt.show()"
   ]
  },
  {
   "cell_type": "markdown",
   "id": "8fee1fef",
   "metadata": {},
   "source": [
    "3. Pandas + Matplotlib with Grouping"
   ]
  },
  {
   "cell_type": "code",
   "execution_count": null,
   "id": "5ef74b7f",
   "metadata": {},
   "outputs": [],
   "source": [
    "region_sales = df.groupby(\"Region\")[\"Sales\"].sum()\n",
    "\n",
    "region_sales.plot(kind=\"bar\", color=\"skyblue\", figsize=(8,5))\n",
    "plt.title(\"Total Sales by Region\")\n",
    "plt.ylabel(\"Sales\")\n",
    "plt.show()"
   ]
  },
  {
   "cell_type": "markdown",
   "id": "defbb865",
   "metadata": {},
   "source": [
    "### Exercises\n",
    "\n",
    "Q1. Use NumPy to generate random normal data and plot a histogram."
   ]
  },
  {
   "cell_type": "code",
   "execution_count": null,
   "id": "a47e2b26",
   "metadata": {},
   "outputs": [],
   "source": [
    "data = np.random.normal(50, 10, 1000)\n",
    "plt.hist(data, bins=30, color=\"purple\", alpha=0.7)\n",
    "plt.title(\"Histogram of Random Data\")\n",
    "plt.show()"
   ]
  },
  {
   "cell_type": "markdown",
   "id": "ada111db",
   "metadata": {},
   "source": [
    "Q2. Load a CSV with Pandas and plot a line chart of Sales."
   ]
  },
  {
   "cell_type": "code",
   "execution_count": null,
   "id": "640446e9",
   "metadata": {},
   "outputs": [],
   "source": [
    "plt.plot(df[\"Order Date\"], df[\"Sales\"], color=\"blue\")\n",
    "plt.title(\"Sales Over Time\")\n",
    "plt.show()"
   ]
  },
  {
   "cell_type": "markdown",
   "id": "c267610b",
   "metadata": {},
   "source": [
    "Q3. Use Pandas groupby() to show average Profit by Category as a bar chart."
   ]
  },
  {
   "cell_type": "code",
   "execution_count": null,
   "id": "765ced3b",
   "metadata": {},
   "outputs": [],
   "source": [
    "avg_profit = df.groupby(\"Category\")[\"Profit\"].mean()\n",
    "avg_profit.plot(kind=\"bar\", color=\"green\")\n",
    "plt.title(\"Avg Profit by Category\")\n",
    "plt.show()"
   ]
  },
  {
   "cell_type": "markdown",
   "id": "0d90dfa8",
   "metadata": {},
   "source": [
    "Q4. Plot NumPy sine and cosine functions together with legends."
   ]
  },
  {
   "cell_type": "code",
   "execution_count": null,
   "id": "db1254a0",
   "metadata": {},
   "outputs": [],
   "source": [
    "x = np.linspace(0, 10, 100)\n",
    "plt.plot(x, np.sin(x), label=\"Sine\")\n",
    "plt.plot(x, np.cos(x), label=\"Cosine\")\n",
    "plt.legend()\n",
    "plt.show()"
   ]
  },
  {
   "cell_type": "markdown",
   "id": "1a2c8a24",
   "metadata": {},
   "source": [
    "Q5. Combine Pandas and Matplotlib: Plot cumulative Sales over time with a rolling mean."
   ]
  },
  {
   "cell_type": "code",
   "execution_count": null,
   "id": "75a576ab",
   "metadata": {},
   "outputs": [],
   "source": [
    "df_sorted = df.sort_values(\"Order Date\")\n",
    "df_sorted[\"Cumulative Sales\"] = df_sorted[\"Sales\"].cumsum()\n",
    "df_sorted[\"Rolling Sales\"] = df_sorted[\"Sales\"].rolling(30).mean()\n",
    "\n",
    "plt.plot(df_sorted[\"Order Date\"], df_sorted[\"Cumulative Sales\"], label=\"Cumulative Sales\")\n",
    "plt.plot(df_sorted[\"Order Date\"], df_sorted[\"Rolling Sales\"], label=\"30-day Rolling Mean\")\n",
    "plt.legend()\n",
    "plt.title(\"Sales Trend with Rolling Mean\")\n",
    "plt.show()"
   ]
  },
  {
   "cell_type": "markdown",
   "id": "b6ca9c11",
   "metadata": {},
   "source": [
    "### Summary\n",
    "\n",
    "Combining Matplotlib with NumPy and Pandas allows us to create powerful, data-driven visualizations. **NumPy** makes it easy to generate or transform numerical data, while **Pandas** helps organize, clean, and aggregate real-world datasets. By directly plotting arrays and DataFrames, we save time and reduce complexity compared to raw Python lists. This integration is crucial in **data science, AI/ML, and analytics**, where workflows often involve loading data (Pandas), transforming it (NumPy), and then visualizing insights (Matplotlib). Whether we’re analyzing sales, tracking training accuracy, or simulating data, the trio of NumPy, Pandas, and Matplotlib forms the foundation of modern Python-based data analysis."
   ]
  }
 ],
 "metadata": {
  "language_info": {
   "name": "python"
  }
 },
 "nbformat": 4,
 "nbformat_minor": 5
}
