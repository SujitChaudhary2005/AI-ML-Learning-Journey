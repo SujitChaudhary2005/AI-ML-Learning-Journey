{
 "cells": [
  {
   "cell_type": "markdown",
   "id": "4aef050f",
   "metadata": {},
   "source": [
    "# Adding Shapes: Arrows, Rectangles, Circles, and Polygons\n",
    "\n",
    "### What are Arrows in Plots?\n",
    "\n",
    "Arrows in Matplotlib are powerful tools for directing attention to specific points or regions in a plot. Unlike simple text annotations, arrows provide **visual emphasis** by pointing directly to trends, outliers, or anomalies. In Matplotlib, arrows are usually created with the `plt.annotate()` (Pyplot) or `ax.annotate()` (OO) function, where we can control the arrow style, color, width, and position. We can also use `FancyArrowPatch` for more advanced arrow styling.\n",
    "\n",
    "In **data analysis and AI/ML**, arrows are helpful when:\n",
    "\n",
    "- Highlighting **sudden spikes or drops** in performance metrics.\n",
    "- Marking **outliers** in scatter plots.\n",
    "- Indicating **decision boundaries or thresholds** in models.\n",
    "- Directing the viewer’s eye in **presentation-ready plots**.\n",
    "\n",
    "Arrows can be customized using parameters like `arrowprops`, which defines arrow style (e.g., `\"->\"`, `\"fancy\"`, `\"wedge\"`). We can adjust width, head size, and color for clarity.\n",
    "\n",
    "**Pyplot Example**"
   ]
  },
  {
   "cell_type": "code",
   "execution_count": null,
   "id": "735b212e",
   "metadata": {},
   "outputs": [],
   "source": [
    "import matplotlib.pyplot as plt\n",
    "import pandas as pd\n",
    "\n",
    "df = pd.read_csv(\"data/Superstore.csv\", encoding='latin-1')\n",
    "\n",
    "df_subset = df.head(50)\n",
    "\n",
    "plt.figure(figsize=(10,6))\n",
    "plt.plot(df_subset.index, df_subset[\"Sales\"], marker=\"o\", color=\"blue\")\n",
    "\n",
    "# Add arrow\n",
    "plt.annotate(\"Spike in Sales\", xy=(10, df_subset[\"Sales\"][10]),\n",
    "             xytext=(15, 500),\n",
    "             arrowprops=dict(facecolor=\"red\", arrowstyle=\"->\", lw=2))\n",
    "\n",
    "plt.title(\"Sales with Arrow Annotation\")\n",
    "plt.xlabel(\"Order Index\")\n",
    "plt.ylabel(\"Sales ($)\")\n",
    "plt.grid(True, linestyle=\"--\", alpha=0.6)\n",
    "plt.show()"
   ]
  },
  {
   "cell_type": "markdown",
   "id": "bef2e597",
   "metadata": {},
   "source": [
    "**OO Example**"
   ]
  },
  {
   "cell_type": "code",
   "execution_count": null,
   "id": "161a8fe1",
   "metadata": {},
   "outputs": [],
   "source": [
    "fig, ax = plt.subplots(figsize=(10,6))\n",
    "ax.plot(df_subset.index, df_subset[\"Profit\"], marker=\"s\", color=\"green\")\n",
    "\n",
    "ax.annotate(\"Loss Point\", xy=(20, df_subset[\"Profit\"][20]),\n",
    "            xytext=(25, -200),\n",
    "            arrowprops=dict(facecolor=\"black\", arrowstyle=\"fancy\"))\n",
    "\n",
    "ax.set_title(\"Profit with Arrow Annotation\")\n",
    "ax.set_xlabel(\"Order Index\")\n",
    "ax.set_ylabel(\"Profit ($)\")\n",
    "ax.grid(True, linestyle=\"--\", alpha=0.6)\n",
    "plt.show()"
   ]
  },
  {
   "cell_type": "markdown",
   "id": "de6eb530",
   "metadata": {},
   "source": [
    "### What are Rectangles in Plots?\n",
    "\n",
    "Rectangles are versatile shapes that can highlight regions in a plot. In Matplotlib, rectangles can be drawn using `plt.Rectangle()` (via `add_patch` method). We can control their position, width, height, fill color, transparency, and borders.\n",
    "\n",
    "In **data visualization and ML**, rectangles are useful for:\n",
    "\n",
    "- Highlighting **time windows** (e.g., between epochs 5–10).\n",
    "- Marking **high-risk zones** in scatter plots.\n",
    "- Creating bounding boxes (e.g., in **object detection** visualizations).\n",
    "- Indicating **ranges of importance** in model metrics.\n",
    "\n",
    "**Pyplot Example**"
   ]
  },
  {
   "cell_type": "code",
   "execution_count": null,
   "id": "5ac66441",
   "metadata": {},
   "outputs": [],
   "source": [
    "df_subset = df.head(60)\n",
    "plt.figure(figsize=(12,6))\n",
    "plt.plot(df_subset.index, df_subset[\"Sales\"], color=\"blue\")\n",
    "\n",
    "# Rectangle highlight (from index 20–30)\n",
    "rect = plt.Rectangle((20, 0), 10, 600, color=\"yellow\", alpha=0.3)\n",
    "plt.gca().add_patch(rect)\n",
    "\n",
    "plt.title(\"Sales with Rectangle Highlight\")\n",
    "plt.xlabel(\"Order Index\")\n",
    "plt.ylabel(\"Sales ($)\")\n",
    "plt.show()"
   ]
  },
  {
   "cell_type": "markdown",
   "id": "d449ca91",
   "metadata": {},
   "source": [
    "**OO Example**"
   ]
  },
  {
   "cell_type": "code",
   "execution_count": null,
   "id": "cde35a5a",
   "metadata": {},
   "outputs": [],
   "source": [
    "fig, ax = plt.subplots(figsize=(12,6))\n",
    "ax.plot(df_subset.index, df_subset[\"Profit\"], color=\"purple\")\n",
    "\n",
    "# Rectangle on profit plot\n",
    "from matplotlib.patches import Rectangle\n",
    "rect = Rectangle((10, -200), 15, 400, color=\"orange\", alpha=0.3)\n",
    "ax.add_patch(rect)\n",
    "\n",
    "ax.set_title(\"Profit Highlighted with Rectangle\")\n",
    "ax.set_xlabel(\"Order Index\")\n",
    "ax.set_ylabel(\"Profit ($)\")\n",
    "plt.show()"
   ]
  },
  {
   "cell_type": "markdown",
   "id": "4f138d9f",
   "metadata": {},
   "source": [
    "### What are Circles in Plots?\n",
    "\n",
    "Circles are often used to mark **specific data points or regions of interest**. In Matplotlib, circles are created using `plt.Circle()` or `patches.Circle()` with parameters for radius, center, and style.\n",
    "\n",
    "In **AI/ML applications**, circles are often seen in:\n",
    "\n",
    "- Highlighting **clusters** in scatter plots.\n",
    "- Marking **decision regions** in classification plots.\n",
    "- Emphasizing **specific anomalies** (outliers).\n",
    "- Visualizing **spherical boundaries** in clustering.\n",
    "\n",
    "**Pyplot Example**"
   ]
  },
  {
   "cell_type": "code",
   "execution_count": null,
   "id": "2a9c4a9f",
   "metadata": {},
   "outputs": [],
   "source": [
    "df_subset = df.head(50)\n",
    "plt.figure(figsize=(10,6))\n",
    "plt.scatter(df_subset[\"Sales\"], df_subset[\"Profit\"], color=\"blue\")\n",
    "\n",
    "# Add circle around a cluster\n",
    "circle = plt.Circle((300, 100), 200, color=\"red\", fill=False, linewidth=2)\n",
    "plt.gca().add_patch(circle)\n",
    "\n",
    "plt.title(\"Sales vs Profit with Circle Highlight\")\n",
    "plt.xlabel(\"Sales ($)\")\n",
    "plt.ylabel(\"Profit ($)\")\n",
    "plt.show()"
   ]
  },
  {
   "cell_type": "markdown",
   "id": "cac54819",
   "metadata": {},
   "source": [
    "**OO Example**"
   ]
  },
  {
   "cell_type": "code",
   "execution_count": null,
   "id": "7ec556b0",
   "metadata": {},
   "outputs": [],
   "source": [
    "fig, ax = plt.subplots(figsize=(10,6))\n",
    "ax.scatter(df_subset[\"Sales\"], df_subset[\"Discount\"], color=\"green\")\n",
    "\n",
    "from matplotlib.patches import Circle\n",
    "circle = Circle((200, 0.2), 150, color=\"purple\", fill=False, linewidth=2, linestyle=\"--\")\n",
    "ax.add_patch(circle)\n",
    "\n",
    "ax.set_title(\"Discount vs Sales with Circle Highlight\")\n",
    "ax.set_xlabel(\"Sales ($)\")\n",
    "ax.set_ylabel(\"Discount\")\n",
    "plt.show()"
   ]
  },
  {
   "cell_type": "markdown",
   "id": "3425014e",
   "metadata": {},
   "source": [
    "### What are Polygons in Plots?\n",
    "\n",
    "Polygons are multi-sided shapes that connect multiple coordinate points. In Matplotlib, polygons are created with `Polygon()` from `matplotlib.patches`. They’re useful for irregular zones and boundaries.\n",
    "\n",
    "In **data analysis and ML**, polygons can:\n",
    "\n",
    "- Represent **decision regions** in 2D classification.\n",
    "- Show **convex hulls** of data clusters.\n",
    "- Highlight **custom areas of interest**.\n",
    "- Represent **geospatial zones** in maps.\n",
    "\n",
    "**Pyplot Example**"
   ]
  },
  {
   "cell_type": "code",
   "execution_count": null,
   "id": "f53262c6",
   "metadata": {},
   "outputs": [],
   "source": [
    "points = [(100, 0.1), (200, 0.2), (300, 0.15), (250, 0.05)]\n",
    "polygon = plt.Polygon(points, closed=True, fill=True, color=\"lightblue\", alpha=0.5)\n",
    "\n",
    "df_subset = df.head(50)\n",
    "plt.figure(figsize=(10,6))\n",
    "plt.scatter(df_subset[\"Sales\"], df_subset[\"Discount\"], color=\"black\")\n",
    "plt.gca().add_patch(polygon)\n",
    "\n",
    "plt.title(\"Polygon Highlight on Discount vs Sales\")\n",
    "plt.xlabel(\"Sales ($)\")\n",
    "plt.ylabel(\"Discount\")\n",
    "plt.show()"
   ]
  },
  {
   "cell_type": "markdown",
   "id": "0b783094",
   "metadata": {},
   "source": [
    "**OO Example**"
   ]
  },
  {
   "cell_type": "code",
   "execution_count": null,
   "id": "6cc3e12d",
   "metadata": {},
   "outputs": [],
   "source": [
    "fig, ax = plt.subplots(figsize=(10,6))\n",
    "ax.scatter(df_subset[\"Sales\"], df_subset[\"Profit\"], color=\"orange\")\n",
    "\n",
    "from matplotlib.patches import Polygon\n",
    "points = [(100, -100), (250, 200), (400, 100), (300, -150)]\n",
    "poly = Polygon(points, closed=True, fill=False, edgecolor=\"red\", linewidth=2)\n",
    "ax.add_patch(poly)\n",
    "\n",
    "ax.set_title(\"Polygon Highlight on Sales vs Profit\")\n",
    "ax.set_xlabel(\"Sales ($)\")\n",
    "ax.set_ylabel(\"Profit ($)\")\n",
    "plt.show()"
   ]
  },
  {
   "cell_type": "markdown",
   "id": "9e2affad",
   "metadata": {},
   "source": [
    "### Exercises\n",
    "\n",
    "Q1. Use an arrow to highlight the highest sales value in the first 100 rows."
   ]
  },
  {
   "cell_type": "code",
   "execution_count": null,
   "id": "38ecf4f6",
   "metadata": {},
   "outputs": [],
   "source": [
    "df_subset = df.head(100)\n",
    "\n",
    "plt.figure(figsize=(10,6))\n",
    "plt.plot(df_subset.index, df_subset[\"Sales\"], marker=\"o\", color=\"blue\")\n",
    "\n",
    "# Find max sales\n",
    "max_idx = df_subset[\"Sales\"].idxmax()\n",
    "max_val = df_subset[\"Sales\"].max()\n",
    "\n",
    "plt.annotate(\"Highest Sales\", xy=(max_idx, max_val),\n",
    "             xytext=(max_idx+10, max_val+200),\n",
    "             arrowprops=dict(facecolor=\"red\", arrowstyle=\"->\", lw=2))\n",
    "\n",
    "plt.title(\"Arrow Highlight: Highest Sales\")\n",
    "plt.xlabel(\"Order Index\")\n",
    "plt.ylabel(\"Sales ($)\")\n",
    "plt.show()"
   ]
  },
  {
   "cell_type": "markdown",
   "id": "293996cf",
   "metadata": {},
   "source": [
    "Q2. Draw a rectangle to highlight orders between index 20–40 in Profit data."
   ]
  },
  {
   "cell_type": "code",
   "execution_count": null,
   "id": "4344d555",
   "metadata": {},
   "outputs": [],
   "source": [
    "df_subset = df.head(60)\n",
    "plt.figure(figsize=(10,6))\n",
    "plt.plot(df_subset.index, df_subset[\"Profit\"], color=\"green\")\n",
    "\n",
    "# Rectangle highlight\n",
    "rect = plt.Rectangle((20, -300), 20, 600, color=\"yellow\", alpha=0.3)\n",
    "plt.gca().add_patch(rect)\n",
    "\n",
    "plt.title(\"Rectangle Highlight on Profit (Orders 20–40)\")\n",
    "plt.xlabel(\"Order Index\")\n",
    "plt.ylabel(\"Profit ($)\")\n",
    "plt.show()"
   ]
  },
  {
   "cell_type": "markdown",
   "id": "973126b2",
   "metadata": {},
   "source": [
    "Q3. Create a circle to emphasize discounts around 0.2–0.3 for Sales between 100–300."
   ]
  },
  {
   "cell_type": "code",
   "execution_count": null,
   "id": "c6a977b2",
   "metadata": {},
   "outputs": [],
   "source": [
    "df_subset = df.head(80)\n",
    "plt.figure(figsize=(10,6))\n",
    "plt.scatter(df_subset[\"Sales\"], df_subset[\"Discount\"], color=\"blue\")\n",
    "\n",
    "# Circle around discount region\n",
    "circle = plt.Circle((200, 0.25), 100, color=\"red\", fill=False, linewidth=2)\n",
    "plt.gca().add_patch(circle)\n",
    "\n",
    "plt.title(\"Circle Highlight on Discount vs Sales\")\n",
    "plt.xlabel(\"Sales ($)\")\n",
    "plt.ylabel(\"Discount\")\n",
    "plt.show()"
   ]
  },
  {
   "cell_type": "markdown",
   "id": "3612988a",
   "metadata": {},
   "source": [
    "Q4. Use a polygon to highlight an unusual cluster in Profit vs Sales."
   ]
  },
  {
   "cell_type": "code",
   "execution_count": null,
   "id": "fb18fc5a",
   "metadata": {},
   "outputs": [],
   "source": [
    "df_subset = df.head(100)\n",
    "plt.figure(figsize=(10,6))\n",
    "plt.scatter(df_subset[\"Sales\"], df_subset[\"Profit\"], color=\"black\")\n",
    "\n",
    "from matplotlib.patches import Polygon\n",
    "points = [(100, -200), (250, 300), (400, 200), (300, -150)]\n",
    "poly = Polygon(points, closed=True, fill=False, edgecolor=\"purple\", linewidth=2)\n",
    "plt.gca().add_patch(poly)\n",
    "\n",
    "plt.title(\"Polygon Highlight on Sales vs Profit Cluster\")\n",
    "plt.xlabel(\"Sales ($)\")\n",
    "plt.ylabel(\"Profit ($)\")\n",
    "plt.show()"
   ]
  },
  {
   "cell_type": "markdown",
   "id": "df480002",
   "metadata": {},
   "source": [
    "Q5. Combine arrow + rectangle to mark a loss-making region (negative profits)."
   ]
  },
  {
   "cell_type": "code",
   "execution_count": null,
   "id": "cc7e5624",
   "metadata": {},
   "outputs": [],
   "source": [
    "df_subset = df.head(50)\n",
    "plt.figure(figsize=(10,6))\n",
    "plt.plot(df_subset.index, df_subset[\"Profit\"], marker=\"s\", color=\"orange\")\n",
    "\n",
    "# Rectangle to show negative profits region\n",
    "rect = plt.Rectangle((10, -400), 20, 400, color=\"gray\", alpha=0.3)\n",
    "plt.gca().add_patch(rect)\n",
    "\n",
    "# Arrow to mark a specific loss point\n",
    "loss_idx = df_subset[\"Profit\"].idxmin()\n",
    "loss_val = df_subset[\"Profit\"].min()\n",
    "plt.annotate(\"Big Loss\", xy=(loss_idx, loss_val),\n",
    "             xytext=(loss_idx+5, loss_val-100),\n",
    "             arrowprops=dict(facecolor=\"red\", arrowstyle=\"->\", lw=2))\n",
    "\n",
    "plt.title(\"Profit Highlight: Negative Zone with Arrow & Rectangle\")\n",
    "plt.xlabel(\"Order Index\")\n",
    "plt.ylabel(\"Profit ($)\")\n",
    "plt.show()"
   ]
  },
  {
   "cell_type": "markdown",
   "id": "69cc3591",
   "metadata": {},
   "source": [
    "### Summary\n",
    "\n",
    "Adding **arrows, rectangles, circles, and polygons** in Matplotlib transforms basic plots into **insightful visual stories**.\n",
    "\n",
    "- **Arrows** guide attention to key points like anomalies, peaks, or dips.\n",
    "- **Rectangles** highlight regions of importance, such as time ranges or thresholds.\n",
    "- **Circles** emphasize clusters, outliers, or spherical decision boundaries.\n",
    "- **Polygons** allow custom highlighting of irregular areas like convex hulls or class regions.\n",
    "\n",
    "In the **Superstore dataset**, these shapes help us annotate spikes in sales, mark loss regions in profit, circle unusual discount cases, or define zones where multiple metrics overlap. In **AI/ML**, these techniques are indispensable for **model diagnostics, cluster visualization, anomaly detection, and presentation-ready plots**.\n",
    "\n",
    "By mastering these shapes, we not only improve the clarity of plots but also strengthen our ability to **tell compelling data stories**."
   ]
  }
 ],
 "metadata": {
  "language_info": {
   "name": "python"
  }
 },
 "nbformat": 4,
 "nbformat_minor": 5
}
