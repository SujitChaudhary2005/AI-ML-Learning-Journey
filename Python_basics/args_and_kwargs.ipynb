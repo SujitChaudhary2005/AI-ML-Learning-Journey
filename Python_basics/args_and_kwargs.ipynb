{
 "cells": [
  {
   "cell_type": "markdown",
   "id": "32900f16",
   "metadata": {},
   "source": [
    "# *args and **kwargs\n",
    "\n",
    "## What is `*args`?\n",
    "\n",
    "`*args` allows a function to accept a variable number of **positional arguments**. Instead of defining a fixed number of parameters, the function collects all extra positional arguments into a tuple\n",
    "named `args`. This makes functions flexible to handle different numbers of inputs.\n",
    "\n",
    "**Syntax:**\n",
    "\n",
    "```python\n",
    "def function_name(*args):\n",
    "    for arg in args:\n",
    "        print(arg)\n",
    "```\n",
    "\n",
    "- `args` collects all positional arguments passed beyond the defined parameters.\n",
    "- Inside the function, `args` behaves like a tuple.\n",
    "- Useful when we don’t know how many inputs will be passed.\n",
    "\n",
    "**Example:**\n",
    "\n",
    "Print all numbers passed to a function using `*args`."
   ]
  },
  {
   "cell_type": "code",
   "execution_count": 1,
   "id": "abb8eb67",
   "metadata": {},
   "outputs": [
    {
     "name": "stdout",
     "output_type": "stream",
     "text": [
      "1\n",
      "2\n",
      "3\n",
      "4\n",
      "5\n"
     ]
    }
   ],
   "source": [
    "def print_numbers(*args):\n",
    "    for num in args:\n",
    "        print(num)\n",
    "\n",
    "print_numbers(1, 2, 3, 4, 5)"
   ]
  },
  {
   "cell_type": "markdown",
   "id": "98eaefc5",
   "metadata": {},
   "source": [
    "## Exercise\n",
    "\n",
    "Q1. Write a function `sum_all(*args)` that returns the sum of all positional arguments passed."
   ]
  },
  {
   "cell_type": "code",
   "execution_count": 2,
   "id": "0f6221ff",
   "metadata": {},
   "outputs": [
    {
     "name": "stdout",
     "output_type": "stream",
     "text": [
      "15\n"
     ]
    }
   ],
   "source": [
    "def sum_all(*args):\n",
    "    return sum(args)\n",
    "\n",
    "print(sum_all(1, 2, 3, 4, 5))"
   ]
  },
  {
   "cell_type": "markdown",
   "id": "22063bf7",
   "metadata": {},
   "source": [
    "## What is `**kwargs`?\n",
    "\n",
    "`**kwargs` allows a function to accept any number of **keyword (named) arguments**. All keyword arguments passed are packed into a dictionary called `kwargs` inside the function. This makes the function capable of handling dynamic named parameters.\n",
    "\n",
    "**Syntax:**\n",
    "\n",
    "```python\n",
    "def function_name(**kwargs):\n",
    "    for key, value in kwargs.items():\n",
    "        print(f\"{key} = {value}\")\n",
    "```\n",
    "\n",
    "- `*kwargs` collects all keyword arguments as key-value pairs.\n",
    "- Inside the function, `kwargs` behaves like a dictionary.\n",
    "- Useful to handle optional named parameters or configuration options.\n",
    "\n",
    "**Example:**\n",
    "\n",
    "Print all key-value pairs passed using `**kwargs`."
   ]
  },
  {
   "cell_type": "code",
   "execution_count": 3,
   "id": "a2aef4ed",
   "metadata": {},
   "outputs": [
    {
     "name": "stdout",
     "output_type": "stream",
     "text": [
      "name = Sujit\n",
      "age = 20\n",
      "course = AI/ML\n"
     ]
    }
   ],
   "source": [
    "def print_details(**kwargs):\n",
    "    for key, value in kwargs.items():\n",
    "        print(f\"{key} = {value}\")\n",
    "\n",
    "print_details(name=\"Sujit\", age=20, course=\"AI/ML\")"
   ]
  },
  {
   "cell_type": "markdown",
   "id": "cbbb3fd8",
   "metadata": {},
   "source": [
    "## Exercise\n",
    "\n",
    "Q1. Write a function `count_types(**kwargs)` that counts how many keyword arguments are of each data type (e.g., int, str, list) and returns a dictionary with the counts."
   ]
  },
  {
   "cell_type": "code",
   "execution_count": 4,
   "id": "26a0a622",
   "metadata": {},
   "outputs": [
    {
     "name": "stdout",
     "output_type": "stream",
     "text": [
      "{'int': 2, 'float': 1, 'str': 1, 'list': 1, 'dict': 1}\n"
     ]
    }
   ],
   "source": [
    "def count_types(**kwargs):\n",
    "    type_count = {}\n",
    "    for value in kwargs.values():\n",
    "        value_type = type(value).__name__\n",
    "        if value_type in type_count:\n",
    "            type_count[value_type] += 1\n",
    "        else:\n",
    "            type_count[value_type] = 1\n",
    "    return type_count\n",
    "\n",
    "print(count_types(a=1, b=2.5, c='hello', d=[1, 2, 3], e={'key': 'value'},f=3))"
   ]
  },
  {
   "cell_type": "markdown",
   "id": "b3370a01",
   "metadata": {},
   "source": [
    "## How `*args` and `**kwargs` work together\n",
    "\n",
    "we can combine both in the same function to accept any number of positional and keyword arguments.\n",
    "\n",
    "**Example:**"
   ]
  },
  {
   "cell_type": "code",
   "execution_count": 5,
   "id": "4cb0db2d",
   "metadata": {},
   "outputs": [
    {
     "name": "stdout",
     "output_type": "stream",
     "text": [
      "Positional args: (1, 2, 3)\n",
      "Keyword args: {'name': 'Sujit', 'age': 21}\n"
     ]
    }
   ],
   "source": [
    "def show_all(*args, **kwargs):\n",
    "    print(\"Positional args:\", args)\n",
    "    print(\"Keyword args:\", kwargs)\n",
    "\n",
    "show_all(1, 2, 3, name=\"Sujit\", age=21)"
   ]
  },
  {
   "cell_type": "markdown",
   "id": "7e1c8ddb",
   "metadata": {},
   "source": [
    "## Exercise\n",
    "\n",
    "Q1. Write a function combine_info(*args, **kwargs) that prints the total number of positional and keyword arguments passed and their values."
   ]
  },
  {
   "cell_type": "code",
   "execution_count": 6,
   "id": "4a872b2a",
   "metadata": {},
   "outputs": [
    {
     "name": "stdout",
     "output_type": "stream",
     "text": [
      "Positional arguments count: 3 → (1, 2, 3)\n",
      "Keyword arguments count: 2 → {'name': 'Sujit', 'age': 20}\n"
     ]
    }
   ],
   "source": [
    "def combine_info(*args, **kwargs):\n",
    "    print(f\"Positional arguments count: {len(args)} → {args}\")\n",
    "    print(f\"Keyword arguments count: {len(kwargs)} → {kwargs}\")\n",
    "\n",
    "combine_info(1, 2, 3, name=\"Sujit\", age=20)"
   ]
  },
  {
   "cell_type": "markdown",
   "id": "9d9723a9",
   "metadata": {},
   "source": [
    "### Summary\n",
    "\n",
    "`*args` and `**kwargs` are powerful Python features to handle variable numbers of inputs in functions. `*args` captures extra positional arguments as a tuple, while `**kwargs` captures keyword arguments as a dictionary. In AI/ML, `*args` and `**kwargs` are widely used in libraries like TensorFlow, PyTorch, Scikit-learn to build flexible models, custom training loops, and data pipelines. For example, `**kwargs` allows passing hyperparameters to model constructors, optimizers, or custom evaluation functions without rewriting function signatures. `*args` is helpful when dealing with variable-length inputs, such as multiple datasets, metrics, or callback functions."
   ]
  }
 ],
 "metadata": {
  "kernelspec": {
   "display_name": "Venv",
   "language": "python",
   "name": "python3"
  },
  "language_info": {
   "codemirror_mode": {
    "name": "ipython",
    "version": 3
   },
   "file_extension": ".py",
   "mimetype": "text/x-python",
   "name": "python",
   "nbconvert_exporter": "python",
   "pygments_lexer": "ipython3",
   "version": "3.12.8"
  }
 },
 "nbformat": 4,
 "nbformat_minor": 5
}
