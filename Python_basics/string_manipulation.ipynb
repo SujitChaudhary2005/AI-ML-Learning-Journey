{
 "cells": [
  {
   "cell_type": "markdown",
   "id": "ad6aa1d7",
   "metadata": {},
   "source": [
    "# String Manipulation\n",
    "\n",
    "## What is String Manipulation?\n",
    "\n",
    "String manipulation refers to the process of **modifying, processing, and transforming text data** in Python. Since strings are everywhere—tweets, logs, reports, chatbot messages—this skill is essential, especially in **AI/ML** and **NLP**.\n",
    "\n",
    "Strings in Python are **immutable sequences of characters**, enclosed in quotes. Python provides powerful built-in methods to clean, format, slice, split, and validate text. These operations are crucial when dealing with **messy, real-world data** — like converting to lowercase, removing punctuation, or extracting keywords.\n",
    "\n",
    "In AI/ML pipelines, especially NLP tasks, string manipulation is the first step in **preprocessing text** before feeding it into models. Mastery of string methods helps you clean datasets, tokenize inputs, and prepare data for tasks like classification, embeddings, and sentiment analysis.\n",
    "\n",
    "Syntax:\n",
    "\n",
    "```python\n",
    "text1 = \"Hello AI\"\n",
    "text2 = 'Machine Learning'\n",
    "text3 = \"\"\"This is\n",
    "a multi-line string\"\"\"\n",
    "```\n",
    "\n",
    "### Common String Manipulation Operations\n",
    "\n",
    "**Accessing Characters:** In Python, strings are sequences, meaning you can access individual characters by their index position. Indexing starts at 0 for the first character. Negative indices count from the end of the string, with -1 referring to the last character."
   ]
  },
  {
   "cell_type": "code",
   "execution_count": 1,
   "id": "92e44218",
   "metadata": {},
   "outputs": [
    {
     "name": "stdout",
     "output_type": "stream",
     "text": [
      "P\n",
      "n\n"
     ]
    }
   ],
   "source": [
    "text = \"Python\"\n",
    "print(text[0])\n",
    "print(text[-1]) "
   ]
  },
  {
   "cell_type": "markdown",
   "id": "2b499abc",
   "metadata": {},
   "source": [
    "**Slicing Strings:** Slicing allows you to extract a portion of a string using the syntax [start:end:step]. The start index is inclusive, while the end index is exclusive. If start is omitted, slicing begins from the first character. If end is omitted, slicing continues to the end. Using `[::-1]` reverses the entire string."
   ]
  },
  {
   "cell_type": "code",
   "execution_count": 2,
   "id": "ce0f0dff",
   "metadata": {},
   "outputs": [
    {
     "name": "stdout",
     "output_type": "stream",
     "text": [
      "Deep\n",
      "Learning\n",
      "gninraeLpeeD\n"
     ]
    }
   ],
   "source": [
    "text = \"DeepLearning\"\n",
    "print(text[0:4])\n",
    "print(text[4:])\n",
    "print(text[::-1])"
   ]
  },
  {
   "cell_type": "markdown",
   "id": "de086218",
   "metadata": {},
   "source": [
    "**Changing Case:** Python provides methods to convert strings between uppercase, lowercase, and title case. These operations are useful for standardizing text data, especially in text processing and analysis."
   ]
  },
  {
   "cell_type": "code",
   "execution_count": 3,
   "id": "d90a166a",
   "metadata": {},
   "outputs": [
    {
     "name": "stdout",
     "output_type": "stream",
     "text": [
      "  hello world  \n",
      "  HELLO WORLD  \n",
      "  Hello World  \n"
     ]
    }
   ],
   "source": [
    "text = \"  Hello World  \"\n",
    "print(text.lower())\n",
    "print(text.upper())\n",
    "print(text.title())   "
   ]
  },
  {
   "cell_type": "markdown",
   "id": "5ee8a2b4",
   "metadata": {},
   "source": [
    "**Trimming Spaces:** The strip() method removes whitespace from both ends of a string. You can also use lstrip() to remove spaces from the left side only or rstrip() for the right side. These methods are essential for cleaning user inputs and data from external sources."
   ]
  },
  {
   "cell_type": "code",
   "execution_count": 4,
   "id": "3d0b93dd",
   "metadata": {},
   "outputs": [
    {
     "name": "stdout",
     "output_type": "stream",
     "text": [
      "Hello World\n",
      "Hello World  \n",
      "  Hello World\n"
     ]
    }
   ],
   "source": [
    "text = \"  Hello World  \"\n",
    "print(text.strip())\n",
    "print(text.lstrip())\n",
    "print(text.rstrip())"
   ]
  },
  {
   "cell_type": "markdown",
   "id": "dc61732e",
   "metadata": {},
   "source": [
    "**Replace Text:** The replace() method substitutes all occurrences of a substring with another substring. This is useful for correcting misspellings, standardizing terms, or removing unwanted characters."
   ]
  },
  {
   "cell_type": "code",
   "execution_count": 5,
   "id": "a294ced2",
   "metadata": {},
   "outputs": [
    {
     "name": "stdout",
     "output_type": "stream",
     "text": [
      "Artificial Intelligence is the future\n"
     ]
    }
   ],
   "source": [
    "sentence = \"AI is the future\"\n",
    "print(sentence.replace(\"AI\", \"Artificial Intelligence\"))"
   ]
  },
  {
   "cell_type": "markdown",
   "id": "fc2723ed",
   "metadata": {},
   "source": [
    "**Splitting and Joining:** The split() method divides a string into a list of substrings based on a delimiter (spaces by default). Conversely, join() combines a list of strings into a single string, inserting a specified delimiter between elements. These operations are fundamental in tokenization for NLP."
   ]
  },
  {
   "cell_type": "code",
   "execution_count": 6,
   "id": "37194987",
   "metadata": {},
   "outputs": [
    {
     "name": "stdout",
     "output_type": "stream",
     "text": [
      "AI-is-transforming-everything\n"
     ]
    }
   ],
   "source": [
    "sentence = \"AI is transforming everything\"\n",
    "words = sentence.split()\n",
    "print(\"-\".join(words))"
   ]
  },
  {
   "cell_type": "markdown",
   "id": "04787bb1",
   "metadata": {},
   "source": [
    "**Membership Testing:** The 'in' and 'not in' operators check if a substring exists within a string. This is useful for conditional processing based on text content."
   ]
  },
  {
   "cell_type": "code",
   "execution_count": 7,
   "id": "56f5bc0c",
   "metadata": {},
   "outputs": [
    {
     "name": "stdout",
     "output_type": "stream",
     "text": [
      "True\n",
      "True\n",
      "False\n"
     ]
    }
   ],
   "source": [
    "sentence = \"AI is transforming everything\"\n",
    "print(\"AI\" in sentence)\n",
    "print(\"ML\" not in sentence)\n",
    "print(\"ML\" in sentence)"
   ]
  },
  {
   "cell_type": "markdown",
   "id": "7e9a2ea4",
   "metadata": {},
   "source": [
    "**Cleaning Text:** In real-world applications, especially NLP, text often needs to be cleaned before analysis. This typically involves multiple string operations chained together: converting to lowercase, removing punctuation, stripping whitespace, etc. Clean text improves the accuracy of text analysis and machine learning models."
   ]
  },
  {
   "cell_type": "code",
   "execution_count": 8,
   "id": "b84d2534",
   "metadata": {},
   "outputs": [
    {
     "name": "stdout",
     "output_type": "stream",
     "text": [
      "welcome to ai sujit!\n"
     ]
    }
   ],
   "source": [
    "raw_text = \"  Welcome to AI, Sujit!   \"\n",
    "clean_text = raw_text.lower().strip().replace(\",\", \"\")\n",
    "print(clean_text)"
   ]
  },
  {
   "cell_type": "markdown",
   "id": "c5f0122e",
   "metadata": {},
   "source": [
    "**String Methods:** String methods like isalpha(), isdigit(), and isalnum() help validate string content. isalpha() checks if all characters are alphabetic, isdigit() verifies if all characters are digits, and isalnum() confirms if all characters are either alphabetic or numeric. The isspace() method checks if a string consists only of whitespace characters. These methods return boolean values and are commonly used for input validation and data cleaning."
   ]
  },
  {
   "cell_type": "code",
   "execution_count": 9,
   "id": "bfa2cacc",
   "metadata": {},
   "outputs": [
    {
     "name": "stdout",
     "output_type": "stream",
     "text": [
      "False\n",
      "False\n",
      "True\n",
      "True\n",
      "False\n"
     ]
    }
   ],
   "source": [
    "s = \"AI123\"\n",
    "print(s.isalpha())\n",
    "print(s.isdigit())\n",
    "print(s.isalnum())\n",
    "\n",
    "print(\" \".isspace()) \n",
    "print(\"\".isspace())  "
   ]
  },
  {
   "cell_type": "markdown",
   "id": "b8cc7502",
   "metadata": {},
   "source": [
    "**Finding and Counting:** The count() method tallies how many times a substring appears in a string. The find() method returns the index of the first occurrence of a substring, or -1 if not found. These methods are crucial for text analysis, pattern matching, and extracting information from strings."
   ]
  },
  {
   "cell_type": "code",
   "execution_count": 10,
   "id": "f83fc877",
   "metadata": {},
   "outputs": [
    {
     "name": "stdout",
     "output_type": "stream",
     "text": [
      "2\n",
      "0\n",
      "-1\n"
     ]
    }
   ],
   "source": [
    "text = \"AI and AI is the future\"\n",
    "print(text.count(\"AI\"))\n",
    "print(text.find(\"AI\"))\n",
    "print(text.find(\"ML\"))"
   ]
  },
  {
   "cell_type": "markdown",
   "id": "a289ef35",
   "metadata": {},
   "source": [
    "**String Formatting:** F-strings (formatted string literals) provide a concise way to embed expressions inside string literals using curly braces {}. Introduced in Python 3.6, they offer a more readable alternative to older formatting approaches. F-strings are commonly used in applications requiring dynamic text generation, like reports, logs, or user interfaces."
   ]
  },
  {
   "cell_type": "code",
   "execution_count": 11,
   "id": "a24f8145",
   "metadata": {},
   "outputs": [
    {
     "name": "stdout",
     "output_type": "stream",
     "text": [
      "Hello Sujit, welcome to AI/ML!\n"
     ]
    }
   ],
   "source": [
    "name = \"Sujit\"\n",
    "field = \"AI/ML\"\n",
    "print(f\"Hello {name}, welcome to {field}!\")"
   ]
  },
  {
   "cell_type": "markdown",
   "id": "29757d6a",
   "metadata": {},
   "source": [
    "**Length of String:** The len() function returns the number of characters in a string. This fundamental operation is used in many string processing tasks, such as validation, truncation, or calculating text statistics. Unlike some languages, Python's len() accurately handles Unicode characters."
   ]
  },
  {
   "cell_type": "code",
   "execution_count": 12,
   "id": "0bbb0d50",
   "metadata": {},
   "outputs": [
    {
     "name": "stdout",
     "output_type": "stream",
     "text": [
      "13\n"
     ]
    }
   ],
   "source": [
    "text = \"Deep Learning\"\n",
    "print(len(text))"
   ]
  },
  {
   "cell_type": "markdown",
   "id": "a132a2c2",
   "metadata": {},
   "source": [
    "**Escape Characters:** Escape characters, preceded by a backslash (\\), allow you to include special characters in strings that would otherwise be interpreted differently. Common escape sequences include \\\" for quotation marks, \\n for newlines, and \\t for tabs. They're essential when working with text containing special characters or formatting."
   ]
  },
  {
   "cell_type": "code",
   "execution_count": 13,
   "id": "c4541ba9",
   "metadata": {},
   "outputs": [
    {
     "name": "stdout",
     "output_type": "stream",
     "text": [
      "He said, \"AI is the future!\"\n"
     ]
    }
   ],
   "source": [
    "quote = \"He said, \\\"AI is the future!\\\"\"\n",
    "print(quote)"
   ]
  },
  {
   "cell_type": "markdown",
   "id": "9a40b254",
   "metadata": {},
   "source": [
    "**Ordinal & Character Conversion:** The ord() function converts a character to its Unicode code point (an integer), while chr() does the opposite. These functions are useful for character-level manipulations, encryption/decryption algorithms, and working with character encodings in text processing."
   ]
  },
  {
   "cell_type": "code",
   "execution_count": 14,
   "id": "cd5688a7",
   "metadata": {},
   "outputs": [
    {
     "name": "stdout",
     "output_type": "stream",
     "text": [
      "65\n",
      "A\n"
     ]
    }
   ],
   "source": [
    "print(ord('A'))\n",
    "print(chr(65))"
   ]
  },
  {
   "cell_type": "markdown",
   "id": "bf6593b7",
   "metadata": {},
   "source": [
    "**String Alignment:** Methods like center(), ljust(), and rjust() align strings within a specified width by padding with chosen characters. These are particularly useful for formatting text output in console applications, creating fixed-width reports, or aligning elements in simple text-based interfaces."
   ]
  },
  {
   "cell_type": "code",
   "execution_count": 15,
   "id": "bd54f8fa",
   "metadata": {},
   "outputs": [
    {
     "name": "stdout",
     "output_type": "stream",
     "text": [
      "****AI****\n",
      "AI--------\n",
      "--------AI\n"
     ]
    }
   ],
   "source": [
    "s = \"AI\"\n",
    "print(s.center(10, '*'))\n",
    "print(s.ljust(10, '-'))\n",
    "print(s.rjust(10, '-'))"
   ]
  },
  {
   "cell_type": "markdown",
   "id": "fd9f07b2",
   "metadata": {},
   "source": [
    "**Removing Special Characters:** This example demonstrates a manual approach to filter out non-alphanumeric characters using a list comprehension with character type checking. This technique is common in text preprocessing for NLP, data cleaning, and sanitizing user inputs to remove unwanted symbols or potential security risks."
   ]
  },
  {
   "cell_type": "code",
   "execution_count": 16,
   "id": "2950ee33",
   "metadata": {},
   "outputs": [
    {
     "name": "stdout",
     "output_type": "stream",
     "text": [
      "AI is great\n"
     ]
    }
   ],
   "source": [
    "text = \"AI!!! is great###\"\n",
    "cleaned = ''.join(char for char in text if char.isalnum() or char.isspace())\n",
    "print(cleaned)"
   ]
  },
  {
   "cell_type": "markdown",
   "id": "910c8c16",
   "metadata": {},
   "source": [
    "**Counting Words:** This example shows a basic NLP preprocessing technique to count word frequencies in text. It converts text to lowercase, splits it into words, and creates a dictionary with word counts. This fundamental text analysis approach is the foundation for more complex NLP tasks like keyword extraction, topic modeling, and text summarization."
   ]
  },
  {
   "cell_type": "code",
   "execution_count": 17,
   "id": "023d4b4a",
   "metadata": {},
   "outputs": [
    {
     "name": "stdout",
     "output_type": "stream",
     "text": [
      "{'will': 1, 'ai': 2, 'the': 1, 'future.': 1, 'is': 1, 'everything.': 1, 'change': 1}\n"
     ]
    }
   ],
   "source": [
    "text = \"AI is the future. AI will change everything.\"\n",
    "words = text.lower().split()\n",
    "word_count = {word: words.count(word) for word in set(words)}\n",
    "print(word_count)"
   ]
  },
  {
   "cell_type": "markdown",
   "id": "72209344",
   "metadata": {},
   "source": [
    "### Exercises\n",
    "\n",
    "Q1. Write a program that takes a string input and removes all whitespace and converts it to lowercase."
   ]
  },
  {
   "cell_type": "code",
   "execution_count": 18,
   "id": "e2b7f488",
   "metadata": {},
   "outputs": [
    {
     "name": "stdout",
     "output_type": "stream",
     "text": [
      "abcdefg\n"
     ]
    }
   ],
   "source": [
    "string = \"AB C D EF G\"\n",
    "print(string.lower().replace(\" \",\"\"))"
   ]
  },
  {
   "cell_type": "markdown",
   "id": "8634a9e3",
   "metadata": {},
   "source": [
    "Q2. Write a program to count the number of words in a sentence."
   ]
  },
  {
   "cell_type": "code",
   "execution_count": 19,
   "id": "295798dc",
   "metadata": {},
   "outputs": [
    {
     "name": "stdout",
     "output_type": "stream",
     "text": [
      "Number of words in the sentence: 5\n"
     ]
    }
   ],
   "source": [
    "sentence = \"My name is Sujit Chaudhary\"\n",
    "words = sentence.split()\n",
    "print(\"Number of words in the sentence:\", len(words))"
   ]
  },
  {
   "cell_type": "markdown",
   "id": "970fcc0c",
   "metadata": {},
   "source": [
    "Q3. Write a function to check whether a string is a palindrome."
   ]
  },
  {
   "cell_type": "code",
   "execution_count": 20,
   "id": "b7007b59",
   "metadata": {},
   "outputs": [
    {
     "name": "stdout",
     "output_type": "stream",
     "text": [
      "True\n",
      "False\n"
     ]
    }
   ],
   "source": [
    "def is_palindrome(s):\n",
    "    s = s.lower().replace(\" \", \"\")\n",
    "    return s == s[::-1]\n",
    "print(is_palindrome(\"ABBA\"))\n",
    "print(is_palindrome(\"Hello\"))"
   ]
  },
  {
   "cell_type": "markdown",
   "id": "1bbd740e",
   "metadata": {},
   "source": [
    "Q4. Write a program to find and replace all instances of the word “AI” with “Artificial Intelligence”."
   ]
  },
  {
   "cell_type": "code",
   "execution_count": 21,
   "id": "31b1e5a1",
   "metadata": {},
   "outputs": [
    {
     "name": "stdout",
     "output_type": "stream",
     "text": [
      "Artificial Intelligence\n"
     ]
    }
   ],
   "source": [
    "string = \"AI\"\n",
    "print(string.replace(\"AI\", \"Artificial Intelligence\"))"
   ]
  },
  {
   "cell_type": "markdown",
   "id": "5527b21f",
   "metadata": {},
   "source": [
    "### Summary\n",
    "\n",
    "**String manipulation in Python** is the process of transforming, processing, and analyzing text data using built-in methods and techniques. Strings are **immutable sequences of characters**, and Python provides a rich set of tools to work with them efficiently.\n",
    "\n",
    "Common operations include:\n",
    "\n",
    "- Accessing and slicing text using indices\n",
    "- Changing case (e.g., `upper()`, `lower()`, `title()`)\n",
    "- Trimming whitespace and cleaning input\n",
    "- Replacing, splitting, and joining strings\n",
    "- Checking membership and string properties (`isalpha()`, `isdigit()`)\n",
    "- Formatting dynamic text using `f-strings`\n",
    "- Aligning text or converting characters (`ord()`, `chr()`)\n",
    "\n",
    "These skills are **essential in AI/ML workflows**, especially in **Natural Language Processing (NLP)**, where raw text must be cleaned and standardized before use. Whether you're removing punctuation, extracting keywords, or tokenizing sentences, string manipulation ensures that the data fed into your models is clean and consistent.\n",
    "\n",
    "For any AI/ML engineer, **string manipulation is the foundation** of working with real-world, unstructured data — powering everything from chatbots and sentiment analysis to data scraping and document classification.\n"
   ]
  }
 ],
 "metadata": {
  "kernelspec": {
   "display_name": "Venv",
   "language": "python",
   "name": "python3"
  },
  "language_info": {
   "codemirror_mode": {
    "name": "ipython",
    "version": 3
   },
   "file_extension": ".py",
   "mimetype": "text/x-python",
   "name": "python",
   "nbconvert_exporter": "python",
   "pygments_lexer": "ipython3",
   "version": "3.12.8"
  }
 },
 "nbformat": 4,
 "nbformat_minor": 5
}
