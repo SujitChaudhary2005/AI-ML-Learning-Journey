{
 "cells": [
  {
   "cell_type": "markdown",
   "id": "6cade288",
   "metadata": {},
   "source": [
    "# **Python List Comprehensions**\n",
    "\n",
    "## What is a list comprehension?\n",
    "A list comprehension is a concise way to create list in Python using a single line of code. Instead of writing a loop with `append()`, list comprehensions let us build a list quickly and clearly. It’s both readable and efficient.\n",
    "\n",
    "**Syntax:**\n",
    "\n",
    "```python\n",
    "[expression for item in iterable if condition]\n",
    "```\n",
    "\n",
    "- **expression:** what we want to do with each item (e.g., square it)  \n",
    "- **item:** Each element from the iterable (like a list or range)  \n",
    "- **iterable:** The sequence we’re looping over (like `range(1, 21)`)  \n",
    "- **condition (optional):** Filters which item to include  \n",
    "\n",
    "**Example:**\n",
    "\n",
    "WAP to find squares of even numbers from 1 to 20.\n",
    "Traditionally, we’d write:"
   ]
  },
  {
   "cell_type": "code",
   "execution_count": 1,
   "id": "e1aa62fa",
   "metadata": {},
   "outputs": [
    {
     "name": "stdout",
     "output_type": "stream",
     "text": [
      "[4, 16, 36, 64, 100, 144, 196, 256, 324, 400]\n"
     ]
    }
   ],
   "source": [
    "squares = []\n",
    "for i in range(1, 21):\n",
    "\tif i%2==0:\n",
    "\t\tsquares.append(i**2)\n",
    "print(squares)"
   ]
  },
  {
   "cell_type": "markdown",
   "id": "9821d98f",
   "metadata": {},
   "source": [
    "With list comprehension, this becomes:"
   ]
  },
  {
   "cell_type": "code",
   "execution_count": 2,
   "id": "8796421a",
   "metadata": {},
   "outputs": [
    {
     "name": "stdout",
     "output_type": "stream",
     "text": [
      "[4, 16, 36, 64, 100, 144, 196, 256, 324, 400]\n"
     ]
    }
   ],
   "source": [
    "squares = [i**2 for i in range(1,21) if i%2==0]\n",
    "print(squares)"
   ]
  },
  {
   "cell_type": "markdown",
   "id": "d5925e79",
   "metadata": {},
   "source": [
    "### Why use list comprehension?\n",
    "\n",
    "- **Concise code**: One line instead of multiple lines  \n",
    "- **Better readability**: Once we get used to the syntax, it's easy to understand  \n",
    "- **Efficient**: Python internally optimizes list comprehensions better than loops with `append()`  \n",
    "\n",
    "### Exercise"
   ]
  },
  {
   "cell_type": "code",
   "execution_count": 3,
   "id": "1b9ff322",
   "metadata": {},
   "outputs": [
    {
     "name": "stdout",
     "output_type": "stream",
     "text": [
      "[1, 27, 125, 343, 729, 1331, 2197, 3375]\n"
     ]
    }
   ],
   "source": [
    "#WAP to find cubes of all odd numbers from 1 to 15.(Without using list comprehension)\n",
    "cubes = []\n",
    "for i in range(1, 16):\n",
    "  if i%2!=0:\n",
    "    cubes.append(i**3)\n",
    "print(cubes)"
   ]
  },
  {
   "cell_type": "code",
   "execution_count": 4,
   "id": "673f66f3",
   "metadata": {},
   "outputs": [
    {
     "name": "stdout",
     "output_type": "stream",
     "text": [
      "[1, 27, 125, 343, 729, 1331, 2197, 3375]\n"
     ]
    }
   ],
   "source": [
    "#WAP to find cubes of all odd numbers from 1 to 15.(using list comprehension)\n",
    "cubes = [i**3 for i in range(1,16) if i%2!=0]\n",
    "print(cubes)"
   ]
  },
  {
   "cell_type": "markdown",
   "id": "8313bc95",
   "metadata": {},
   "source": [
    "### Summary\n",
    "List comprehensions simplify list creation in Python by combining looping, filtering, and processing into a single clean line. This is a key Python concept for data science, web scraping, and AI/ML pipelines, where large datasets often require fast and readable transformations. Once you master the basics, you’ll be able to chain or nest list comprehensions for complex tasks like matrix flattening, filtering objects, or generating training data efficiently."
   ]
  }
 ],
 "metadata": {
  "kernelspec": {
   "display_name": "Venv",
   "language": "python",
   "name": "python3"
  },
  "language_info": {
   "codemirror_mode": {
    "name": "ipython",
    "version": 3
   },
   "file_extension": ".py",
   "mimetype": "text/x-python",
   "name": "python",
   "nbconvert_exporter": "python",
   "pygments_lexer": "ipython3",
   "version": "3.12.8"
  }
 },
 "nbformat": 4,
 "nbformat_minor": 5
}
