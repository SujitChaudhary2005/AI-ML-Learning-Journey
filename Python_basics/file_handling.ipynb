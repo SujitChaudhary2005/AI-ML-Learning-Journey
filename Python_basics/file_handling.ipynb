{
 "cells": [
  {
   "cell_type": "markdown",
   "id": "2cc2266a",
   "metadata": {},
   "source": [
    "# What is File Handling?\n",
    "\n",
    "File handling in Python allows us to **read from** and **write to files** stored on our computer or server.  This is essential for working with datasets, saving model outputs, logging results, and processing large amounts of data outside of our program’s memory.\n",
    "\n",
    "In AI/ML, file handling is everywhere: from loading training data in `.txt` or `.csv` files, to saving model predictions or checkpoints. We will often interact with raw data stored in files, clean or transform it, then save our results for later use or sharing.\n",
    "\n",
    "Python provides simple and powerful built-in functions to open files in different modes (read, write, append, etc.), process them line-by-line or in bulk, and close them safely to avoid data loss.\n",
    "\n",
    "Mastering these basics prepares you to handle more complex tasks later, like working with structured data using Pandas, handling JSON files from APIs, or saving binary files like model weights.\n",
    "\n",
    "### File Modes\n",
    "\n",
    "| Mode | Description |\n",
    "| --- | --- |\n",
    "| `'r'` | Read (default) |\n",
    "| `'w'` | Write (overwrite existing) |\n",
    "| `'a'` | Append (add to file end) |\n",
    "| `'x'` | Create new file (error if exists) |\n",
    "| `'rb'` | Read binary |\n",
    "| `'wb'` | Write binary |\n",
    "\n",
    "### File Handling Concepts & Syntax\n",
    "\n",
    "**Open a file:** The built-in `open()` function is used to open a file. It requires at least the filename and optionally the mode:\n",
    "\n",
    "- `'r'` for reading (default mode)\n",
    "- `'w'` for writing (creates a new file or truncates existing)\n",
    "- `'a'` for appending\n",
    "- `'x'` for exclusive creation (fails if file exists)"
   ]
  },
  {
   "cell_type": "code",
   "execution_count": null,
   "id": "a905ea10",
   "metadata": {},
   "outputs": [],
   "source": [
    "file = open('data.txt', 'r')  # Open file in read mode\n",
    "content = file.read()         # Read the entire content of the file as a string\n",
    "print(content)\n",
    "file.close()                  # Close the file to free resources\n",
    "\n",
    "# Output: Prints the entire content of 'data.txt' as a string.\n",
    "# (Example: \"This is the content of data.txt file.\")"
   ]
  },
  {
   "cell_type": "markdown",
   "id": "cf9f1c16",
   "metadata": {},
   "source": [
    "**Explanation:**\n",
    "\n",
    "- `open()` returns a file object that we can operate on.\n",
    "- `file.read()` reads the whole file content.\n",
    "- `file.close()` is important to release system resources.\n",
    "\n",
    "**Open a File Using the `with` Statement:** The `with` statement is a context manager that **automatically handles opening and closing the file**, even if errors occur inside the block. This makes our code safer and cleaner."
   ]
  },
  {
   "cell_type": "code",
   "execution_count": null,
   "id": "bc492452",
   "metadata": {},
   "outputs": [],
   "source": [
    "with open('data.txt', 'r') as file:\n",
    "    content = file.read()\n",
    "    print(content)\n",
    "# File is automatically closed here\n",
    "\n",
    "# Output: Prints the entire content of 'data.txt'.\n",
    "# File is automatically closed after the block."
   ]
  },
  {
   "cell_type": "markdown",
   "id": "4c34cd0c",
   "metadata": {},
   "source": [
    "**Why use `with`?**\n",
    "\n",
    "- Ensures files are closed properly.\n",
    "- Avoids resource leaks.\n",
    "- Cleaner syntax.\n",
    "\n",
    "**Read File Line by Line:** Sometimes files are too large to read at once or we want to process line-by-line."
   ]
  },
  {
   "cell_type": "code",
   "execution_count": null,
   "id": "c1b2c0f4",
   "metadata": {},
   "outputs": [],
   "source": [
    "with open('data.txt', 'r') as file:\n",
    "    for line in file:\n",
    "        print(line.strip()) # strip() removes trailing newline characters\n",
    "\t\t\n",
    "# Output: Prints each line of 'data.txt' on separate lines without extra newline spaces.\n",
    "# (Example:\n",
    "# Line 1 of file\n",
    "# Line 2 of file\n",
    "# Line 3 of file\n",
    "# )"
   ]
  },
  {
   "cell_type": "markdown",
   "id": "792fa393",
   "metadata": {},
   "source": [
    "**Write to a File (Overwrite Mode):** Writing mode `'w'` creates a new file or **overwrites** existing content."
   ]
  },
  {
   "cell_type": "code",
   "execution_count": null,
   "id": "91e3c46c",
   "metadata": {},
   "outputs": [],
   "source": [
    "with open('output.txt', 'w') as file:\n",
    "    file.write(\"Hello AI World!\\n\")\n",
    "    file.write(\"Writing to files is easy.\\n\")\n",
    "    \n",
    "# Output: Creates or overwrites 'output.txt' with two lines:\n",
    "# Hello AI World!\n",
    "# Writing to files is easy."
   ]
  },
  {
   "cell_type": "markdown",
   "id": "080a3e75",
   "metadata": {},
   "source": [
    "**Append to a File (Add Content):** Appending mode `'a'` adds new content to the **end of the file** without erasing existing data."
   ]
  },
  {
   "cell_type": "code",
   "execution_count": null,
   "id": "e7cd9bfd",
   "metadata": {},
   "outputs": [],
   "source": [
    "with open('output.txt', 'a') as file:\n",
    "    file.write(\"This line is appended.\\n\")\n",
    "    \n",
    "# Output: Adds the line \"This line is appended.\" to the end of 'output.txt' without deleting existing content."
   ]
  },
  {
   "cell_type": "markdown",
   "id": "ea307da3",
   "metadata": {},
   "source": [
    "**Read All Lines as a List:** `.readlines()` reads the entire file and returns a list where each element is a line (including newline characters)."
   ]
  },
  {
   "cell_type": "code",
   "execution_count": null,
   "id": "a21d19bd",
   "metadata": {},
   "outputs": [],
   "source": [
    "with open('data.txt', 'r') as file:\n",
    "    lines = file.readlines()\n",
    "    print(lines)\n",
    "    \n",
    "# Output: Prints a list of all lines including newline characters.\n",
    "# Example:\n",
    "# ['Line 1 of file\\n', 'Line 2 of file\\n', 'Line 3 of file\\n']"
   ]
  },
  {
   "cell_type": "markdown",
   "id": "ee394674",
   "metadata": {},
   "source": [
    "**Write a List of Strings to a File:** \n",
    "We can write multiple lines at once using `.writelines()` — note that we need to include newline characters `\\n` ourselves."
   ]
  },
  {
   "cell_type": "code",
   "execution_count": null,
   "id": "799457b5",
   "metadata": {},
   "outputs": [],
   "source": [
    "lines = [\"Line 1\\n\", \"Line 2\\n\", \"Line 3\\n\"]\n",
    "with open('output.txt', 'w') as file:\n",
    "    file.writelines(lines)\n",
    "    \n",
    "# Output: Creates or overwrites 'output.txt' with the three lines exactly as given."
   ]
  },
  {
   "cell_type": "markdown",
   "id": "9739407c",
   "metadata": {},
   "source": [
    "**Handling Errors with Try/Except/Finally:** File operations may raise errors (like file not found). We handle exceptions to avoid crashes and always close files safely."
   ]
  },
  {
   "cell_type": "code",
   "execution_count": null,
   "id": "8a4b3c0d",
   "metadata": {},
   "outputs": [],
   "source": [
    "try:\n",
    "    file = open('data.txt', 'r')\n",
    "    data = file.read()\n",
    "    print(data)\n",
    "except FileNotFoundError:\n",
    "    print(\"File not found!\")\n",
    "finally:\n",
    "    file.close()\n",
    "    \n",
    "# Output:\n",
    "# - Prints the contents of 'data.txt' if it exists.\n",
    "# - Prints \"File not found!\" if the file doesn't exist.\n",
    "# The file is always closed in the 'finally' block."
   ]
  },
  {
   "cell_type": "markdown",
   "id": "f7f7815e",
   "metadata": {},
   "source": [
    "**Working with Binary Files (e.g., images):** Open files in binary mode (`'rb'` or `'wb'`) when working with images, audio, or any non-text data."
   ]
  },
  {
   "cell_type": "code",
   "execution_count": null,
   "id": "cf5049c1",
   "metadata": {},
   "outputs": [],
   "source": [
    "with open('image.jpg', 'rb') as file:\n",
    "    data = file.read()\n",
    "    print(type(data))  # <class 'bytes'>\n",
    "    \n",
    "# Output: Prints \"<class 'bytes'>\" indicating that the file data is read as bytes (binary data)."
   ]
  },
  {
   "cell_type": "markdown",
   "id": "191604db",
   "metadata": {},
   "source": [
    "**Creating a New File (Fail if Exists):** Mode `'x'` creates a new file but throws an error if the file already exists — useful for avoiding accidental overwrites."
   ]
  },
  {
   "cell_type": "code",
   "execution_count": null,
   "id": "2fae8fd8",
   "metadata": {},
   "outputs": [],
   "source": [
    "with open('newfile.txt', 'x') as file:\n",
    "    file.write(\"Created a new file!\")\n",
    "    \n",
    "# Output:\n",
    "# - Creates 'newfile.txt' and writes the text if it doesn't exist.\n",
    "# - Throws FileExistsError if 'newfile.txt' already exists."
   ]
  },
  {
   "cell_type": "markdown",
   "id": "6b6361ae",
   "metadata": {},
   "source": [
    "**Reading Large Files Efficiently Using Generators:** For very large files, we use a generator function to read line by line lazily without loading the entire file into memory."
   ]
  },
  {
   "cell_type": "code",
   "execution_count": null,
   "id": "507ee4d3",
   "metadata": {},
   "outputs": [],
   "source": [
    "def read_large_file(file_path):\n",
    "    with open(file_path, 'r') as file:\n",
    "        for line in file:\n",
    "            yield line.strip()\n",
    "\n",
    "for line in read_large_file('large_data.txt'):\n",
    "    print(line)\n",
    "   \n",
    "# Output: Prints each line from 'large_data.txt' one by one, stripped of trailing newline characters.\n",
    "# Efficient for large files as it doesn't load the whole file into memory."
   ]
  },
  {
   "cell_type": "markdown",
   "id": "2e3dabbe",
   "metadata": {},
   "source": [
    "**Note:**  `yield` is used in a Python function to make it a **generator**. Instead of returning all data at once, the function **produces one item at a time**, pausing its state between each item. This helps us **read large files efficiently** by processing one line at a time without loading the entire file into memory.\n",
    "\n",
    "**Handling File Paths Using `os` Module:** For cross-platform compatibility, we use `os.path.join()` to build file paths correctly."
   ]
  },
  {
   "cell_type": "code",
   "execution_count": null,
   "id": "30065995",
   "metadata": {},
   "outputs": [],
   "source": [
    "import os\n",
    "\n",
    "path = os.path.join('folder', 'data.txt')\n",
    "with open(path, 'r') as file:\n",
    "    print(file.read())\n",
    "    \n",
    "# Output: Prints the content of the file 'data.txt' located inside 'folder' directory.\n",
    "# os.path.join() ensures the correct path formatting across operating systems."
   ]
  },
  {
   "cell_type": "markdown",
   "id": "6598f1d6",
   "metadata": {},
   "source": [
    "### Exercises\n",
    "\n",
    "Q1. Read a text file and print its entire content."
   ]
  },
  {
   "cell_type": "code",
   "execution_count": null,
   "id": "4b873741",
   "metadata": {},
   "outputs": [],
   "source": [
    "with open('text.txt', 'r') as file:\n",
    "\tprint(file.read())\n",
    "\t\n",
    "# Output: Prints entire content of 'text.txt'."
   ]
  },
  {
   "cell_type": "markdown",
   "id": "dce95c9b",
   "metadata": {},
   "source": [
    "Q2. Write three lines of text to a new file."
   ]
  },
  {
   "cell_type": "code",
   "execution_count": null,
   "id": "b4486e87",
   "metadata": {},
   "outputs": [],
   "source": [
    "lines = [\"Sujit\\n\", \"Chaudhary\\n\", \"AI/ML\\n\"]\n",
    "with open('output.txt', 'w') as file:\n",
    "    file.writelines(lines)\n",
    "    \n",
    "# Output: Creates/overwrites 'output.txt' with 3 lines: Sujit, Chaudhary, AI/ML."
   ]
  },
  {
   "cell_type": "markdown",
   "id": "c26fd644",
   "metadata": {},
   "source": [
    "Q3. Append a new line of text to an existing file."
   ]
  },
  {
   "cell_type": "code",
   "execution_count": null,
   "id": "c723a808",
   "metadata": {},
   "outputs": [],
   "source": [
    "with open('text.txt', 'a') as file:\n",
    "    file.write(\"appended.\\n\")\n",
    "\t\n",
    "# Output: Adds a line \"appended.\" at the end of 'text.txt'."
   ]
  },
  {
   "cell_type": "markdown",
   "id": "d538e0b6",
   "metadata": {},
   "source": [
    "Q4. Count and print the number of lines in a file."
   ]
  },
  {
   "cell_type": "code",
   "execution_count": null,
   "id": "16d16373",
   "metadata": {},
   "outputs": [],
   "source": [
    "count = 0\n",
    "with open('text.txt', 'r') as file:\n",
    "    for _ in file:\n",
    "        count += 1\n",
    "print(\"Number of lines:\", count)\n",
    "\n",
    "# Output: Prints the number of lines present in 'text.txt'."
   ]
  },
  {
   "cell_type": "markdown",
   "id": "5dba6eae",
   "metadata": {},
   "source": [
    "### Summary\n",
    "\n",
    "File handling is a fundamental skill for AI/ML practitioners to load, process, and save data efficiently. Whether working with raw datasets, saving predictions, or managing logs, knowing how to read and write files properly helps us build scalable and robust workflows.\n",
    "\n",
    "The `with` statement is our best practice tool for safely managing files without forgetting to close them.\n",
    "\n",
    "Once we master these basics, we’ll be ready to handle structured data with Pandas, JSON from APIs, and even save machine learning models to disk for reuse."
   ]
  }
 ],
 "metadata": {
  "kernelspec": {
   "display_name": "Venv",
   "language": "python",
   "name": "python3"
  },
  "language_info": {
   "codemirror_mode": {
    "name": "ipython",
    "version": 3
   },
   "file_extension": ".py",
   "mimetype": "text/x-python",
   "name": "python",
   "nbconvert_exporter": "python",
   "pygments_lexer": "ipython3",
   "version": "3.12.8"
  }
 },
 "nbformat": 4,
 "nbformat_minor": 5
}
