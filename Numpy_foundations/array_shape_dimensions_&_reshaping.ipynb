{
 "cells": [
  {
   "cell_type": "markdown",
   "id": "3449d72d",
   "metadata": {},
   "source": [
    "# Array Shape, Dimensions & Reshaping\n",
    "\n",
    "### What Are Shape and Dimensions in NumPy?\n",
    "\n",
    "In NumPy, every array has an internal structure defined by **its shape and number of dimensions**. This structure determines how data is stored, accessed, and processed — and it becomes especially important when working on **AI/ML tasks**, where the data must match strict model input shapes.\n",
    "\n",
    "- **`.shape`**: A tuple showing the size along each axis. For example, `(3, 2)` means 3 rows and 2 columns.\n",
    "- **`.ndim`**: The number of axes (or dimensions). A scalar has `ndim=0`, a 1D array has `ndim=1`, and so on.\n",
    "- **`.size`**: Total number of elements in the array (product of all shape values).\n",
    "\n",
    "Example:"
   ]
  },
  {
   "cell_type": "code",
   "execution_count": 1,
   "id": "8c182b84",
   "metadata": {},
   "outputs": [
    {
     "name": "stdout",
     "output_type": "stream",
     "text": [
      "(2, 3)\n",
      "2\n",
      "6\n"
     ]
    }
   ],
   "source": [
    "import numpy as np\n",
    "arr = np.array([[1, 2, 3], [4, 5, 6]])\n",
    "print(arr.shape)\n",
    "print(arr.ndim)\n",
    "print(arr.size)"
   ]
  },
  {
   "cell_type": "markdown",
   "id": "b78229bd",
   "metadata": {},
   "source": [
    "### Reshaping Arrays with `.reshape()`\n",
    "\n",
    "→ NumPy provides `.reshape()` to change an array’s structure without altering its contents. For example, an array of shape `(6,)` can be reshaped to `(2, 3)`, `(3, 2)`, or `(1, 6)`, as long as the **total number of elements remains constant**."
   ]
  },
  {
   "cell_type": "code",
   "execution_count": 2,
   "id": "973b617f",
   "metadata": {},
   "outputs": [
    {
     "name": "stdout",
     "output_type": "stream",
     "text": [
      "[0 1 2 3 4 5] \n",
      "\n",
      "[[0 1 2]\n",
      " [3 4 5]]\n"
     ]
    }
   ],
   "source": [
    "a = np.arange(6)\n",
    "b = a.reshape((2, 3))\n",
    "print(a,\"\\n\")\n",
    "print(b)"
   ]
  },
  {
   "cell_type": "markdown",
   "id": "e661189d",
   "metadata": {},
   "source": [
    "It also supports **auto-inferred shapes** using `-1`:"
   ]
  },
  {
   "cell_type": "code",
   "execution_count": 3,
   "id": "7e5a0fbf",
   "metadata": {},
   "outputs": [
    {
     "name": "stdout",
     "output_type": "stream",
     "text": [
      "[[0 1]\n",
      " [2 3]\n",
      " [4 5]]\n"
     ]
    }
   ],
   "source": [
    "print(a.reshape((-1, 2)))"
   ]
  },
  {
   "cell_type": "markdown",
   "id": "eccb7758",
   "metadata": {},
   "source": [
    "Invalid reshapes (like turning a 6-element array into a (4,2)) will raise an error.\n",
    "\n",
    "## Why Shape & Dimensions Matter in AI/ML\n",
    "\n",
    "In machine learning, **data shape is everything**:\n",
    "\n",
    "- Neural networks require inputs with fixed shapes: `(batch_size, features)` or `(batch, height, width, channels)`\n",
    "- A 28x28 grayscale image is usually reshaped from `(28, 28)` to `(784,)` before passing to dense layers\n",
    "- Batch processing requires shapes like `(32, 784)` for 32 images at once\n",
    "- RNNs expect 3D shapes like `(batch, timesteps, features)`\n",
    "- CNNs expect 4D shapes like `(batch, height, width, channels)`\n",
    "\n",
    "We’ll constantly use `.reshape()` to prepare data for models, whether we're feeding images, time series, or vectors.\n",
    "\n",
    "### Key Takeaways\n",
    "\n",
    "| Attribute | Description | Code Example | Output |\n",
    "| --- | --- | --- | --- |\n",
    "| `shape` | Structure of array | `a.shape` | `(2, 3)` |\n",
    "| `ndim` | Number of axes | `a.ndim` | `2` |\n",
    "| `size` | Total elements | `a.size` | `6` |\n",
    "| `reshape()` | Change shape while preserving data | `a.reshape((3, 2))` | Valid if sizes match |\n",
    "| `reshape(-1, ...)` | Auto-calculate shape | `a.reshape(-1)` | Flattened |\n",
    "\n",
    "### Exercises\n",
    "\n",
    "Q1. Create a 2D array of shape (3, 4), print its shape, dimensions, and size, then flatten it to 1D using `.reshape(-1)` and print the new shape and dimension."
   ]
  },
  {
   "cell_type": "code",
   "execution_count": 4,
   "id": "a93e6840",
   "metadata": {},
   "outputs": [
    {
     "name": "stdout",
     "output_type": "stream",
     "text": [
      "Shape: (3, 4)\n",
      "Dimensions: 2\n",
      "Size: 12\n",
      "Flattened: [ 1  2  3  4  5  6  7  8  9 10 11 12]\n",
      "New Shape: (12,)\n",
      "New Dimensions: 1\n"
     ]
    }
   ],
   "source": [
    "a = np.array([[1, 2, 3, 4],\n",
    "              [5, 6, 7, 8],\n",
    "              [9, 10, 11, 12]])\n",
    "\n",
    "print(\"Shape:\", a.shape)       \n",
    "print(\"Dimensions:\", a.ndim)   \n",
    "print(\"Size:\", a.size)         \n",
    "\n",
    "a_flat = a.reshape(-1)\n",
    "print(\"Flattened:\", a_flat)\n",
    "print(\"New Shape:\", a_flat.shape)\n",
    "print(\"New Dimensions:\", a_flat.ndim)"
   ]
  },
  {
   "cell_type": "markdown",
   "id": "c1ce8d75",
   "metadata": {},
   "source": [
    "Q2. Create a 1D array of 24 elements using `np.arange()`, reshape it to (4, 6), then to (2, 3, 4), and verify that all reshaped arrays contain 24 elements."
   ]
  },
  {
   "cell_type": "code",
   "execution_count": 5,
   "id": "d6979ac3",
   "metadata": {},
   "outputs": [
    {
     "name": "stdout",
     "output_type": "stream",
     "text": [
      "Original shape: (24,)\n",
      "2D shape: (4, 6)\n",
      "3D shape: (2, 3, 4)\n",
      "Total elements: 24\n"
     ]
    }
   ],
   "source": [
    "b = np.arange(24)\n",
    "\n",
    "b_2d = b.reshape(4, 6)\n",
    "\n",
    "b_3d = b.reshape(2, 3, 4)\n",
    "\n",
    "print(\"Original shape:\", b.shape)\n",
    "print(\"2D shape:\", b_2d.shape)\n",
    "print(\"3D shape:\", b_3d.shape)\n",
    "print(\"Total elements:\", b.size)"
   ]
  },
  {
   "cell_type": "markdown",
   "id": "f3abab1a",
   "metadata": {},
   "source": [
    "### Summary\n",
    "\n",
    "In NumPy, understanding array shape, dimensions, and reshaping is fundamental for any data science or AI/ML workflow. Every array has a `.shape` that defines its structure (like rows and columns), an `.ndim` that tells us how many dimensions (or axes) it has, and a `.size` which tells us the total number of elements. These attributes help us manage and manipulate data precisely. The `.reshape()` method allows us to change the structure of an array without changing its data, as long as the total number of elements remains the same. This is especially important in machine learning, where model input requirements are strict — for example, image data might need reshaping from `(28, 28)` to `(784,)`, or adding batch dimensions like `(batch, features)` or `(batch, height, width, channels)` for deep learning models. We can also use `-1` in `.reshape()` to let NumPy automatically calculate the correct dimension, which is very handy when preprocessing large datasets. Reshaping is not just about format — it’s about ensuring compatibility with AI models and enabling efficient computation. Overall, mastering `.shape`, `.ndim`, and `.reshape()` is essential for building clean, bug-free, and production-ready machine learning pipelines."
   ]
  }
 ],
 "metadata": {
  "kernelspec": {
   "display_name": "Venv",
   "language": "python",
   "name": "python3"
  },
  "language_info": {
   "codemirror_mode": {
    "name": "ipython",
    "version": 3
   },
   "file_extension": ".py",
   "mimetype": "text/x-python",
   "name": "python",
   "nbconvert_exporter": "python",
   "pygments_lexer": "ipython3",
   "version": "3.12.8"
  }
 },
 "nbformat": 4,
 "nbformat_minor": 5
}
