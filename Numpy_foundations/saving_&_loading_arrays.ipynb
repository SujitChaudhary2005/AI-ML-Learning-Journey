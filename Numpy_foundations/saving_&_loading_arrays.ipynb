{
 "cells": [
  {
   "cell_type": "markdown",
   "id": "e7f5ccb9",
   "metadata": {},
   "source": [
    "# Saving & Loading Arrays (Binary & Text I/O) in NumPy\n",
    "\n",
    "### What Are Saving & Loading in NumPy?\n",
    "\n",
    "In real-world AI/ML projects, we often need to **save our work** — whether it's datasets, model weights, or transformed arrays — and **reload them later** for training, analysis, or deployment. NumPy provides easy and efficient ways to **save arrays to files** and **load them back**, both in **binary format** (`.npy`, `.npz`) and **text format** (`.txt`, `.csv`). This ensures that our data is persistent, shareable, and fast to access — especially for large projects.\n",
    "\n",
    "Saving arrays is crucial for:\n",
    "\n",
    "- Reusing processed datasets without recomputing every time\n",
    "- Storing intermediate results during model training\n",
    "- Sharing data with teammates or systems\n",
    "- Building pipelines that load and process data in stages\n",
    "\n",
    "NumPy gives us two main formats:\n",
    "\n",
    "1. **Binary format (`.npy`, `.npz`)** – compact, fast, preserves data types and shapes\n",
    "2. **Text format (`.txt`, `.csv`)** – human-readable, but slower and may lose precision or structure\n",
    "\n",
    "Learning to save/load correctly improves **efficiency**, **modularity**, and **scalability** in our AI/ML workflows.\n",
    "\n",
    "### Binary Saving & Loading (npy / npz)\n",
    "\n",
    "NumPy’s `.npy` format is the **preferred method** for saving a single array. It keeps everything — data type, shape, and structure — safe and fast to reload. When we need to store **multiple arrays together**, `.npz` helps by storing them in a **compressed archive**.\n",
    "\n",
    "- **Save a single array (npy)**"
   ]
  },
  {
   "cell_type": "code",
   "execution_count": 1,
   "id": "ce6f7a04",
   "metadata": {},
   "outputs": [],
   "source": [
    "import numpy as np\n",
    "    \n",
    "arr = np.array([[1, 2], [3, 4]])\n",
    "np.save('my_array.npy', arr)"
   ]
  },
  {
   "cell_type": "markdown",
   "id": "5b5279f2",
   "metadata": {},
   "source": [
    "- **Load a single array**"
   ]
  },
  {
   "cell_type": "code",
   "execution_count": null,
   "id": "82d23724",
   "metadata": {},
   "outputs": [],
   "source": [
    "loaded_arr = np.load('my_array.npy')\n",
    "print(\"Loaded array:\\n\", loaded_arr)"
   ]
  },
  {
   "cell_type": "markdown",
   "id": "f6edc229",
   "metadata": {},
   "source": [
    "- **Save multiple arrays (npz)**"
   ]
  },
  {
   "cell_type": "code",
   "execution_count": null,
   "id": "4abf6167",
   "metadata": {},
   "outputs": [],
   "source": [
    "a = np.array([1, 2, 3])\n",
    "b = np.array([4, 5, 6])\n",
    "np.savez('arrays_archive.npz', first=a, second=b)"
   ]
  },
  {
   "cell_type": "markdown",
   "id": "8f4cfde3",
   "metadata": {},
   "source": [
    "- **Load multiple arrays**"
   ]
  },
  {
   "cell_type": "code",
   "execution_count": null,
   "id": "9a54899c",
   "metadata": {},
   "outputs": [],
   "source": [
    "data = np.load('arrays_archive.npz')\n",
    "print(\"First array:\", data['first'])\n",
    "print(\"Second array:\", data['second'])"
   ]
  },
  {
   "cell_type": "markdown",
   "id": "09b741df",
   "metadata": {},
   "source": [
    "These binary files are **lightweight, fast**, and ideal for machine learning pipelines and models that need to load large amounts of numerical data quickly.\n",
    "\n",
    "### Text Saving & Loading (txt / csv)\n",
    "\n",
    "Text-based formats are useful when we want to:\n",
    "\n",
    "- Inspect data manually\n",
    "- Share with others who don’t use Python\n",
    "- Import/export with tools like Excel or MATLAB\n",
    "\n",
    "We use `np.savetxt()` and `np.loadtxt()` for plain-text files, and we can control the formatting using arguments.\n",
    "\n",
    "- **Save to text**"
   ]
  },
  {
   "cell_type": "code",
   "execution_count": null,
   "id": "700714d8",
   "metadata": {},
   "outputs": [],
   "source": [
    "arr = np.array([[1.2, 2.3], [3.4, 4.5]])\n",
    "np.savetxt('array.txt', arr, delimiter=',', fmt='%.2f')"
   ]
  },
  {
   "cell_type": "markdown",
   "id": "3c948e52",
   "metadata": {},
   "source": [
    "- **Load from text**"
   ]
  },
  {
   "cell_type": "code",
   "execution_count": null,
   "id": "645b00ec",
   "metadata": {},
   "outputs": [],
   "source": [
    "loaded_txt = np.loadtxt('array.txt', delimiter=',')\n",
    "print(\"Loaded from txt:\\n\", loaded_txt)"
   ]
  },
  {
   "cell_type": "markdown",
   "id": "bcfa5bc0",
   "metadata": {},
   "source": [
    "The downside is that text files:\n",
    "\n",
    "- Take more space\n",
    "- Can lose precision or metadata (like shape, dtype)\n",
    "- Are slower to parse\n",
    "\n",
    "So, for **sharing with others or exporting data**, text is good. But for **performance and accuracy**, binary is better.\n",
    "\n",
    "### AI/ML Use Cases\n",
    "\n",
    "| Format | Use Case |\n",
    "| --- | --- |\n",
    "| `.npy` | Saving model weights or processed data |\n",
    "| `.npz` | Storing datasets with labels, images, metadata |\n",
    "| `.txt` | Exporting predictions or input data for external tools |\n",
    "| `.csv` | Logging training metrics or tabular datasets |\n",
    "\n",
    "Saving/loading arrays helps us **build better workflows**, avoid **recomputing expensive operations**, and keep our **training process organized**.\n",
    "\n",
    "### Summary\n",
    "\n",
    "Saving and loading arrays is a fundamental skill in every AI/ML pipeline. Whether we’re working with training data, model weights, or intermediate calculations — being able to persist data and reuse it later can save us hours of work. NumPy makes this process incredibly easy with two main formats:\n",
    "\n",
    "- **Binary format (`.npy`, `.npz`)** is fast, compact, and preserves everything — it’s best when working within Python-based workflows or saving large arrays efficiently.\n",
    "- **Text format (`.txt`, `.csv`)** is readable and shareable across tools, but not ideal for large-scale or high-precision data.\n",
    "\n",
    "We use `.npy` when we want to store a single array, and `.npz` when we want to store many. Both load back quickly with full fidelity. On the other hand, `.txt` is great for logging or exporting but may lose data type or precision.\n",
    "\n",
    "In AI and ML, this helps us:\n",
    "\n",
    "- Save datasets and reload them without repeating preprocessing\n",
    "- Store trained model outputs or input tensors\n",
    "- Export predictions for reports, visualizations, or other tools\n",
    "- Share arrays with collaborators or pipelines\n",
    "\n",
    "By mastering both formats, we gain **control over our data**, reduce **redundancy**, and build **reliable, reusable, and efficient code** for real-world machine learning systems. Always choose the format that best matches our goal — speed and structure (binary) vs visibility and portability (text)."
   ]
  }
 ],
 "metadata": {
  "kernelspec": {
   "display_name": "Venv",
   "language": "python",
   "name": "python3"
  },
  "language_info": {
   "codemirror_mode": {
    "name": "ipython",
    "version": 3
   },
   "file_extension": ".py",
   "mimetype": "text/x-python",
   "name": "python",
   "nbconvert_exporter": "python",
   "pygments_lexer": "ipython3",
   "version": "3.12.8"
  }
 },
 "nbformat": 4,
 "nbformat_minor": 5
}
