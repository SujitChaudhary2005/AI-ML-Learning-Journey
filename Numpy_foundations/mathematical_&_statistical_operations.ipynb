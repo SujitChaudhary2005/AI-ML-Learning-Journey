{
 "cells": [
  {
   "cell_type": "markdown",
   "id": "0c2d6bd7",
   "metadata": {},
   "source": [
    "# Mathematical & Statistical Operations in NumPy\n",
    "\n",
    "## Why These Operations Matter\n",
    "\n",
    "In real-world data science and AI tasks, we often need to calculate **summaries or transformations** of large datasets — like totals, averages, deviations, or combined values. NumPy provides **efficient, vectorized operations** for this purpose that are not only faster but also cleaner than using loops.\n",
    "\n",
    "These operations fall into two categories:\n",
    "\n",
    "1. **Mathematical Operations** — performing math on arrays.\n",
    "2. **Statistical & Aggregation Functions** — summarizing data.\n",
    "\n",
    "These operations form the backbone of many ML algorithms (like gradient descent, mean squared error, standardization, etc.). So understanding them deeply is essential for building intelligent models.\n",
    "\n",
    "### Mathematical Operations\n",
    "\n",
    "Mathematical operations allow us to perform calculations on arrays element-wise, meaning the operation is applied to each element individually without needing explicit loops.\n",
    "\n",
    "Some of the common mathematical operations include:\n",
    "\n",
    "- **Addition, subtraction, multiplication, division**\n",
    "    \n",
    "    We can do simple arithmetic with arrays, just like with numbers."
   ]
  },
  {
   "cell_type": "code",
   "execution_count": 1,
   "id": "a3d82840",
   "metadata": {},
   "outputs": [
    {
     "name": "stdout",
     "output_type": "stream",
     "text": [
      "[5 7 9]\n",
      "[3 3 3]\n",
      "[ 4 10 18]\n",
      "[4.  2.5 2. ]\n"
     ]
    }
   ],
   "source": [
    "import numpy as np\n",
    "\n",
    "arr1 = np.array([1, 2, 3])\n",
    "arr2 = np.array([4, 5, 6])\n",
    "\n",
    "# Addition\n",
    "print(arr1 + arr2)\n",
    "\n",
    "# Subtraction\n",
    "print(arr2 - arr1)\n",
    "\n",
    "# Multiplication\n",
    "print(arr1 * arr2)\n",
    "\n",
    "# Division\n",
    "print(arr2 / arr1)"
   ]
  },
  {
   "cell_type": "markdown",
   "id": "dd602115",
   "metadata": {},
   "source": [
    "- **Exponential and logarithmic functions**\n",
    "    \n",
    "    We can calculate powers, exponentials (`np.exp()`), and logarithms (`np.log()`)."
   ]
  },
  {
   "cell_type": "code",
   "execution_count": 2,
   "id": "b98ead86",
   "metadata": {},
   "outputs": [
    {
     "name": "stdout",
     "output_type": "stream",
     "text": [
      "Square roots: [1. 2. 3. 4.]\n",
      "Exponentials: [2.71828183e+00 5.45981500e+01 8.10308393e+03 8.88611052e+06]\n",
      "Logarithms: [0.         1.38629436 2.19722458 2.77258872]\n"
     ]
    }
   ],
   "source": [
    "arr = np.array([1, 4, 9, 16])\n",
    "\n",
    "sqrt_arr = np.sqrt(arr)          # Square root of each element\n",
    "exp_arr = np.exp(arr)            # Exponential (e^x) of each element\n",
    "log_arr = np.log(arr)            # Natural logarithm of each element\n",
    "\n",
    "print(\"Square roots:\", sqrt_arr)\n",
    "print(\"Exponentials:\", exp_arr)\n",
    "print(\"Logarithms:\", log_arr)"
   ]
  },
  {
   "cell_type": "markdown",
   "id": "9bdf2d7c",
   "metadata": {},
   "source": [
    "- **Trigonometric functions**\n",
    "    \n",
    "    NumPy provides sine (`np.sin()`), cosine (`np.cos()`), tangent (`np.tan()`), and their inverses."
   ]
  },
  {
   "cell_type": "code",
   "execution_count": 3,
   "id": "83773469",
   "metadata": {},
   "outputs": [
    {
     "name": "stdout",
     "output_type": "stream",
     "text": [
      "Sine values: [ 1.22464680e-16 -4.89858720e-16  1.10218212e-15 -1.95943488e-15]\n"
     ]
    }
   ],
   "source": [
    "sin_arr = np.sin(np.pi * arr)    # Sine of each element multiplied by pi\n",
    "print(\"Sine values:\", sin_arr)"
   ]
  },
  {
   "cell_type": "markdown",
   "id": "3946b944",
   "metadata": {},
   "source": [
    "- **Rounding functions**\n",
    "    \n",
    "    Such as `np.round()`, `np.floor()`, and `np.ceil()` to control decimal values."
   ]
  },
  {
   "cell_type": "code",
   "execution_count": 4,
   "id": "f7d6eb18",
   "metadata": {},
   "outputs": [
    {
     "name": "stdout",
     "output_type": "stream",
     "text": [
      "Original array: [1.2 2.5 3.7 4.  5.9]\n",
      "Rounded: [1. 2. 4. 4. 6.]\n",
      "Floored: [1. 2. 3. 4. 5.]\n",
      "Ceiled: [2. 3. 4. 4. 6.]\n"
     ]
    }
   ],
   "source": [
    "arr = np.array([1.2, 2.5, 3.7, 4.0, 5.9])\n",
    "\n",
    "rounded = np.round(arr)   # Round to nearest integer\n",
    "floored = np.floor(arr)   # Round down (floor)\n",
    "ceiled = np.ceil(arr)     # Round up (ceil)\n",
    "\n",
    "print(\"Original array:\", arr)\n",
    "print(\"Rounded:\", rounded)\n",
    "print(\"Floored:\", floored)\n",
    "print(\"Ceiled:\", ceiled)"
   ]
  },
  {
   "cell_type": "markdown",
   "id": "8be32280",
   "metadata": {},
   "source": [
    "### Statistical Operations in NumPy\n",
    "\n",
    "Statistical operations help us summarize and describe data. These are essential when we want to understand data distribution, central tendency, and variability.\n",
    "\n",
    "Common statistical operations we use are:\n",
    "\n",
    "- **Mean (`np.mean()`)** — The Average Value\n",
    "    \n",
    "    The **mean** is what we usually call the average. It tells us the central value of a dataset. We calculate the mean by adding all the data points together and then dividing by the total number of points.\n",
    "    \n",
    "    $$\n",
    "    \\text{mean} = \\frac{1}{n} \\sum_{i=1}^{n} x_i\n",
    "    $$"
   ]
  },
  {
   "cell_type": "code",
   "execution_count": 5,
   "id": "b3e66290",
   "metadata": {},
   "outputs": [
    {
     "name": "stdout",
     "output_type": "stream",
     "text": [
      "Mean: 30.0\n"
     ]
    }
   ],
   "source": [
    "data = np.array([10, 20, 30, 40, 50])\n",
    "\n",
    "mean_val = np.mean(data)\n",
    "print(\"Mean:\", mean_val)"
   ]
  },
  {
   "cell_type": "markdown",
   "id": "e2ac19af",
   "metadata": {},
   "source": [
    "- **Median (`np.median()`)** — The Middle Value\n",
    "    \n",
    "    The **median** is the middle value in our dataset when we arrange all values in order from smallest to largest. It splits our data into two equal halves.\n",
    "    \n",
    "    - If we have an **odd number** of data points, the median is simply the middle one.\n",
    "    - If we have an **even number**, the median is the average of the two middle values.\n",
    "    \n",
    "    The median is especially useful because it is **not affected by extreme values or outliers** — unlike the mean."
   ]
  },
  {
   "cell_type": "code",
   "execution_count": 6,
   "id": "40c904ac",
   "metadata": {},
   "outputs": [
    {
     "name": "stdout",
     "output_type": "stream",
     "text": [
      "Median: 30.0\n"
     ]
    }
   ],
   "source": [
    "median_val = np.median(data)\n",
    "print(\"Median:\", median_val)"
   ]
  },
  {
   "cell_type": "markdown",
   "id": "07ee4c1f",
   "metadata": {},
   "source": [
    "- **Standard Deviation (`np.std()`)** — How Spread Out Our Data Is\n",
    "    \n",
    "    The **standard deviation** measures how spread out or dispersed our data points are around the mean. A small standard deviation means data points are close to the mean, while a large one means they are spread out.\n",
    "    \n",
    "    $$\n",
    "    \\sigma = \\sqrt{\\frac{1}{n} \\sum_{i=1}^{n} (x_i - \\mu)^2}\n",
    "    \n",
    "    $$"
   ]
  },
  {
   "cell_type": "code",
   "execution_count": 7,
   "id": "5a9ee8da",
   "metadata": {},
   "outputs": [
    {
     "name": "stdout",
     "output_type": "stream",
     "text": [
      "Standard Deviation: 14.142135623730951\n"
     ]
    }
   ],
   "source": [
    "std_dev = np.std(data)\n",
    "print(\"Standard Deviation:\", std_dev)"
   ]
  },
  {
   "cell_type": "markdown",
   "id": "df35eed4",
   "metadata": {},
   "source": [
    "- **Variance (`np.var()`)** — The Average of Squared Deviations\n",
    "    \n",
    "    **Variance** tells us how much the data varies, but unlike standard deviation, it’s in squared units. It’s the average of the squared differences from the mean:\n",
    "    \n",
    "    $$\n",
    "    \\text{variance} = \\frac{1}{n} \\sum_{i=1}^{n} (x_i - \\mu)^2\n",
    "    $$\n",
    "    \n",
    "    - Variance is simply the square of the standard deviation σ\\sigmaσ.\n",
    "    - It’s useful in statistics but less interpretable directly because it’s in squared units (like squared meters instead of meters)."
   ]
  },
  {
   "cell_type": "code",
   "execution_count": 8,
   "id": "2cd4b217",
   "metadata": {},
   "outputs": [
    {
     "name": "stdout",
     "output_type": "stream",
     "text": [
      "Variance: 200.0\n"
     ]
    }
   ],
   "source": [
    "variance = np.var(data)\n",
    "print(\"Variance:\", variance)"
   ]
  },
  {
   "cell_type": "markdown",
   "id": "70969032",
   "metadata": {},
   "source": [
    "- **Minimum and Maximum (`np.min()`, `np.max()`)** — Extremes of Our Data\n",
    "      - **Minimum** is the smallest value in our dataset.\n",
    "      - **Maximum** is the largest value.\n",
    "    \n",
    "    These values give us an idea of the range of our data and help detect outliers or anomalies."
   ]
  },
  {
   "cell_type": "code",
   "execution_count": 9,
   "id": "60c33e54",
   "metadata": {},
   "outputs": [
    {
     "name": "stdout",
     "output_type": "stream",
     "text": [
      "Min: 10\n",
      "Max: 50\n"
     ]
    }
   ],
   "source": [
    "min_val = np.min(data)\n",
    "max_val = np.max(data)\n",
    "\n",
    "print(\"Min:\", min_val)\n",
    "print(\"Max:\", max_val)"
   ]
  },
  {
   "cell_type": "markdown",
   "id": "e37ea8ad",
   "metadata": {},
   "source": [
    "- **Percentiles (`np.percentile()`)** — Position-Based Values in Our Data\n",
    "    \n",
    "    A **percentile** tells us the value below which a certain percentage of our data falls. For example, the 25th percentile (also called the first quartile) is the value below which 25% of data lies.\n",
    "    \n",
    "    This is helpful in understanding the distribution and spread of data without assuming a normal distribution."
   ]
  },
  {
   "cell_type": "code",
   "execution_count": 10,
   "id": "7c3b06aa",
   "metadata": {},
   "outputs": [
    {
     "name": "stdout",
     "output_type": "stream",
     "text": [
      "25th Percentile: 20.0\n"
     ]
    }
   ],
   "source": [
    "percentile_25 = np.percentile(data, 25)\n",
    "print(\"25th Percentile:\", percentile_25)"
   ]
  },
  {
   "cell_type": "markdown",
   "id": "4c405385",
   "metadata": {},
   "source": [
    "### Key takeaways\n",
    "    \n",
    "  When we use NumPy’s statistical functions, we get quick and efficient ways to describe and understand our data:\n",
    "    \n",
    "  - **Mean** shows us the average value — a measure of central tendency.\n",
    "  - **Median** gives the middle value, which is resistant to outliers.\n",
    "  - **Standard deviation** tells us how spread out our data points are.\n",
    "  - **Variance** quantifies that spread in squared units.\n",
    "  - **Minimum and Maximum** tell us the boundaries of our data.\n",
    "  - **Percentiles** help us understand data distribution by position.\n",
    "    \n",
    "  Together, these help us build a strong foundation to analyze datasets before moving on to more complex AI and ML tasks."
   ]
  },
  {
   "cell_type": "markdown",
   "id": "3cb403e2",
   "metadata": {},
   "source": [
    "### Axis-Based Operations\n",
    "\n",
    "NumPy lets us compute along rows or columns using the `axis` parameter."
   ]
  },
  {
   "cell_type": "code",
   "execution_count": 11,
   "id": "17000242",
   "metadata": {},
   "outputs": [
    {
     "name": "stdout",
     "output_type": "stream",
     "text": [
      "[5 7 9]\n",
      "[ 6 15]\n"
     ]
    }
   ],
   "source": [
    "mat = np.array([[1, 2, 3],\n",
    "                [4, 5, 6]])\n",
    "\n",
    "print(np.sum(mat, axis=0))  # Column-wise sum\n",
    "print(np.sum(mat, axis=1))  # Row-wise sum"
   ]
  },
  {
   "cell_type": "markdown",
   "id": "a1927e50",
   "metadata": {},
   "source": [
    "- `axis=0`: Column-wise (vertical)\n",
    "- `axis=1`: Row-wise (horizontal)"
   ]
  },
  {
   "cell_type": "markdown",
   "id": "a585347a",
   "metadata": {},
   "source": [
    "### Cumulative Operations\n",
    "\n",
    "Useful for tracking running totals or multiplying sequences."
   ]
  },
  {
   "cell_type": "code",
   "execution_count": 12,
   "id": "c961c1ad",
   "metadata": {},
   "outputs": [
    {
     "name": "stdout",
     "output_type": "stream",
     "text": [
      "[ 1  3  6 10]\n",
      "[ 1  2  6 24]\n"
     ]
    }
   ],
   "source": [
    "x = np.array([1, 2, 3, 4])\n",
    "print(np.cumsum(x))      \n",
    "print(np.cumprod(x))     "
   ]
  },
  {
   "cell_type": "markdown",
   "id": "9672bfd5",
   "metadata": {},
   "source": [
    "### Handling Missing Data (NaN) in NumPy\n",
    "\n",
    "In real-world datasets, missing or undefined values are often represented as `NaN` (Not a Number). Standard NumPy functions like `np.mean()` or `np.sum()` will return `NaN` if any element in the array is `NaN`, which can lead to incorrect or unusable results.\n",
    "\n",
    "To handle this, NumPy provides **NaN-aware functions** that ignore these missing values while performing calculations. These include:\n",
    "\n",
    "| Function | Description |\n",
    "| --- | --- |\n",
    "| `np.nanmean()` | Computes mean ignoring `NaN` values |\n",
    "| `np.nansum()` | Computes sum ignoring `NaN` values |\n",
    "| `np.nanstd()` | Computes standard deviation ignoring `NaN` |\n",
    "| `np.nanvar()` | Computes variance ignoring `NaN` values |\n",
    "| `np.nanmin()` | Computes minimum ignoring `NaN` values |\n",
    "| `np.nanmax()` | Computes maximum ignoring `NaN` values |\n",
    "\n",
    "These functions are essential for robust statistical analysis on datasets with missing entries.\n",
    "\n",
    "### Example"
   ]
  },
  {
   "cell_type": "code",
   "execution_count": 13,
   "id": "b4e6bfd1",
   "metadata": {},
   "outputs": [
    {
     "name": "stdout",
     "output_type": "stream",
     "text": [
      "Mean with np.mean(): nan\n",
      "Mean with np.nanmean(): 30.0\n",
      "Sum with np.sum(): nan\n",
      "Sum with np.nansum(): 120.0\n"
     ]
    }
   ],
   "source": [
    "data = np.array([10, 20, np.nan, 40, 50])\n",
    "\n",
    "print(\"Mean with np.mean():\", np.mean(data))\n",
    "print(\"Mean with np.nanmean():\", np.nanmean(data))\n",
    "\n",
    "print(\"Sum with np.sum():\", np.sum(data))\n",
    "print(\"Sum with np.nansum():\", np.nansum(data))"
   ]
  },
  {
   "cell_type": "markdown",
   "id": "c24fbd54",
   "metadata": {},
   "source": [
    "In this example, `np.mean()` and `np.sum()` return `NaN` because the input contains a `NaN` value. But the NaN-aware functions ignore the missing value and compute the mean and sum correctly.\n",
    "\n",
    "## NumPy Mathematical, Statistical, Axis-Based & Cumulative Operations\n",
    "\n",
    "These are the most commonly used and essential operations in NumPy for AI/ML tasks — helping us analyze, preprocess, and manipulate numerical data efficiently and cleanly.\n",
    "\n",
    "| Category | Operation | NumPy Function | Plain-Text Formula / Explanation |\n",
    "| --- | --- | --- | --- |\n",
    "| **Mathematical** | Addition | `np.add()` or `+` | Element-wise addition: result[i] = a[i] + b[i] |\n",
    "|  | Subtraction | `np.subtract()` or `-` | result[i] = a[i] - b[i] |\n",
    "|  | Multiplication | `np.multiply()` or `*` | result[i] = a[i] * b[i] |\n",
    "|  | Division | `np.divide()` or `/` | result[i] = a[i] / b[i] |\n",
    "|  | Exponentiation | `np.power()` or `**` | result[i] = a[i] ** 2 |\n",
    "|  | Square Root | `np.sqrt()` | result[i] = √a[i] |\n",
    "|  | Logarithm (natural) | `np.log()` | result[i] = ln(a[i]) |\n",
    "|  | Exponential | `np.exp()` | result[i] = e ** a[i] |\n",
    "|  | Trigonometric | `np.sin()`, `np.cos()` | Applies trig function element-wise (in radians) |\n",
    "|  | Rounding | `np.round()`, `np.floor()`, `np.ceil()` | Rounds elements to nearest, down, or up |\n",
    "|  | Clipping | `np.clip()` | Clips values between min and max: x = min if x < min, x = max if x > max |\n",
    "| **Statistical** | Mean | `np.mean()` | mean = (1 / n) * sum(x) |\n",
    "|  | Median | `np.median()` | Middle value in sorted data |\n",
    "|  | Standard Deviation | `np.std()` | std = sqrt((1 / n) * sum((x - mean)^2)) |\n",
    "|  | Variance | `np.var()` | var = (1 / n) * sum((x - mean)^2) |\n",
    "|  | Minimum & Maximum | `np.min()`, `np.max()` | Smallest or largest value in the array |\n",
    "|  | Percentile | `np.percentile()` | Value below which a certain percentage of data falls (e.g., 25th percentile) |\n",
    "| **Axis-Based** | Sum across axis | `np.sum(axis=...)` | axis=0 → column-wise sum, axis=1 → row-wise sum |\n",
    "|  | Mean across axis | `np.mean(axis=...)` | Same as above, but for average |\n",
    "|  | Std/Var across axis | `np.std(axis=...)`, `np.var(axis=...)` | Standard deviation / variance row-wise or column-wise |\n",
    "| **Cumulative** | Cumulative Sum | `np.cumsum()` | Running total: [1, 2, 3] → [1, 3, 6] |\n",
    "|  | Cumulative Product | `np.cumprod()` | Running product: [1, 2, 3] → [1, 2, 6] |\n",
    "\n",
    "### Exercises\n",
    "\n",
    "Q1. Create an array of numbers from 1 to 10. Compute their square root and exponential values."
   ]
  },
  {
   "cell_type": "code",
   "execution_count": 14,
   "id": "4c3296f5",
   "metadata": {},
   "outputs": [
    {
     "name": "stdout",
     "output_type": "stream",
     "text": [
      "[1.         1.41421356 1.73205081 2.         2.23606798 2.44948974\n",
      " 2.64575131 2.82842712 3.         3.16227766]\n"
     ]
    }
   ],
   "source": [
    "arr = np.arange(1,11)\n",
    "sqr_root = np.sqrt(arr)\n",
    "exp_vals = np.exp(arr)\n",
    "\n",
    "print(sqr_root)"
   ]
  },
  {
   "cell_type": "markdown",
   "id": "fe840459",
   "metadata": {},
   "source": [
    "Q2. Create a 3×3 matrix with random numbers between 0 and 1. Compute row-wise and column-wise means."
   ]
  },
  {
   "cell_type": "code",
   "execution_count": 15,
   "id": "b25b0524",
   "metadata": {},
   "outputs": [
    {
     "name": "stdout",
     "output_type": "stream",
     "text": [
      "Matrix:\n",
      " [[0.45080786 0.50651084 0.42056793]\n",
      " [0.39880731 0.52739195 0.60951747]\n",
      " [0.82984523 0.13110932 0.61413349]]\n",
      "Row-wise means: [0.45929554 0.51190558 0.52502935]\n",
      "Column-wise means: [0.55982013 0.38833737 0.54807296]\n"
     ]
    }
   ],
   "source": [
    "matrix = np.random.rand(3, 3)\n",
    "\n",
    "row_means = np.mean(matrix, axis=1)\n",
    "col_means = np.mean(matrix, axis=0)\n",
    "\n",
    "print(\"Matrix:\\n\", matrix)\n",
    "print(\"Row-wise means:\", row_means)\n",
    "print(\"Column-wise means:\", col_means)"
   ]
  },
  {
   "cell_type": "markdown",
   "id": "f1605901",
   "metadata": {},
   "source": [
    "Q3. Given an array `[5, 10, 15, 20, 25]`, calculate the mean, median, variance, and standard deviation."
   ]
  },
  {
   "cell_type": "code",
   "execution_count": 16,
   "id": "d9086488",
   "metadata": {},
   "outputs": [
    {
     "name": "stdout",
     "output_type": "stream",
     "text": [
      "Mean: 15.0\n",
      "\n",
      "Median: 15.0\n",
      "\n",
      "Variance: 50.0\n",
      "\n",
      "Standard Deviation: 7.0710678118654755\n"
     ]
    }
   ],
   "source": [
    "array = np.array([5, 10, 15, 20, 25])\n",
    "\n",
    "mean = np.mean(array)\n",
    "median = np.median(array)\n",
    "variance = np.var(array)\n",
    "standard_deviation = np.std(array)\n",
    "\n",
    "print(f'Mean: {mean}\\n')\n",
    "print(f'Median: {median}\\n')\n",
    "print(f'Variance: {variance}\\n')\n",
    "print(f'Standard Deviation: {standard_deviation}')"
   ]
  },
  {
   "cell_type": "markdown",
   "id": "2633a67a",
   "metadata": {},
   "source": [
    "Q4. Generate a 1D array of 50 elements using `np.random.randn()`. Compute its cumulative sum and standard deviation."
   ]
  },
  {
   "cell_type": "code",
   "execution_count": 17,
   "id": "d2210b69",
   "metadata": {},
   "outputs": [
    {
     "name": "stdout",
     "output_type": "stream",
     "text": [
      "Array:\n",
      " [ 0.69501592 -0.34571229 -0.48841055 -2.89742547 -0.49443368  0.19206757\n",
      " -0.01603356  0.69031621 -0.04582029 -1.38123119 -0.1068228  -0.8031473\n",
      "  0.95542854 -1.28445272  0.98285541 -0.20374313 -0.6633023  -0.90100581\n",
      "  0.64068999  1.31908736  1.05064224  2.12329012 -0.83638833  1.86960797\n",
      " -1.44619088 -1.00334417  0.48332542  0.41467908 -0.45284347  1.51702818\n",
      " -1.34251157  0.34248723  1.00767271 -0.20925123 -1.36627708 -0.23889153\n",
      " -2.06305363 -0.10284394  1.49743159 -0.0203543  -0.76366849  1.11422219\n",
      "  0.26417732  0.89948184  0.87501179  1.73464941 -0.3404871  -0.14574515\n",
      "  0.97403136  0.86345383]\n",
      "\n",
      "Cumulative sum:\n",
      " [ 0.69501592  0.34930363 -0.13910692 -3.03653239 -3.53096607 -3.3388985\n",
      " -3.35493205 -2.66461584 -2.71043613 -4.09166733 -4.19849012 -5.00163742\n",
      " -4.04620888 -5.3306616  -4.34780619 -4.55154931 -5.21485161 -6.11585742\n",
      " -5.47516743 -4.15608007 -3.10543783 -0.98214771 -1.81853603  0.05107194\n",
      " -1.39511894 -2.39846311 -1.9151377  -1.50045861 -1.95330209 -0.43627391\n",
      " -1.77878548 -1.43629825 -0.42862555 -0.63787678 -2.00415386 -2.24304539\n",
      " -4.30609902 -4.40894296 -2.91151137 -2.93186567 -3.69553416 -2.58131197\n",
      " -2.31713466 -1.41765282 -0.54264103  1.19200838  0.85152128  0.70577613\n",
      "  1.67980748  2.54326131]\n",
      "\n",
      "Standard deviation: 1.0482639432904082\n"
     ]
    }
   ],
   "source": [
    "array = np.random.randn(50)\n",
    "\n",
    "cumulative_sum = np.cumsum(array)\n",
    "standard_deviation = np.std(array)\n",
    "\n",
    "print(\"Array:\\n\", array)\n",
    "print(\"\\nCumulative sum:\\n\", cumulative_sum)\n",
    "print(\"\\nStandard deviation:\", standard_deviation)"
   ]
  },
  {
   "cell_type": "markdown",
   "id": "83b06c41",
   "metadata": {},
   "source": [
    "Q5. Create a matrix and clip all values below 2 and above 8 using `np.clip()`."
   ]
  },
  {
   "cell_type": "code",
   "execution_count": 18,
   "id": "53084871",
   "metadata": {},
   "outputs": [
    {
     "name": "stdout",
     "output_type": "stream",
     "text": [
      "Original matrix:\n",
      " [[ 9  5  8  2]\n",
      " [ 0  3  7 10]\n",
      " [ 4  8  1  1]\n",
      " [ 9 10  6  1]]\n",
      "\n",
      "Clipped matrix:\n",
      " [[8 5 8 2]\n",
      " [2 3 7 8]\n",
      " [4 8 2 2]\n",
      " [8 8 6 2]]\n"
     ]
    }
   ],
   "source": [
    "matrix = np.random.randint(0, 11, size=(4, 4))\n",
    "print(\"Original matrix:\\n\", matrix)\n",
    "\n",
    "clipped_matrix = np.clip(matrix, 2, 8)\n",
    "print(\"\\nClipped matrix:\\n\", clipped_matrix)"
   ]
  },
  {
   "cell_type": "markdown",
   "id": "caa0128f",
   "metadata": {},
   "source": [
    "### Summary\n",
    "\n",
    "Mathematical and statistical operations in NumPy are essential tools that give us deep insight into our data. These include **element-wise math**, **summarization stats**, **axis-based calculations**, and **cumulative functions** — all of which are fast, memory-efficient, and crucial for AI workflows.\n",
    "\n",
    "Whether we’re normalizing features using the formula:\n",
    "\n",
    "$$\n",
    "z = \\frac{x - \\mu}{\\sigma}\n",
    "$$\n",
    "\n",
    "or calculating loss over thousands of predictions, NumPy’s functions make these tasks simple and scalable. These operations aren’t just academic — they’re used **daily** in ML pipelines, deep learning training loops, and exploratory data analysis (EDA).\n",
    "\n",
    "NumPy’s operations allow loop-free, fast, vectorized computations, which are critical for scaling up to big data and neural networks By mastering these, we unlock the full power of numerical computing in Python, ready to apply them in machine learning, deep learning, and beyond."
   ]
  }
 ],
 "metadata": {
  "kernelspec": {
   "display_name": "Venv",
   "language": "python",
   "name": "python3"
  },
  "language_info": {
   "codemirror_mode": {
    "name": "ipython",
    "version": 3
   },
   "file_extension": ".py",
   "mimetype": "text/x-python",
   "name": "python",
   "nbconvert_exporter": "python",
   "pygments_lexer": "ipython3",
   "version": "3.12.8"
  }
 },
 "nbformat": 4,
 "nbformat_minor": 5
}
