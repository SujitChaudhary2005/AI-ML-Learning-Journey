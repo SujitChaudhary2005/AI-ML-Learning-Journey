{
 "cells": [
  {
   "cell_type": "markdown",
   "id": "0592a406",
   "metadata": {},
   "source": [
    "# Broadcasting & Vectorized Operations\n",
    "\n",
    "### What is Broadcasting in NumPy?\n",
    "\n",
    "Broadcasting in NumPy is a powerful method that allows arrays of **different shapes** to be used in **arithmetic operations** without writing loops. It automatically stretches (or broadcasts) smaller arrays to match the shape of larger ones during calculations — without actually copying the data. This leads to faster, more readable code.\n",
    "\n",
    "Broadcasting follows strict rules but removes the need to manually reshape or replicate arrays."
   ]
  },
  {
   "cell_type": "code",
   "execution_count": 1,
   "id": "22648da0",
   "metadata": {},
   "outputs": [
    {
     "name": "stdout",
     "output_type": "stream",
     "text": [
      "[11 12 13]\n"
     ]
    }
   ],
   "source": [
    "import numpy as np\n",
    "\n",
    "a = np.array([1, 2, 3])\n",
    "b = 10\n",
    "print(a + b)"
   ]
  },
  {
   "cell_type": "markdown",
   "id": "247dbfb0",
   "metadata": {},
   "source": [
    "Here, `b` is a scalar but is broadcasted to match the shape of `a`.\n",
    "\n",
    "### Broadcasting Rules\n",
    "\n",
    "1. If arrays have different numbers of dimensions, the smaller one is **prepended with 1s** on the left.\n",
    "2. Arrays are **compatible** if for each dimension the sizes are either equal or one of them is 1.\n",
    "3. If arrays are compatible, NumPy **broadcasts** them to a common shape and performs element-wise operations."
   ]
  },
  {
   "cell_type": "code",
   "execution_count": 2,
   "id": "97a26367",
   "metadata": {},
   "outputs": [
    {
     "name": "stdout",
     "output_type": "stream",
     "text": [
      "[[11 21 31]\n",
      " [12 22 32]\n",
      " [13 23 33]]\n"
     ]
    }
   ],
   "source": [
    "A = np.array([[1], [2], [3]])   # shape (3, 1)\n",
    "B = np.array([10, 20, 30])      # shape (3,)\n",
    "C = A + B                       # Broadcasts B to shape (3, 3)\n",
    "print(C)"
   ]
  },
  {
   "cell_type": "markdown",
   "id": "59c03880",
   "metadata": {},
   "source": [
    "### Example"
   ]
  },
  {
   "cell_type": "code",
   "execution_count": 3,
   "id": "d7b959f3",
   "metadata": {},
   "outputs": [
    {
     "name": "stdout",
     "output_type": "stream",
     "text": [
      "[6 7 8]\n",
      "[[11 22 33]\n",
      " [14 25 36]]\n"
     ]
    }
   ],
   "source": [
    "# Add scalar to array\n",
    "arr = np.array([1, 2, 3])\n",
    "print(arr + 5)  # [6 7 8]\n",
    "\n",
    "# Add 1D array to 2D array (broadcast row-wise)\n",
    "mat = np.array([[1, 2, 3], [4, 5, 6]])\n",
    "row = np.array([10, 20, 30])\n",
    "print(mat + row)"
   ]
  },
  {
   "cell_type": "markdown",
   "id": "d713caec",
   "metadata": {},
   "source": [
    "### What Is Vectorization?\n",
    "\n",
    "Vectorization means using **array operations** instead of **loops** to perform calculations. It’s faster and more efficient because NumPy uses C under the hood."
   ]
  },
  {
   "cell_type": "code",
   "execution_count": 4,
   "id": "a3ffca9a",
   "metadata": {},
   "outputs": [
    {
     "name": "stdout",
     "output_type": "stream",
     "text": [
      "With loop:  [0, 2, 4, 6, 8, 10, 12, 14, 16, 18, 20, 22, 24, 26, 28, 30, 32, 34, 36, 38, 40, 42, 44, 46, 48, 50, 52, 54, 56, 58, 60, 62, 64, 66, 68, 70, 72, 74, 76, 78, 80, 82, 84, 86, 88, 90, 92, 94, 96, 98, 100, 102, 104, 106, 108, 110, 112, 114, 116, 118, 120, 122, 124, 126, 128, 130, 132, 134, 136, 138, 140, 142, 144, 146, 148, 150, 152, 154, 156, 158, 160, 162, 164, 166, 168, 170, 172, 174, 176, 178, 180, 182, 184, 186, 188, 190, 192, 194, 196, 198]\n",
      "\n",
      "Vectorized version:  [  0   2   4   6   8  10  12  14  16  18  20  22  24  26  28  30  32  34\n",
      "  36  38  40  42  44  46  48  50  52  54  56  58  60  62  64  66  68  70\n",
      "  72  74  76  78  80  82  84  86  88  90  92  94  96  98 100 102 104 106\n",
      " 108 110 112 114 116 118 120 122 124 126 128 130 132 134 136 138 140 142\n",
      " 144 146 148 150 152 154 156 158 160 162 164 166 168 170 172 174 176 178\n",
      " 180 182 184 186 188 190 192 194 196 198]\n"
     ]
    }
   ],
   "source": [
    "# With loop\n",
    "result = []\n",
    "for i in range(100):\n",
    "    result.append(i * 2)\n",
    "print(\"With loop: \",result)\n",
    "\n",
    "# Vectorized version\n",
    "arr = np.arange(100)\n",
    "result = arr * 2\n",
    "print(\"\\nVectorized version: \",result)"
   ]
  },
  {
   "cell_type": "markdown",
   "id": "59aa5800",
   "metadata": {},
   "source": [
    "This vectorized approach is much faster and leads to cleaner code.\n",
    "\n",
    "### Example"
   ]
  },
  {
   "cell_type": "code",
   "execution_count": 5,
   "id": "aca84d82",
   "metadata": {},
   "outputs": [
    {
     "name": "stdout",
     "output_type": "stream",
     "text": [
      "Original array: [0 1 2 3 4 5 6 7 8 9]\n",
      "Squared array: [ 0  1  4  9 16 25 36 49 64 81]\n"
     ]
    }
   ],
   "source": [
    "arr = np.arange(10)\n",
    "print(\"Original array:\", arr)\n",
    "\n",
    "# Square each element using vectorized operation\n",
    "squared = arr ** 2\n",
    "print(\"Squared array:\", squared)"
   ]
  },
  {
   "cell_type": "markdown",
   "id": "659d8099",
   "metadata": {},
   "source": [
    "### Benefits in AI & Machine Learning\n",
    "\n",
    "- **Faster Training**: Operations like normalization, loss calculation, and gradient updates are all vectorized for speed.\n",
    "- **Cleaner Code**: Avoids long loops when working with datasets.\n",
    "- **Memory Efficiency**: Broadcasting avoids creating huge intermediate arrays.\n",
    "\n",
    "### Exercises\n",
    "\n",
    "Q1. Create a 1D array of numbers from 10 to 15 and broadcast-add 10 to each element."
   ]
  },
  {
   "cell_type": "code",
   "execution_count": 6,
   "id": "dce04aaa",
   "metadata": {},
   "outputs": [
    {
     "name": "stdout",
     "output_type": "stream",
     "text": [
      "[20 21 22 23 24 25]\n"
     ]
    }
   ],
   "source": [
    "a = np.arange(10, 16)\n",
    "b = a + 10\n",
    "print(b)"
   ]
  },
  {
   "cell_type": "markdown",
   "id": "d3ef4e0a",
   "metadata": {},
   "source": [
    "Q2. Create a 2D array of shape (3, 3) and subtract a 1D array `[1, 2, 3]` from each row using broadcasting."
   ]
  },
  {
   "cell_type": "code",
   "execution_count": 7,
   "id": "315424c5",
   "metadata": {},
   "outputs": [
    {
     "name": "stdout",
     "output_type": "stream",
     "text": [
      "[[0 0 0]\n",
      " [3 3 3]\n",
      " [6 6 6]]\n"
     ]
    }
   ],
   "source": [
    "c = np.arange(1, 10).reshape(3, 3)\n",
    "d = np.array([1, 2, 3])\n",
    "e = c - d\n",
    "print(e)"
   ]
  },
  {
   "cell_type": "markdown",
   "id": "b159f741",
   "metadata": {},
   "source": [
    "Q3. Create a 1D array from 1 to 100. Square each element using vectorized operations."
   ]
  },
  {
   "cell_type": "code",
   "execution_count": 8,
   "id": "427a231b",
   "metadata": {},
   "outputs": [
    {
     "name": "stdout",
     "output_type": "stream",
     "text": [
      "[    1     4     9    16    25    36    49    64    81   100   121   144\n",
      "   169   196   225   256   289   324   361   400   441   484   529   576\n",
      "   625   676   729   784   841   900   961  1024  1089  1156  1225  1296\n",
      "  1369  1444  1521  1600  1681  1764  1849  1936  2025  2116  2209  2304\n",
      "  2401  2500  2601  2704  2809  2916  3025  3136  3249  3364  3481  3600\n",
      "  3721  3844  3969  4096  4225  4356  4489  4624  4761  4900  5041  5184\n",
      "  5329  5476  5625  5776  5929  6084  6241  6400  6561  6724  6889  7056\n",
      "  7225  7396  7569  7744  7921  8100  8281  8464  8649  8836  9025  9216\n",
      "  9409  9604  9801 10000]\n"
     ]
    }
   ],
   "source": [
    "f = np.arange(1, 101)\n",
    "g = f ** 2\n",
    "print(g)"
   ]
  },
  {
   "cell_type": "markdown",
   "id": "01e50d29",
   "metadata": {},
   "source": [
    "Q4. Normalize a NumPy array `[10, 20, 30, 40, 50]` using vectorized operations (subtract mean and divide by std deviation)."
   ]
  },
  {
   "cell_type": "code",
   "execution_count": 9,
   "id": "6a63d2be",
   "metadata": {},
   "outputs": [
    {
     "name": "stdout",
     "output_type": "stream",
     "text": [
      "[-1.41421356 -0.70710678  0.          0.70710678  1.41421356]\n"
     ]
    }
   ],
   "source": [
    "h = np.array([10, 20, 30, 40, 50])\n",
    "mean_h = np.mean(h)\n",
    "std_h = np.std(h)\n",
    "normalized_h = (h - mean_h) / std_h\n",
    "print(normalized_h)"
   ]
  },
  {
   "cell_type": "markdown",
   "id": "902b9a6f",
   "metadata": {},
   "source": [
    "### Summary\n",
    "\n",
    "Broadcasting and vectorization are core performance boosters in NumPy that allow us to write AI/ML code that's **clean, efficient, and fast**. Broadcasting enables us to perform operations between arrays of different shapes by automatically expanding one of them to match the shape of the other — without copying data. This means we can easily add a scalar to an array, a 1D row vector to a 2D matrix, or even match shapes in more complex ways. For instance, a shape of `(3, 1)` can be broadcast with `(1, 3)` to produce a `(3, 3)` result.\n",
    "\n",
    "On the other hand, vectorization helps eliminate the use of Python loops altogether. Instead of manually iterating through elements, we perform operations on entire arrays. This isn’t just syntactic sugar — it’s **faster and more memory-efficient**, and it scales better for large datasets used in training AI models. Deep learning libraries like TensorFlow, PyTorch, and JAX heavily rely on broadcasting and vectorized operations under the hood. Whether we're applying transformations, calculating loss functions, or doing matrix operations — broadcasting and vectorization allow us to write code that’s both powerful and elegant."
   ]
  }
 ],
 "metadata": {
  "kernelspec": {
   "display_name": "Venv",
   "language": "python",
   "name": "python3"
  },
  "language_info": {
   "codemirror_mode": {
    "name": "ipython",
    "version": 3
   },
   "file_extension": ".py",
   "mimetype": "text/x-python",
   "name": "python",
   "nbconvert_exporter": "python",
   "pygments_lexer": "ipython3",
   "version": "3.12.8"
  }
 },
 "nbformat": 4,
 "nbformat_minor": 5
}
