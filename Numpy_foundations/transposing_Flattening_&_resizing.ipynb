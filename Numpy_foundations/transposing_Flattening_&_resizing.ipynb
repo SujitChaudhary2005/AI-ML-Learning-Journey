{
 "cells": [
  {
   "cell_type": "markdown",
   "id": "cdaa2e6a",
   "metadata": {},
   "source": [
    "# Transposing, Flattening & Resizing Arrays in NumPy\n",
    "\n",
    "### What Are Transposing, Flattening & Resizing?\n",
    "\n",
    "When working with multidimensional data in NumPy, we often need to **reorganize the shape or structure** of arrays for mathematical operations or machine learning workflows. NumPy makes it easy to **transpose, flatten, and resize arrays** so they match the expected input/output formats of algorithms and models.\n",
    "\n",
    "- **Transposing** means flipping an array along its diagonal — rows become columns and columns become rows.\n",
    "- **Flattening** means converting a multi-dimensional array (like 2D or 3D) into a 1D array.\n",
    "- **Resizing** changes the shape of the array to new dimensions (as long as the total number of elements remains the same).\n",
    "\n",
    "These operations are especially useful in deep learning (reshaping tensors), image processing (flattening RGB matrices), and data preprocessing (transforming tables for model input).\n",
    "\n",
    "### Key Operations\n",
    "\n",
    "1. **Transpose (`.T` or `np.transpose()`)**\n",
    "    \n",
    "    Transposing flips an array's rows and columns. In 2D arrays, it's a simple matrix transpose. For higher dimensions, we can specify axes to permute."
   ]
  },
  {
   "cell_type": "code",
   "execution_count": 1,
   "id": "be7cad11",
   "metadata": {},
   "outputs": [
    {
     "name": "stdout",
     "output_type": "stream",
     "text": [
      "Transposed:\n",
      " [[1 4]\n",
      " [2 5]\n",
      " [3 6]]\n"
     ]
    }
   ],
   "source": [
    "import numpy as np\n",
    "    \n",
    "arr = np.array([[1, 2, 3], [4, 5, 6]])\n",
    "transposed = arr.T\n",
    "print(\"Transposed:\\n\", transposed)"
   ]
  },
  {
   "cell_type": "markdown",
   "id": "74dfabc2",
   "metadata": {},
   "source": [
    "2. **Flatten (`.flatten()` or `np.ravel()`)**\n",
    "    \n",
    "    Flattening reduces a multi-dimensional array to a 1D array. This is commonly done before feeding image data into a neural network or converting matrices into feature vectors."
   ]
  },
  {
   "cell_type": "code",
   "execution_count": 2,
   "id": "f851990e",
   "metadata": {},
   "outputs": [
    {
     "name": "stdout",
     "output_type": "stream",
     "text": [
      "Flattened: [1 2 3 4]\n"
     ]
    }
   ],
   "source": [
    "arr = np.array([[1, 2], [3, 4]])\n",
    "flat = arr.flatten()\n",
    "print(\"Flattened:\", flat)"
   ]
  },
  {
   "cell_type": "markdown",
   "id": "4fd53dd8",
   "metadata": {},
   "source": [
    "3. **Reshape (`.reshape(new_shape)`)**\n",
    "    \n",
    "    Reshaping changes the shape of an array without changing its data. The new shape must match the total number of elements."
   ]
  },
  {
   "cell_type": "code",
   "execution_count": 3,
   "id": "314ea0f6",
   "metadata": {},
   "outputs": [
    {
     "name": "stdout",
     "output_type": "stream",
     "text": [
      "Reshaped:\n",
      " [[1 2 3]\n",
      " [4 5 6]]\n"
     ]
    }
   ],
   "source": [
    "arr = np.array([1, 2, 3, 4, 5, 6])\n",
    "reshaped = arr.reshape((2, 3))\n",
    "print(\"Reshaped:\\n\", reshaped)"
   ]
  },
  {
   "cell_type": "markdown",
   "id": "82017cb5",
   "metadata": {},
   "source": [
    "4. **Resize (`np.resize()` or `.resize()`)**\n",
    "    \n",
    "    Unlike `reshape()`, which only works with the same number of elements, `resize()` can also **add or cut elements**, filling with repeating data if needed."
   ]
  },
  {
   "cell_type": "code",
   "execution_count": 4,
   "id": "669fb174",
   "metadata": {},
   "outputs": [
    {
     "name": "stdout",
     "output_type": "stream",
     "text": [
      "Resized:\n",
      " [[1 2 3 1]\n",
      " [2 3 1 2]]\n"
     ]
    }
   ],
   "source": [
    "arr = np.array([1, 2, 3])\n",
    "resized = np.resize(arr, (2, 4))\n",
    "print(\"Resized:\\n\", resized)"
   ]
  },
  {
   "cell_type": "markdown",
   "id": "dfb88935",
   "metadata": {},
   "source": [
    "### AI/ML Use Cases\n",
    "\n",
    "| Operation | Real-World Use Case |\n",
    "| --- | --- |\n",
    "| Transpose | Matrix alignment in backpropagation |\n",
    "| Flatten | Flattening image data for neural networks |\n",
    "| Reshape | Preparing input/output shapes for layers |\n",
    "| Resize | Adjusting data shape in preprocessing pipelines |\n",
    "\n",
    "### Exercises\n",
    "\n",
    "Q1. Transpose a 3x2 matrix and observe the result."
   ]
  },
  {
   "cell_type": "code",
   "execution_count": 5,
   "id": "11a7c849",
   "metadata": {},
   "outputs": [
    {
     "name": "stdout",
     "output_type": "stream",
     "text": [
      "Original array:\n",
      "[[ 2  4]\n",
      " [ 8 10]\n",
      " [14 16]]\n",
      "\n",
      "Transposed array:\n"
     ]
    }
   ],
   "source": [
    "arr = np.array([[2,4], [8,10], [14,16]])\n",
    "T_arr = np.transpose(arr)\n",
    "\n",
    "print(\"Original array:\")\n",
    "print(arr)\n",
    "\n",
    "print(\"\\nTransposed array:\")"
   ]
  },
  {
   "cell_type": "markdown",
   "id": "71190eb4",
   "metadata": {},
   "source": [
    "Q2. Create a 2x3 array and flatten it using both `.flatten()` and `np.ravel()`"
   ]
  },
  {
   "cell_type": "code",
   "execution_count": 6,
   "id": "76bae598",
   "metadata": {},
   "outputs": [
    {
     "name": "stdout",
     "output_type": "stream",
     "text": [
      "\n",
      "Original array:\n",
      "[[ 2  6 10]\n",
      " [ 4  8 12]]\n",
      "\n",
      "Flattened array:\n",
      "[ 2  6 10  4  8 12]\n",
      "\n",
      "Raveled array:\n",
      "[ 2  6 10  4  8 12]\n"
     ]
    }
   ],
   "source": [
    "arr = np.array([[2,6,10], [4,8,12]])\n",
    "\n",
    "F_arr = arr.flatten()\n",
    "rav_arr = np.ravel(arr)\n",
    "\n",
    "print(\"\\nOriginal array:\")\n",
    "print(arr)\n",
    "\n",
    "print(\"\\nFlattened array:\")\n",
    "print(F_arr)\n",
    "\n",
    "print(\"\\nRaveled array:\")\n",
    "print(rav_arr)"
   ]
  },
  {
   "cell_type": "markdown",
   "id": "82691b51",
   "metadata": {},
   "source": [
    "Q3. Create a 1D array with 12 elements and reshape it into a 3x4 matrix."
   ]
  },
  {
   "cell_type": "code",
   "execution_count": 7,
   "id": "690dbb21",
   "metadata": {},
   "outputs": [
    {
     "name": "stdout",
     "output_type": "stream",
     "text": [
      "\n",
      "Original array:\n",
      "[5 6 7 8 9 6 5 4 3 2 1 4]\n",
      "\n",
      "Reshaped array:\n",
      "[[5 6 7 8]\n",
      " [9 6 5 4]\n",
      " [3 2 1 4]]\n"
     ]
    }
   ],
   "source": [
    "arr = np.array([5,6,7,8,9,6,5,4,3,2,1,4])\n",
    "reshaped_arr = arr.reshape(3, 4)\n",
    "\n",
    "print(\"\\nOriginal array:\")\n",
    "print(arr)\n",
    "\n",
    "print(\"\\nReshaped array:\")\n",
    "print(reshaped_arr)"
   ]
  },
  {
   "cell_type": "markdown",
   "id": "a14a6d5a",
   "metadata": {},
   "source": [
    "Q4. Use `np.resize()` to resize a 1D array of 5 elements into a 2x4 array."
   ]
  },
  {
   "cell_type": "code",
   "execution_count": 8,
   "id": "df6c79f1",
   "metadata": {},
   "outputs": [
    {
     "name": "stdout",
     "output_type": "stream",
     "text": [
      "Original array:\n",
      "[5 6 7 8 9]\n",
      "Resized array:\n",
      "[[5 6 7 8]\n",
      " [9 5 6 7]]\n"
     ]
    }
   ],
   "source": [
    "arr = np.array([5,6,7,8,9])\n",
    "resized_arr = np.resize(arr, (2, 4))\n",
    "\n",
    "print(\"Original array:\")\n",
    "print(arr)\n",
    "\n",
    "print(\"Resized array:\")\n",
    "print(resized_arr)"
   ]
  },
  {
   "cell_type": "markdown",
   "id": "3bfa610b",
   "metadata": {},
   "source": [
    "### Summary\n",
    "\n",
    "Transposing, flattening, and resizing are powerful operations in NumPy that help structure data correctly for machine learning and data analysis tasks. Transposing is essential for aligning dimensions in matrix multiplication or gradient calculation. Flattening is commonly used when converting multidimensional data (like images) into 1D vectors for input into models. Reshaping is fundamental when converting input/output into forms expected by different algorithms or neural network layers. Resizing goes a step further by altering array size even when element count changes.\n",
    "\n",
    "Together, these tools give us flexibility and control over how we prepare and process data. Mastering them ensures that our AI/ML models receive data in the correct shape — reducing bugs, boosting performance, and enabling smooth experimentation."
   ]
  }
 ],
 "metadata": {
  "kernelspec": {
   "display_name": "Venv",
   "language": "python",
   "name": "python3"
  },
  "language_info": {
   "codemirror_mode": {
    "name": "ipython",
    "version": 3
   },
   "file_extension": ".py",
   "mimetype": "text/x-python",
   "name": "python",
   "nbconvert_exporter": "python",
   "pygments_lexer": "ipython3",
   "version": "3.12.8"
  }
 },
 "nbformat": 4,
 "nbformat_minor": 5
}
