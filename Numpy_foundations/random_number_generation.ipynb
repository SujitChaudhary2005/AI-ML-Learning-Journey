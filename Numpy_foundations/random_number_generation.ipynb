{
 "cells": [
  {
   "cell_type": "markdown",
   "id": "79dec874",
   "metadata": {},
   "source": [
    "# Random Number Generation in NumPy\n",
    "\n",
    "### What is Random Number Generation?\n",
    "\n",
    "When we talk about random number generation, we mean creating values that are unpredictable or follow a probability distribution. In NumPy, we use this concept to simulate real-world scenarios, prepare datasets, and build intelligent systems. The `np.random` module gives us powerful tools to generate random values such as floats, integers, or samples from distributions like uniform or normal.\n",
    "\n",
    "We rely on randomness for tasks like training/testing data splits, initializing model weights, simulating rare cases, or shuffling training batches. Since most randomness in programming is pseudo-random (generated using algorithms), NumPy allows us to control it using `np.random.seed()` — ensuring our results are repeatable and reliable.\n",
    "\n",
    "### Basic Random Generators in `np.random`\n",
    "\n",
    "1. Random Floats in [0,1)"
   ]
  },
  {
   "cell_type": "code",
   "execution_count": 1,
   "id": "46739691",
   "metadata": {},
   "outputs": [
    {
     "name": "stdout",
     "output_type": "stream",
     "text": [
      "[0.62072827 0.31172415 0.14888059 0.23720541 0.18024249]\n"
     ]
    }
   ],
   "source": [
    "import numpy as np\n",
    "    \n",
    "random_floats = np.random.rand(5)\n",
    "print(random_floats)"
   ]
  },
  {
   "cell_type": "markdown",
   "id": "c6d007a3",
   "metadata": {},
   "source": [
    "2. Random Integers (Uniform Distribution)"
   ]
  },
  {
   "cell_type": "code",
   "execution_count": 2,
   "id": "d1bade7d",
   "metadata": {},
   "outputs": [
    {
     "name": "stdout",
     "output_type": "stream",
     "text": [
      "[[5 3 1]\n",
      " [2 2 5]\n",
      " [2 5 5]]\n"
     ]
    }
   ],
   "source": [
    "rand_ints = np.random.randint(1, 10, size=(3, 3))\n",
    "print(rand_ints)"
   ]
  },
  {
   "cell_type": "markdown",
   "id": "e1cc2c56",
   "metadata": {},
   "source": [
    "3. Normal Distribution (mean=0, std=1)"
   ]
  },
  {
   "cell_type": "code",
   "execution_count": 3,
   "id": "41cae662",
   "metadata": {},
   "outputs": [
    {
     "name": "stdout",
     "output_type": "stream",
     "text": [
      "Mean: -0.11094400346607065\n",
      "Standard Deviation: 0.935027116329924\n"
     ]
    }
   ],
   "source": [
    "normal_data = np.random.randn(100)\n",
    "print(\"Mean:\", np.mean(normal_data))\n",
    "print(\"Standard Deviation:\", np.std(normal_data))"
   ]
  },
  {
   "cell_type": "markdown",
   "id": "0012b1c4",
   "metadata": {},
   "source": [
    "### Reproducibility with `np.random.seed()`\n",
    "\n",
    "We use `np.random.seed()` when we want our code to behave **exactly the same** every time we run it — especially useful in testing and model tuning."
   ]
  },
  {
   "cell_type": "code",
   "execution_count": 4,
   "id": "f3b92758",
   "metadata": {},
   "outputs": [
    {
     "name": "stdout",
     "output_type": "stream",
     "text": [
      "[0.37454012 0.95071431 0.73199394]\n"
     ]
    }
   ],
   "source": [
    "np.random.seed(42)\n",
    "print(np.random.rand(3))"
   ]
  },
  {
   "cell_type": "markdown",
   "id": "9ca00d60",
   "metadata": {},
   "source": [
    "### Random Shuffling and Permutation\n",
    "\n",
    "1. Shuffle In-Place"
   ]
  },
  {
   "cell_type": "code",
   "execution_count": 5,
   "id": "a11d8b40",
   "metadata": {},
   "outputs": [
    {
     "name": "stdout",
     "output_type": "stream",
     "text": [
      "[4 2 3 1 5]\n"
     ]
    }
   ],
   "source": [
    "arr = np.array([1, 2, 3, 4, 5])\n",
    "np.random.shuffle(arr)\n",
    "print(arr)"
   ]
  },
  {
   "cell_type": "markdown",
   "id": "c5143a10",
   "metadata": {},
   "source": [
    "2. Return a Shuffled Copy"
   ]
  },
  {
   "cell_type": "code",
   "execution_count": 6,
   "id": "89af49fb",
   "metadata": {},
   "outputs": [
    {
     "name": "stdout",
     "output_type": "stream",
     "text": [
      "Original: [10 20 30 40]\n",
      "Shuffled: [20 10 40 30]\n"
     ]
    }
   ],
   "source": [
    "arr = np.array([10, 20, 30, 40])\n",
    "shuffled = np.random.permutation(arr)\n",
    "print(\"Original:\", arr)\n",
    "print(\"Shuffled:\", shuffled)"
   ]
  },
  {
   "cell_type": "markdown",
   "id": "d2cdad4e",
   "metadata": {},
   "source": [
    "### Random Samples from Custom Distributions\n",
    "\n",
    "1.  Normal Distribution with Custom Mean/Std"
   ]
  },
  {
   "cell_type": "code",
   "execution_count": 7,
   "id": "35ced8e5",
   "metadata": {},
   "outputs": [
    {
     "name": "stdout",
     "output_type": "stream",
     "text": [
      "Normal Distribution Sample: [-2.01096289 -0.49280342  0.39257975 -0.92918467  0.07983181 -0.1595165\n",
      "  0.02222183 -0.42779291 -0.53181741 -0.1174755 ]\n"
     ]
    }
   ],
   "source": [
    "normal = np.random.normal(loc=0, scale=1, size=10)\n",
    "print(\"Normal Distribution Sample:\", normal)"
   ]
  },
  {
   "cell_type": "markdown",
   "id": "e6c5409d",
   "metadata": {},
   "source": [
    "2. Uniform Distribution from a Rang"
   ]
  },
  {
   "cell_type": "code",
   "execution_count": 8,
   "id": "8c903616",
   "metadata": {},
   "outputs": [
    {
     "name": "stdout",
     "output_type": "stream",
     "text": [
      "Uniform Distribution Sample: [9.86877759 6.1638567  5.45303217 8.09193005 6.91230996]\n"
     ]
    }
   ],
   "source": [
    "uniform = np.random.uniform(low=5, high=10, size=5)\n",
    "print(\"Uniform Distribution Sample:\", uniform)"
   ]
  },
  {
   "cell_type": "markdown",
   "id": "68e2f231",
   "metadata": {},
   "source": [
    "### Random Choice from a List or Array"
   ]
  },
  {
   "cell_type": "code",
   "execution_count": 9,
   "id": "c1bce8bb",
   "metadata": {},
   "outputs": [
    {
     "name": "stdout",
     "output_type": "stream",
     "text": [
      "['Anjali' 'Anjali']\n"
     ]
    }
   ],
   "source": [
    "names = ['Sujit', 'Ram', 'Ravi', 'Anjali']\n",
    "chosen = np.random.choice(names, size=2)\n",
    "print(chosen)"
   ]
  },
  {
   "cell_type": "markdown",
   "id": "8f30f909",
   "metadata": {},
   "source": [
    "### Why It Matters in AI/ML\n",
    "\n",
    "Random numbers are part of almost every AI workflow we work with. They help us:\n",
    "\n",
    "- Split datasets into **training and testing sets**\n",
    "- Initialize **neural network weights** with randomness\n",
    "- Simulate synthetic data when we lack real-world samples\n",
    "- Shuffle datasets to avoid overfitting\n",
    "- Add noise to make models more **generalizable**\n",
    "- Use `np.random.seed()` to **reproduce experiments** for consistent debugging\n",
    "\n",
    "Whether we’re training a deep learning model or just exploring data, randomness keeps our work **unbiased, flexible, and powerful**.\n",
    "\n",
    "### Exercises\n",
    "\n",
    "Q1. Generate a 1D array of 10 random floats between 0 and 1."
   ]
  },
  {
   "cell_type": "code",
   "execution_count": 10,
   "id": "87e5879d",
   "metadata": {},
   "outputs": [
    {
     "name": "stdout",
     "output_type": "stream",
     "text": [
      "Random Floats (0 to 1): [0.46676289 0.85994041 0.68030754 0.45049925 0.01326496 0.94220176\n",
      " 0.56328822 0.3854165  0.01596625 0.23089383]\n"
     ]
    }
   ],
   "source": [
    "arr = np.random.rand(10)\n",
    "print(\"Random Floats (0 to 1):\", arr)\n"
   ]
  },
  {
   "cell_type": "markdown",
   "id": "6466f7a0",
   "metadata": {},
   "source": [
    "Q2. Create a 4×4 matrix of random integers between 10 and 100."
   ]
  },
  {
   "cell_type": "code",
   "execution_count": 11,
   "id": "4db7d254",
   "metadata": {},
   "outputs": [
    {
     "name": "stdout",
     "output_type": "stream",
     "text": [
      "[[69 80 53 17]\n",
      " [56 44 87 90]\n",
      " [45 59 13 11]\n",
      " [15 63 13 63]]\n"
     ]
    }
   ],
   "source": [
    "matrix = np.random.randint(10, 100, size=(4, 4))\n",
    "print(matrix)"
   ]
  },
  {
   "cell_type": "markdown",
   "id": "3c8caa04",
   "metadata": {},
   "source": [
    "Q3. Generate 1000 values from a normal distribution with mean = 5 and std = 2. Find their mean and std."
   ]
  },
  {
   "cell_type": "code",
   "execution_count": 12,
   "id": "d6713e33",
   "metadata": {},
   "outputs": [
    {
     "name": "stdout",
     "output_type": "stream",
     "text": [
      "Sample Mean: 5.103095308885288\n",
      "Sample Standard Deviation: 2.0759947016224602\n"
     ]
    }
   ],
   "source": [
    "# Generate 1000 values from a normal distribution (mean=5, std=2)\n",
    "data = np.random.normal(loc=5, scale=2, size=1000)\n",
    "\n",
    "# Calculate the mean and standard deviation of the generated data\n",
    "mean = np.mean(data)\n",
    "std_dev = np.std(data)\n",
    "\n",
    "print(\"Sample Mean:\", mean)\n",
    "print(\"Sample Standard Deviation:\", std_dev)"
   ]
  },
  {
   "cell_type": "markdown",
   "id": "b6074f80",
   "metadata": {},
   "source": [
    "Q4. Shuffle a list of integers from 1 to 10 and print both original and shuffled versions."
   ]
  },
  {
   "cell_type": "code",
   "execution_count": 13,
   "id": "0e845f68",
   "metadata": {},
   "outputs": [
    {
     "name": "stdout",
     "output_type": "stream",
     "text": [
      "Original list: [ 1  2  3  4  5  6  7  8  9 10]\n",
      "Shuffled list: [ 1  6 10  2  4  3  9  5  7  8]\n"
     ]
    }
   ],
   "source": [
    "# Original list\n",
    "original = np.arange(1, 11)\n",
    "print(\"Original list:\", original)\n",
    "\n",
    "# Shuffled list\n",
    "shuffled = original.copy()\n",
    "np.random.shuffle(shuffled)\n",
    "print(\"Shuffled list:\", shuffled)"
   ]
  },
  {
   "cell_type": "markdown",
   "id": "adc1412c",
   "metadata": {},
   "source": [
    "Q5. Set a random seed and generate the same 5 random integers twice to prove reproducibility."
   ]
  },
  {
   "cell_type": "code",
   "execution_count": 14,
   "id": "46bffa7c",
   "metadata": {},
   "outputs": [
    {
     "name": "stdout",
     "output_type": "stream",
     "text": [
      "First set: [52 93 15 72 61]\n",
      "Second set: [52 93 15 72 61]\n"
     ]
    }
   ],
   "source": [
    "np.random.seed(42)\n",
    "\n",
    "# Generate 5 random integers between 1 and 100\n",
    "random_integers_1 = np.random.randint(1, 101, size=5)\n",
    "print(\"First set:\", random_integers_1)\n",
    "\n",
    "# Reset the seed to get the same result\n",
    "np.random.seed(42)\n",
    "random_integers_2 = np.random.randint(1, 101, size=5)\n",
    "print(\"Second set:\", random_integers_2)"
   ]
  },
  {
   "cell_type": "markdown",
   "metadata": {},
   "source": [
    "### Summary\n",
    "\n",
    "Understanding how to generate and control randomness is crucial. Random number generation in NumPy helps us simulate real-world conditions, train reliable models, and ensure that our results can be repeated. We use it to create synthetic datasets, initialize weights in models, shuffle inputs, and inject noise — all of which help our models learn better and generalize well.\n",
    "\n",
    "By using functions like `np.random.rand()`, `np.random.randint()`, `np.random.normal()`, and `np.random.uniform()`, we can generate values for testing or training in any shape or range. For example, we might generate a 2D array of random integers to simulate pixel data, or draw from a normal distribution to create features with realistic variance. We can also sample from custom distributions or lists using `np.random.choice()`.\n",
    "\n",
    "For reproducibility — a key part of any serious ML experiment — we use `np.random.seed()` to make sure our randomness stays consistent each time we rerun the code. Functions like `shuffle()` and `permutation()` help us reorder data safely.\n",
    "\n",
    "Overall, mastering NumPy’s random tools gives us flexibility and control — two essential qualities for building robust, intelligent systems. With these tools, we’re not just relying on randomness — we’re engineering it for insight and innovation."
   ]
  }
 ],
 "metadata": {
  "kernelspec": {
   "display_name": "Venv",
   "language": "python",
   "name": "python3"
  },
  "language_info": {
   "codemirror_mode": {
    "name": "ipython",
    "version": 3
   },
   "file_extension": ".py",
   "mimetype": "text/x-python",
   "name": "python",
   "nbconvert_exporter": "python",
   "pygments_lexer": "ipython3",
   "version": "3.12.8"
  }
 },
 "nbformat": 4,
 "nbformat_minor": 5
}
