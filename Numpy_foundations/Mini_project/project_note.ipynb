{
 "cells": [
  {
   "cell_type": "markdown",
   "id": "63638794",
   "metadata": {},
   "source": [
    "# Project implementation and note\n",
    "\n",
    "## Code Block Explanations\n",
    "\n",
    "**Import and Initial Data Setup:** This section imports the NumPy library, which is essential for numerical computing in Python. NumPy provides powerful array operations and mathematical functions. The program creates three separate arrays representing student scores in different subjects: math, science, and English. Each array contains 5 scores corresponding to 5 different students. The `np.array()` function converts Python lists into NumPy arrays, which are more efficient for numerical operations and provide vectorized computing capabilities. This foundational step establishes the core data structure that will be manipulated throughout the program."
   ]
  },
  {
   "cell_type": "code",
   "execution_count": null,
   "id": "261be43e",
   "metadata": {},
   "outputs": [],
   "source": [
    "import numpy as np\n",
    "\n",
    "math_scores = np.array([78, 85, 96, 70, 88])\n",
    "science_scores = np.array([82, 79, 91, 68, 85])\n",
    "english_scores = np.array([75, 80, 89, 72, 84])"
   ]
  },
  {
   "cell_type": "markdown",
   "id": "83fcd5e4",
   "metadata": {},
   "source": [
    "**Array Combination and Structure:** This section combines the three separate score arrays into a single 2D array using `np.column_stack()`. This function takes the individual arrays and stacks them as columns, creating a matrix where each row represents a student and each column represents a subject. The resulting `student_scores` array has dimensions of 5×3 (5 students, 3 subjects), providing a structured format for analyzing student performance across multiple subjects. This transformation makes it easier to perform operations on the entire dataset and enables more sophisticated data analysis techniques."
   ]
  },
  {
   "cell_type": "code",
   "execution_count": null,
   "id": "c27ca08c",
   "metadata": {},
   "outputs": [],
   "source": [
    "student_scores = np.column_stack((math_scores, science_scores, english_scores))\n",
    "print(\"Student Scores (Rows=Students, Cols=Subjects):\\n\", student_scores)"
   ]
  },
  {
   "cell_type": "markdown",
   "id": "09e4dbe6",
   "metadata": {},
   "source": [
    "**Array Flattening Operation:** This section demonstrates array flattening using the `flatten()` method, which converts the 2D array into a 1D array containing all elements in row-major order. The flattened array contains all 15 scores (5 students × 3 subjects) in a single linear sequence. This operation is useful for certain statistical calculations or when you need to process all data points uniformly without regard to their original structure. The flattened array maintains all the original data but loses the dimensional relationships between students and subjects."
   ]
  },
  {
   "cell_type": "code",
   "execution_count": null,
   "id": "bcf4f0e4",
   "metadata": {},
   "outputs": [],
   "source": [
    "flattened = student_scores.flatten()\n",
    "print(\"\\nFlattened Scores:\\n\", flattened)"
   ]
  },
  {
   "cell_type": "markdown",
   "id": "5db1a262",
   "metadata": {},
   "source": [
    "**Statistical Analysis Functions:** This section performs comprehensive statistical analysis on the score data using NumPy's built-in statistical functions. The `axis=0` parameter specifies that calculations should be performed along the first axis (rows), resulting in statistics for each subject column. The `np.mean()` function calculates average scores per subject, `np.max()` and `np.min()` find the highest and lowest scores respectively, and `np.std()` computes the standard deviation to measure score variability. These statistics provide valuable insights into subject difficulty, student performance distribution, and consistency across different academic areas."
   ]
  },
  {
   "cell_type": "code",
   "execution_count": null,
   "id": "ea168ec3",
   "metadata": {},
   "outputs": [],
   "source": [
    "mean_scores = np.mean(student_scores, axis=0)\n",
    "max_scores = np.max(student_scores, axis=0)\n",
    "min_scores = np.min(student_scores, axis=0)\n",
    "std_scores = np.std(student_scores, axis=0)\n",
    "\n",
    "print(\"\\nMean per subject:\", mean_scores)\n",
    "print(\"Max per subject:\", max_scores)\n",
    "print(\"Min per subject:\", min_scores)\n",
    "print(\"Std Dev per subject:\", std_scores)"
   ]
  },
  {
   "cell_type": "markdown",
   "id": "d532aa41",
   "metadata": {},
   "source": [
    "**Matrix Transposition:** This section demonstrates matrix transposition using the `.T` property, which flips the array along its diagonal. The transposed array converts the original 5×3 matrix (5 students, 3 subjects) into a 3×5 matrix (3 subjects, 5 students). This operation is particularly useful when you want to analyze data from a different perspective, such as viewing all students' performance in each subject as separate rows. Transposition is a fundamental linear algebra operation that's essential for many mathematical computations and data restructuring tasks."
   ]
  },
  {
   "cell_type": "code",
   "execution_count": null,
   "id": "0cef2f2d",
   "metadata": {},
   "outputs": [],
   "source": [
    "transposed_scores = student_scores.T\n",
    "print(\"\\nTransposed Scores:\\n\", transposed_scores)"
   ]
  },
  {
   "cell_type": "markdown",
   "id": "9b5b11eb",
   "metadata": {},
   "source": [
    "**Vertical Array Splitting:** This section demonstrates vertical splitting using `np.vsplit()`, which divides the array horizontally along rows. The function splits the 5×3 array at row index 3, creating two separate arrays: the first containing the first 3 students' scores and the second containing the remaining 2 students' scores. The split index `[3]` specifies where to make the division. This operation is useful for creating training and testing datasets, analyzing different student groups, or processing data in smaller chunks while maintaining the original column structure."
   ]
  },
  {
   "cell_type": "code",
   "execution_count": null,
   "id": "6c6338ff",
   "metadata": {},
   "outputs": [],
   "source": [
    "first_group, second_group = np.vsplit(student_scores, [3])\n",
    "print(\"\\nFirst 3 Students:\\n\", first_group)\n",
    "print(\"Last 2 Students:\\n\", second_group)"
   ]
  },
  {
   "cell_type": "markdown",
   "id": "ce9b479f",
   "metadata": {},
   "source": [
    "**Horizontal Array Splitting:** This section uses `np.hsplit()` to divide the array vertically along columns, splitting the 5×3 array into three separate 5×1 arrays, each representing one subject. The parameter `3` indicates the number of equal-width splits to create. This operation isolates each subject's scores into separate arrays, making it easier to perform subject-specific analysis or comparisons. Each resulting array maintains the student order but contains only one subject's data, enabling focused analysis of individual academic areas."
   ]
  },
  {
   "cell_type": "code",
   "execution_count": null,
   "id": "c949de82",
   "metadata": {},
   "outputs": [],
   "source": [
    "math, science, english = np.hsplit(student_scores, 3)\n",
    "print(\"\\nMath Column:\\n\", math)\n",
    "print(\"Science Column:\\n\", science)\n",
    "print(\"English Column:\\n\", english)"
   ]
  },
  {
   "cell_type": "markdown",
   "id": "b87ba414",
   "metadata": {},
   "source": [
    "**Data Persistence Operations:** This section demonstrates NumPy's data saving capabilities using two different formats. The `np.save()` function saves the array in NumPy's binary format (.npy), which preserves data types and array structure efficiently. The `np.savetxt()` function saves data as human-readable text with comma delimiters, using integer formatting `(fmt='%d')`. The binary format is faster and more compact but requires NumPy to read, while the text format is universal and can be opened in any text editor or spreadsheet application. Both methods ensure data persistence across program sessions."
   ]
  },
  {
   "cell_type": "code",
   "execution_count": null,
   "id": "e9f07066",
   "metadata": {},
   "outputs": [],
   "source": [
    "np.save('student_scores.npy', student_scores)\n",
    "np.savetxt('student_scores.txt', student_scores, fmt='%d', delimiter=',')"
   ]
  },
  {
   "cell_type": "markdown",
   "id": "ef960b5c",
   "metadata": {},
   "source": [
    "**Data Loading Operations:** This section demonstrates loading previously saved data using `np.load()` for binary files and `np.loadtxt()` for text files. The `np.load()` function reads the .npy file and reconstructs the original array with its exact data types and dimensions. The `np.loadtxt()` function parses the comma-delimited text file, automatically converting string representations back to numerical values. Both operations verify that the data saving and loading process maintains data integrity, ensuring that arrays can be reliably stored and retrieved for future analysis or processing."
   ]
  },
  {
   "cell_type": "code",
   "execution_count": null,
   "id": "299abf4c",
   "metadata": {},
   "outputs": [],
   "source": [
    "loaded_npy = np.load('student_scores.npy')\n",
    "loaded_txt = np.loadtxt('student_scores.txt', delimiter=',')\n",
    "\n",
    "print(\"\\nLoaded from .npy:\\n\", loaded_npy)\n",
    "print(\"\\nLoaded from .txt:\\n\", loaded_txt)"
   ]
  },
  {
   "cell_type": "markdown",
   "id": "bcf1e124",
   "metadata": {},
   "source": [
    "**Array Extension and Enhancement:** This section demonstrates dynamic array expansion by adding a new subject (Computer) to the existing score matrix. The `np.column_stack()` function combines the original `student_scores` array with the new `computer_scores` array, creating an extended 5×4 matrix. This operation shows how NumPy can accommodate growing datasets by adding new dimensions while preserving existing data structure. The extended array maintains the row-student, column-subject relationship while incorporating additional academic performance data for more comprehensive analysis."
   ]
  },
  {
   "cell_type": "code",
   "execution_count": null,
   "id": "f69b8e3c",
   "metadata": {},
   "outputs": [],
   "source": [
    "computer_scores = np.array([85, 87, 90, 78, 92])\n",
    "student_scores_extended = np.column_stack((student_scores, computer_scores))\n",
    "print(\"\\nExtended Scores with Computer Subject:\\n\", student_scores_extended)"
   ]
  },
  {
   "cell_type": "markdown",
   "id": "2f3451ec",
   "metadata": {},
   "source": [
    "**Individual Student Analysis:** This section calculates each student's average performance across all subjects using `np.mean()` with `axis=1`. The `axis=1` parameter specifies calculation along columns (subjects) for each row (student), resulting in a 1D array containing five average scores. This operation transforms the multi-subject data into a single performance metric per student, enabling easy comparison and ranking. The averages provide a consolidated view of each student's overall academic performance, which is particularly useful for grade calculation and student evaluation purposes."
   ]
  },
  {
   "cell_type": "code",
   "execution_count": null,
   "id": "c12671b4",
   "metadata": {},
   "outputs": [],
   "source": [
    "student_averages = np.mean(student_scores_extended, axis=1)\n",
    "print(\"\\nStudent Averages:\", student_averages)"
   ]
  },
  {
   "cell_type": "markdown",
   "id": "54105bc8",
   "metadata": {},
   "source": [
    "**Final Data Export:** This section saves the calculated student averages to a text file using `np.savetxt()` with floating-point formatting `(fmt='%.2f')`. The format specifier ensures that averages are displayed with two decimal places, providing appropriate precision for grade representation. This final step demonstrates a complete data processing workflow: input data creation, analysis, transformation, and output generation. The saved averages file can be used for reporting, grade management, or further analysis in other applications."
   ]
  },
  {
   "cell_type": "code",
   "execution_count": null,
   "id": "d65a7f9a",
   "metadata": {},
   "outputs": [],
   "source": [
    "np.savetxt('averages.txt', student_averages, fmt='%.2f')\n",
    "\n",
    "print(\"\\nProject Complete: Arrays created, processed, saved, loaded, and extended!\")"
   ]
  }
 ],
 "metadata": {
  "language_info": {
   "name": "python"
  }
 },
 "nbformat": 4,
 "nbformat_minor": 5
}
