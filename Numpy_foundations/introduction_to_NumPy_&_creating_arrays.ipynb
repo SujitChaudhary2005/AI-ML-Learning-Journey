{
 "cells": [
  {
   "cell_type": "markdown",
   "id": "072a75d1",
   "metadata": {},
   "source": [
    "# Introduction to NumPy and Creating Arrays\n",
    "\n",
    "## What is NumPy?\n",
    "\n",
    "NumPy (Numerical Python) is a fundamental packages for scientific computing in Python. It helps us work with **multidimensional arrays and matrices**, along with a wide collection of **mathematical functions** to operate on these arrays.\n",
    "\n",
    "While Python list are flexible, they are slow for large datasets. That’s where NumPy shines — it’s **faster, more memory-efficient**, and supports **vectorized operations**, which means we can perform tasks on entire arrays without writing loops.\n",
    "\n",
    "### Why Do We Use NumPy?\n",
    "\n",
    "Here’s why we prefer NumPy for data science and AI work:\n",
    "\n",
    "- **Speed & Performance**: NumPy arrays (ndarrays) are way faster than Python lists because they store data in contiguous blocks of memory with fixed types.\n",
    "- **Less Memory Usage**: Python lists store each item as a full Python object with overhead. NumPy arrays skip that and store only raw values.\n",
    "- **Broadcasting & Vectorization**: We can perform operations on whole arrays without writing slow loops.\n",
    "- **Foundation for AI/ML Libraries**: Libraries like Pandas, TensorFlow, PyTorch, and Scikit-learn are built on top of NumPy.\n",
    "- **Powerful I/O Capabilities**: We can load, save, and manipulate data easily with built-in tools.\n",
    "\n",
    "### Importing NumPy\n",
    "\n",
    "To start using NumPy, we need to import it first:"
   ]
  },
  {
   "cell_type": "code",
   "execution_count": 1,
   "id": "cd6d5928",
   "metadata": {},
   "outputs": [],
   "source": [
    "import numpy as np"
   ]
  },
  {
   "cell_type": "markdown",
   "id": "59b69afd",
   "metadata": {},
   "source": [
    "The convention `np` keeps our code short and readable.\n",
    "\n",
    "### Creating NumPy Arrays\n",
    "\n",
    "**From Python List:**"
   ]
  },
  {
   "cell_type": "code",
   "execution_count": 2,
   "id": "9edb3f53",
   "metadata": {},
   "outputs": [
    {
     "name": "stdout",
     "output_type": "stream",
     "text": [
      "[ 1  2  3  4  5  6  7  8  9 10]\n"
     ]
    }
   ],
   "source": [
    "nums = [1, 2, 3, 4, 5, 6, 7, 8, 9, 10]\n",
    "arr = np.array(nums)\n",
    "print(arr)"
   ]
  },
  {
   "cell_type": "markdown",
   "id": "acfdef81",
   "metadata": {},
   "source": [
    "**Multidimensional Arrays:**"
   ]
  },
  {
   "cell_type": "code",
   "execution_count": 3,
   "id": "4fd5af99",
   "metadata": {},
   "outputs": [
    {
     "name": "stdout",
     "output_type": "stream",
     "text": [
      "[[1 2]\n",
      " [3 4]]\n"
     ]
    }
   ],
   "source": [
    "two_d = np.array([[1, 2], [3, 4]])\n",
    "print(two_d)"
   ]
  },
  {
   "cell_type": "markdown",
   "id": "128bc1bc",
   "metadata": {},
   "source": [
    "**Using NumPy Functions:**"
   ]
  },
  {
   "cell_type": "code",
   "execution_count": 4,
   "id": "449c92c8",
   "metadata": {},
   "outputs": [
    {
     "name": "stdout",
     "output_type": "stream",
     "text": [
      "1. [[0. 0. 0.]\n",
      " [0. 0. 0.]] \n",
      "\n",
      "2. [[1. 1. 1.]\n",
      " [1. 1. 1.]\n",
      " [1. 1. 1.]] \n",
      "\n",
      "3. [[7 7]\n",
      " [7 7]] \n",
      "\n",
      "4. [[1. 0. 0.]\n",
      " [0. 1. 0.]\n",
      " [0. 0. 1.]] \n",
      "\n",
      "5. [0 2 4 6 8] \n",
      "\n",
      "6. [0.   0.25 0.5  0.75 1.  ] \n",
      "\n",
      "7. [[0. 0. 0.]\n",
      " [0. 0. 0.]]\n"
     ]
    }
   ],
   "source": [
    "print('1.', np.zeros((2, 3)), '\\n')        # All zeros\n",
    "print('2.', np.ones((3, 3)), '\\n')         # All ones\n",
    "print('3.', np.full((2, 2), 7), '\\n')      # Filled with 7\n",
    "print('4.', np.eye(3), '\\n')               # Identity matrix\n",
    "print('5.', np.arange(0, 10, 2), '\\n')     # Range with step\n",
    "print('6.', np.linspace(0, 1, 5), '\\n')    # Evenly spaced\n",
    "print('7.', np.empty((2,3)))               # Uninitialized"
   ]
  },
  {
   "cell_type": "markdown",
   "id": "5337ffe4",
   "metadata": {},
   "source": [
    "**Inspecting Arrays:**"
   ]
  },
  {
   "cell_type": "code",
   "execution_count": 5,
   "id": "97f2e0c5",
   "metadata": {},
   "outputs": [
    {
     "name": "stdout",
     "output_type": "stream",
     "text": [
      "1. (4,)\n",
      "2. 1\n",
      "3. 4\n",
      "4. int64\n",
      "5. int64\n"
     ]
    }
   ],
   "source": [
    "numbers = [1, 2, 3, 4]\n",
    "array = np.array(numbers)\n",
    "\n",
    "print('1.', array.shape)       # (rows, columns)\n",
    "print('2.', array.ndim)        # Number of dimensions\n",
    "print('3.', array.size)        # Total number of elements\n",
    "print('4.', array.dtype)       # Data type (output as dtype object) int64\n",
    "print('5.', array.dtype.name)  # Name of the dtype (output as string) 'int64'"
   ]
  },
  {
   "cell_type": "markdown",
   "id": "dc4218cb",
   "metadata": {},
   "source": [
    "### Data Types in NumPy\n",
    "\n",
    "NumPy supports powerful data types:\n",
    "\n",
    "| Data Type | Description |\n",
    "| --- | --- |\n",
    "| `np.int64` | 64-bit integer |\n",
    "| `np.float32` | 32-bit float |\n",
    "| `np.complex` | Complex numbers |\n",
    "| `np.bool_` | Boolean (True/False) |\n",
    "| `np.string_` | Fixed-length ASCII strings |\n",
    "| `np.unicode_` | Fixed-length Unicode |\n",
    "\n",
    "Convert data types using:"
   ]
  },
  {
   "cell_type": "code",
   "execution_count": 6,
   "id": "62011a33",
   "metadata": {},
   "outputs": [
    {
     "name": "stdout",
     "output_type": "stream",
     "text": [
      "[1. 2. 3. 4.]\n"
     ]
    }
   ],
   "source": [
    "print(array.astype(np.float64))"
   ]
  },
  {
   "cell_type": "markdown",
   "id": "ae101a27",
   "metadata": {},
   "source": [
    "### Saving and Loading Arrays"
   ]
  },
  {
   "cell_type": "code",
   "execution_count": null,
   "id": "5020d851",
   "metadata": {},
   "outputs": [],
   "source": [
    "np.save('my_array.npy', arr)         # Save binary\n",
    "np.load('my_array.npy')              # Load binary\n",
    "\n",
    "np.savetxt('my_file.txt', arr, delimiter=',')   # Save text\n",
    "np.loadtxt('my_file.txt', delimiter=',')        # Load text\n",
    "np.genfromtxt('file.csv', delimiter=',')        # More flexible loading"
   ]
  },
  {
   "cell_type": "markdown",
   "id": "4c2ebdca",
   "metadata": {},
   "source": [
    "We can also save multiple arrays in compressed `.npz` format:"
   ]
  },
  {
   "cell_type": "code",
   "execution_count": null,
   "id": "a67bf060",
   "metadata": {},
   "outputs": [],
   "source": [
    "np.savez('data.npz', a=arr1, b=arr2)\n",
    "data = np.load('data.npz')\n",
    "print(data['a'])  # Access saved arrays"
   ]
  },
  {
   "cell_type": "markdown",
   "id": "72f86c5c",
   "metadata": {},
   "source": [
    "### Summary\n",
    "\n",
    "NumPy is the backbone of scientific computing in Python, and mastering it is essential for anyone pursuing data science, AI, or machine learning. It offers a powerful `ndarray` object that lets us store and manipulate structured numerical data much more efficiently than Python lists. Whether we're working with 1D arrays (like vectors) or 2D and higher-dimensional arrays (like matrices), NumPy provides clean and efficient tools.\n",
    "\n",
    "In this first step of our journey, we’ve explored what makes NumPy special. We’ve seen how to create arrays using Python lists and a variety of built-in NumPy functions like `zeros()`, `ones()`, `arange()`, `full()`, `eye()`, and even generate random arrays with `random.random()`. We’ve also learned about NumPy's efficient storage system and how it uses less memory by enforcing fixed data types. We can check array properties like shape, size, number of dimensions, and data types easily with simple attributes.\n",
    "\n",
    "Most importantly, NumPy allows us to save and load our work in both binary and text formats using functions like `save()`, `load()`, `savetxt()`, and `genfromtxt()`. This makes it easy to persist and reuse our data — an important part of building real-world AI projects."
   ]
  }
 ],
 "metadata": {
  "kernelspec": {
   "display_name": "Venv",
   "language": "python",
   "name": "python3"
  },
  "language_info": {
   "codemirror_mode": {
    "name": "ipython",
    "version": 3
   },
   "file_extension": ".py",
   "mimetype": "text/x-python",
   "name": "python",
   "nbconvert_exporter": "python",
   "pygments_lexer": "ipython3",
   "version": "3.12.8"
  }
 },
 "nbformat": 4,
 "nbformat_minor": 5
}
