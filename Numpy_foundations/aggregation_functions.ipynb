{
 "cells": [
  {
   "cell_type": "markdown",
   "id": "c8710b90",
   "metadata": {},
   "source": [
    "# Aggregation Functions in NumPy\n",
    "\n",
    "### What Are Aggregation Functions?\n",
    "\n",
    "Aggregation functions take an entire array (or a part of it) and **reduce** it to a single summary value. They’re super important in data analysis and machine learning because they give you insights like totals, averages, max/min values, and distributions in your data.\n",
    "\n",
    "### Common Aggregation Functions\n",
    "\n",
    "| Function | Description | Example |\n",
    "| --- | --- | --- |\n",
    "| `np.sum()` | Sum of all elements | Sum all numbers in an array |\n",
    "| `np.prod()` | Product of all elements | Multiply all numbers |\n",
    "| `np.mean()` | Average (mean) of elements | Compute average value |\n",
    "| `np.median()` | Median (middle value when sorted) | Compute middle value |\n",
    "| `np.min()` | Minimum value | Smallest number |\n",
    "| `np.max()` | Maximum value | Largest number |\n",
    "| `np.var()` | Variance (spread of data) | Average squared deviation from the mean |\n",
    "| `np.std()` | Standard deviation (spread of data) | Square root of variance |\n",
    "\n",
    "### Example"
   ]
  },
  {
   "cell_type": "code",
   "execution_count": 1,
   "id": "bb02fc85",
   "metadata": {},
   "outputs": [
    {
     "name": "stdout",
     "output_type": "stream",
     "text": [
      "Sum: 30\n",
      "Product: 3840\n",
      "Mean: 6.0\n",
      "Median: 6.0\n",
      "Min: 2\n",
      "Max: 10\n",
      "Variance: 8.0\n",
      "Std Deviation: 2.8284271247461903\n"
     ]
    }
   ],
   "source": [
    "import numpy as np\n",
    "\n",
    "arr = np.array([2, 4, 6, 8, 10])\n",
    "\n",
    "print(\"Sum:\", np.sum(arr))           \n",
    "print(\"Product:\", np.prod(arr))     \n",
    "print(\"Mean:\", np.mean(arr))        \n",
    "print(\"Median:\", np.median(arr))    \n",
    "print(\"Min:\", np.min(arr))          \n",
    "print(\"Max:\", np.max(arr))          \n",
    "print(\"Variance:\", np.var(arr))     \n",
    "print(\"Std Deviation:\", np.std(arr))"
   ]
  },
  {
   "cell_type": "markdown",
   "id": "603e71b3",
   "metadata": {},
   "source": [
    "### Axis Parameter for Aggregation\n",
    "\n",
    "For multi-dimensional arrays, you can aggregate across **rows** or **columns** using the `axis` parameter:"
   ]
  },
  {
   "cell_type": "code",
   "execution_count": 2,
   "id": "97c7487a",
   "metadata": {},
   "outputs": [
    {
     "name": "stdout",
     "output_type": "stream",
     "text": [
      "Sum over columns (axis=0): [5 7 9]\n",
      "Sum over rows (axis=1): [ 6 15]\n"
     ]
    }
   ],
   "source": [
    "matrix = np.array([[1, 2, 3],\n",
    "                   [4, 5, 6]])\n",
    "\n",
    "print(\"Sum over columns (axis=0):\", np.sum(matrix, axis=0))\n",
    "print(\"Sum over rows (axis=1):\", np.sum(matrix, axis=1)) "
   ]
  },
  {
   "cell_type": "markdown",
   "id": "be1441df",
   "metadata": {},
   "source": [
    "### Exercises\n",
    "\n",
    "Q1. Create a NumPy array `[3, 5, 7, 9, 11]` and compute its sum, mean, and product."
   ]
  },
  {
   "cell_type": "code",
   "execution_count": 3,
   "id": "489d508f",
   "metadata": {},
   "outputs": [
    {
     "name": "stdout",
     "output_type": "stream",
     "text": [
      "Sum: 35\n",
      "Mean: 7.0\n",
      "Product: 10395\n"
     ]
    }
   ],
   "source": [
    "arr = np.array([3, 5, 7, 9, 11])\n",
    "\n",
    "print(\"Sum:\", np.sum(arr))\n",
    "print(\"Mean:\", np.mean(arr))\n",
    "print(\"Product:\", np.prod(arr))"
   ]
  },
  {
   "cell_type": "markdown",
   "id": "4bc9144f",
   "metadata": {},
   "source": [
    "Q2. Create a 2x3 matrix from 10 - 60  and calculate the column-wise mean and row-wise sum."
   ]
  },
  {
   "cell_type": "code",
   "execution_count": 4,
   "id": "548934f5",
   "metadata": {},
   "outputs": [
    {
     "name": "stdout",
     "output_type": "stream",
     "text": [
      "Sum over columns (axis=0): [50 70 90]\n",
      "Sum over rows (axis=1): [ 60 150]\n"
     ]
    }
   ],
   "source": [
    "matrix = np.array([[10, 20, 30],\n",
    "                   [40, 50, 60]])\n",
    "\n",
    "print(\"Sum over columns (axis=0):\", np.sum(matrix, axis=0))\n",
    "print(\"Sum over rows (axis=1):\", np.sum(matrix, axis=1))"
   ]
  },
  {
   "cell_type": "markdown",
   "id": "0c9c94bd",
   "metadata": {},
   "source": [
    "Q3. Generate a random 5x5 matrix and find the maximum and minimum values overall, and along each axis."
   ]
  },
  {
   "cell_type": "code",
   "execution_count": null,
   "id": "e0234f12",
   "metadata": {},
   "outputs": [
    {
     "name": "stdout",
     "output_type": "stream",
     "text": [
      "Matrix:\n",
      " [[ 11  11  24  93  95]\n",
      " [ 73  59  11  46  61]\n",
      " [ 22  84  21 100  87]\n",
      " [ 66  57  73  55  47]\n",
      " [ 66  77  33  99  14]]\n",
      "Overall max: 100\n",
      "Overall min: 11\n",
      "Max values along columns: [ 73  84  73 100  95]\n",
      "Min values along columns: [11 11 11 46 14]\n",
      "Max values along rows: [ 95  73 100  73  99]\n",
      "Min values along rows: [11 11 21 47 14]\n"
     ]
    }
   ],
   "source": [
    "matrix = np.random.randint(0, 101, size=(5, 5))\n",
    "print(\"Matrix:\\n\", matrix)\n",
    "\n",
    "max_val = np.max(matrix)\n",
    "min_val = np.min(matrix)\n",
    "print(f\"Overall max: {max_val}\")\n",
    "print(f\"Overall min: {min_val}\")\n",
    "\n",
    "max_axis0 = np.max(matrix, axis=0)\n",
    "min_axis0 = np.min(matrix, axis=0)\n",
    "print(f\"Max values along columns: {max_axis0}\")\n",
    "print(f\"Min values along columns: {min_axis0}\")\n",
    "\n",
    "max_axis1 = np.max(matrix, axis=1)\n",
    "min_axis1 = np.min(matrix, axis=1)\n",
    "print(f\"Max values along rows: {max_axis1}\")\n",
    "print(f\"Min values along rows: {min_axis1}\")"
   ]
  },
  {
   "cell_type": "markdown",
   "id": "2dfe4397",
   "metadata": {},
   "source": [
    "Q4. Calculate the variance and standard deviation of the array `[10, 20, 30, 40, 50]`."
   ]
  },
  {
   "cell_type": "code",
   "execution_count": 6,
   "id": "d2c37393",
   "metadata": {},
   "outputs": [
    {
     "name": "stdout",
     "output_type": "stream",
     "text": [
      "Standard deviation: 14.142135623730951\n",
      "Variance: 200.0\n"
     ]
    }
   ],
   "source": [
    "arr = np.array([10, 20, 30, 40, 50])\n",
    "variance = np.var(arr)\n",
    "standard_deviation = np.std(arr)\n",
    "\n",
    "print(f'Standard deviation: {standard_deviation}')\n",
    "print(f'Variance: {variance}')"
   ]
  },
  {
   "cell_type": "markdown",
   "id": "1b75c4d1",
   "metadata": {},
   "source": [
    "### Summary\n",
    "\n",
    "Aggregation functions in NumPy are powerful tools that reduce large arrays of data into meaningful summary values, such as sums, means, products, minimums, maximums, variances, and standard deviations. These functions help us understand the overall characteristics and distribution of data quickly and efficiently, which is essential for tasks like data preprocessing, analysis, and model evaluation in AI and machine learning. For example, calculating the sum or mean of a dataset can reveal total quantities or average trends, while variance and standard deviation provide insights into data spread and variability. When working with multi-dimensional data, aggregation can be performed across specific axes—such as rows or columns—allowing flexible and precise summaries. By mastering aggregation functions, you gain the ability to transform raw numerical data into actionable insights, making them fundamental building blocks in any AI or data science workflow."
   ]
  }
 ],
 "metadata": {
  "kernelspec": {
   "display_name": "Venv",
   "language": "python",
   "name": "python3"
  },
  "language_info": {
   "codemirror_mode": {
    "name": "ipython",
    "version": 3
   },
   "file_extension": ".py",
   "mimetype": "text/x-python",
   "name": "python",
   "nbconvert_exporter": "python",
   "pygments_lexer": "ipython3",
   "version": "3.12.8"
  }
 },
 "nbformat": 4,
 "nbformat_minor": 5
}
