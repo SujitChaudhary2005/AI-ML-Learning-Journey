{
 "cells": [
  {
   "cell_type": "markdown",
   "id": "4c3c617d",
   "metadata": {},
   "source": [
    "# Array Data Types & Type Conversion\n",
    "\n",
    "### What is `dtype` in NumPy?\n",
    "\n",
    "In NumPy, every array has a data type (`dtype`), which determines the kind of values it can hold—such as integers (`int32`, `int64`), floating points (`float32`, `float64`), booleans (`bool`), and even complex numbers or strings.\n",
    "\n",
    "Knowing the data type of an array is essential for **memory efficiency**, **processing speed**, and **compatibility** with machine learning frameworks. For example, an array with `int32` will take less memory than `int64`, and `float32` is commonly used in deep learning models due to GPU optimization.\n",
    "\n",
    "We can check an array’s data type using:"
   ]
  },
  {
   "cell_type": "code",
   "execution_count": 1,
   "id": "057c3c18",
   "metadata": {},
   "outputs": [
    {
     "name": "stdout",
     "output_type": "stream",
     "text": [
      "int64\n"
     ]
    }
   ],
   "source": [
    "import numpy as np\n",
    "\n",
    "a = np.array([1, 2, 3])\n",
    "print(a.dtype)"
   ]
  },
  {
   "cell_type": "markdown",
   "id": "0e1e3725",
   "metadata": {},
   "source": [
    "### Type Conversion Using `.astype()`\n",
    "\n",
    "NumPy allows us to **convert data types** using `.astype()` method. This is especially useful when:\n",
    "\n",
    "- Preparing data for a model (e.g., converting integers to floats).\n",
    "- Compressing memory usage.\n",
    "- Avoiding type mismatch errors."
   ]
  },
  {
   "cell_type": "code",
   "execution_count": 2,
   "id": "89af1534",
   "metadata": {},
   "outputs": [
    {
     "name": "stdout",
     "output_type": "stream",
     "text": [
      "[1. 2. 3.]\n",
      "[ True  True  True]\n",
      "[1 2 3]\n"
     ]
    }
   ],
   "source": [
    "a = np.array([1, 2, 3])\n",
    "\n",
    "# Convert to float\n",
    "a_float = a.astype(float)\n",
    "print(a_float)\n",
    "\n",
    "# Convert to bool\n",
    "a_bool = a.astype(bool)\n",
    "print(a_bool)\n",
    "\n",
    "# Convert float to int (decimal will be dropped)\n",
    "a_back = a_float.astype(int)\n",
    "print(a_back)"
   ]
  },
  {
   "cell_type": "markdown",
   "id": "d2456c6d",
   "metadata": {},
   "source": [
    "### Common Data Type Conversion Operations in NumPy\n",
    "\n",
    "| **Operation** | **Description** | **Code** | **Result** |\n",
    "| --- | --- | --- | --- |\n",
    "| Check type | Show data type | `a.dtype` | `int64` |\n",
    "| Convert to float | Type conversion | `a.astype(float)` | `[1.0, 2.0, 3.0]` |\n",
    "| Int to bool | 0=False, others=True | `a.astype(bool)` | `[True, True, True]` |\n",
    "| Float to int | Drops decimals | `a.astype(int)` | `[1, 2, 3]` |\n",
    "| Invalid cast | String to int (not allowed) | ❌ `a.astype(int)` | `Error` |\n",
    "\n",
    "### Exercises\n",
    "\n",
    "Q1. Create a 1D array containing values from 1 to 5\n",
    "- Print the data type of `a` using `.dtype`"
   ]
  },
  {
   "cell_type": "code",
   "execution_count": 3,
   "id": "84b5e283",
   "metadata": {},
   "outputs": [
    {
     "name": "stdout",
     "output_type": "stream",
     "text": [
      "int64\n"
     ]
    }
   ],
   "source": [
    "a = np.array([1, 2, 3, 4, 5])\n",
    "print(a.dtype)"
   ]
  },
  {
   "cell_type": "markdown",
   "id": "11bf28f8",
   "metadata": {},
   "source": [
    "Q2. Convert the array `a` to the following data types using `.astype()`\n",
    "\n",
    "- a boolean array\n",
    "- a float array"
   ]
  },
  {
   "cell_type": "code",
   "execution_count": 4,
   "id": "1feff27c",
   "metadata": {},
   "outputs": [
    {
     "name": "stdout",
     "output_type": "stream",
     "text": [
      "[ True  True  True  True  True]\n",
      "[1. 2. 3. 4. 5.]\n"
     ]
    }
   ],
   "source": [
    "print(a.astype(bool))\n",
    "print(a.astype(float))"
   ]
  },
  {
   "cell_type": "markdown",
   "id": "942a589b",
   "metadata": {},
   "source": [
    "Q3. Create an array with `[1.9, 0.0, 0.5, 3.7]` items and convert it to integers and boolean."
   ]
  },
  {
   "cell_type": "code",
   "execution_count": 5,
   "id": "f923cc51",
   "metadata": {},
   "outputs": [
    {
     "name": "stdout",
     "output_type": "stream",
     "text": [
      "[1 0 0 3]\n",
      "[ True False  True  True]\n"
     ]
    }
   ],
   "source": [
    "b = np.array([1.9, 0.0, 0.5, 3.7])\n",
    "print(b.astype(int))\n",
    "print(b.astype(bool))"
   ]
  },
  {
   "cell_type": "markdown",
   "id": "e74a3ac9",
   "metadata": {},
   "source": [
    "### Summary\n",
    "\n",
    "In NumPy, understanding and using `dtype` (data type) is crucial in AI and machine learning workflows. Data types affect **memory efficiency**, **performance**, and **precision**. For example, using `float32` instead of `float64` reduces memory usage significantly, which is important when working with large datasets or running models on GPUs. Most deep learning frameworks like TensorFlow and PyTorch are optimized for `float32`, making it a standard for model training. Also, selecting the appropriate type avoids issues like **overflow**, **underflow**, or **loss of precision**. we can check a NumPy array’s data type using `a.dtype`, and convert it using `.astype()` — such as converting an `int` array to `float`, or a `float` array to `bool`. For example, an array `[1, 2, 3]` can be transformed to `[1.0, 2.0, 3.0]` using `.astype(float)`, and then to `[True, True, True]` using `.astype(bool)`. These conversions are useful in preprocessing pipelines or while passing data to machine learning models. However, be cautious of **lossy conversions** — like converting float to int, which drops the decimal part. Overall, `dtype` and type conversion are powerful tools that must be used wisely for **high-performance, error-free AI applications**. In real ML pipelines, using the right `dtype` like `float32` not only ensures **GPU compatibility** but also **optimizes memory usage and training performance** for large-scale models."
   ]
  }
 ],
 "metadata": {
  "kernelspec": {
   "display_name": "Venv",
   "language": "python",
   "name": "python3"
  },
  "language_info": {
   "codemirror_mode": {
    "name": "ipython",
    "version": 3
   },
   "file_extension": ".py",
   "mimetype": "text/x-python",
   "name": "python",
   "nbconvert_exporter": "python",
   "pygments_lexer": "ipython3",
   "version": "3.12.8"
  }
 },
 "nbformat": 4,
 "nbformat_minor": 5
}
