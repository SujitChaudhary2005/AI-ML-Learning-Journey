{
 "cells": [
  {
   "cell_type": "markdown",
   "id": "588d8cff",
   "metadata": {},
   "source": [
    "# Stacking & Splitting Arrays in NumPy\n",
    "\n",
    "### What Are Stacking & Splitting?\n",
    "\n",
    "When we work with data in NumPy, especially in AI and ML, we often need to **combine multiple arrays** into one or **split a large array** into smaller pieces. This helps us organize our data the way our models and algorithms expect.\n",
    "\n",
    "- **Stacking** means we’re joining multiple arrays together — side by side (horizontal), top to bottom (vertical), or even deeper (like 3D).\n",
    "- **Splitting** means we’re taking a big array and breaking it into smaller chunks — row-wise, column-wise, or by depth.\n",
    "\n",
    "These tools help us prepare training data, group features, manage batches, handle image channels, and more. Once we’re good at stacking and splitting, reshaping data becomes smooth and flexible across our entire ML pipeline.\n",
    "\n",
    "### Key Operations (Stack)\n",
    "\n",
    "1. **Horizontal Stack – `np.hstack()`**\n",
    "    \n",
    "    This stacks arrays **side by side**. We use it when the number of **rows is the same**, and we want to extend the **columns**."
   ]
  },
  {
   "cell_type": "code",
   "execution_count": 1,
   "id": "84a2bb64",
   "metadata": {},
   "outputs": [
    {
     "name": "stdout",
     "output_type": "stream",
     "text": [
      "Horizontal Stack:\n",
      " [[1 2 5 6]\n",
      " [3 4 7 8]]\n"
     ]
    }
   ],
   "source": [
    "import numpy as np\n",
    "    \n",
    "a = np.array([[1, 2], [3, 4]])\n",
    "b = np.array([[5, 6], [7, 8]])\n",
    "    \n",
    "h_stacked = np.hstack((a, b))\n",
    "print(\"Horizontal Stack:\\n\", h_stacked)"
   ]
  },
  {
   "cell_type": "markdown",
   "id": "bdb91f40",
   "metadata": {},
   "source": [
    "2. **Vertical Stack – `np.vstack()`**\n",
    "\n",
    "    This stacks arrays **on top of each other**. Here, the number of **columns must match**, and it adds more **rows**."
   ]
  },
  {
   "cell_type": "code",
   "execution_count": 2,
   "id": "cda5d417",
   "metadata": {},
   "outputs": [
    {
     "name": "stdout",
     "output_type": "stream",
     "text": [
      "Vertical Stack:\n",
      " [[1 2]\n",
      " [3 4]\n",
      " [5 6]\n",
      " [7 8]]\n"
     ]
    }
   ],
   "source": [
    "v_stacked = np.vstack((a, b))\n",
    "print(\"Vertical Stack:\\n\", v_stacked)"
   ]
  },
  {
   "cell_type": "markdown",
   "id": "64e7c02f",
   "metadata": {},
   "source": [
    "3. **Depth Stack – `np.dstack()`**\n",
    "\n",
    "    This stacks arrays along the **third axis (depth)** — perfect when we want to make 3D arrays."
   ]
  },
  {
   "cell_type": "code",
   "execution_count": 3,
   "id": "4bcdb008",
   "metadata": {},
   "outputs": [
    {
     "name": "stdout",
     "output_type": "stream",
     "text": [
      "Depth Stack:\n",
      " [[[1 5]\n",
      "  [2 6]]\n",
      "\n",
      " [[3 7]\n",
      "  [4 8]]]\n"
     ]
    }
   ],
   "source": [
    "d_stacked = np.dstack((a, b))\n",
    "print(\"Depth Stack:\\n\", d_stacked)"
   ]
  },
  {
   "cell_type": "markdown",
   "id": "d204b8d2",
   "metadata": {},
   "source": [
    "4. **Stack – `np.stack()`**\n",
    "\n",
    "    This is the most flexible stack. We can choose **which axis** to stack on (axis=0, 1, or 2). It creates a new dimension."
   ]
  },
  {
   "cell_type": "code",
   "execution_count": 4,
   "id": "254de419",
   "metadata": {},
   "outputs": [
    {
     "name": "stdout",
     "output_type": "stream",
     "text": [
      "Stacked along axis 0:\n",
      " [[[1 2]\n",
      "  [3 4]]\n",
      "\n",
      " [[5 6]\n",
      "  [7 8]]]\n",
      "Stacked along axis 1:\n",
      " [[[1 2]\n",
      "  [5 6]]\n",
      "\n",
      " [[3 4]\n",
      "  [7 8]]]\n"
     ]
    }
   ],
   "source": [
    "stacked0 = np.stack((a, b), axis=0)\n",
    "stacked1 = np.stack((a, b), axis=1)\n",
    "    \n",
    "print(\"Stacked along axis 0:\\n\", stacked0)\n",
    "print(\"Stacked along axis 1:\\n\", stacked1)"
   ]
  },
  {
   "cell_type": "markdown",
   "id": "88da0c45",
   "metadata": {},
   "source": [
    "### Key Operations (Split)\n",
    "\n",
    "1. **Horizontal Split – `np.hsplit()`**\n",
    "\n",
    "    We can split an array **column-wise**. It breaks the array into chunks **horizontally**."
   ]
  },
  {
   "cell_type": "code",
   "execution_count": 5,
   "id": "b31abceb",
   "metadata": {},
   "outputs": [
    {
     "name": "stdout",
     "output_type": "stream",
     "text": [
      "Horizontal Split:\n",
      " [array([[1, 2],\n",
      "       [5, 6]]), array([[3, 4],\n",
      "       [7, 8]])]\n"
     ]
    }
   ],
   "source": [
    "arr = np.array([[1, 2, 3, 4], [5, 6, 7, 8]])\n",
    "hsplit = np.hsplit(arr, 2)\n",
    "print(\"Horizontal Split:\\n\", hsplit)"
   ]
  },
  {
   "cell_type": "markdown",
   "id": "8ea480f5",
   "metadata": {},
   "source": [
    "2. **Vertical Split – `np.vsplit()`**\n",
    "\n",
    "    We split the array **row-wise** — breaking it into vertical sections."
   ]
  },
  {
   "cell_type": "code",
   "execution_count": 6,
   "id": "39446287",
   "metadata": {},
   "outputs": [
    {
     "name": "stdout",
     "output_type": "stream",
     "text": [
      "Vertical Split:\n",
      " [array([[1, 2, 3, 4]]), array([[5, 6, 7, 8]])]\n"
     ]
    }
   ],
   "source": [
    "vsplit = np.vsplit(arr, 2)\n",
    "print(\"Vertical Split:\\n\", vsplit)"
   ]
  },
  {
   "cell_type": "markdown",
   "id": "e8fd637f",
   "metadata": {},
   "source": [
    "3. **Depth Split – `np.dsplit()`**\n",
    "    \n",
    "    This works on **3D arrays** and splits them along the **depth/channel axis**."
   ]
  },
  {
   "cell_type": "code",
   "execution_count": 7,
   "id": "3d5e3d81",
   "metadata": {},
   "outputs": [
    {
     "name": "stdout",
     "output_type": "stream",
     "text": [
      "Depth Split:\n",
      " [array([[[1],\n",
      "        [2]],\n",
      "\n",
      "       [[3],\n",
      "        [4]]]), array([[[5],\n",
      "        [6]],\n",
      "\n",
      "       [[7],\n",
      "        [8]]])]\n"
     ]
    }
   ],
   "source": [
    "arr_3d = np.dstack((a, b))\n",
    "dsplit = np.dsplit(arr_3d, 2)\n",
    "print(\"Depth Split:\\n\", dsplit)"
   ]
  },
  {
   "cell_type": "markdown",
   "id": "ddb4e52e",
   "metadata": {},
   "source": [
    "### AI/ML Use Cases\n",
    "\n",
    "| Operation | How We Use It in AI/ML |\n",
    "| --- | --- |\n",
    "| `hstack()` | Combine features from different arrays |\n",
    "| `vstack()` | Add more samples (rows) to our dataset |\n",
    "| `dstack()` | Stack channels (RGB or feature maps) |\n",
    "| `stack()` | Add batch or channel dimension for models |\n",
    "| `hsplit()` | Break features apart (e.g. split input/output columns) |\n",
    "| `vsplit()` | Make mini-batches from a large dataset |\n",
    "| `dsplit()` | Separate channels or feature layers |\n",
    "\n",
    "### Exercises\n",
    "\n",
    "Q1.  Horizontally stack two 2x2 arrays."
   ]
  },
  {
   "cell_type": "code",
   "execution_count": 8,
   "id": "70cc6270",
   "metadata": {},
   "outputs": [
    {
     "name": "stdout",
     "output_type": "stream",
     "text": [
      "Horizontal Stack:\n",
      " [[1 2 5 6]\n",
      " [3 4 7 8]]\n"
     ]
    }
   ],
   "source": [
    "a = np.array([[1, 2], [3, 4]])  \n",
    "b = np.array([[5, 6], [7, 8]])\n",
    "\n",
    "h_stacked = np.hstack((a, b))\n",
    "print(\"Horizontal Stack:\\n\", h_stacked)"
   ]
  },
  {
   "cell_type": "markdown",
   "id": "b9dd1f85",
   "metadata": {},
   "source": [
    "Q2. Vertically stack two 1-row arrays."
   ]
  },
  {
   "cell_type": "code",
   "execution_count": 9,
   "id": "b8c36a0b",
   "metadata": {},
   "outputs": [
    {
     "name": "stdout",
     "output_type": "stream",
     "text": [
      "Vertical Stack:\n",
      " [[10 20]\n",
      " [30 40]]\n"
     ]
    }
   ],
   "source": [
    "a = np.array([[10, 20]])  \n",
    "b = np.array([[30, 40]])\n",
    "\n",
    "v_stacked = np.vstack((a, b))\n",
    "print(\"Vertical Stack:\\n\", v_stacked)"
   ]
  },
  {
   "cell_type": "markdown",
   "id": "8ad9a2c3",
   "metadata": {},
   "source": [
    "Q3. Use np.stack() to combine two arrays using axis 0 and axis 1. Print their shapes."
   ]
  },
  {
   "cell_type": "code",
   "execution_count": 10,
   "id": "70245064",
   "metadata": {},
   "outputs": [
    {
     "name": "stdout",
     "output_type": "stream",
     "text": [
      "Shape when stacked along axis 0: (2, 2, 2)\n",
      "Shape when stacked along axis 1: (2, 2, 2)\n"
     ]
    }
   ],
   "source": [
    "a = np.array([[4, 5], [6, 7]])\n",
    "b = np.array([[8, 9], [10, 11]])\n",
    "\n",
    "stacked0 = np.stack((a, b), axis=0)\n",
    "stacked1 = np.stack((a, b), axis=1)\n",
    "\n",
    "print(\"Shape when stacked along axis 0:\", stacked0.shape)\n",
    "print(\"Shape when stacked along axis 1:\", stacked1.shape)"
   ]
  },
  {
   "cell_type": "markdown",
   "id": "af6a37e2",
   "metadata": {},
   "source": [
    "Q4. Horizontally split a 2x4 array into two equal parts."
   ]
  },
  {
   "cell_type": "code",
   "execution_count": 11,
   "id": "8b50f67f",
   "metadata": {},
   "outputs": [
    {
     "name": "stdout",
     "output_type": "stream",
     "text": [
      "Horizontal Split:\n",
      " [array([[1, 2],\n",
      "       [5, 6]]), array([[3, 4],\n",
      "       [7, 8]])]\n"
     ]
    }
   ],
   "source": [
    "arr = np.array([[1, 2, 3, 4], [5, 6, 7, 8]])\n",
    "hsplit = np.hsplit(arr, 2)\n",
    "\n",
    "print(\"Horizontal Split:\\n\", hsplit)"
   ]
  },
  {
   "cell_type": "markdown",
   "id": "697020e3",
   "metadata": {},
   "source": [
    "Q5. Create a 3D array using dstack() and split it using dsplit()."
   ]
  },
  {
   "cell_type": "code",
   "execution_count": 12,
   "id": "6340a85f",
   "metadata": {},
   "outputs": [
    {
     "name": "stdout",
     "output_type": "stream",
     "text": [
      "3D Array using dstack():\n",
      " [[[1 5]\n",
      "  [2 6]]\n",
      "\n",
      " [[3 7]\n",
      "  [4 8]]]\n",
      "Split 3D Array using dsplit():\n",
      " [array([[[1],\n",
      "        [2]],\n",
      "\n",
      "       [[3],\n",
      "        [4]]]), array([[[5],\n",
      "        [6]],\n",
      "\n",
      "       [[7],\n",
      "        [8]]])]\n"
     ]
    }
   ],
   "source": [
    "a = np.array([[1, 2], [3, 4]])\n",
    "b = np.array([[5, 6], [7, 8]])\n",
    "\n",
    "arr_3d = np.dstack((a, b))\n",
    "dsplit = np.dsplit(arr_3d, 2)\n",
    "\n",
    "print(\"3D Array using dstack():\\n\", arr_3d)\n",
    "print(\"Split 3D Array using dsplit():\\n\", dsplit)"
   ]
  },
  {
   "cell_type": "markdown",
   "id": "d4cd4062",
   "metadata": {},
   "source": [
    "### Summary\n",
    "\n",
    "Stacking and splitting arrays gives us powerful ways to shape our data exactly how we need it. Whether we’re combining features, joining data, or breaking datasets into parts, NumPy’s stacking and splitting tools help us control data structure with precision.\n",
    "\n",
    "- We use **`hstack()`** to add more columns (side by side).\n",
    "- We use **`vstack()`** to add more rows (top to bottom).\n",
    "- We use **`dstack()`** and **`stack()`** when working with 3D data or models that need extra dimensions.\n",
    "- We use **`hsplit()`**, **`vsplit()`**, and **`dsplit()`** to break data into chunks — for training, testing, batching, or feature engineering.\n",
    "\n",
    "By mastering these, we make sure our data is always in the right shape for models, layers, visualizations, and preprocessing. It’s one more step toward becoming solid in data manipulation and AI development."
   ]
  }
 ],
 "metadata": {
  "kernelspec": {
   "display_name": "Venv",
   "language": "python",
   "name": "python3"
  },
  "language_info": {
   "codemirror_mode": {
    "name": "ipython",
    "version": 3
   },
   "file_extension": ".py",
   "mimetype": "text/x-python",
   "name": "python",
   "nbconvert_exporter": "python",
   "pygments_lexer": "ipython3",
   "version": "3.12.8"
  }
 },
 "nbformat": 4,
 "nbformat_minor": 5
}
