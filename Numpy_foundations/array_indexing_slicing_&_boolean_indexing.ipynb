{
 "cells": [
  {
   "cell_type": "markdown",
   "id": "81472fae",
   "metadata": {},
   "source": [
    "# Array Indexing, Slicing & Boolean Indexing\n",
    "\n",
    "### What is indexing and Slicing?\n",
    "\n",
    "In NumPy, **indexing** allows us to access specific elements from an array, and **slicing** allows us to extract a portion of the array. These are essential tools for manipulating and analyzing data efficiently.\n",
    "\n",
    "Unlike Python lists, NumPy arrays support more powerful indexing, including **boolean** and **fancy indexing**, which help us extract or modify data based on conditions or index lists.\n",
    "\n",
    "### Indexing in NumPy:\n",
    "\n",
    "Indexing is the process of selecting specific elements from a NumPy array using their position (index). In 1D arrays, we use a single index like `a[2]`. In 2D arrays, we use a pair of indices like `a[row, column]` to access individual elements."
   ]
  },
  {
   "cell_type": "code",
   "execution_count": 1,
   "id": "9b68f626",
   "metadata": {},
   "outputs": [
    {
     "name": "stdout",
     "output_type": "stream",
     "text": [
      "20\n",
      "60\n"
     ]
    }
   ],
   "source": [
    "import numpy as np\n",
    "\n",
    "a = np.array([[10, 20, 30], [40, 50, 60]])\n",
    "print(a[0, 1])\n",
    "print(a[1][2])"
   ]
  },
  {
   "cell_type": "markdown",
   "id": "a465b5d3",
   "metadata": {},
   "source": [
    "Visual Representation of `a`:\n",
    "\n",
    "![Image 1](Image/Image1.png)\n",
    "\n",
    "### Negative Indexing:\n",
    "\n",
    "Negative indexing allows us to access elements from the end of the array. For example, `a[-1]` gives the last element, `a[-2]` gives the second last."
   ]
  },
  {
   "cell_type": "code",
   "execution_count": 2,
   "id": "55cdd017",
   "metadata": {},
   "outputs": [
    {
     "name": "stdout",
     "output_type": "stream",
     "text": [
      "50\n"
     ]
    }
   ],
   "source": [
    "a = np.array([10, 20, 30, 40, 50])\n",
    "print(a[-1])"
   ]
  },
  {
   "cell_type": "markdown",
   "id": "dc655075",
   "metadata": {},
   "source": [
    "Visual Representation of `a`:\n",
    "\n",
    "![Image 2](Image/Image2.png)\n",
    "\n",
    "For 2D arrays:"
   ]
  },
  {
   "cell_type": "code",
   "execution_count": 3,
   "id": "0fef5bac",
   "metadata": {},
   "outputs": [
    {
     "name": "stdout",
     "output_type": "stream",
     "text": [
      "6\n",
      "1\n"
     ]
    }
   ],
   "source": [
    "b = np.array([[1, 2, 3], [4, 5, 6]])\n",
    "print(b[-1, -1]) \n",
    "print(b[-2, -3])  "
   ]
  },
  {
   "cell_type": "markdown",
   "id": "be512ac7",
   "metadata": {},
   "source": [
    "Visual Representation of `b`:\n",
    "\n",
    "![Image 3](Image/Image3.png)\n",
    "\n",
    "![Image 4](Image/Image4.png)\n",
    "\n",
    "### Slicing Arrays:\n",
    "\n",
    "Slicing is used to extract a portion or range of elements from an array using the syntax `[start:stop:step]`. This can be applied to 1D, 2D, or higher-dimensional arrays.\n",
    "\n",
    "1D slicing:"
   ]
  },
  {
   "cell_type": "code",
   "execution_count": 4,
   "id": "f5f77256",
   "metadata": {},
   "outputs": [
    {
     "name": "stdout",
     "output_type": "stream",
     "text": [
      "[20 30 40]\n",
      "Reverse:  [50 40 30 20 10]\n"
     ]
    }
   ],
   "source": [
    "a = np.array([10, 20, 30, 40, 50])\n",
    "print(a[1:4])\n",
    "print(\"Reverse: \",a[::-1])"
   ]
  },
  {
   "cell_type": "markdown",
   "id": "6bc94c84",
   "metadata": {},
   "source": [
    "Visual Representation of `a`:\n",
    "\n",
    "![Image 5](Image/Image5.png)\n",
    "\n",
    "2D slicing:"
   ]
  },
  {
   "cell_type": "code",
   "execution_count": 5,
   "id": "38754788",
   "metadata": {},
   "outputs": [
    {
     "name": "stdout",
     "output_type": "stream",
     "text": [
      "[[2 3]\n",
      " [5 6]]\n"
     ]
    }
   ],
   "source": [
    "b = np.array([[1, 2, 3], [4, 5, 6]])\n",
    "print(b[0:2, 1:])"
   ]
  },
  {
   "cell_type": "markdown",
   "id": "1776b844",
   "metadata": {},
   "source": [
    "Visual Representation of `b`: \n",
    "\n",
    "![Image 6](Image/Image6.png)\n",
    "\n",
    "Slicing with Steps:"
   ]
  },
  {
   "cell_type": "code",
   "execution_count": 6,
   "id": "3b441224",
   "metadata": {},
   "outputs": [
    {
     "name": "stdout",
     "output_type": "stream",
     "text": [
      "[0 2 4 6 8]\n",
      "[2 4 6]\n"
     ]
    }
   ],
   "source": [
    "a = np.array([0, 1, 2, 3, 4, 5, 6, 7, 8, 9])\n",
    "print(a[::2])     # Every 2nd value → [0 2 4 6 8]\n",
    "print(a[2:8:2])   # From index 2 to 8, step 2 → [2 4 6]"
   ]
  },
  {
   "cell_type": "markdown",
   "id": "7ddcb550",
   "metadata": {},
   "source": [
    "Visual Representation of `a`:\n",
    "\n",
    "![Image 7](Image/Image7.png)\n",
    "\n",
    "![Image 8](Image/Image8.png)\n",
    "\n",
    "### Boolean Indexing:\n",
    "\n",
    "Boolean indexing selects elements based on conditions. For example, `a[a > 5]` returns all elements greater than 5. We can also combine multiple conditions using `&`, `|`, `~`."
   ]
  },
  {
   "cell_type": "code",
   "execution_count": 7,
   "id": "f8790a9f",
   "metadata": {},
   "outputs": [
    {
     "name": "stdout",
     "output_type": "stream",
     "text": [
      "[4 5 6]\n"
     ]
    }
   ],
   "source": [
    "a = np.array([1, 2, 3, 4, 5, 6])\n",
    "print(a[a > 3])"
   ]
  },
  {
   "cell_type": "markdown",
   "id": "decf861a",
   "metadata": {},
   "source": [
    "Visual Representation of `a`:\n",
    "\n",
    "![Image 9](Image/Image9.png)\n",
    "\n",
    "We can even use combined conditions:"
   ]
  },
  {
   "cell_type": "code",
   "execution_count": 8,
   "id": "42f6438f",
   "metadata": {},
   "outputs": [
    {
     "name": "stdout",
     "output_type": "stream",
     "text": [
      "[3 4 5]\n"
     ]
    }
   ],
   "source": [
    "print(a[(a > 2) & (a < 6)])"
   ]
  },
  {
   "cell_type": "markdown",
   "id": "7a1dd7ea",
   "metadata": {},
   "source": [
    "Visual Representation of `a`:\n",
    "\n",
    "![Image 10](Image/Image10.png)\n",
    "\n",
    "Boolean Indexing Reference Table:\n",
    "\n",
    "| Condition                    | Operator/Function    | Description             | Code Example                 | Result                   |\n",
    "|------------------------------|---------------------|-------------------------|------------------------------|--------------------------|\n",
    "| Greater than 3               | `>`                 | Elements greater than 3 | `a[a > 3]`                   | `[4, 5, 6, 7, 8, 9]`     |\n",
    "| Less than 8                 | `<`                 | Elements less than 8    | `a[a < 8]`                   | `[1, 2, 3, 4, 5, 6, 7]`  |\n",
    "| Equal to 5                  | `==`                | Elements equal to 5     | `a[a == 5]`                  | `[5]`                    |\n",
    "| Not equal to 5              | `!=`                | Exclude the value 5     | `a[a != 5]`                  | `[1, 2, 3, 4, 6, 7, 8, 9]`|\n",
    "| Greater than or equal       | `>=`                | Elements ≥ 5            | `a[a >= 5]`                  | `[5, 6, 7, 8, 9]`        |\n",
    "| Less than or equal          | `<=`                | Elements ≤ 5            | `a[a <= 5]`                  | `[1, 2, 3, 4, 5]`        |\n",
    "| **AND Conditions**          |                     |                         |                              |                          |\n",
    "| Greater than 3 AND less than 8 | `&`              | Select values between 4 and 7 | `a[(a > 3) & (a < 8)]`   | `[4, 5, 6, 7]`           |\n",
    "| Greater than 3 AND less than 8 AND not 5 | `&`      | Between 4 and 7 excluding 5 | `a[(a > 3) & (a < 8) & (a != 5)]` | `[4, 6, 7]`        |\n",
    "| Greater than 7 AND even     | `&` and `%`          | Select even values after 7 | `a[(a > 7) & (a % 2 == 0)]` | `[8]`                    |\n",
    "| **OR Conditions**           |                     |                         |                              |                          |\n",
    "| Less than 4 OR greater than 7 | `\\|`               | Select < 4 or > 7       | `a[(a < 4) \\| (a > 7)]`      | `[1, 2, 3, 8, 9]`        |\n",
    "| Equal to 2 OR equal to 8    | `\\|`                 | Select specific values  | `a[(a == 2) \\| (a == 8)]`    | `[2, 8]`                 |\n",
    "| **NOT Conditions**          |                     |                         |                              |                          |\n",
    "| NOT equal to 5              | `~`                 | Inverse of condition    | `a[~(a == 5)]`               | `[1, 2, 3, 4, 6, 7, 8, 9]`|\n",
    "| NOT greater than 5          | `~`                 | Inverse: ≤ 5            | `a[~(a > 5)]`                | `[1, 2, 3, 4, 5]`        |\n",
    "| **NumPy Logical Functions** |                     |                         |                              |                          |\n",
    "| Logical AND                 | `np.logical_and()`  | Same as `(a > 3) & (a < 8)` | `a[np.logical_and(a > 3, a < 8)]` | `[4, 5, 6, 7]`    |\n",
    "| Logical OR                  | `np.logical_or()`   | Same as `(a < 4) \\| (a > 7)` | `a[np.logical_or(a < 4, a > 7)]` | `[1, 2, 3, 8, 9]`   |\n",
    "| Logical NOT                 | `np.logical_not()`  | Same as `~(a == 5)`     | `a[np.logical_not(a == 5)]`  | `[1, 2, 3, 4, 6, 7, 8, 9]`|\n",
    "| **Special Conditions**      |                     |                         |                              |                          |\n",
    "| Even numbers                | `%`                 | Divisible by 2          | `a[a % 2 == 0]`              | `[2, 4, 6, 8]`           |\n",
    "| Odd numbers                 | `%`                 | Not divisible by 2      | `a[a % 2 != 0]`              | `[1, 3, 5, 7, 9]`        |\n",
    "| Divisible by 3             | `%`                 | Multiples of 3          | `a[a % 3 == 0]`              | `[3, 6, 9]`              |\n",
    "| In a list of values         | `np.isin()`         | Check membership        | `a[np.isin(a, [2, 5, 8])]`   | `[2, 5, 8]`              |\n",
    "\n",
    "Important Notes:\n",
    "\n",
    "1. **Parentheses are crucial** for complex conditions: `(a > 3) & (a < 8)` not `a > 3 & a < 8`\n",
    "2. **Use `&` for AND**, not `and`\n",
    "3. **Use `|` for OR**, not `or`\n",
    "4. **Use `~` for NOT**, not `not`\n",
    "5. **NumPy logical functions** can be more readable for complex conditions\n",
    "6. **Boolean indexing returns a new array**, original array is unchanged\n",
    "\n",
    "### Fancy Indexing:\n",
    "\n",
    "Fancy indexing means accessing elements using lists or arrays of indices, like `a[[0, 2, 4]]`. It also works in multi-dimensional arrays.\n"
   ]
  },
  {
   "cell_type": "code",
   "execution_count": 9,
   "id": "f02175bc",
   "metadata": {},
   "outputs": [
    {
     "name": "stdout",
     "output_type": "stream",
     "text": [
      "[20 40 50]\n"
     ]
    }
   ],
   "source": [
    "a = np.array([10, 20, 30, 40, 50])\n",
    "idx = [1, 3, 4]\n",
    "print(a[idx])"
   ]
  },
  {
   "cell_type": "markdown",
   "id": "e5aaeaf9",
   "metadata": {},
   "source": [
    "Visual Representation of `a`:\n",
    "\n",
    "![Image 11](Image/Image11.png)\n",
    "\n",
    "We can use this in multi-dimensional arrays too:"
   ]
  },
  {
   "cell_type": "code",
   "execution_count": 10,
   "id": "59ed39de",
   "metadata": {},
   "outputs": [
    {
     "name": "stdout",
     "output_type": "stream",
     "text": [
      "[2 5]\n"
     ]
    }
   ],
   "source": [
    "b = np.array([[1, 2], [3, 4], [5, 6]])\n",
    "print(b[[0, 2], [1, 0]])"
   ]
  },
  {
   "cell_type": "markdown",
   "id": "c1bbe6e8",
   "metadata": {},
   "source": [
    "Visual Representation of `b`:\n",
    "\n",
    "![Image 12](Image/Image12.png)\n",
    "\n",
    "### Advanced Fancy Indexing:"
   ]
  },
  {
   "cell_type": "code",
   "execution_count": 11,
   "id": "9f06169e",
   "metadata": {},
   "outputs": [
    {
     "name": "stdout",
     "output_type": "stream",
     "text": [
      "[[1 2 3]\n",
      " [7 8 9]] \n",
      "\n",
      "[[2 3]\n",
      " [5 6]\n",
      " [8 9]]\n"
     ]
    }
   ],
   "source": [
    "matrix = np.array([[1, 2, 3],\n",
    "                   [4, 5, 6],\n",
    "                   [7, 8, 9]])\n",
    "\n",
    "rows = [0, 2]\n",
    "cols = [1, 2]\n",
    "\n",
    "print(matrix[rows],\"\\n\")    # Select specific rows\n",
    "print(matrix[:, cols])      # Select specific columns from all rows"
   ]
  },
  {
   "cell_type": "markdown",
   "id": "c6aee06e",
   "metadata": {},
   "source": [
    "Visual Representation of `matrix`:\n",
    "\n",
    "![Image 13](Image/Image13.png)\n",
    "\n",
    "![Image 14](Image/Image14.png)\n",
    "\n",
    "### Modifying Arrays via Indexing\n",
    "\n",
    "We can change the values of specific elements using indexing. For example:\n",
    "\n",
    "- `a[0] = 100` changes the first element\n",
    "- `a[a > 5] = 0` modifies all values greater than 5"
   ]
  },
  {
   "cell_type": "code",
   "execution_count": 12,
   "id": "4401789e",
   "metadata": {},
   "outputs": [
    {
     "name": "stdout",
     "output_type": "stream",
     "text": [
      "[100   2   3   4   5   6]\n",
      "[ 1 20 30 40  5  6]\n",
      "[1 2 3 4 5 6]\n",
      "[ 1 -1  3 -1  5 -1]\n"
     ]
    }
   ],
   "source": [
    "#modify array via indexing\n",
    "a = np.array([1, 2, 3, 4, 5, 6])\n",
    "\n",
    "# Single element\n",
    "a[0] = 100\n",
    "print(a) \n",
    "\n",
    "a = np.array([1, 2, 3, 4, 5, 6])\n",
    "# Slicing\n",
    "a[1:4] = [20, 30, 40]\n",
    "print(a)\n",
    "\n",
    "a = np.array([1, 2, 3, 4, 5, 6])\n",
    "# Boolean\n",
    "a[a > 50] = 0\n",
    "print(a)\n",
    "\n",
    "a = np.array([1, 2, 3, 4, 5, 6])\n",
    "# Even numbers\n",
    "a[a % 2 == 0] = -1\n",
    "print(a)"
   ]
  },
  {
   "cell_type": "markdown",
   "id": "a44d4c81",
   "metadata": {},
   "source": [
    "### Common Pitfalls\n",
    "\n",
    "These are mistakes that commonly occur while using indexing:\n",
    "\n",
    "- Using `and`, `or` instead of `&`, `|`\n",
    "- Forgetting parentheses in boolean expressions\n",
    "- Expecting fancy/boolean indexing to create views (they make copies!)\n",
    "- Trying to index beyond array dimensions (IndexError)\n",
    "\n",
    "### Exercises\n",
    "\n",
    "Q1. Create a 3×4 array filled with values from 10 to 120.\n",
    "\n",
    "1. Access and print the value `60` using standard indexing.\n",
    "2. Slice the array to extract a subarray that contains the **last two rows** and the **last two columns**.\n",
    "3. Print the **first row** in reverse order using slicing."
   ]
  },
  {
   "cell_type": "code",
   "execution_count": 13,
   "id": "ca1dc12d",
   "metadata": {},
   "outputs": [
    {
     "name": "stdout",
     "output_type": "stream",
     "text": [
      "[[60]] \n",
      "\n",
      "[[ 70  80]\n",
      " [110 120]] \n",
      "\n",
      "[[40 30 20 10]]\n"
     ]
    }
   ],
   "source": [
    "arr = np.array([[10, 20, 30, 40], \n",
    "                [50, 60, 70, 80], \n",
    "                [90, 100, 110, 120]])\n",
    "\n",
    "print(arr[1:2, 1:2],\"\\n\")\n",
    "print(arr[1:,2:],\"\\n\")\n",
    "print(arr[0:1, ::-1])"
   ]
  },
  {
   "cell_type": "markdown",
   "id": "7c1b9582",
   "metadata": {},
   "source": [
    "Q2. Create a 1D NumPy array with values from 1 to 20.\n",
    "\n",
    "1. Use **negative indexing** to extract the **last 5 elements in reverse order**.\n",
    "2. Slice the array to return every **3rd element starting from index -2 and going backwards**."
   ]
  },
  {
   "cell_type": "code",
   "execution_count": 14,
   "id": "db220e35",
   "metadata": {},
   "outputs": [
    {
     "name": "stdout",
     "output_type": "stream",
     "text": [
      "[20 19 18 17 16]\n",
      "[19 16 13 10  7  4  1]\n"
     ]
    }
   ],
   "source": [
    "a = np.arange(1, 21)\n",
    "print(a[-5:][::-1])\n",
    "print(a[-2::-3])"
   ]
  },
  {
   "cell_type": "markdown",
   "id": "7cde1f8f",
   "metadata": {},
   "source": [
    "Q3. Create a 1D NumPy array with values from 1 to 20. Use **boolean indexing** to extract:\n",
    "\n",
    "1. All elements that are divisible by both **2 and 3**.\n",
    "2. All elements that are **not between 8 and 15**, inclusive.\n",
    "3. All elements that are either **less than 5** or **greater than 18**."
   ]
  },
  {
   "cell_type": "code",
   "execution_count": 15,
   "id": "e16fccd6",
   "metadata": {},
   "outputs": [
    {
     "name": "stdout",
     "output_type": "stream",
     "text": [
      "[ 6 12 18]\n",
      "[ 1  2  3  4  5  6  7 16 17 18 19 20]\n",
      "[ 1  2  3  4 19 20]\n"
     ]
    }
   ],
   "source": [
    "a = np.arange(1, 21)\n",
    "print(a[np.logical_and(a % 3 == 0, a % 2 == 0)])\n",
    "print(a[np.logical_not(np.logical_and(a >= 8, a <= 15))])\n",
    "print(a[np.logical_or(a < 5, a > 18)])"
   ]
  },
  {
   "cell_type": "markdown",
   "id": "f848ac2c",
   "metadata": {},
   "source": [
    "Q4. Create a 4x4 array filled with values from 1 to 16.\n",
    "\n",
    "1. Use **fancy indexing** to extract the **diagonal elements** (1, 6, 11, 16).\n",
    "2. Use fancy indexing to extract the values at these positions:\n",
    "    - Row 0, Column 3\n",
    "    - Row 2, Column 1\n",
    "    - Row 3, Column 0"
   ]
  },
  {
   "cell_type": "code",
   "execution_count": 16,
   "id": "ac76b18d",
   "metadata": {},
   "outputs": [
    {
     "name": "stdout",
     "output_type": "stream",
     "text": [
      "[ 1  6 11 16]\n",
      "[ 4 10 13]\n"
     ]
    }
   ],
   "source": [
    "matrix = np.array([[ 1,  2,  3,  4],\n",
    "                   [ 5,  6,  7,  8],\n",
    "                   [ 9, 10, 11, 12],\n",
    "                   [13, 14, 15, 16]])\n",
    "\n",
    "print(matrix[[0, 1, 2, 3], [0, 1, 2, 3]])\n",
    "print(matrix[[0,2,3],[3,1,0]])"
   ]
  },
  {
   "cell_type": "markdown",
   "id": "d0331a39",
   "metadata": {},
   "source": [
    "Q5.  Create a 1D NumPy array with values from 0 to 19. \n",
    "\n",
    "1. Modify the array so that all **even numbers** are replaced with `-1`.\n",
    "2. Replace all values **greater than 10** with their **squares**.\n",
    "3. Using **fancy indexing**, update the values at indices `[1, 5, 10, 15]` and set them to `999`."
   ]
  },
  {
   "cell_type": "code",
   "execution_count": 17,
   "id": "4cf2ea7d",
   "metadata": {},
   "outputs": [
    {
     "name": "stdout",
     "output_type": "stream",
     "text": [
      "[-1  1 -1  3 -1  5 -1  7 -1  9 -1 11 -1 13 -1 15 -1 17 -1 19] \n",
      "\n",
      "[  0   1   2   3   4   5   6   7   8   9  10 121 144 169 196 225 256 289\n",
      " 324 361] \n",
      "\n",
      "[  0 999   2   3   4 999   6   7   8   9 999  11  12  13  14 999  16  17\n",
      "  18  19]\n"
     ]
    }
   ],
   "source": [
    "a = np.arange(20)\n",
    "a[a % 2 == 0] = -1\n",
    "print(a,\"\\n\")\n",
    "\n",
    "a = np.arange(20)\n",
    "a[a > 10] = a[a > 10] ** 2\n",
    "print(a,\"\\n\")\n",
    "\n",
    "a = np.arange(20)\n",
    "idx = [1,5,10,15]\n",
    "a[idx] = 999\n",
    "print(a)"
   ]
  },
  {
   "cell_type": "markdown",
   "id": "7fd77f9b",
   "metadata": {},
   "source": [
    "### Summary\n",
    "\n",
    "In NumPy, indexing and slicing are essential tools for accessing and manipulating array elements efficiently. **Indexing** refers to selecting individual elements using their positions—for example, `arr[1, 2]` accesses the element at row 1, column 2 in a 2D array. **Negative indexing** allows selection from the end, such as `arr[-1]` for the last element. **Slicing**, using the `[start:stop:step]` syntax, lets us extract subarrays or sequences of elements, making it easy to work with ranges or reverse arrays. Beyond basic indexing, NumPy offers **boolean indexing**, where we filter data based on conditions like `arr[arr > 5]`, and we can combine conditions using `&`, `|`, and `~` to construct powerful selection logic. This is particularly useful in data analysis, where selecting data that meets specific criteria is common. **Fancy indexing** goes a step further by allowing selection of elements using lists or arrays of indices, enabling extraction of scattered or non-contiguous values. Finally, all these techniques also support modification—using indexing or boolean conditions, we can directly update values within an array. However, it’s important to be cautious about common mistakes like using `and/or` instead of `&/|`, or assuming boolean/fancy indexing returns views (they return copies). Together, these advanced indexing techniques make NumPy a powerful tool for efficient and expressive data manipulation in scientific computing and AI workflows.\n"
   ]
  }
 ],
 "metadata": {
  "kernelspec": {
   "display_name": "Venv",
   "language": "python",
   "name": "python3"
  },
  "language_info": {
   "codemirror_mode": {
    "name": "ipython",
    "version": 3
   },
   "file_extension": ".py",
   "mimetype": "text/x-python",
   "name": "python",
   "nbconvert_exporter": "python",
   "pygments_lexer": "ipython3",
   "version": "3.12.8"
  }
 },
 "nbformat": 4,
 "nbformat_minor": 5
}
